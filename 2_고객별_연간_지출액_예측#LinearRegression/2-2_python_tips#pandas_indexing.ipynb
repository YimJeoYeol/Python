{
 "cells": [
  {
   "cell_type": "code",
   "execution_count": 1,
   "metadata": {
    "ExecuteTime": {
     "start_time": "2023-05-01T03:53:05.654317Z",
     "end_time": "2023-05-01T03:53:05.658584Z"
    }
   },
   "outputs": [],
   "source": [
    "import pandas as pd"
   ]
  },
  {
   "cell_type": "code",
   "execution_count": 2,
   "metadata": {
    "ExecuteTime": {
     "start_time": "2023-05-01T03:53:05.658584Z",
     "end_time": "2023-05-01T03:53:05.680974Z"
    }
   },
   "outputs": [],
   "source": [
    "data = pd.read_csv('ecommerce.csv')"
   ]
  },
  {
   "cell_type": "code",
   "execution_count": 3,
   "metadata": {
    "ExecuteTime": {
     "start_time": "2023-05-01T03:53:05.680974Z",
     "end_time": "2023-05-01T03:53:05.702449Z"
    }
   },
   "outputs": [
    {
     "data": {
      "text/plain": "                             Email   \n0        mstephenson@fernandez.com  \\\n1                hduke@hotmail.com   \n2                 pallen@yahoo.com   \n3          riverarebecca@gmail.com   \n4    mstephens@davidson-herman.com   \n..                             ...   \n495   lewisjessica@craig-evans.com   \n496            katrina56@gmail.com   \n497             dale88@hotmail.com   \n498            cwilson@hotmail.com   \n499      hannahwilson@davidson.com   \n\n                                               Address            Avatar   \n0         835 Frank Tunnel\\nWrightmouth, MI 82180-9605            Violet  \\\n1       4547 Archer Common\\nDiazchester, CA 06566-8576         DarkGreen   \n2    24645 Valerie Unions Suite 582\\nCobbborough, D...            Bisque   \n3     1414 David Throughway\\nPort Jason, OH 22070-1220       SaddleBrown   \n4    14023 Rodriguez Passage\\nPort Jacobville, PR 3...  MediumAquaMarine   \n..                                                 ...               ...   \n495  4483 Jones Motorway Suite 872\\nLake Jamiefurt,...               Tan   \n496  172 Owen Divide Suite 497\\nWest Richard, CA 19320     PaleVioletRed   \n497  0787 Andrews Ranch Apt. 633\\nSouth Chadburgh, ...          Cornsilk   \n498  680 Jennifer Lodge Apt. 808\\nBrendachester, TX...              Teal   \n499  49791 Rachel Heights Apt. 898\\nEast Drewboroug...       DarkMagenta   \n\n     Avg. Session Length  Time on App  Time on Website  Length of Membership   \n0              34.497268    12.655651        39.577668              4.082621  \\\n1              31.926272    11.109461        37.268959              2.664034   \n2              33.000915    11.330278        37.110597              4.104543   \n3              34.305557    13.717514        36.721283              3.120179   \n4              33.330673    12.795189        37.536653              4.446308   \n..                   ...          ...              ...                   ...   \n495            33.237660    13.566160        36.417985              3.746573   \n496            34.702529    11.695736        37.190268              3.576526   \n497            32.646777    11.499409        38.332576              4.958264   \n498            33.322501    12.391423        36.840086              2.336485   \n499            33.715981    12.418808        35.771016              2.735160   \n\n     Yearly Amount Spent  \n0             587.951054  \n1             392.204933  \n2             487.547505  \n3             581.852344  \n4             599.406092  \n..                   ...  \n495           573.847438  \n496           529.049004  \n497           551.620145  \n498           456.469510  \n499           497.778642  \n\n[500 rows x 8 columns]",
      "text/html": "<div>\n<style scoped>\n    .dataframe tbody tr th:only-of-type {\n        vertical-align: middle;\n    }\n\n    .dataframe tbody tr th {\n        vertical-align: top;\n    }\n\n    .dataframe thead th {\n        text-align: right;\n    }\n</style>\n<table border=\"1\" class=\"dataframe\">\n  <thead>\n    <tr style=\"text-align: right;\">\n      <th></th>\n      <th>Email</th>\n      <th>Address</th>\n      <th>Avatar</th>\n      <th>Avg. Session Length</th>\n      <th>Time on App</th>\n      <th>Time on Website</th>\n      <th>Length of Membership</th>\n      <th>Yearly Amount Spent</th>\n    </tr>\n  </thead>\n  <tbody>\n    <tr>\n      <th>0</th>\n      <td>mstephenson@fernandez.com</td>\n      <td>835 Frank Tunnel\\nWrightmouth, MI 82180-9605</td>\n      <td>Violet</td>\n      <td>34.497268</td>\n      <td>12.655651</td>\n      <td>39.577668</td>\n      <td>4.082621</td>\n      <td>587.951054</td>\n    </tr>\n    <tr>\n      <th>1</th>\n      <td>hduke@hotmail.com</td>\n      <td>4547 Archer Common\\nDiazchester, CA 06566-8576</td>\n      <td>DarkGreen</td>\n      <td>31.926272</td>\n      <td>11.109461</td>\n      <td>37.268959</td>\n      <td>2.664034</td>\n      <td>392.204933</td>\n    </tr>\n    <tr>\n      <th>2</th>\n      <td>pallen@yahoo.com</td>\n      <td>24645 Valerie Unions Suite 582\\nCobbborough, D...</td>\n      <td>Bisque</td>\n      <td>33.000915</td>\n      <td>11.330278</td>\n      <td>37.110597</td>\n      <td>4.104543</td>\n      <td>487.547505</td>\n    </tr>\n    <tr>\n      <th>3</th>\n      <td>riverarebecca@gmail.com</td>\n      <td>1414 David Throughway\\nPort Jason, OH 22070-1220</td>\n      <td>SaddleBrown</td>\n      <td>34.305557</td>\n      <td>13.717514</td>\n      <td>36.721283</td>\n      <td>3.120179</td>\n      <td>581.852344</td>\n    </tr>\n    <tr>\n      <th>4</th>\n      <td>mstephens@davidson-herman.com</td>\n      <td>14023 Rodriguez Passage\\nPort Jacobville, PR 3...</td>\n      <td>MediumAquaMarine</td>\n      <td>33.330673</td>\n      <td>12.795189</td>\n      <td>37.536653</td>\n      <td>4.446308</td>\n      <td>599.406092</td>\n    </tr>\n    <tr>\n      <th>...</th>\n      <td>...</td>\n      <td>...</td>\n      <td>...</td>\n      <td>...</td>\n      <td>...</td>\n      <td>...</td>\n      <td>...</td>\n      <td>...</td>\n    </tr>\n    <tr>\n      <th>495</th>\n      <td>lewisjessica@craig-evans.com</td>\n      <td>4483 Jones Motorway Suite 872\\nLake Jamiefurt,...</td>\n      <td>Tan</td>\n      <td>33.237660</td>\n      <td>13.566160</td>\n      <td>36.417985</td>\n      <td>3.746573</td>\n      <td>573.847438</td>\n    </tr>\n    <tr>\n      <th>496</th>\n      <td>katrina56@gmail.com</td>\n      <td>172 Owen Divide Suite 497\\nWest Richard, CA 19320</td>\n      <td>PaleVioletRed</td>\n      <td>34.702529</td>\n      <td>11.695736</td>\n      <td>37.190268</td>\n      <td>3.576526</td>\n      <td>529.049004</td>\n    </tr>\n    <tr>\n      <th>497</th>\n      <td>dale88@hotmail.com</td>\n      <td>0787 Andrews Ranch Apt. 633\\nSouth Chadburgh, ...</td>\n      <td>Cornsilk</td>\n      <td>32.646777</td>\n      <td>11.499409</td>\n      <td>38.332576</td>\n      <td>4.958264</td>\n      <td>551.620145</td>\n    </tr>\n    <tr>\n      <th>498</th>\n      <td>cwilson@hotmail.com</td>\n      <td>680 Jennifer Lodge Apt. 808\\nBrendachester, TX...</td>\n      <td>Teal</td>\n      <td>33.322501</td>\n      <td>12.391423</td>\n      <td>36.840086</td>\n      <td>2.336485</td>\n      <td>456.469510</td>\n    </tr>\n    <tr>\n      <th>499</th>\n      <td>hannahwilson@davidson.com</td>\n      <td>49791 Rachel Heights Apt. 898\\nEast Drewboroug...</td>\n      <td>DarkMagenta</td>\n      <td>33.715981</td>\n      <td>12.418808</td>\n      <td>35.771016</td>\n      <td>2.735160</td>\n      <td>497.778642</td>\n    </tr>\n  </tbody>\n</table>\n<p>500 rows × 8 columns</p>\n</div>"
     },
     "execution_count": 3,
     "metadata": {},
     "output_type": "execute_result"
    }
   ],
   "source": [
    "data"
   ]
  },
  {
   "cell_type": "markdown",
   "metadata": {},
   "source": [
    "# Column Indexing"
   ]
  },
  {
   "cell_type": "code",
   "execution_count": 4,
   "metadata": {
    "ExecuteTime": {
     "start_time": "2023-05-01T03:53:05.702449Z",
     "end_time": "2023-05-01T03:53:05.714940Z"
    }
   },
   "outputs": [
    {
     "data": {
      "text/plain": "0      587.951054\n1      392.204933\n2      487.547505\n3      581.852344\n4      599.406092\n          ...    \n495    573.847438\n496    529.049004\n497    551.620145\n498    456.469510\n499    497.778642\nName: Yearly Amount Spent, Length: 500, dtype: float64"
     },
     "execution_count": 4,
     "metadata": {},
     "output_type": "execute_result"
    }
   ],
   "source": [
    "data['Yearly Amount Spent']"
   ]
  },
  {
   "cell_type": "code",
   "execution_count": 5,
   "metadata": {
    "ExecuteTime": {
     "start_time": "2023-05-01T03:53:05.710930Z",
     "end_time": "2023-05-01T03:53:05.721936Z"
    }
   },
   "outputs": [
    {
     "data": {
      "text/plain": "     Time on App  Yearly Amount Spent\n0      12.655651           587.951054\n1      11.109461           392.204933\n2      11.330278           487.547505\n3      13.717514           581.852344\n4      12.795189           599.406092\n..           ...                  ...\n495    13.566160           573.847438\n496    11.695736           529.049004\n497    11.499409           551.620145\n498    12.391423           456.469510\n499    12.418808           497.778642\n\n[500 rows x 2 columns]",
      "text/html": "<div>\n<style scoped>\n    .dataframe tbody tr th:only-of-type {\n        vertical-align: middle;\n    }\n\n    .dataframe tbody tr th {\n        vertical-align: top;\n    }\n\n    .dataframe thead th {\n        text-align: right;\n    }\n</style>\n<table border=\"1\" class=\"dataframe\">\n  <thead>\n    <tr style=\"text-align: right;\">\n      <th></th>\n      <th>Time on App</th>\n      <th>Yearly Amount Spent</th>\n    </tr>\n  </thead>\n  <tbody>\n    <tr>\n      <th>0</th>\n      <td>12.655651</td>\n      <td>587.951054</td>\n    </tr>\n    <tr>\n      <th>1</th>\n      <td>11.109461</td>\n      <td>392.204933</td>\n    </tr>\n    <tr>\n      <th>2</th>\n      <td>11.330278</td>\n      <td>487.547505</td>\n    </tr>\n    <tr>\n      <th>3</th>\n      <td>13.717514</td>\n      <td>581.852344</td>\n    </tr>\n    <tr>\n      <th>4</th>\n      <td>12.795189</td>\n      <td>599.406092</td>\n    </tr>\n    <tr>\n      <th>...</th>\n      <td>...</td>\n      <td>...</td>\n    </tr>\n    <tr>\n      <th>495</th>\n      <td>13.566160</td>\n      <td>573.847438</td>\n    </tr>\n    <tr>\n      <th>496</th>\n      <td>11.695736</td>\n      <td>529.049004</td>\n    </tr>\n    <tr>\n      <th>497</th>\n      <td>11.499409</td>\n      <td>551.620145</td>\n    </tr>\n    <tr>\n      <th>498</th>\n      <td>12.391423</td>\n      <td>456.469510</td>\n    </tr>\n    <tr>\n      <th>499</th>\n      <td>12.418808</td>\n      <td>497.778642</td>\n    </tr>\n  </tbody>\n</table>\n<p>500 rows × 2 columns</p>\n</div>"
     },
     "execution_count": 5,
     "metadata": {},
     "output_type": "execute_result"
    }
   ],
   "source": [
    "data[['Time on App', 'Yearly Amount Spent']]"
   ]
  },
  {
   "cell_type": "code",
   "execution_count": 6,
   "metadata": {
    "ExecuteTime": {
     "start_time": "2023-05-01T03:53:05.721936Z",
     "end_time": "2023-05-01T03:53:05.795337Z"
    }
   },
   "outputs": [
    {
     "data": {
      "text/plain": "                             Email   \n0        mstephenson@fernandez.com  \\\n1                hduke@hotmail.com   \n2                 pallen@yahoo.com   \n3          riverarebecca@gmail.com   \n4    mstephens@davidson-herman.com   \n..                             ...   \n495   lewisjessica@craig-evans.com   \n496            katrina56@gmail.com   \n497             dale88@hotmail.com   \n498            cwilson@hotmail.com   \n499      hannahwilson@davidson.com   \n\n                                               Address            Avatar   \n0         835 Frank Tunnel\\nWrightmouth, MI 82180-9605            Violet  \\\n1       4547 Archer Common\\nDiazchester, CA 06566-8576         DarkGreen   \n2    24645 Valerie Unions Suite 582\\nCobbborough, D...            Bisque   \n3     1414 David Throughway\\nPort Jason, OH 22070-1220       SaddleBrown   \n4    14023 Rodriguez Passage\\nPort Jacobville, PR 3...  MediumAquaMarine   \n..                                                 ...               ...   \n495  4483 Jones Motorway Suite 872\\nLake Jamiefurt,...               Tan   \n496  172 Owen Divide Suite 497\\nWest Richard, CA 19320     PaleVioletRed   \n497  0787 Andrews Ranch Apt. 633\\nSouth Chadburgh, ...          Cornsilk   \n498  680 Jennifer Lodge Apt. 808\\nBrendachester, TX...              Teal   \n499  49791 Rachel Heights Apt. 898\\nEast Drewboroug...       DarkMagenta   \n\n     Avg. Session Length  Time on App  Time on Website  Length of Membership  \n0              34.497268    12.655651        39.577668              4.082621  \n1              31.926272    11.109461        37.268959              2.664034  \n2              33.000915    11.330278        37.110597              4.104543  \n3              34.305557    13.717514        36.721283              3.120179  \n4              33.330673    12.795189        37.536653              4.446308  \n..                   ...          ...              ...                   ...  \n495            33.237660    13.566160        36.417985              3.746573  \n496            34.702529    11.695736        37.190268              3.576526  \n497            32.646777    11.499409        38.332576              4.958264  \n498            33.322501    12.391423        36.840086              2.336485  \n499            33.715981    12.418808        35.771016              2.735160  \n\n[500 rows x 7 columns]",
      "text/html": "<div>\n<style scoped>\n    .dataframe tbody tr th:only-of-type {\n        vertical-align: middle;\n    }\n\n    .dataframe tbody tr th {\n        vertical-align: top;\n    }\n\n    .dataframe thead th {\n        text-align: right;\n    }\n</style>\n<table border=\"1\" class=\"dataframe\">\n  <thead>\n    <tr style=\"text-align: right;\">\n      <th></th>\n      <th>Email</th>\n      <th>Address</th>\n      <th>Avatar</th>\n      <th>Avg. Session Length</th>\n      <th>Time on App</th>\n      <th>Time on Website</th>\n      <th>Length of Membership</th>\n    </tr>\n  </thead>\n  <tbody>\n    <tr>\n      <th>0</th>\n      <td>mstephenson@fernandez.com</td>\n      <td>835 Frank Tunnel\\nWrightmouth, MI 82180-9605</td>\n      <td>Violet</td>\n      <td>34.497268</td>\n      <td>12.655651</td>\n      <td>39.577668</td>\n      <td>4.082621</td>\n    </tr>\n    <tr>\n      <th>1</th>\n      <td>hduke@hotmail.com</td>\n      <td>4547 Archer Common\\nDiazchester, CA 06566-8576</td>\n      <td>DarkGreen</td>\n      <td>31.926272</td>\n      <td>11.109461</td>\n      <td>37.268959</td>\n      <td>2.664034</td>\n    </tr>\n    <tr>\n      <th>2</th>\n      <td>pallen@yahoo.com</td>\n      <td>24645 Valerie Unions Suite 582\\nCobbborough, D...</td>\n      <td>Bisque</td>\n      <td>33.000915</td>\n      <td>11.330278</td>\n      <td>37.110597</td>\n      <td>4.104543</td>\n    </tr>\n    <tr>\n      <th>3</th>\n      <td>riverarebecca@gmail.com</td>\n      <td>1414 David Throughway\\nPort Jason, OH 22070-1220</td>\n      <td>SaddleBrown</td>\n      <td>34.305557</td>\n      <td>13.717514</td>\n      <td>36.721283</td>\n      <td>3.120179</td>\n    </tr>\n    <tr>\n      <th>4</th>\n      <td>mstephens@davidson-herman.com</td>\n      <td>14023 Rodriguez Passage\\nPort Jacobville, PR 3...</td>\n      <td>MediumAquaMarine</td>\n      <td>33.330673</td>\n      <td>12.795189</td>\n      <td>37.536653</td>\n      <td>4.446308</td>\n    </tr>\n    <tr>\n      <th>...</th>\n      <td>...</td>\n      <td>...</td>\n      <td>...</td>\n      <td>...</td>\n      <td>...</td>\n      <td>...</td>\n      <td>...</td>\n    </tr>\n    <tr>\n      <th>495</th>\n      <td>lewisjessica@craig-evans.com</td>\n      <td>4483 Jones Motorway Suite 872\\nLake Jamiefurt,...</td>\n      <td>Tan</td>\n      <td>33.237660</td>\n      <td>13.566160</td>\n      <td>36.417985</td>\n      <td>3.746573</td>\n    </tr>\n    <tr>\n      <th>496</th>\n      <td>katrina56@gmail.com</td>\n      <td>172 Owen Divide Suite 497\\nWest Richard, CA 19320</td>\n      <td>PaleVioletRed</td>\n      <td>34.702529</td>\n      <td>11.695736</td>\n      <td>37.190268</td>\n      <td>3.576526</td>\n    </tr>\n    <tr>\n      <th>497</th>\n      <td>dale88@hotmail.com</td>\n      <td>0787 Andrews Ranch Apt. 633\\nSouth Chadburgh, ...</td>\n      <td>Cornsilk</td>\n      <td>32.646777</td>\n      <td>11.499409</td>\n      <td>38.332576</td>\n      <td>4.958264</td>\n    </tr>\n    <tr>\n      <th>498</th>\n      <td>cwilson@hotmail.com</td>\n      <td>680 Jennifer Lodge Apt. 808\\nBrendachester, TX...</td>\n      <td>Teal</td>\n      <td>33.322501</td>\n      <td>12.391423</td>\n      <td>36.840086</td>\n      <td>2.336485</td>\n    </tr>\n    <tr>\n      <th>499</th>\n      <td>hannahwilson@davidson.com</td>\n      <td>49791 Rachel Heights Apt. 898\\nEast Drewboroug...</td>\n      <td>DarkMagenta</td>\n      <td>33.715981</td>\n      <td>12.418808</td>\n      <td>35.771016</td>\n      <td>2.735160</td>\n    </tr>\n  </tbody>\n</table>\n<p>500 rows × 7 columns</p>\n</div>"
     },
     "execution_count": 6,
     "metadata": {},
     "output_type": "execute_result"
    }
   ],
   "source": [
    "data.drop('Yearly Amount Spent', axis=1)"
   ]
  },
  {
   "cell_type": "code",
   "execution_count": 7,
   "metadata": {
    "ExecuteTime": {
     "start_time": "2023-05-01T03:53:05.742895Z",
     "end_time": "2023-05-01T03:53:05.840933Z"
    }
   },
   "outputs": [
    {
     "data": {
      "text/plain": "                                               Address            Avatar   \n0         835 Frank Tunnel\\nWrightmouth, MI 82180-9605            Violet  \\\n1       4547 Archer Common\\nDiazchester, CA 06566-8576         DarkGreen   \n2    24645 Valerie Unions Suite 582\\nCobbborough, D...            Bisque   \n3     1414 David Throughway\\nPort Jason, OH 22070-1220       SaddleBrown   \n4    14023 Rodriguez Passage\\nPort Jacobville, PR 3...  MediumAquaMarine   \n..                                                 ...               ...   \n495  4483 Jones Motorway Suite 872\\nLake Jamiefurt,...               Tan   \n496  172 Owen Divide Suite 497\\nWest Richard, CA 19320     PaleVioletRed   \n497  0787 Andrews Ranch Apt. 633\\nSouth Chadburgh, ...          Cornsilk   \n498  680 Jennifer Lodge Apt. 808\\nBrendachester, TX...              Teal   \n499  49791 Rachel Heights Apt. 898\\nEast Drewboroug...       DarkMagenta   \n\n     Avg. Session Length  Time on App  Time on Website  Length of Membership  \n0              34.497268    12.655651        39.577668              4.082621  \n1              31.926272    11.109461        37.268959              2.664034  \n2              33.000915    11.330278        37.110597              4.104543  \n3              34.305557    13.717514        36.721283              3.120179  \n4              33.330673    12.795189        37.536653              4.446308  \n..                   ...          ...              ...                   ...  \n495            33.237660    13.566160        36.417985              3.746573  \n496            34.702529    11.695736        37.190268              3.576526  \n497            32.646777    11.499409        38.332576              4.958264  \n498            33.322501    12.391423        36.840086              2.336485  \n499            33.715981    12.418808        35.771016              2.735160  \n\n[500 rows x 6 columns]",
      "text/html": "<div>\n<style scoped>\n    .dataframe tbody tr th:only-of-type {\n        vertical-align: middle;\n    }\n\n    .dataframe tbody tr th {\n        vertical-align: top;\n    }\n\n    .dataframe thead th {\n        text-align: right;\n    }\n</style>\n<table border=\"1\" class=\"dataframe\">\n  <thead>\n    <tr style=\"text-align: right;\">\n      <th></th>\n      <th>Address</th>\n      <th>Avatar</th>\n      <th>Avg. Session Length</th>\n      <th>Time on App</th>\n      <th>Time on Website</th>\n      <th>Length of Membership</th>\n    </tr>\n  </thead>\n  <tbody>\n    <tr>\n      <th>0</th>\n      <td>835 Frank Tunnel\\nWrightmouth, MI 82180-9605</td>\n      <td>Violet</td>\n      <td>34.497268</td>\n      <td>12.655651</td>\n      <td>39.577668</td>\n      <td>4.082621</td>\n    </tr>\n    <tr>\n      <th>1</th>\n      <td>4547 Archer Common\\nDiazchester, CA 06566-8576</td>\n      <td>DarkGreen</td>\n      <td>31.926272</td>\n      <td>11.109461</td>\n      <td>37.268959</td>\n      <td>2.664034</td>\n    </tr>\n    <tr>\n      <th>2</th>\n      <td>24645 Valerie Unions Suite 582\\nCobbborough, D...</td>\n      <td>Bisque</td>\n      <td>33.000915</td>\n      <td>11.330278</td>\n      <td>37.110597</td>\n      <td>4.104543</td>\n    </tr>\n    <tr>\n      <th>3</th>\n      <td>1414 David Throughway\\nPort Jason, OH 22070-1220</td>\n      <td>SaddleBrown</td>\n      <td>34.305557</td>\n      <td>13.717514</td>\n      <td>36.721283</td>\n      <td>3.120179</td>\n    </tr>\n    <tr>\n      <th>4</th>\n      <td>14023 Rodriguez Passage\\nPort Jacobville, PR 3...</td>\n      <td>MediumAquaMarine</td>\n      <td>33.330673</td>\n      <td>12.795189</td>\n      <td>37.536653</td>\n      <td>4.446308</td>\n    </tr>\n    <tr>\n      <th>...</th>\n      <td>...</td>\n      <td>...</td>\n      <td>...</td>\n      <td>...</td>\n      <td>...</td>\n      <td>...</td>\n    </tr>\n    <tr>\n      <th>495</th>\n      <td>4483 Jones Motorway Suite 872\\nLake Jamiefurt,...</td>\n      <td>Tan</td>\n      <td>33.237660</td>\n      <td>13.566160</td>\n      <td>36.417985</td>\n      <td>3.746573</td>\n    </tr>\n    <tr>\n      <th>496</th>\n      <td>172 Owen Divide Suite 497\\nWest Richard, CA 19320</td>\n      <td>PaleVioletRed</td>\n      <td>34.702529</td>\n      <td>11.695736</td>\n      <td>37.190268</td>\n      <td>3.576526</td>\n    </tr>\n    <tr>\n      <th>497</th>\n      <td>0787 Andrews Ranch Apt. 633\\nSouth Chadburgh, ...</td>\n      <td>Cornsilk</td>\n      <td>32.646777</td>\n      <td>11.499409</td>\n      <td>38.332576</td>\n      <td>4.958264</td>\n    </tr>\n    <tr>\n      <th>498</th>\n      <td>680 Jennifer Lodge Apt. 808\\nBrendachester, TX...</td>\n      <td>Teal</td>\n      <td>33.322501</td>\n      <td>12.391423</td>\n      <td>36.840086</td>\n      <td>2.336485</td>\n    </tr>\n    <tr>\n      <th>499</th>\n      <td>49791 Rachel Heights Apt. 898\\nEast Drewboroug...</td>\n      <td>DarkMagenta</td>\n      <td>33.715981</td>\n      <td>12.418808</td>\n      <td>35.771016</td>\n      <td>2.735160</td>\n    </tr>\n  </tbody>\n</table>\n<p>500 rows × 6 columns</p>\n</div>"
     },
     "execution_count": 7,
     "metadata": {},
     "output_type": "execute_result"
    }
   ],
   "source": [
    "data.drop(['Yearly Amount Spent', 'Email'], axis=1)"
   ]
  },
  {
   "cell_type": "code",
   "execution_count": 8,
   "metadata": {
    "ExecuteTime": {
     "start_time": "2023-05-01T03:53:05.753737Z",
     "end_time": "2023-05-01T03:53:05.840933Z"
    }
   },
   "outputs": [],
   "source": [
    "data.drop('Email', axis=1, inplace=True)"
   ]
  },
  {
   "cell_type": "code",
   "execution_count": 9,
   "metadata": {
    "ExecuteTime": {
     "start_time": "2023-05-01T03:53:05.759247Z",
     "end_time": "2023-05-01T03:53:05.840933Z"
    }
   },
   "outputs": [
    {
     "data": {
      "text/plain": "                                               Address            Avatar   \n0         835 Frank Tunnel\\nWrightmouth, MI 82180-9605            Violet  \\\n1       4547 Archer Common\\nDiazchester, CA 06566-8576         DarkGreen   \n2    24645 Valerie Unions Suite 582\\nCobbborough, D...            Bisque   \n3     1414 David Throughway\\nPort Jason, OH 22070-1220       SaddleBrown   \n4    14023 Rodriguez Passage\\nPort Jacobville, PR 3...  MediumAquaMarine   \n..                                                 ...               ...   \n495  4483 Jones Motorway Suite 872\\nLake Jamiefurt,...               Tan   \n496  172 Owen Divide Suite 497\\nWest Richard, CA 19320     PaleVioletRed   \n497  0787 Andrews Ranch Apt. 633\\nSouth Chadburgh, ...          Cornsilk   \n498  680 Jennifer Lodge Apt. 808\\nBrendachester, TX...              Teal   \n499  49791 Rachel Heights Apt. 898\\nEast Drewboroug...       DarkMagenta   \n\n     Avg. Session Length  Time on App  Time on Website  Length of Membership   \n0              34.497268    12.655651        39.577668              4.082621  \\\n1              31.926272    11.109461        37.268959              2.664034   \n2              33.000915    11.330278        37.110597              4.104543   \n3              34.305557    13.717514        36.721283              3.120179   \n4              33.330673    12.795189        37.536653              4.446308   \n..                   ...          ...              ...                   ...   \n495            33.237660    13.566160        36.417985              3.746573   \n496            34.702529    11.695736        37.190268              3.576526   \n497            32.646777    11.499409        38.332576              4.958264   \n498            33.322501    12.391423        36.840086              2.336485   \n499            33.715981    12.418808        35.771016              2.735160   \n\n     Yearly Amount Spent  \n0             587.951054  \n1             392.204933  \n2             487.547505  \n3             581.852344  \n4             599.406092  \n..                   ...  \n495           573.847438  \n496           529.049004  \n497           551.620145  \n498           456.469510  \n499           497.778642  \n\n[500 rows x 7 columns]",
      "text/html": "<div>\n<style scoped>\n    .dataframe tbody tr th:only-of-type {\n        vertical-align: middle;\n    }\n\n    .dataframe tbody tr th {\n        vertical-align: top;\n    }\n\n    .dataframe thead th {\n        text-align: right;\n    }\n</style>\n<table border=\"1\" class=\"dataframe\">\n  <thead>\n    <tr style=\"text-align: right;\">\n      <th></th>\n      <th>Address</th>\n      <th>Avatar</th>\n      <th>Avg. Session Length</th>\n      <th>Time on App</th>\n      <th>Time on Website</th>\n      <th>Length of Membership</th>\n      <th>Yearly Amount Spent</th>\n    </tr>\n  </thead>\n  <tbody>\n    <tr>\n      <th>0</th>\n      <td>835 Frank Tunnel\\nWrightmouth, MI 82180-9605</td>\n      <td>Violet</td>\n      <td>34.497268</td>\n      <td>12.655651</td>\n      <td>39.577668</td>\n      <td>4.082621</td>\n      <td>587.951054</td>\n    </tr>\n    <tr>\n      <th>1</th>\n      <td>4547 Archer Common\\nDiazchester, CA 06566-8576</td>\n      <td>DarkGreen</td>\n      <td>31.926272</td>\n      <td>11.109461</td>\n      <td>37.268959</td>\n      <td>2.664034</td>\n      <td>392.204933</td>\n    </tr>\n    <tr>\n      <th>2</th>\n      <td>24645 Valerie Unions Suite 582\\nCobbborough, D...</td>\n      <td>Bisque</td>\n      <td>33.000915</td>\n      <td>11.330278</td>\n      <td>37.110597</td>\n      <td>4.104543</td>\n      <td>487.547505</td>\n    </tr>\n    <tr>\n      <th>3</th>\n      <td>1414 David Throughway\\nPort Jason, OH 22070-1220</td>\n      <td>SaddleBrown</td>\n      <td>34.305557</td>\n      <td>13.717514</td>\n      <td>36.721283</td>\n      <td>3.120179</td>\n      <td>581.852344</td>\n    </tr>\n    <tr>\n      <th>4</th>\n      <td>14023 Rodriguez Passage\\nPort Jacobville, PR 3...</td>\n      <td>MediumAquaMarine</td>\n      <td>33.330673</td>\n      <td>12.795189</td>\n      <td>37.536653</td>\n      <td>4.446308</td>\n      <td>599.406092</td>\n    </tr>\n    <tr>\n      <th>...</th>\n      <td>...</td>\n      <td>...</td>\n      <td>...</td>\n      <td>...</td>\n      <td>...</td>\n      <td>...</td>\n      <td>...</td>\n    </tr>\n    <tr>\n      <th>495</th>\n      <td>4483 Jones Motorway Suite 872\\nLake Jamiefurt,...</td>\n      <td>Tan</td>\n      <td>33.237660</td>\n      <td>13.566160</td>\n      <td>36.417985</td>\n      <td>3.746573</td>\n      <td>573.847438</td>\n    </tr>\n    <tr>\n      <th>496</th>\n      <td>172 Owen Divide Suite 497\\nWest Richard, CA 19320</td>\n      <td>PaleVioletRed</td>\n      <td>34.702529</td>\n      <td>11.695736</td>\n      <td>37.190268</td>\n      <td>3.576526</td>\n      <td>529.049004</td>\n    </tr>\n    <tr>\n      <th>497</th>\n      <td>0787 Andrews Ranch Apt. 633\\nSouth Chadburgh, ...</td>\n      <td>Cornsilk</td>\n      <td>32.646777</td>\n      <td>11.499409</td>\n      <td>38.332576</td>\n      <td>4.958264</td>\n      <td>551.620145</td>\n    </tr>\n    <tr>\n      <th>498</th>\n      <td>680 Jennifer Lodge Apt. 808\\nBrendachester, TX...</td>\n      <td>Teal</td>\n      <td>33.322501</td>\n      <td>12.391423</td>\n      <td>36.840086</td>\n      <td>2.336485</td>\n      <td>456.469510</td>\n    </tr>\n    <tr>\n      <th>499</th>\n      <td>49791 Rachel Heights Apt. 898\\nEast Drewboroug...</td>\n      <td>DarkMagenta</td>\n      <td>33.715981</td>\n      <td>12.418808</td>\n      <td>35.771016</td>\n      <td>2.735160</td>\n      <td>497.778642</td>\n    </tr>\n  </tbody>\n</table>\n<p>500 rows × 7 columns</p>\n</div>"
     },
     "execution_count": 9,
     "metadata": {},
     "output_type": "execute_result"
    }
   ],
   "source": [
    "data"
   ]
  },
  {
   "cell_type": "markdown",
   "metadata": {},
   "source": [
    "# Row Indexing"
   ]
  },
  {
   "cell_type": "markdown",
   "metadata": {},
   "source": [
    "### 별도 데이터 프레임 준비"
   ]
  },
  {
   "cell_type": "code",
   "execution_count": 10,
   "metadata": {
    "ExecuteTime": {
     "start_time": "2023-05-01T03:53:05.774393Z",
     "end_time": "2023-05-01T03:53:05.852547Z"
    }
   },
   "outputs": [],
   "source": [
    "new_data = data.head(10)"
   ]
  },
  {
   "cell_type": "code",
   "execution_count": 11,
   "metadata": {
    "ExecuteTime": {
     "start_time": "2023-05-01T03:53:05.778108Z",
     "end_time": "2023-05-01T03:53:05.852547Z"
    }
   },
   "outputs": [],
   "source": [
    "new_data.index = ['a', 'b', 'c', 'd', 'e', 'f', 'g', 'h', 'i', 'j']"
   ]
  },
  {
   "cell_type": "code",
   "execution_count": 12,
   "metadata": {
    "ExecuteTime": {
     "start_time": "2023-05-01T03:53:05.790204Z",
     "end_time": "2023-05-01T03:53:05.887257Z"
    }
   },
   "outputs": [
    {
     "data": {
      "text/plain": "                                             Address            Avatar   \na       835 Frank Tunnel\\nWrightmouth, MI 82180-9605            Violet  \\\nb     4547 Archer Common\\nDiazchester, CA 06566-8576         DarkGreen   \nc  24645 Valerie Unions Suite 582\\nCobbborough, D...            Bisque   \nd   1414 David Throughway\\nPort Jason, OH 22070-1220       SaddleBrown   \ne  14023 Rodriguez Passage\\nPort Jacobville, PR 3...  MediumAquaMarine   \nf  645 Martha Park Apt. 611\\nJeffreychester, MN 6...       FloralWhite   \ng  68388 Reyes Lights Suite 692\\nJosephbury, WV 9...     DarkSlateBlue   \nh              Unit 6538 Box 8980\\nDPO AP 09026-4941              Aqua   \ni             860 Lee Key\\nWest Debra, SD 97450-0495            Salmon   \nj              PSC 2734, Box 5255\\nAPO AA 98456-7482             Brown   \n\n   Avg. Session Length  Time on App  Time on Website  Length of Membership   \na            34.497268    12.655651        39.577668              4.082621  \\\nb            31.926272    11.109461        37.268959              2.664034   \nc            33.000915    11.330278        37.110597              4.104543   \nd            34.305557    13.717514        36.721283              3.120179   \ne            33.330673    12.795189        37.536653              4.446308   \nf            33.871038    12.026925        34.476878              5.493507   \ng            32.021596    11.366348        36.683776              4.685017   \nh            32.739143    12.351959        37.373359              4.434273   \ni            33.987773    13.386235        37.534497              3.273434   \nj            31.936549    11.814128        37.145168              3.202806   \n\n   Yearly Amount Spent  \na           587.951054  \nb           392.204933  \nc           487.547505  \nd           581.852344  \ne           599.406092  \nf           637.102448  \ng           521.572175  \nh           549.904146  \ni           570.200409  \nj           427.199385  ",
      "text/html": "<div>\n<style scoped>\n    .dataframe tbody tr th:only-of-type {\n        vertical-align: middle;\n    }\n\n    .dataframe tbody tr th {\n        vertical-align: top;\n    }\n\n    .dataframe thead th {\n        text-align: right;\n    }\n</style>\n<table border=\"1\" class=\"dataframe\">\n  <thead>\n    <tr style=\"text-align: right;\">\n      <th></th>\n      <th>Address</th>\n      <th>Avatar</th>\n      <th>Avg. Session Length</th>\n      <th>Time on App</th>\n      <th>Time on Website</th>\n      <th>Length of Membership</th>\n      <th>Yearly Amount Spent</th>\n    </tr>\n  </thead>\n  <tbody>\n    <tr>\n      <th>a</th>\n      <td>835 Frank Tunnel\\nWrightmouth, MI 82180-9605</td>\n      <td>Violet</td>\n      <td>34.497268</td>\n      <td>12.655651</td>\n      <td>39.577668</td>\n      <td>4.082621</td>\n      <td>587.951054</td>\n    </tr>\n    <tr>\n      <th>b</th>\n      <td>4547 Archer Common\\nDiazchester, CA 06566-8576</td>\n      <td>DarkGreen</td>\n      <td>31.926272</td>\n      <td>11.109461</td>\n      <td>37.268959</td>\n      <td>2.664034</td>\n      <td>392.204933</td>\n    </tr>\n    <tr>\n      <th>c</th>\n      <td>24645 Valerie Unions Suite 582\\nCobbborough, D...</td>\n      <td>Bisque</td>\n      <td>33.000915</td>\n      <td>11.330278</td>\n      <td>37.110597</td>\n      <td>4.104543</td>\n      <td>487.547505</td>\n    </tr>\n    <tr>\n      <th>d</th>\n      <td>1414 David Throughway\\nPort Jason, OH 22070-1220</td>\n      <td>SaddleBrown</td>\n      <td>34.305557</td>\n      <td>13.717514</td>\n      <td>36.721283</td>\n      <td>3.120179</td>\n      <td>581.852344</td>\n    </tr>\n    <tr>\n      <th>e</th>\n      <td>14023 Rodriguez Passage\\nPort Jacobville, PR 3...</td>\n      <td>MediumAquaMarine</td>\n      <td>33.330673</td>\n      <td>12.795189</td>\n      <td>37.536653</td>\n      <td>4.446308</td>\n      <td>599.406092</td>\n    </tr>\n    <tr>\n      <th>f</th>\n      <td>645 Martha Park Apt. 611\\nJeffreychester, MN 6...</td>\n      <td>FloralWhite</td>\n      <td>33.871038</td>\n      <td>12.026925</td>\n      <td>34.476878</td>\n      <td>5.493507</td>\n      <td>637.102448</td>\n    </tr>\n    <tr>\n      <th>g</th>\n      <td>68388 Reyes Lights Suite 692\\nJosephbury, WV 9...</td>\n      <td>DarkSlateBlue</td>\n      <td>32.021596</td>\n      <td>11.366348</td>\n      <td>36.683776</td>\n      <td>4.685017</td>\n      <td>521.572175</td>\n    </tr>\n    <tr>\n      <th>h</th>\n      <td>Unit 6538 Box 8980\\nDPO AP 09026-4941</td>\n      <td>Aqua</td>\n      <td>32.739143</td>\n      <td>12.351959</td>\n      <td>37.373359</td>\n      <td>4.434273</td>\n      <td>549.904146</td>\n    </tr>\n    <tr>\n      <th>i</th>\n      <td>860 Lee Key\\nWest Debra, SD 97450-0495</td>\n      <td>Salmon</td>\n      <td>33.987773</td>\n      <td>13.386235</td>\n      <td>37.534497</td>\n      <td>3.273434</td>\n      <td>570.200409</td>\n    </tr>\n    <tr>\n      <th>j</th>\n      <td>PSC 2734, Box 5255\\nAPO AA 98456-7482</td>\n      <td>Brown</td>\n      <td>31.936549</td>\n      <td>11.814128</td>\n      <td>37.145168</td>\n      <td>3.202806</td>\n      <td>427.199385</td>\n    </tr>\n  </tbody>\n</table>\n</div>"
     },
     "execution_count": 12,
     "metadata": {},
     "output_type": "execute_result"
    }
   ],
   "source": [
    "new_data"
   ]
  },
  {
   "cell_type": "code",
   "execution_count": 13,
   "metadata": {
    "ExecuteTime": {
     "start_time": "2023-05-01T03:53:05.795844Z",
     "end_time": "2023-05-01T03:53:05.887257Z"
    }
   },
   "outputs": [
    {
     "data": {
      "text/plain": "Address                 1414 David Throughway\\nPort Jason, OH 22070-1220\nAvatar                                                       SaddleBrown\nAvg. Session Length                                            34.305557\nTime on App                                                    13.717514\nTime on Website                                                36.721283\nLength of Membership                                            3.120179\nYearly Amount Spent                                           581.852344\nName: d, dtype: object"
     },
     "execution_count": 13,
     "metadata": {},
     "output_type": "execute_result"
    }
   ],
   "source": [
    "new_data.loc['d']"
   ]
  },
  {
   "cell_type": "code",
   "execution_count": 14,
   "metadata": {
    "ExecuteTime": {
     "start_time": "2023-05-01T03:53:05.806122Z",
     "end_time": "2023-05-01T03:53:05.900270Z"
    }
   },
   "outputs": [
    {
     "data": {
      "text/plain": "                                             Address            Avatar   \nd   1414 David Throughway\\nPort Jason, OH 22070-1220       SaddleBrown  \\\ne  14023 Rodriguez Passage\\nPort Jacobville, PR 3...  MediumAquaMarine   \nf  645 Martha Park Apt. 611\\nJeffreychester, MN 6...       FloralWhite   \ng  68388 Reyes Lights Suite 692\\nJosephbury, WV 9...     DarkSlateBlue   \nh              Unit 6538 Box 8980\\nDPO AP 09026-4941              Aqua   \n\n   Avg. Session Length  Time on App  Time on Website  Length of Membership   \nd            34.305557    13.717514        36.721283              3.120179  \\\ne            33.330673    12.795189        37.536653              4.446308   \nf            33.871038    12.026925        34.476878              5.493507   \ng            32.021596    11.366348        36.683776              4.685017   \nh            32.739143    12.351959        37.373359              4.434273   \n\n   Yearly Amount Spent  \nd           581.852344  \ne           599.406092  \nf           637.102448  \ng           521.572175  \nh           549.904146  ",
      "text/html": "<div>\n<style scoped>\n    .dataframe tbody tr th:only-of-type {\n        vertical-align: middle;\n    }\n\n    .dataframe tbody tr th {\n        vertical-align: top;\n    }\n\n    .dataframe thead th {\n        text-align: right;\n    }\n</style>\n<table border=\"1\" class=\"dataframe\">\n  <thead>\n    <tr style=\"text-align: right;\">\n      <th></th>\n      <th>Address</th>\n      <th>Avatar</th>\n      <th>Avg. Session Length</th>\n      <th>Time on App</th>\n      <th>Time on Website</th>\n      <th>Length of Membership</th>\n      <th>Yearly Amount Spent</th>\n    </tr>\n  </thead>\n  <tbody>\n    <tr>\n      <th>d</th>\n      <td>1414 David Throughway\\nPort Jason, OH 22070-1220</td>\n      <td>SaddleBrown</td>\n      <td>34.305557</td>\n      <td>13.717514</td>\n      <td>36.721283</td>\n      <td>3.120179</td>\n      <td>581.852344</td>\n    </tr>\n    <tr>\n      <th>e</th>\n      <td>14023 Rodriguez Passage\\nPort Jacobville, PR 3...</td>\n      <td>MediumAquaMarine</td>\n      <td>33.330673</td>\n      <td>12.795189</td>\n      <td>37.536653</td>\n      <td>4.446308</td>\n      <td>599.406092</td>\n    </tr>\n    <tr>\n      <th>f</th>\n      <td>645 Martha Park Apt. 611\\nJeffreychester, MN 6...</td>\n      <td>FloralWhite</td>\n      <td>33.871038</td>\n      <td>12.026925</td>\n      <td>34.476878</td>\n      <td>5.493507</td>\n      <td>637.102448</td>\n    </tr>\n    <tr>\n      <th>g</th>\n      <td>68388 Reyes Lights Suite 692\\nJosephbury, WV 9...</td>\n      <td>DarkSlateBlue</td>\n      <td>32.021596</td>\n      <td>11.366348</td>\n      <td>36.683776</td>\n      <td>4.685017</td>\n      <td>521.572175</td>\n    </tr>\n    <tr>\n      <th>h</th>\n      <td>Unit 6538 Box 8980\\nDPO AP 09026-4941</td>\n      <td>Aqua</td>\n      <td>32.739143</td>\n      <td>12.351959</td>\n      <td>37.373359</td>\n      <td>4.434273</td>\n      <td>549.904146</td>\n    </tr>\n  </tbody>\n</table>\n</div>"
     },
     "execution_count": 14,
     "metadata": {},
     "output_type": "execute_result"
    }
   ],
   "source": [
    "new_data.loc['d':'h']"
   ]
  },
  {
   "cell_type": "code",
   "execution_count": 15,
   "metadata": {
    "ExecuteTime": {
     "start_time": "2023-05-01T03:53:05.815129Z",
     "end_time": "2023-05-01T03:53:05.967643Z"
    }
   },
   "outputs": [
    {
     "data": {
      "text/plain": "Address                 1414 David Throughway\\nPort Jason, OH 22070-1220\nAvatar                                                       SaddleBrown\nAvg. Session Length                                            34.305557\nTime on App                                                    13.717514\nTime on Website                                                36.721283\nLength of Membership                                            3.120179\nYearly Amount Spent                                           581.852344\nName: d, dtype: object"
     },
     "execution_count": 15,
     "metadata": {},
     "output_type": "execute_result"
    }
   ],
   "source": [
    "new_data.iloc[3]"
   ]
  },
  {
   "cell_type": "code",
   "execution_count": 16,
   "metadata": {
    "ExecuteTime": {
     "start_time": "2023-05-01T03:53:05.821283Z",
     "end_time": "2023-05-01T03:53:05.967643Z"
    }
   },
   "outputs": [
    {
     "data": {
      "text/plain": "                                             Address            Avatar   \nd   1414 David Throughway\\nPort Jason, OH 22070-1220       SaddleBrown  \\\ne  14023 Rodriguez Passage\\nPort Jacobville, PR 3...  MediumAquaMarine   \nf  645 Martha Park Apt. 611\\nJeffreychester, MN 6...       FloralWhite   \ng  68388 Reyes Lights Suite 692\\nJosephbury, WV 9...     DarkSlateBlue   \nh              Unit 6538 Box 8980\\nDPO AP 09026-4941              Aqua   \n\n   Avg. Session Length  Time on App  Time on Website  Length of Membership   \nd            34.305557    13.717514        36.721283              3.120179  \\\ne            33.330673    12.795189        37.536653              4.446308   \nf            33.871038    12.026925        34.476878              5.493507   \ng            32.021596    11.366348        36.683776              4.685017   \nh            32.739143    12.351959        37.373359              4.434273   \n\n   Yearly Amount Spent  \nd           581.852344  \ne           599.406092  \nf           637.102448  \ng           521.572175  \nh           549.904146  ",
      "text/html": "<div>\n<style scoped>\n    .dataframe tbody tr th:only-of-type {\n        vertical-align: middle;\n    }\n\n    .dataframe tbody tr th {\n        vertical-align: top;\n    }\n\n    .dataframe thead th {\n        text-align: right;\n    }\n</style>\n<table border=\"1\" class=\"dataframe\">\n  <thead>\n    <tr style=\"text-align: right;\">\n      <th></th>\n      <th>Address</th>\n      <th>Avatar</th>\n      <th>Avg. Session Length</th>\n      <th>Time on App</th>\n      <th>Time on Website</th>\n      <th>Length of Membership</th>\n      <th>Yearly Amount Spent</th>\n    </tr>\n  </thead>\n  <tbody>\n    <tr>\n      <th>d</th>\n      <td>1414 David Throughway\\nPort Jason, OH 22070-1220</td>\n      <td>SaddleBrown</td>\n      <td>34.305557</td>\n      <td>13.717514</td>\n      <td>36.721283</td>\n      <td>3.120179</td>\n      <td>581.852344</td>\n    </tr>\n    <tr>\n      <th>e</th>\n      <td>14023 Rodriguez Passage\\nPort Jacobville, PR 3...</td>\n      <td>MediumAquaMarine</td>\n      <td>33.330673</td>\n      <td>12.795189</td>\n      <td>37.536653</td>\n      <td>4.446308</td>\n      <td>599.406092</td>\n    </tr>\n    <tr>\n      <th>f</th>\n      <td>645 Martha Park Apt. 611\\nJeffreychester, MN 6...</td>\n      <td>FloralWhite</td>\n      <td>33.871038</td>\n      <td>12.026925</td>\n      <td>34.476878</td>\n      <td>5.493507</td>\n      <td>637.102448</td>\n    </tr>\n    <tr>\n      <th>g</th>\n      <td>68388 Reyes Lights Suite 692\\nJosephbury, WV 9...</td>\n      <td>DarkSlateBlue</td>\n      <td>32.021596</td>\n      <td>11.366348</td>\n      <td>36.683776</td>\n      <td>4.685017</td>\n      <td>521.572175</td>\n    </tr>\n    <tr>\n      <th>h</th>\n      <td>Unit 6538 Box 8980\\nDPO AP 09026-4941</td>\n      <td>Aqua</td>\n      <td>32.739143</td>\n      <td>12.351959</td>\n      <td>37.373359</td>\n      <td>4.434273</td>\n      <td>549.904146</td>\n    </tr>\n  </tbody>\n</table>\n</div>"
     },
     "execution_count": 16,
     "metadata": {},
     "output_type": "execute_result"
    }
   ],
   "source": [
    "new_data.iloc[3:8]"
   ]
  },
  {
   "cell_type": "code",
   "execution_count": 17,
   "metadata": {
    "ExecuteTime": {
     "start_time": "2023-05-01T03:53:05.830802Z",
     "end_time": "2023-05-01T03:53:05.967643Z"
    }
   },
   "outputs": [
    {
     "data": {
      "text/plain": "                                             Address            Avatar   \nd   1414 David Throughway\\nPort Jason, OH 22070-1220       SaddleBrown  \\\ne  14023 Rodriguez Passage\\nPort Jacobville, PR 3...  MediumAquaMarine   \nf  645 Martha Park Apt. 611\\nJeffreychester, MN 6...       FloralWhite   \ng  68388 Reyes Lights Suite 692\\nJosephbury, WV 9...     DarkSlateBlue   \nh              Unit 6538 Box 8980\\nDPO AP 09026-4941              Aqua   \ni             860 Lee Key\\nWest Debra, SD 97450-0495            Salmon   \nj              PSC 2734, Box 5255\\nAPO AA 98456-7482             Brown   \n\n   Avg. Session Length  Time on App  Time on Website  Length of Membership   \nd            34.305557    13.717514        36.721283              3.120179  \\\ne            33.330673    12.795189        37.536653              4.446308   \nf            33.871038    12.026925        34.476878              5.493507   \ng            32.021596    11.366348        36.683776              4.685017   \nh            32.739143    12.351959        37.373359              4.434273   \ni            33.987773    13.386235        37.534497              3.273434   \nj            31.936549    11.814128        37.145168              3.202806   \n\n   Yearly Amount Spent  \nd           581.852344  \ne           599.406092  \nf           637.102448  \ng           521.572175  \nh           549.904146  \ni           570.200409  \nj           427.199385  ",
      "text/html": "<div>\n<style scoped>\n    .dataframe tbody tr th:only-of-type {\n        vertical-align: middle;\n    }\n\n    .dataframe tbody tr th {\n        vertical-align: top;\n    }\n\n    .dataframe thead th {\n        text-align: right;\n    }\n</style>\n<table border=\"1\" class=\"dataframe\">\n  <thead>\n    <tr style=\"text-align: right;\">\n      <th></th>\n      <th>Address</th>\n      <th>Avatar</th>\n      <th>Avg. Session Length</th>\n      <th>Time on App</th>\n      <th>Time on Website</th>\n      <th>Length of Membership</th>\n      <th>Yearly Amount Spent</th>\n    </tr>\n  </thead>\n  <tbody>\n    <tr>\n      <th>d</th>\n      <td>1414 David Throughway\\nPort Jason, OH 22070-1220</td>\n      <td>SaddleBrown</td>\n      <td>34.305557</td>\n      <td>13.717514</td>\n      <td>36.721283</td>\n      <td>3.120179</td>\n      <td>581.852344</td>\n    </tr>\n    <tr>\n      <th>e</th>\n      <td>14023 Rodriguez Passage\\nPort Jacobville, PR 3...</td>\n      <td>MediumAquaMarine</td>\n      <td>33.330673</td>\n      <td>12.795189</td>\n      <td>37.536653</td>\n      <td>4.446308</td>\n      <td>599.406092</td>\n    </tr>\n    <tr>\n      <th>f</th>\n      <td>645 Martha Park Apt. 611\\nJeffreychester, MN 6...</td>\n      <td>FloralWhite</td>\n      <td>33.871038</td>\n      <td>12.026925</td>\n      <td>34.476878</td>\n      <td>5.493507</td>\n      <td>637.102448</td>\n    </tr>\n    <tr>\n      <th>g</th>\n      <td>68388 Reyes Lights Suite 692\\nJosephbury, WV 9...</td>\n      <td>DarkSlateBlue</td>\n      <td>32.021596</td>\n      <td>11.366348</td>\n      <td>36.683776</td>\n      <td>4.685017</td>\n      <td>521.572175</td>\n    </tr>\n    <tr>\n      <th>h</th>\n      <td>Unit 6538 Box 8980\\nDPO AP 09026-4941</td>\n      <td>Aqua</td>\n      <td>32.739143</td>\n      <td>12.351959</td>\n      <td>37.373359</td>\n      <td>4.434273</td>\n      <td>549.904146</td>\n    </tr>\n    <tr>\n      <th>i</th>\n      <td>860 Lee Key\\nWest Debra, SD 97450-0495</td>\n      <td>Salmon</td>\n      <td>33.987773</td>\n      <td>13.386235</td>\n      <td>37.534497</td>\n      <td>3.273434</td>\n      <td>570.200409</td>\n    </tr>\n    <tr>\n      <th>j</th>\n      <td>PSC 2734, Box 5255\\nAPO AA 98456-7482</td>\n      <td>Brown</td>\n      <td>31.936549</td>\n      <td>11.814128</td>\n      <td>37.145168</td>\n      <td>3.202806</td>\n      <td>427.199385</td>\n    </tr>\n  </tbody>\n</table>\n</div>"
     },
     "execution_count": 17,
     "metadata": {},
     "output_type": "execute_result"
    }
   ],
   "source": [
    "new_data.iloc[3:]"
   ]
  },
  {
   "cell_type": "code",
   "execution_count": 18,
   "metadata": {
    "ExecuteTime": {
     "start_time": "2023-05-01T03:53:05.840933Z",
     "end_time": "2023-05-01T03:53:05.967643Z"
    }
   },
   "outputs": [
    {
     "data": {
      "text/plain": "                                             Address            Avatar   \na       835 Frank Tunnel\\nWrightmouth, MI 82180-9605            Violet  \\\nb     4547 Archer Common\\nDiazchester, CA 06566-8576         DarkGreen   \nc  24645 Valerie Unions Suite 582\\nCobbborough, D...            Bisque   \nd   1414 David Throughway\\nPort Jason, OH 22070-1220       SaddleBrown   \ne  14023 Rodriguez Passage\\nPort Jacobville, PR 3...  MediumAquaMarine   \nf  645 Martha Park Apt. 611\\nJeffreychester, MN 6...       FloralWhite   \n\n   Avg. Session Length  Time on App  Time on Website  Length of Membership   \na            34.497268    12.655651        39.577668              4.082621  \\\nb            31.926272    11.109461        37.268959              2.664034   \nc            33.000915    11.330278        37.110597              4.104543   \nd            34.305557    13.717514        36.721283              3.120179   \ne            33.330673    12.795189        37.536653              4.446308   \nf            33.871038    12.026925        34.476878              5.493507   \n\n   Yearly Amount Spent  \na           587.951054  \nb           392.204933  \nc           487.547505  \nd           581.852344  \ne           599.406092  \nf           637.102448  ",
      "text/html": "<div>\n<style scoped>\n    .dataframe tbody tr th:only-of-type {\n        vertical-align: middle;\n    }\n\n    .dataframe tbody tr th {\n        vertical-align: top;\n    }\n\n    .dataframe thead th {\n        text-align: right;\n    }\n</style>\n<table border=\"1\" class=\"dataframe\">\n  <thead>\n    <tr style=\"text-align: right;\">\n      <th></th>\n      <th>Address</th>\n      <th>Avatar</th>\n      <th>Avg. Session Length</th>\n      <th>Time on App</th>\n      <th>Time on Website</th>\n      <th>Length of Membership</th>\n      <th>Yearly Amount Spent</th>\n    </tr>\n  </thead>\n  <tbody>\n    <tr>\n      <th>a</th>\n      <td>835 Frank Tunnel\\nWrightmouth, MI 82180-9605</td>\n      <td>Violet</td>\n      <td>34.497268</td>\n      <td>12.655651</td>\n      <td>39.577668</td>\n      <td>4.082621</td>\n      <td>587.951054</td>\n    </tr>\n    <tr>\n      <th>b</th>\n      <td>4547 Archer Common\\nDiazchester, CA 06566-8576</td>\n      <td>DarkGreen</td>\n      <td>31.926272</td>\n      <td>11.109461</td>\n      <td>37.268959</td>\n      <td>2.664034</td>\n      <td>392.204933</td>\n    </tr>\n    <tr>\n      <th>c</th>\n      <td>24645 Valerie Unions Suite 582\\nCobbborough, D...</td>\n      <td>Bisque</td>\n      <td>33.000915</td>\n      <td>11.330278</td>\n      <td>37.110597</td>\n      <td>4.104543</td>\n      <td>487.547505</td>\n    </tr>\n    <tr>\n      <th>d</th>\n      <td>1414 David Throughway\\nPort Jason, OH 22070-1220</td>\n      <td>SaddleBrown</td>\n      <td>34.305557</td>\n      <td>13.717514</td>\n      <td>36.721283</td>\n      <td>3.120179</td>\n      <td>581.852344</td>\n    </tr>\n    <tr>\n      <th>e</th>\n      <td>14023 Rodriguez Passage\\nPort Jacobville, PR 3...</td>\n      <td>MediumAquaMarine</td>\n      <td>33.330673</td>\n      <td>12.795189</td>\n      <td>37.536653</td>\n      <td>4.446308</td>\n      <td>599.406092</td>\n    </tr>\n    <tr>\n      <th>f</th>\n      <td>645 Martha Park Apt. 611\\nJeffreychester, MN 6...</td>\n      <td>FloralWhite</td>\n      <td>33.871038</td>\n      <td>12.026925</td>\n      <td>34.476878</td>\n      <td>5.493507</td>\n      <td>637.102448</td>\n    </tr>\n  </tbody>\n</table>\n</div>"
     },
     "execution_count": 18,
     "metadata": {},
     "output_type": "execute_result"
    }
   ],
   "source": [
    "new_data.iloc[:6]"
   ]
  },
  {
   "cell_type": "code",
   "execution_count": 19,
   "metadata": {
    "ExecuteTime": {
     "start_time": "2023-05-01T03:53:05.852547Z",
     "end_time": "2023-05-01T03:53:05.967643Z"
    }
   },
   "outputs": [
    {
     "data": {
      "text/plain": "                                             Address            Avatar   \na       835 Frank Tunnel\\nWrightmouth, MI 82180-9605            Violet  \\\nb     4547 Archer Common\\nDiazchester, CA 06566-8576         DarkGreen   \nc  24645 Valerie Unions Suite 582\\nCobbborough, D...            Bisque   \nd   1414 David Throughway\\nPort Jason, OH 22070-1220       SaddleBrown   \ne  14023 Rodriguez Passage\\nPort Jacobville, PR 3...  MediumAquaMarine   \nf  645 Martha Park Apt. 611\\nJeffreychester, MN 6...       FloralWhite   \ng  68388 Reyes Lights Suite 692\\nJosephbury, WV 9...     DarkSlateBlue   \nh              Unit 6538 Box 8980\\nDPO AP 09026-4941              Aqua   \ni             860 Lee Key\\nWest Debra, SD 97450-0495            Salmon   \nj              PSC 2734, Box 5255\\nAPO AA 98456-7482             Brown   \n\n   Avg. Session Length  Time on App  Time on Website  Length of Membership   \na            34.497268    12.655651        39.577668              4.082621  \\\nb            31.926272    11.109461        37.268959              2.664034   \nc            33.000915    11.330278        37.110597              4.104543   \nd            34.305557    13.717514        36.721283              3.120179   \ne            33.330673    12.795189        37.536653              4.446308   \nf            33.871038    12.026925        34.476878              5.493507   \ng            32.021596    11.366348        36.683776              4.685017   \nh            32.739143    12.351959        37.373359              4.434273   \ni            33.987773    13.386235        37.534497              3.273434   \nj            31.936549    11.814128        37.145168              3.202806   \n\n   Yearly Amount Spent  \na           587.951054  \nb           392.204933  \nc           487.547505  \nd           581.852344  \ne           599.406092  \nf           637.102448  \ng           521.572175  \nh           549.904146  \ni           570.200409  \nj           427.199385  ",
      "text/html": "<div>\n<style scoped>\n    .dataframe tbody tr th:only-of-type {\n        vertical-align: middle;\n    }\n\n    .dataframe tbody tr th {\n        vertical-align: top;\n    }\n\n    .dataframe thead th {\n        text-align: right;\n    }\n</style>\n<table border=\"1\" class=\"dataframe\">\n  <thead>\n    <tr style=\"text-align: right;\">\n      <th></th>\n      <th>Address</th>\n      <th>Avatar</th>\n      <th>Avg. Session Length</th>\n      <th>Time on App</th>\n      <th>Time on Website</th>\n      <th>Length of Membership</th>\n      <th>Yearly Amount Spent</th>\n    </tr>\n  </thead>\n  <tbody>\n    <tr>\n      <th>a</th>\n      <td>835 Frank Tunnel\\nWrightmouth, MI 82180-9605</td>\n      <td>Violet</td>\n      <td>34.497268</td>\n      <td>12.655651</td>\n      <td>39.577668</td>\n      <td>4.082621</td>\n      <td>587.951054</td>\n    </tr>\n    <tr>\n      <th>b</th>\n      <td>4547 Archer Common\\nDiazchester, CA 06566-8576</td>\n      <td>DarkGreen</td>\n      <td>31.926272</td>\n      <td>11.109461</td>\n      <td>37.268959</td>\n      <td>2.664034</td>\n      <td>392.204933</td>\n    </tr>\n    <tr>\n      <th>c</th>\n      <td>24645 Valerie Unions Suite 582\\nCobbborough, D...</td>\n      <td>Bisque</td>\n      <td>33.000915</td>\n      <td>11.330278</td>\n      <td>37.110597</td>\n      <td>4.104543</td>\n      <td>487.547505</td>\n    </tr>\n    <tr>\n      <th>d</th>\n      <td>1414 David Throughway\\nPort Jason, OH 22070-1220</td>\n      <td>SaddleBrown</td>\n      <td>34.305557</td>\n      <td>13.717514</td>\n      <td>36.721283</td>\n      <td>3.120179</td>\n      <td>581.852344</td>\n    </tr>\n    <tr>\n      <th>e</th>\n      <td>14023 Rodriguez Passage\\nPort Jacobville, PR 3...</td>\n      <td>MediumAquaMarine</td>\n      <td>33.330673</td>\n      <td>12.795189</td>\n      <td>37.536653</td>\n      <td>4.446308</td>\n      <td>599.406092</td>\n    </tr>\n    <tr>\n      <th>f</th>\n      <td>645 Martha Park Apt. 611\\nJeffreychester, MN 6...</td>\n      <td>FloralWhite</td>\n      <td>33.871038</td>\n      <td>12.026925</td>\n      <td>34.476878</td>\n      <td>5.493507</td>\n      <td>637.102448</td>\n    </tr>\n    <tr>\n      <th>g</th>\n      <td>68388 Reyes Lights Suite 692\\nJosephbury, WV 9...</td>\n      <td>DarkSlateBlue</td>\n      <td>32.021596</td>\n      <td>11.366348</td>\n      <td>36.683776</td>\n      <td>4.685017</td>\n      <td>521.572175</td>\n    </tr>\n    <tr>\n      <th>h</th>\n      <td>Unit 6538 Box 8980\\nDPO AP 09026-4941</td>\n      <td>Aqua</td>\n      <td>32.739143</td>\n      <td>12.351959</td>\n      <td>37.373359</td>\n      <td>4.434273</td>\n      <td>549.904146</td>\n    </tr>\n    <tr>\n      <th>i</th>\n      <td>860 Lee Key\\nWest Debra, SD 97450-0495</td>\n      <td>Salmon</td>\n      <td>33.987773</td>\n      <td>13.386235</td>\n      <td>37.534497</td>\n      <td>3.273434</td>\n      <td>570.200409</td>\n    </tr>\n    <tr>\n      <th>j</th>\n      <td>PSC 2734, Box 5255\\nAPO AA 98456-7482</td>\n      <td>Brown</td>\n      <td>31.936549</td>\n      <td>11.814128</td>\n      <td>37.145168</td>\n      <td>3.202806</td>\n      <td>427.199385</td>\n    </tr>\n  </tbody>\n</table>\n</div>"
     },
     "execution_count": 19,
     "metadata": {},
     "output_type": "execute_result"
    }
   ],
   "source": [
    "new_data.iloc[:]"
   ]
  },
  {
   "cell_type": "code",
   "execution_count": 20,
   "metadata": {
    "scrolled": true,
    "ExecuteTime": {
     "start_time": "2023-05-01T03:53:05.868348Z",
     "end_time": "2023-05-01T03:53:05.967643Z"
    }
   },
   "outputs": [
    {
     "data": {
      "text/plain": "                                             Address       Avatar   \nb     4547 Archer Common\\nDiazchester, CA 06566-8576    DarkGreen  \\\nc  24645 Valerie Unions Suite 582\\nCobbborough, D...       Bisque   \nd   1414 David Throughway\\nPort Jason, OH 22070-1220  SaddleBrown   \n\n   Avg. Session Length  \nb            31.926272  \nc            33.000915  \nd            34.305557  ",
      "text/html": "<div>\n<style scoped>\n    .dataframe tbody tr th:only-of-type {\n        vertical-align: middle;\n    }\n\n    .dataframe tbody tr th {\n        vertical-align: top;\n    }\n\n    .dataframe thead th {\n        text-align: right;\n    }\n</style>\n<table border=\"1\" class=\"dataframe\">\n  <thead>\n    <tr style=\"text-align: right;\">\n      <th></th>\n      <th>Address</th>\n      <th>Avatar</th>\n      <th>Avg. Session Length</th>\n    </tr>\n  </thead>\n  <tbody>\n    <tr>\n      <th>b</th>\n      <td>4547 Archer Common\\nDiazchester, CA 06566-8576</td>\n      <td>DarkGreen</td>\n      <td>31.926272</td>\n    </tr>\n    <tr>\n      <th>c</th>\n      <td>24645 Valerie Unions Suite 582\\nCobbborough, D...</td>\n      <td>Bisque</td>\n      <td>33.000915</td>\n    </tr>\n    <tr>\n      <th>d</th>\n      <td>1414 David Throughway\\nPort Jason, OH 22070-1220</td>\n      <td>SaddleBrown</td>\n      <td>34.305557</td>\n    </tr>\n  </tbody>\n</table>\n</div>"
     },
     "execution_count": 20,
     "metadata": {},
     "output_type": "execute_result"
    }
   ],
   "source": [
    "new_data.iloc[1:4, 0:3]"
   ]
  },
  {
   "cell_type": "code",
   "execution_count": 21,
   "metadata": {
    "ExecuteTime": {
     "start_time": "2023-05-01T03:53:05.875558Z",
     "end_time": "2023-05-01T03:53:05.967643Z"
    }
   },
   "outputs": [
    {
     "data": {
      "text/plain": "             Avatar  Avg. Session Length  Time on App\na            Violet            34.497268    12.655651\nb         DarkGreen            31.926272    11.109461\nc            Bisque            33.000915    11.330278\nd       SaddleBrown            34.305557    13.717514\ne  MediumAquaMarine            33.330673    12.795189\nf       FloralWhite            33.871038    12.026925\ng     DarkSlateBlue            32.021596    11.366348\nh              Aqua            32.739143    12.351959\ni            Salmon            33.987773    13.386235\nj             Brown            31.936549    11.814128",
      "text/html": "<div>\n<style scoped>\n    .dataframe tbody tr th:only-of-type {\n        vertical-align: middle;\n    }\n\n    .dataframe tbody tr th {\n        vertical-align: top;\n    }\n\n    .dataframe thead th {\n        text-align: right;\n    }\n</style>\n<table border=\"1\" class=\"dataframe\">\n  <thead>\n    <tr style=\"text-align: right;\">\n      <th></th>\n      <th>Avatar</th>\n      <th>Avg. Session Length</th>\n      <th>Time on App</th>\n    </tr>\n  </thead>\n  <tbody>\n    <tr>\n      <th>a</th>\n      <td>Violet</td>\n      <td>34.497268</td>\n      <td>12.655651</td>\n    </tr>\n    <tr>\n      <th>b</th>\n      <td>DarkGreen</td>\n      <td>31.926272</td>\n      <td>11.109461</td>\n    </tr>\n    <tr>\n      <th>c</th>\n      <td>Bisque</td>\n      <td>33.000915</td>\n      <td>11.330278</td>\n    </tr>\n    <tr>\n      <th>d</th>\n      <td>SaddleBrown</td>\n      <td>34.305557</td>\n      <td>13.717514</td>\n    </tr>\n    <tr>\n      <th>e</th>\n      <td>MediumAquaMarine</td>\n      <td>33.330673</td>\n      <td>12.795189</td>\n    </tr>\n    <tr>\n      <th>f</th>\n      <td>FloralWhite</td>\n      <td>33.871038</td>\n      <td>12.026925</td>\n    </tr>\n    <tr>\n      <th>g</th>\n      <td>DarkSlateBlue</td>\n      <td>32.021596</td>\n      <td>11.366348</td>\n    </tr>\n    <tr>\n      <th>h</th>\n      <td>Aqua</td>\n      <td>32.739143</td>\n      <td>12.351959</td>\n    </tr>\n    <tr>\n      <th>i</th>\n      <td>Salmon</td>\n      <td>33.987773</td>\n      <td>13.386235</td>\n    </tr>\n    <tr>\n      <th>j</th>\n      <td>Brown</td>\n      <td>31.936549</td>\n      <td>11.814128</td>\n    </tr>\n  </tbody>\n</table>\n</div>"
     },
     "execution_count": 21,
     "metadata": {},
     "output_type": "execute_result"
    }
   ],
   "source": [
    "new_data.iloc[:, 1:4]"
   ]
  }
 ],
 "metadata": {
  "kernelspec": {
   "display_name": "Python 3",
   "language": "python",
   "name": "python3"
  },
  "language_info": {
   "codemirror_mode": {
    "name": "ipython",
    "version": 3
   },
   "file_extension": ".py",
   "mimetype": "text/x-python",
   "name": "python",
   "nbconvert_exporter": "python",
   "pygments_lexer": "ipython3",
   "version": "3.7.6"
  }
 },
 "nbformat": 4,
 "nbformat_minor": 4
}
