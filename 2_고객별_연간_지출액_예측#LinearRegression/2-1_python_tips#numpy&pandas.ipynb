{
 "cells": [
  {
   "cell_type": "code",
   "execution_count": 1,
   "metadata": {
    "ExecuteTime": {
     "start_time": "2023-05-01T03:53:40.506371Z",
     "end_time": "2023-05-01T03:53:40.506371Z"
    }
   },
   "outputs": [],
   "source": [
    "a = [1, 2, 3]\n",
    "b = [4, 5, 6]"
   ]
  },
  {
   "cell_type": "markdown",
   "metadata": {},
   "source": [
    "# Numpy"
   ]
  },
  {
   "cell_type": "code",
   "execution_count": 2,
   "metadata": {
    "ExecuteTime": {
     "start_time": "2023-05-01T03:53:40.506371Z",
     "end_time": "2023-05-01T03:53:40.513954Z"
    }
   },
   "outputs": [],
   "source": [
    "import numpy as np"
   ]
  },
  {
   "cell_type": "code",
   "execution_count": 3,
   "metadata": {
    "ExecuteTime": {
     "start_time": "2023-05-01T03:53:40.513954Z",
     "end_time": "2023-05-01T03:53:40.523845Z"
    }
   },
   "outputs": [
    {
     "data": {
      "text/plain": "array([1, 2, 3])"
     },
     "execution_count": 3,
     "metadata": {},
     "output_type": "execute_result"
    }
   ],
   "source": [
    "np.array(a)"
   ]
  },
  {
   "cell_type": "code",
   "execution_count": 4,
   "metadata": {
    "ExecuteTime": {
     "start_time": "2023-05-01T03:53:40.523845Z",
     "end_time": "2023-05-01T03:53:40.548499Z"
    }
   },
   "outputs": [
    {
     "data": {
      "text/plain": "array([[1, 2, 3],\n       [4, 5, 6]])"
     },
     "execution_count": 4,
     "metadata": {},
     "output_type": "execute_result"
    }
   ],
   "source": [
    "np.array([a, b])"
   ]
  },
  {
   "cell_type": "markdown",
   "metadata": {},
   "source": [
    "# Pandas"
   ]
  },
  {
   "cell_type": "code",
   "execution_count": 5,
   "metadata": {
    "ExecuteTime": {
     "start_time": "2023-05-01T03:53:40.536289Z",
     "end_time": "2023-05-01T03:53:40.548499Z"
    }
   },
   "outputs": [],
   "source": [
    "import pandas as pd"
   ]
  },
  {
   "cell_type": "code",
   "execution_count": 6,
   "metadata": {
    "ExecuteTime": {
     "start_time": "2023-05-01T03:53:40.536798Z",
     "end_time": "2023-05-01T03:53:40.548499Z"
    }
   },
   "outputs": [
    {
     "data": {
      "text/plain": "   0  1  2\n0  1  2  3\n1  4  5  6",
      "text/html": "<div>\n<style scoped>\n    .dataframe tbody tr th:only-of-type {\n        vertical-align: middle;\n    }\n\n    .dataframe tbody tr th {\n        vertical-align: top;\n    }\n\n    .dataframe thead th {\n        text-align: right;\n    }\n</style>\n<table border=\"1\" class=\"dataframe\">\n  <thead>\n    <tr style=\"text-align: right;\">\n      <th></th>\n      <th>0</th>\n      <th>1</th>\n      <th>2</th>\n    </tr>\n  </thead>\n  <tbody>\n    <tr>\n      <th>0</th>\n      <td>1</td>\n      <td>2</td>\n      <td>3</td>\n    </tr>\n    <tr>\n      <th>1</th>\n      <td>4</td>\n      <td>5</td>\n      <td>6</td>\n    </tr>\n  </tbody>\n</table>\n</div>"
     },
     "execution_count": 6,
     "metadata": {},
     "output_type": "execute_result"
    }
   ],
   "source": [
    "pd.DataFrame([a, b])"
   ]
  },
  {
   "cell_type": "code",
   "execution_count": 7,
   "metadata": {
    "ExecuteTime": {
     "start_time": "2023-05-01T03:53:40.548499Z",
     "end_time": "2023-05-01T03:53:40.557760Z"
    }
   },
   "outputs": [
    {
     "data": {
      "text/plain": "   a  b  c\nx  1  2  3\ny  4  5  6",
      "text/html": "<div>\n<style scoped>\n    .dataframe tbody tr th:only-of-type {\n        vertical-align: middle;\n    }\n\n    .dataframe tbody tr th {\n        vertical-align: top;\n    }\n\n    .dataframe thead th {\n        text-align: right;\n    }\n</style>\n<table border=\"1\" class=\"dataframe\">\n  <thead>\n    <tr style=\"text-align: right;\">\n      <th></th>\n      <th>a</th>\n      <th>b</th>\n      <th>c</th>\n    </tr>\n  </thead>\n  <tbody>\n    <tr>\n      <th>x</th>\n      <td>1</td>\n      <td>2</td>\n      <td>3</td>\n    </tr>\n    <tr>\n      <th>y</th>\n      <td>4</td>\n      <td>5</td>\n      <td>6</td>\n    </tr>\n  </tbody>\n</table>\n</div>"
     },
     "execution_count": 7,
     "metadata": {},
     "output_type": "execute_result"
    }
   ],
   "source": [
    "pd.DataFrame([a, b], columns=['a', 'b', 'c'], index=['x', 'y'])"
   ]
  },
  {
   "cell_type": "code",
   "execution_count": 8,
   "metadata": {
    "ExecuteTime": {
     "start_time": "2023-05-01T03:53:40.560766Z",
     "end_time": "2023-05-01T03:53:40.567219Z"
    }
   },
   "outputs": [
    {
     "data": {
      "text/plain": "0    1\n1    2\n2    3\ndtype: int64"
     },
     "execution_count": 8,
     "metadata": {},
     "output_type": "execute_result"
    }
   ],
   "source": [
    "pd.Series(a)"
   ]
  },
  {
   "cell_type": "code",
   "execution_count": 9,
   "metadata": {
    "ExecuteTime": {
     "start_time": "2023-05-01T03:53:40.567219Z",
     "end_time": "2023-05-01T03:53:40.602471Z"
    }
   },
   "outputs": [],
   "source": [
    "data = pd.read_csv('ecommerce.csv')"
   ]
  },
  {
   "cell_type": "code",
   "execution_count": 10,
   "metadata": {
    "ExecuteTime": {
     "start_time": "2023-05-01T03:53:40.581043Z",
     "end_time": "2023-05-01T03:53:40.632958Z"
    }
   },
   "outputs": [
    {
     "data": {
      "text/plain": "                             Email   \n0        mstephenson@fernandez.com  \\\n1                hduke@hotmail.com   \n2                 pallen@yahoo.com   \n3          riverarebecca@gmail.com   \n4    mstephens@davidson-herman.com   \n..                             ...   \n495   lewisjessica@craig-evans.com   \n496            katrina56@gmail.com   \n497             dale88@hotmail.com   \n498            cwilson@hotmail.com   \n499      hannahwilson@davidson.com   \n\n                                               Address            Avatar   \n0         835 Frank Tunnel\\nWrightmouth, MI 82180-9605            Violet  \\\n1       4547 Archer Common\\nDiazchester, CA 06566-8576         DarkGreen   \n2    24645 Valerie Unions Suite 582\\nCobbborough, D...            Bisque   \n3     1414 David Throughway\\nPort Jason, OH 22070-1220       SaddleBrown   \n4    14023 Rodriguez Passage\\nPort Jacobville, PR 3...  MediumAquaMarine   \n..                                                 ...               ...   \n495  4483 Jones Motorway Suite 872\\nLake Jamiefurt,...               Tan   \n496  172 Owen Divide Suite 497\\nWest Richard, CA 19320     PaleVioletRed   \n497  0787 Andrews Ranch Apt. 633\\nSouth Chadburgh, ...          Cornsilk   \n498  680 Jennifer Lodge Apt. 808\\nBrendachester, TX...              Teal   \n499  49791 Rachel Heights Apt. 898\\nEast Drewboroug...       DarkMagenta   \n\n     Avg. Session Length  Time on App  Time on Website  Length of Membership   \n0              34.497268    12.655651        39.577668              4.082621  \\\n1              31.926272    11.109461        37.268959              2.664034   \n2              33.000915    11.330278        37.110597              4.104543   \n3              34.305557    13.717514        36.721283              3.120179   \n4              33.330673    12.795189        37.536653              4.446308   \n..                   ...          ...              ...                   ...   \n495            33.237660    13.566160        36.417985              3.746573   \n496            34.702529    11.695736        37.190268              3.576526   \n497            32.646777    11.499409        38.332576              4.958264   \n498            33.322501    12.391423        36.840086              2.336485   \n499            33.715981    12.418808        35.771016              2.735160   \n\n     Yearly Amount Spent  \n0             587.951054  \n1             392.204933  \n2             487.547505  \n3             581.852344  \n4             599.406092  \n..                   ...  \n495           573.847438  \n496           529.049004  \n497           551.620145  \n498           456.469510  \n499           497.778642  \n\n[500 rows x 8 columns]",
      "text/html": "<div>\n<style scoped>\n    .dataframe tbody tr th:only-of-type {\n        vertical-align: middle;\n    }\n\n    .dataframe tbody tr th {\n        vertical-align: top;\n    }\n\n    .dataframe thead th {\n        text-align: right;\n    }\n</style>\n<table border=\"1\" class=\"dataframe\">\n  <thead>\n    <tr style=\"text-align: right;\">\n      <th></th>\n      <th>Email</th>\n      <th>Address</th>\n      <th>Avatar</th>\n      <th>Avg. Session Length</th>\n      <th>Time on App</th>\n      <th>Time on Website</th>\n      <th>Length of Membership</th>\n      <th>Yearly Amount Spent</th>\n    </tr>\n  </thead>\n  <tbody>\n    <tr>\n      <th>0</th>\n      <td>mstephenson@fernandez.com</td>\n      <td>835 Frank Tunnel\\nWrightmouth, MI 82180-9605</td>\n      <td>Violet</td>\n      <td>34.497268</td>\n      <td>12.655651</td>\n      <td>39.577668</td>\n      <td>4.082621</td>\n      <td>587.951054</td>\n    </tr>\n    <tr>\n      <th>1</th>\n      <td>hduke@hotmail.com</td>\n      <td>4547 Archer Common\\nDiazchester, CA 06566-8576</td>\n      <td>DarkGreen</td>\n      <td>31.926272</td>\n      <td>11.109461</td>\n      <td>37.268959</td>\n      <td>2.664034</td>\n      <td>392.204933</td>\n    </tr>\n    <tr>\n      <th>2</th>\n      <td>pallen@yahoo.com</td>\n      <td>24645 Valerie Unions Suite 582\\nCobbborough, D...</td>\n      <td>Bisque</td>\n      <td>33.000915</td>\n      <td>11.330278</td>\n      <td>37.110597</td>\n      <td>4.104543</td>\n      <td>487.547505</td>\n    </tr>\n    <tr>\n      <th>3</th>\n      <td>riverarebecca@gmail.com</td>\n      <td>1414 David Throughway\\nPort Jason, OH 22070-1220</td>\n      <td>SaddleBrown</td>\n      <td>34.305557</td>\n      <td>13.717514</td>\n      <td>36.721283</td>\n      <td>3.120179</td>\n      <td>581.852344</td>\n    </tr>\n    <tr>\n      <th>4</th>\n      <td>mstephens@davidson-herman.com</td>\n      <td>14023 Rodriguez Passage\\nPort Jacobville, PR 3...</td>\n      <td>MediumAquaMarine</td>\n      <td>33.330673</td>\n      <td>12.795189</td>\n      <td>37.536653</td>\n      <td>4.446308</td>\n      <td>599.406092</td>\n    </tr>\n    <tr>\n      <th>...</th>\n      <td>...</td>\n      <td>...</td>\n      <td>...</td>\n      <td>...</td>\n      <td>...</td>\n      <td>...</td>\n      <td>...</td>\n      <td>...</td>\n    </tr>\n    <tr>\n      <th>495</th>\n      <td>lewisjessica@craig-evans.com</td>\n      <td>4483 Jones Motorway Suite 872\\nLake Jamiefurt,...</td>\n      <td>Tan</td>\n      <td>33.237660</td>\n      <td>13.566160</td>\n      <td>36.417985</td>\n      <td>3.746573</td>\n      <td>573.847438</td>\n    </tr>\n    <tr>\n      <th>496</th>\n      <td>katrina56@gmail.com</td>\n      <td>172 Owen Divide Suite 497\\nWest Richard, CA 19320</td>\n      <td>PaleVioletRed</td>\n      <td>34.702529</td>\n      <td>11.695736</td>\n      <td>37.190268</td>\n      <td>3.576526</td>\n      <td>529.049004</td>\n    </tr>\n    <tr>\n      <th>497</th>\n      <td>dale88@hotmail.com</td>\n      <td>0787 Andrews Ranch Apt. 633\\nSouth Chadburgh, ...</td>\n      <td>Cornsilk</td>\n      <td>32.646777</td>\n      <td>11.499409</td>\n      <td>38.332576</td>\n      <td>4.958264</td>\n      <td>551.620145</td>\n    </tr>\n    <tr>\n      <th>498</th>\n      <td>cwilson@hotmail.com</td>\n      <td>680 Jennifer Lodge Apt. 808\\nBrendachester, TX...</td>\n      <td>Teal</td>\n      <td>33.322501</td>\n      <td>12.391423</td>\n      <td>36.840086</td>\n      <td>2.336485</td>\n      <td>456.469510</td>\n    </tr>\n    <tr>\n      <th>499</th>\n      <td>hannahwilson@davidson.com</td>\n      <td>49791 Rachel Heights Apt. 898\\nEast Drewboroug...</td>\n      <td>DarkMagenta</td>\n      <td>33.715981</td>\n      <td>12.418808</td>\n      <td>35.771016</td>\n      <td>2.735160</td>\n      <td>497.778642</td>\n    </tr>\n  </tbody>\n</table>\n<p>500 rows × 8 columns</p>\n</div>"
     },
     "execution_count": 10,
     "metadata": {},
     "output_type": "execute_result"
    }
   ],
   "source": [
    "data"
   ]
  },
  {
   "cell_type": "code",
   "execution_count": 11,
   "metadata": {
    "scrolled": true,
    "ExecuteTime": {
     "start_time": "2023-05-01T03:53:40.588098Z",
     "end_time": "2023-05-01T03:53:40.664318Z"
    }
   },
   "outputs": [
    {
     "data": {
      "text/plain": "pandas.core.frame.DataFrame"
     },
     "execution_count": 11,
     "metadata": {},
     "output_type": "execute_result"
    }
   ],
   "source": [
    "type(data)"
   ]
  },
  {
   "cell_type": "code",
   "execution_count": 12,
   "metadata": {
    "scrolled": true,
    "ExecuteTime": {
     "start_time": "2023-05-01T03:53:40.599243Z",
     "end_time": "2023-05-01T03:53:40.664318Z"
    }
   },
   "outputs": [
    {
     "data": {
      "text/plain": "pandas.core.series.Series"
     },
     "execution_count": 12,
     "metadata": {},
     "output_type": "execute_result"
    }
   ],
   "source": [
    "type(data['Yearly Amount Spent'])"
   ]
  },
  {
   "cell_type": "code",
   "execution_count": 13,
   "metadata": {
    "ExecuteTime": {
     "start_time": "2023-05-01T03:53:40.602471Z",
     "end_time": "2023-05-01T03:53:40.680526Z"
    }
   },
   "outputs": [
    {
     "data": {
      "text/plain": "     Yearly Amount Spent\n0             587.951054\n1             392.204933\n2             487.547505\n3             581.852344\n4             599.406092\n..                   ...\n495           573.847438\n496           529.049004\n497           551.620145\n498           456.469510\n499           497.778642\n\n[500 rows x 1 columns]",
      "text/html": "<div>\n<style scoped>\n    .dataframe tbody tr th:only-of-type {\n        vertical-align: middle;\n    }\n\n    .dataframe tbody tr th {\n        vertical-align: top;\n    }\n\n    .dataframe thead th {\n        text-align: right;\n    }\n</style>\n<table border=\"1\" class=\"dataframe\">\n  <thead>\n    <tr style=\"text-align: right;\">\n      <th></th>\n      <th>Yearly Amount Spent</th>\n    </tr>\n  </thead>\n  <tbody>\n    <tr>\n      <th>0</th>\n      <td>587.951054</td>\n    </tr>\n    <tr>\n      <th>1</th>\n      <td>392.204933</td>\n    </tr>\n    <tr>\n      <th>2</th>\n      <td>487.547505</td>\n    </tr>\n    <tr>\n      <th>3</th>\n      <td>581.852344</td>\n    </tr>\n    <tr>\n      <th>4</th>\n      <td>599.406092</td>\n    </tr>\n    <tr>\n      <th>...</th>\n      <td>...</td>\n    </tr>\n    <tr>\n      <th>495</th>\n      <td>573.847438</td>\n    </tr>\n    <tr>\n      <th>496</th>\n      <td>529.049004</td>\n    </tr>\n    <tr>\n      <th>497</th>\n      <td>551.620145</td>\n    </tr>\n    <tr>\n      <th>498</th>\n      <td>456.469510</td>\n    </tr>\n    <tr>\n      <th>499</th>\n      <td>497.778642</td>\n    </tr>\n  </tbody>\n</table>\n<p>500 rows × 1 columns</p>\n</div>"
     },
     "execution_count": 13,
     "metadata": {},
     "output_type": "execute_result"
    }
   ],
   "source": [
    "pd.DataFrame(data['Yearly Amount Spent'])"
   ]
  },
  {
   "cell_type": "code",
   "execution_count": 14,
   "metadata": {
    "ExecuteTime": {
     "start_time": "2023-05-01T03:53:40.616915Z",
     "end_time": "2023-05-01T03:53:40.696162Z"
    }
   },
   "outputs": [
    {
     "data": {
      "text/plain": "   0  1  2\n0  1  2  3\n1  4  5  6",
      "text/html": "<div>\n<style scoped>\n    .dataframe tbody tr th:only-of-type {\n        vertical-align: middle;\n    }\n\n    .dataframe tbody tr th {\n        vertical-align: top;\n    }\n\n    .dataframe thead th {\n        text-align: right;\n    }\n</style>\n<table border=\"1\" class=\"dataframe\">\n  <thead>\n    <tr style=\"text-align: right;\">\n      <th></th>\n      <th>0</th>\n      <th>1</th>\n      <th>2</th>\n    </tr>\n  </thead>\n  <tbody>\n    <tr>\n      <th>0</th>\n      <td>1</td>\n      <td>2</td>\n      <td>3</td>\n    </tr>\n    <tr>\n      <th>1</th>\n      <td>4</td>\n      <td>5</td>\n      <td>6</td>\n    </tr>\n  </tbody>\n</table>\n</div>"
     },
     "execution_count": 14,
     "metadata": {},
     "output_type": "execute_result"
    }
   ],
   "source": [
    "pd.DataFrame(np.array([a, b]))"
   ]
  },
  {
   "cell_type": "code",
   "execution_count": 15,
   "metadata": {
    "ExecuteTime": {
     "start_time": "2023-05-01T03:53:40.621692Z",
     "end_time": "2023-05-01T03:53:40.696162Z"
    }
   },
   "outputs": [
    {
     "data": {
      "text/plain": "array([['mstephenson@fernandez.com',\n        '835 Frank Tunnel\\nWrightmouth, MI 82180-9605', 'Violet', ...,\n        39.57766801952616, 4.0826206329529615, 587.9510539684005],\n       ['hduke@hotmail.com',\n        '4547 Archer Common\\nDiazchester, CA 06566-8576', 'DarkGreen',\n        ..., 37.268958868297744, 2.66403418213262, 392.2049334443264],\n       ['pallen@yahoo.com',\n        '24645 Valerie Unions Suite 582\\nCobbborough, DC 99414-7564',\n        'Bisque', ..., 37.110597442120856, 4.104543202376424,\n        487.54750486747207],\n       ...,\n       ['dale88@hotmail.com',\n        '0787 Andrews Ranch Apt. 633\\nSouth Chadburgh, TN 56128',\n        'Cornsilk', ..., 38.33257633196044, 4.958264472618699,\n        551.6201454762477],\n       ['cwilson@hotmail.com',\n        '680 Jennifer Lodge Apt. 808\\nBrendachester, TX 05000-5873',\n        'Teal', ..., 36.84008572976701, 2.336484668112853,\n        456.469510066298],\n       ['hannahwilson@davidson.com',\n        '49791 Rachel Heights Apt. 898\\nEast Drewborough, OR 55919-9528',\n        'DarkMagenta', ..., 35.771016191612965, 2.7351595670822757,\n        497.7786422156802]], dtype=object)"
     },
     "execution_count": 15,
     "metadata": {},
     "output_type": "execute_result"
    }
   ],
   "source": [
    "np.array(data)"
   ]
  }
 ],
 "metadata": {
  "kernelspec": {
   "display_name": "Python 3",
   "language": "python",
   "name": "python3"
  },
  "language_info": {
   "codemirror_mode": {
    "name": "ipython",
    "version": 3
   },
   "file_extension": ".py",
   "mimetype": "text/x-python",
   "name": "python",
   "nbconvert_exporter": "python",
   "pygments_lexer": "ipython3",
   "version": "3.7.6"
  }
 },
 "nbformat": 4,
 "nbformat_minor": 4
}
