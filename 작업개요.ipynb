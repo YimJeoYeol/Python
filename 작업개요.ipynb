{
 "cells": [
  {
   "cell_type": "markdown",
   "source": [
    "# 로지스틱 회귀 작업과정"
   ],
   "metadata": {
    "collapsed": false
   }
  },
  {
   "cell_type": "markdown",
   "source": [
    "# 1. 데이터셋 가져오기\n",
    "\n",
    "# 1.5. 데이터 탐색\n",
    "\n",
    "# 2. 데이터셋 전처리(결측치, 이상값)\n",
    "\n",
    "# 3. 데이터셋 나누기(train, test)\n",
    "\n",
    "# 4. 모델 정의 및 피팅(학습)\n",
    "\n",
    "# 5. 예측(predict) 및 채점\n",
    "\n",
    "# 6. 모델 및 데이터 수정 반복"
   ],
   "metadata": {
    "collapsed": false
   }
  },
  {
   "cell_type": "code",
   "execution_count": 1,
   "outputs": [],
   "source": [
    "a = [1, 2, 3, 4, 5]"
   ],
   "metadata": {
    "collapsed": false,
    "ExecuteTime": {
     "start_time": "2023-05-02T16:35:06.206142Z",
     "end_time": "2023-05-02T16:35:06.221762Z"
    }
   }
  },
  {
   "cell_type": "code",
   "execution_count": 2,
   "outputs": [
    {
     "data": {
      "text/plain": "1"
     },
     "execution_count": 2,
     "metadata": {},
     "output_type": "execute_result"
    }
   ],
   "source": [
    "a[0]"
   ],
   "metadata": {
    "collapsed": false,
    "ExecuteTime": {
     "start_time": "2023-05-02T16:35:40.283831Z",
     "end_time": "2023-05-02T16:35:40.299487Z"
    }
   }
  },
  {
   "cell_type": "markdown",
   "source": [
    "# 10 미만의 자연수에서 3과 5의 배수를 구하면 3, 5, 6, 9이다. 이들의 총합은 23이다.\n",
    "# 1000 미만의 자연수에서 3의 배수와 5의 배수의 총합을 구하라."
   ],
   "metadata": {
    "collapsed": false
   }
  },
  {
   "cell_type": "code",
   "execution_count": null,
   "outputs": [],
   "source": [
    "# 힌트\n",
    "# n이 3의 배수라면? n % 3 == 0\n",
    "# A or B\n",
    "# for i in range(?):\n",
    "# result += n\n"
   ],
   "metadata": {
    "collapsed": false
   }
  },
  {
   "cell_type": "code",
   "execution_count": 4,
   "outputs": [
    {
     "name": "stdout",
     "output_type": "stream",
     "text": [
      "233168\n"
     ]
    }
   ],
   "source": [
    "result = 0\n",
    "for i in range(1000):\n",
    "    if i % 3 == 0 or i % 5 == 0:\n",
    "        result += i\n",
    "print(result)"
   ],
   "metadata": {
    "collapsed": false,
    "ExecuteTime": {
     "start_time": "2023-05-02T16:53:01.460674Z",
     "end_time": "2023-05-02T16:53:01.476290Z"
    }
   }
  },
  {
   "cell_type": "markdown",
   "source": [
    "# 피보나치 수열은 아래와 같다.\n",
    "# 1, 2, 3, 5, 8, 13, 21, ...\n",
    "# (다음 피보나치 수열값은 이전 두 개의 자연수의 합이다.)\n",
    "# 이 때,\n",
    "# 피보나치수열 중 4,000,000 이하의 값들 중 짝수를 모두 더한 합계를 구하시오."
   ],
   "metadata": {
    "collapsed": false
   }
  },
  {
   "cell_type": "code",
   "execution_count": null,
   "outputs": [],
   "source": [
    "sum = 0\n",
    "\n",
    "a = 1\n",
    "b = 2\n",
    "c = a + b\n",
    "a = b\n",
    "b = c\n",
    "c = a + b"
   ],
   "metadata": {
    "collapsed": false
   }
  },
  {
   "cell_type": "code",
   "execution_count": 5,
   "outputs": [
    {
     "name": "stdout",
     "output_type": "stream",
     "text": [
      "4613732\n"
     ]
    }
   ],
   "source": [
    "a = 1\n",
    "b = 1\n",
    "c = a + b\n",
    "result = 0\n",
    "\n",
    "while c < 4_000_000:\n",
    "    if c % 2 == 0:\n",
    "        result += c\n",
    "    a = b\n",
    "    b = c\n",
    "    c = a + b\n",
    "\n",
    "print(result)"
   ],
   "metadata": {
    "collapsed": false,
    "ExecuteTime": {
     "start_time": "2023-05-02T17:10:10.360221Z",
     "end_time": "2023-05-02T17:10:10.407203Z"
    }
   }
  },
  {
   "cell_type": "code",
   "execution_count": 6,
   "outputs": [
    {
     "data": {
      "text/plain": "4613732"
     },
     "execution_count": 6,
     "metadata": {},
     "output_type": "execute_result"
    }
   ],
   "source": [
    "sum"
   ],
   "metadata": {
    "collapsed": false,
    "ExecuteTime": {
     "start_time": "2023-05-02T17:18:58.365972Z",
     "end_time": "2023-05-02T17:18:58.381599Z"
    }
   }
  },
  {
   "cell_type": "code",
   "execution_count": null,
   "outputs": [],
   "source": [],
   "metadata": {
    "collapsed": false
   }
  }
 ],
 "metadata": {
  "kernelspec": {
   "display_name": "Python 3",
   "language": "python",
   "name": "python3"
  },
  "language_info": {
   "codemirror_mode": {
    "name": "ipython",
    "version": 2
   },
   "file_extension": ".py",
   "mimetype": "text/x-python",
   "name": "python",
   "nbconvert_exporter": "python",
   "pygments_lexer": "ipython2",
   "version": "2.7.6"
  }
 },
 "nbformat": 4,
 "nbformat_minor": 0
}
