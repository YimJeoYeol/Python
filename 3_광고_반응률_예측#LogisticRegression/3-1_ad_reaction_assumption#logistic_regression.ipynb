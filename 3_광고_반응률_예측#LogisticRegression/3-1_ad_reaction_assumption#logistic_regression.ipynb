{
 "cells": [
  {
   "cell_type": "markdown",
   "metadata": {},
   "source": [
    "# 모듈 및 데이터 로딩"
   ]
  },
  {
   "cell_type": "markdown",
   "source": [
    "모듈을 임포트합니다."
   ],
   "metadata": {
    "collapsed": false
   }
  },
  {
   "cell_type": "code",
   "execution_count": 1,
   "metadata": {
    "ExecuteTime": {
     "start_time": "2023-05-02T03:07:30.925042Z",
     "end_time": "2023-05-02T03:07:30.928192Z"
    }
   },
   "outputs": [],
   "source": [
    "import pandas as pd\n",
    "import numpy as np\n",
    "\n",
    "import matplotlib.pyplot as plt\n",
    "import seaborn as sns"
   ]
  },
  {
   "cell_type": "markdown",
   "source": [
    "데이터를 불러옵니다.\n",
    "데이터베이스에서 직접 불러오는 방법도 알아봅시다."
   ],
   "metadata": {
    "collapsed": false
   }
  },
  {
   "cell_type": "code",
   "execution_count": 2,
   "metadata": {
    "ExecuteTime": {
     "start_time": "2023-05-02T03:07:33.381871Z",
     "end_time": "2023-05-02T03:07:33.413183Z"
    }
   },
   "outputs": [],
   "source": [
    "data = pd.read_csv('advertising.csv')"
   ]
  },
  {
   "cell_type": "markdown",
   "metadata": {},
   "source": [
    "# 데이터 특성 확인하기"
   ]
  },
  {
   "cell_type": "markdown",
   "source": [
    "데이터의 형태를 알아봅시다."
   ],
   "metadata": {
    "collapsed": false
   }
  },
  {
   "cell_type": "code",
   "execution_count": 3,
   "metadata": {
    "ExecuteTime": {
     "start_time": "2023-05-02T03:07:38.149543Z",
     "end_time": "2023-05-02T03:07:38.180116Z"
    }
   },
   "outputs": [
    {
     "data": {
      "text/plain": "     Daily Time Spent on Site   Age  Area Income  Daily Internet Usage   \n0                       68.95   NaN     61833.90                256.09  \\\n1                       80.23  31.0     68441.85                193.77   \n2                       69.47  26.0     59785.94                236.50   \n3                       74.15  29.0     54806.18                245.89   \n4                       68.37  35.0     73889.99                225.58   \n..                        ...   ...          ...                   ...   \n995                     72.97  30.0     71384.57                208.58   \n996                     51.30  45.0     67782.17                134.42   \n997                     51.63  51.0     42415.72                120.37   \n998                     55.55  19.0     41920.79                187.95   \n999                     45.01  26.0     29875.80                178.35   \n\n                             Ad Topic Line            City  Male   \n0       Cloned 5thgeneration orchestration     Wrightburgh     0  \\\n1       Monitored national standardization       West Jodi     1   \n2         Organic bottom-line service-desk        Davidton     0   \n3    Triple-buffered reciprocal time-frame  West Terrifurt     1   \n4            Robust logistical utilization    South Manuel     0   \n..                                     ...             ...   ...   \n995          Fundamental modular algorithm       Duffystad     1   \n996        Grass-roots cohesive monitoring     New Darlene     1   \n997           Expanded intangible solution   South Jessica     1   \n998   Proactive bandwidth-monitored policy     West Steven     0   \n999        Virtual 5thgeneration emulation     Ronniemouth     0   \n\n                    Country        Timestamp  Clicked on Ad  \n0                   Tunisia   3/27/2016 0:53              0  \n1                     Nauru    4/4/2016 1:39              0  \n2                San Marino  3/13/2016 20:35              0  \n3                     Italy   1/10/2016 2:31              0  \n4                   Iceland    6/3/2016 3:36              0  \n..                      ...              ...            ...  \n995                 Lebanon  2/11/2016 21:49              1  \n996  Bosnia and Herzegovina   4/22/2016 2:07              1  \n997                Mongolia   2/1/2016 17:24              1  \n998               Guatemala   3/24/2016 2:35              0  \n999                  Brazil   6/3/2016 21:43              1  \n\n[1000 rows x 10 columns]",
      "text/html": "<div>\n<style scoped>\n    .dataframe tbody tr th:only-of-type {\n        vertical-align: middle;\n    }\n\n    .dataframe tbody tr th {\n        vertical-align: top;\n    }\n\n    .dataframe thead th {\n        text-align: right;\n    }\n</style>\n<table border=\"1\" class=\"dataframe\">\n  <thead>\n    <tr style=\"text-align: right;\">\n      <th></th>\n      <th>Daily Time Spent on Site</th>\n      <th>Age</th>\n      <th>Area Income</th>\n      <th>Daily Internet Usage</th>\n      <th>Ad Topic Line</th>\n      <th>City</th>\n      <th>Male</th>\n      <th>Country</th>\n      <th>Timestamp</th>\n      <th>Clicked on Ad</th>\n    </tr>\n  </thead>\n  <tbody>\n    <tr>\n      <th>0</th>\n      <td>68.95</td>\n      <td>NaN</td>\n      <td>61833.90</td>\n      <td>256.09</td>\n      <td>Cloned 5thgeneration orchestration</td>\n      <td>Wrightburgh</td>\n      <td>0</td>\n      <td>Tunisia</td>\n      <td>3/27/2016 0:53</td>\n      <td>0</td>\n    </tr>\n    <tr>\n      <th>1</th>\n      <td>80.23</td>\n      <td>31.0</td>\n      <td>68441.85</td>\n      <td>193.77</td>\n      <td>Monitored national standardization</td>\n      <td>West Jodi</td>\n      <td>1</td>\n      <td>Nauru</td>\n      <td>4/4/2016 1:39</td>\n      <td>0</td>\n    </tr>\n    <tr>\n      <th>2</th>\n      <td>69.47</td>\n      <td>26.0</td>\n      <td>59785.94</td>\n      <td>236.50</td>\n      <td>Organic bottom-line service-desk</td>\n      <td>Davidton</td>\n      <td>0</td>\n      <td>San Marino</td>\n      <td>3/13/2016 20:35</td>\n      <td>0</td>\n    </tr>\n    <tr>\n      <th>3</th>\n      <td>74.15</td>\n      <td>29.0</td>\n      <td>54806.18</td>\n      <td>245.89</td>\n      <td>Triple-buffered reciprocal time-frame</td>\n      <td>West Terrifurt</td>\n      <td>1</td>\n      <td>Italy</td>\n      <td>1/10/2016 2:31</td>\n      <td>0</td>\n    </tr>\n    <tr>\n      <th>4</th>\n      <td>68.37</td>\n      <td>35.0</td>\n      <td>73889.99</td>\n      <td>225.58</td>\n      <td>Robust logistical utilization</td>\n      <td>South Manuel</td>\n      <td>0</td>\n      <td>Iceland</td>\n      <td>6/3/2016 3:36</td>\n      <td>0</td>\n    </tr>\n    <tr>\n      <th>...</th>\n      <td>...</td>\n      <td>...</td>\n      <td>...</td>\n      <td>...</td>\n      <td>...</td>\n      <td>...</td>\n      <td>...</td>\n      <td>...</td>\n      <td>...</td>\n      <td>...</td>\n    </tr>\n    <tr>\n      <th>995</th>\n      <td>72.97</td>\n      <td>30.0</td>\n      <td>71384.57</td>\n      <td>208.58</td>\n      <td>Fundamental modular algorithm</td>\n      <td>Duffystad</td>\n      <td>1</td>\n      <td>Lebanon</td>\n      <td>2/11/2016 21:49</td>\n      <td>1</td>\n    </tr>\n    <tr>\n      <th>996</th>\n      <td>51.30</td>\n      <td>45.0</td>\n      <td>67782.17</td>\n      <td>134.42</td>\n      <td>Grass-roots cohesive monitoring</td>\n      <td>New Darlene</td>\n      <td>1</td>\n      <td>Bosnia and Herzegovina</td>\n      <td>4/22/2016 2:07</td>\n      <td>1</td>\n    </tr>\n    <tr>\n      <th>997</th>\n      <td>51.63</td>\n      <td>51.0</td>\n      <td>42415.72</td>\n      <td>120.37</td>\n      <td>Expanded intangible solution</td>\n      <td>South Jessica</td>\n      <td>1</td>\n      <td>Mongolia</td>\n      <td>2/1/2016 17:24</td>\n      <td>1</td>\n    </tr>\n    <tr>\n      <th>998</th>\n      <td>55.55</td>\n      <td>19.0</td>\n      <td>41920.79</td>\n      <td>187.95</td>\n      <td>Proactive bandwidth-monitored policy</td>\n      <td>West Steven</td>\n      <td>0</td>\n      <td>Guatemala</td>\n      <td>3/24/2016 2:35</td>\n      <td>0</td>\n    </tr>\n    <tr>\n      <th>999</th>\n      <td>45.01</td>\n      <td>26.0</td>\n      <td>29875.80</td>\n      <td>178.35</td>\n      <td>Virtual 5thgeneration emulation</td>\n      <td>Ronniemouth</td>\n      <td>0</td>\n      <td>Brazil</td>\n      <td>6/3/2016 21:43</td>\n      <td>1</td>\n    </tr>\n  </tbody>\n</table>\n<p>1000 rows × 10 columns</p>\n</div>"
     },
     "execution_count": 3,
     "metadata": {},
     "output_type": "execute_result"
    }
   ],
   "source": [
    "data"
   ]
  },
  {
   "cell_type": "markdown",
   "source": [
    "데이터의 시작부분 10개의 행을 확인해봅시다."
   ],
   "metadata": {
    "collapsed": false
   }
  },
  {
   "cell_type": "code",
   "execution_count": 4,
   "metadata": {
    "ExecuteTime": {
     "start_time": "2023-05-02T03:07:42.619071Z",
     "end_time": "2023-05-02T03:07:42.625294Z"
    }
   },
   "outputs": [
    {
     "data": {
      "text/plain": "   Daily Time Spent on Site   Age  Area Income  Daily Internet Usage   \n0                     68.95   NaN     61833.90                256.09  \\\n1                     80.23  31.0     68441.85                193.77   \n2                     69.47  26.0     59785.94                236.50   \n3                     74.15  29.0     54806.18                245.89   \n4                     68.37  35.0     73889.99                225.58   \n5                     59.99  23.0     59761.56                226.74   \n6                     88.91   NaN     53852.85                208.36   \n7                     66.00  48.0     24593.33                131.76   \n8                     74.53  30.0     68862.00                221.51   \n9                     69.88  20.0     55642.32                183.82   \n\n                           Ad Topic Line              City  Male     Country   \n0     Cloned 5thgeneration orchestration       Wrightburgh     0     Tunisia  \\\n1     Monitored national standardization         West Jodi     1       Nauru   \n2       Organic bottom-line service-desk          Davidton     0  San Marino   \n3  Triple-buffered reciprocal time-frame    West Terrifurt     1       Italy   \n4          Robust logistical utilization      South Manuel     0     Iceland   \n5        Sharable client-driven software         Jamieberg     1      Norway   \n6             Enhanced dedicated support       Brandonstad     0     Myanmar   \n7               Reactive local challenge  Port Jefferybury     1   Australia   \n8         Configurable coherent function        West Colin     1     Grenada   \n9     Mandatory homogeneous architecture        Ramirezton     1       Ghana   \n\n         Timestamp  Clicked on Ad  \n0   3/27/2016 0:53              0  \n1    4/4/2016 1:39              0  \n2  3/13/2016 20:35              0  \n3   1/10/2016 2:31              0  \n4    6/3/2016 3:36              0  \n5  5/19/2016 14:30              0  \n6  1/28/2016 20:59              0  \n7    3/7/2016 1:40              1  \n8   4/18/2016 9:33              0  \n9   7/11/2016 1:42              0  ",
      "text/html": "<div>\n<style scoped>\n    .dataframe tbody tr th:only-of-type {\n        vertical-align: middle;\n    }\n\n    .dataframe tbody tr th {\n        vertical-align: top;\n    }\n\n    .dataframe thead th {\n        text-align: right;\n    }\n</style>\n<table border=\"1\" class=\"dataframe\">\n  <thead>\n    <tr style=\"text-align: right;\">\n      <th></th>\n      <th>Daily Time Spent on Site</th>\n      <th>Age</th>\n      <th>Area Income</th>\n      <th>Daily Internet Usage</th>\n      <th>Ad Topic Line</th>\n      <th>City</th>\n      <th>Male</th>\n      <th>Country</th>\n      <th>Timestamp</th>\n      <th>Clicked on Ad</th>\n    </tr>\n  </thead>\n  <tbody>\n    <tr>\n      <th>0</th>\n      <td>68.95</td>\n      <td>NaN</td>\n      <td>61833.90</td>\n      <td>256.09</td>\n      <td>Cloned 5thgeneration orchestration</td>\n      <td>Wrightburgh</td>\n      <td>0</td>\n      <td>Tunisia</td>\n      <td>3/27/2016 0:53</td>\n      <td>0</td>\n    </tr>\n    <tr>\n      <th>1</th>\n      <td>80.23</td>\n      <td>31.0</td>\n      <td>68441.85</td>\n      <td>193.77</td>\n      <td>Monitored national standardization</td>\n      <td>West Jodi</td>\n      <td>1</td>\n      <td>Nauru</td>\n      <td>4/4/2016 1:39</td>\n      <td>0</td>\n    </tr>\n    <tr>\n      <th>2</th>\n      <td>69.47</td>\n      <td>26.0</td>\n      <td>59785.94</td>\n      <td>236.50</td>\n      <td>Organic bottom-line service-desk</td>\n      <td>Davidton</td>\n      <td>0</td>\n      <td>San Marino</td>\n      <td>3/13/2016 20:35</td>\n      <td>0</td>\n    </tr>\n    <tr>\n      <th>3</th>\n      <td>74.15</td>\n      <td>29.0</td>\n      <td>54806.18</td>\n      <td>245.89</td>\n      <td>Triple-buffered reciprocal time-frame</td>\n      <td>West Terrifurt</td>\n      <td>1</td>\n      <td>Italy</td>\n      <td>1/10/2016 2:31</td>\n      <td>0</td>\n    </tr>\n    <tr>\n      <th>4</th>\n      <td>68.37</td>\n      <td>35.0</td>\n      <td>73889.99</td>\n      <td>225.58</td>\n      <td>Robust logistical utilization</td>\n      <td>South Manuel</td>\n      <td>0</td>\n      <td>Iceland</td>\n      <td>6/3/2016 3:36</td>\n      <td>0</td>\n    </tr>\n    <tr>\n      <th>5</th>\n      <td>59.99</td>\n      <td>23.0</td>\n      <td>59761.56</td>\n      <td>226.74</td>\n      <td>Sharable client-driven software</td>\n      <td>Jamieberg</td>\n      <td>1</td>\n      <td>Norway</td>\n      <td>5/19/2016 14:30</td>\n      <td>0</td>\n    </tr>\n    <tr>\n      <th>6</th>\n      <td>88.91</td>\n      <td>NaN</td>\n      <td>53852.85</td>\n      <td>208.36</td>\n      <td>Enhanced dedicated support</td>\n      <td>Brandonstad</td>\n      <td>0</td>\n      <td>Myanmar</td>\n      <td>1/28/2016 20:59</td>\n      <td>0</td>\n    </tr>\n    <tr>\n      <th>7</th>\n      <td>66.00</td>\n      <td>48.0</td>\n      <td>24593.33</td>\n      <td>131.76</td>\n      <td>Reactive local challenge</td>\n      <td>Port Jefferybury</td>\n      <td>1</td>\n      <td>Australia</td>\n      <td>3/7/2016 1:40</td>\n      <td>1</td>\n    </tr>\n    <tr>\n      <th>8</th>\n      <td>74.53</td>\n      <td>30.0</td>\n      <td>68862.00</td>\n      <td>221.51</td>\n      <td>Configurable coherent function</td>\n      <td>West Colin</td>\n      <td>1</td>\n      <td>Grenada</td>\n      <td>4/18/2016 9:33</td>\n      <td>0</td>\n    </tr>\n    <tr>\n      <th>9</th>\n      <td>69.88</td>\n      <td>20.0</td>\n      <td>55642.32</td>\n      <td>183.82</td>\n      <td>Mandatory homogeneous architecture</td>\n      <td>Ramirezton</td>\n      <td>1</td>\n      <td>Ghana</td>\n      <td>7/11/2016 1:42</td>\n      <td>0</td>\n    </tr>\n  </tbody>\n</table>\n</div>"
     },
     "execution_count": 4,
     "metadata": {},
     "output_type": "execute_result"
    }
   ],
   "source": [
    "data.head(10)"
   ]
  },
  {
   "cell_type": "markdown",
   "source": [
    "각 칼럼의 정보를 확인해봅시다."
   ],
   "metadata": {
    "collapsed": false
   }
  },
  {
   "cell_type": "code",
   "execution_count": 5,
   "metadata": {
    "ExecuteTime": {
     "start_time": "2023-05-02T03:07:44.295597Z",
     "end_time": "2023-05-02T03:07:44.327108Z"
    }
   },
   "outputs": [
    {
     "name": "stdout",
     "output_type": "stream",
     "text": [
      "<class 'pandas.core.frame.DataFrame'>\n",
      "RangeIndex: 1000 entries, 0 to 999\n",
      "Data columns (total 10 columns):\n",
      " #   Column                    Non-Null Count  Dtype  \n",
      "---  ------                    --------------  -----  \n",
      " 0   Daily Time Spent on Site  1000 non-null   float64\n",
      " 1   Age                       916 non-null    float64\n",
      " 2   Area Income               1000 non-null   float64\n",
      " 3   Daily Internet Usage      1000 non-null   float64\n",
      " 4   Ad Topic Line             1000 non-null   object \n",
      " 5   City                      1000 non-null   object \n",
      " 6   Male                      1000 non-null   int64  \n",
      " 7   Country                   1000 non-null   object \n",
      " 8   Timestamp                 1000 non-null   object \n",
      " 9   Clicked on Ad             1000 non-null   int64  \n",
      "dtypes: float64(4), int64(2), object(4)\n",
      "memory usage: 78.3+ KB\n"
     ]
    }
   ],
   "source": [
    "data.info()"
   ]
  },
  {
   "cell_type": "markdown",
   "source": [
    "칼럼별 기술통계값을 알아봅니다."
   ],
   "metadata": {
    "collapsed": false
   }
  },
  {
   "cell_type": "code",
   "execution_count": 6,
   "metadata": {
    "ExecuteTime": {
     "start_time": "2023-05-02T03:07:48.439352Z",
     "end_time": "2023-05-02T03:07:48.470877Z"
    }
   },
   "outputs": [
    {
     "data": {
      "text/plain": "       Daily Time Spent on Site         Age   Area Income   \ncount               1000.000000  916.000000   1000.000000  \\\nmean                  65.000200   36.128821  55000.000080   \nstd                   15.853615    9.018548  13414.634022   \nmin                   32.600000   19.000000  13996.500000   \n25%                   51.360000   29.000000  47031.802500   \n50%                   68.215000   35.000000  57012.300000   \n75%                   78.547500   42.000000  65470.635000   \nmax                   91.430000   61.000000  79484.800000   \n\n       Daily Internet Usage         Male  Clicked on Ad  \ncount           1000.000000  1000.000000     1000.00000  \nmean             180.000100     0.481000        0.50000  \nstd               43.902339     0.499889        0.50025  \nmin              104.780000     0.000000        0.00000  \n25%              138.830000     0.000000        0.00000  \n50%              183.130000     0.000000        0.50000  \n75%              218.792500     1.000000        1.00000  \nmax              269.960000     1.000000        1.00000  ",
      "text/html": "<div>\n<style scoped>\n    .dataframe tbody tr th:only-of-type {\n        vertical-align: middle;\n    }\n\n    .dataframe tbody tr th {\n        vertical-align: top;\n    }\n\n    .dataframe thead th {\n        text-align: right;\n    }\n</style>\n<table border=\"1\" class=\"dataframe\">\n  <thead>\n    <tr style=\"text-align: right;\">\n      <th></th>\n      <th>Daily Time Spent on Site</th>\n      <th>Age</th>\n      <th>Area Income</th>\n      <th>Daily Internet Usage</th>\n      <th>Male</th>\n      <th>Clicked on Ad</th>\n    </tr>\n  </thead>\n  <tbody>\n    <tr>\n      <th>count</th>\n      <td>1000.000000</td>\n      <td>916.000000</td>\n      <td>1000.000000</td>\n      <td>1000.000000</td>\n      <td>1000.000000</td>\n      <td>1000.00000</td>\n    </tr>\n    <tr>\n      <th>mean</th>\n      <td>65.000200</td>\n      <td>36.128821</td>\n      <td>55000.000080</td>\n      <td>180.000100</td>\n      <td>0.481000</td>\n      <td>0.50000</td>\n    </tr>\n    <tr>\n      <th>std</th>\n      <td>15.853615</td>\n      <td>9.018548</td>\n      <td>13414.634022</td>\n      <td>43.902339</td>\n      <td>0.499889</td>\n      <td>0.50025</td>\n    </tr>\n    <tr>\n      <th>min</th>\n      <td>32.600000</td>\n      <td>19.000000</td>\n      <td>13996.500000</td>\n      <td>104.780000</td>\n      <td>0.000000</td>\n      <td>0.00000</td>\n    </tr>\n    <tr>\n      <th>25%</th>\n      <td>51.360000</td>\n      <td>29.000000</td>\n      <td>47031.802500</td>\n      <td>138.830000</td>\n      <td>0.000000</td>\n      <td>0.00000</td>\n    </tr>\n    <tr>\n      <th>50%</th>\n      <td>68.215000</td>\n      <td>35.000000</td>\n      <td>57012.300000</td>\n      <td>183.130000</td>\n      <td>0.000000</td>\n      <td>0.50000</td>\n    </tr>\n    <tr>\n      <th>75%</th>\n      <td>78.547500</td>\n      <td>42.000000</td>\n      <td>65470.635000</td>\n      <td>218.792500</td>\n      <td>1.000000</td>\n      <td>1.00000</td>\n    </tr>\n    <tr>\n      <th>max</th>\n      <td>91.430000</td>\n      <td>61.000000</td>\n      <td>79484.800000</td>\n      <td>269.960000</td>\n      <td>1.000000</td>\n      <td>1.00000</td>\n    </tr>\n  </tbody>\n</table>\n</div>"
     },
     "execution_count": 6,
     "metadata": {},
     "output_type": "execute_result"
    }
   ],
   "source": [
    "data.describe()"
   ]
  },
  {
   "cell_type": "code",
   "execution_count": 7,
   "metadata": {},
   "outputs": [
    {
     "data": {
      "text/plain": [
       "<matplotlib.axes._subplots.AxesSubplot at 0x22641f5fdc8>"
      ]
     },
     "execution_count": 7,
     "metadata": {},
     "output_type": "execute_result"
    },
    {
     "data": {
      "image/png": "[encoded data removed]",
      "text/plain": [
       "<Figure size 432x288 with 1 Axes>"
      ]
     },
     "metadata": {
      "needs_background": "light"
     },
     "output_type": "display_data"
    }
   ],
   "source": [
    "sns.distplot(data['Area Income'])"
   ]
  },
  {
   "cell_type": "code",
   "execution_count": 8,
   "metadata": {},
   "outputs": [
    {
     "data": {
      "text/plain": [
       "<matplotlib.axes._subplots.AxesSubplot at 0x2264205d7c8>"
      ]
     },
     "execution_count": 8,
     "metadata": {},
     "output_type": "execute_result"
    },
    {
     "data": {
      "image/png": "[encoded data removed]",
      "text/plain": [
       "<Figure size 432x288 with 1 Axes>"
      ]
     },
     "metadata": {
      "needs_background": "light"
     },
     "output_type": "display_data"
    }
   ],
   "source": [
    "sns.distplot(data['Age'])"
   ]
  },
  {
   "cell_type": "markdown",
   "metadata": {},
   "source": [
    "# 텍스트로 된 컬럼 확인"
   ]
  },
  {
   "cell_type": "code",
   "execution_count": 9,
   "metadata": {},
   "outputs": [
    {
     "data": {
      "text/plain": [
       "237"
      ]
     },
     "execution_count": 9,
     "metadata": {},
     "output_type": "execute_result"
    }
   ],
   "source": [
    "data['Country'].nunique()"
   ]
  },
  {
   "cell_type": "code",
   "execution_count": 10,
   "metadata": {},
   "outputs": [
    {
     "data": {
      "text/plain": [
       "969"
      ]
     },
     "execution_count": 10,
     "metadata": {},
     "output_type": "execute_result"
    }
   ],
   "source": [
    "data['City'].nunique()"
   ]
  },
  {
   "cell_type": "code",
   "execution_count": 11,
   "metadata": {},
   "outputs": [
    {
     "data": {
      "text/plain": [
       "1000"
      ]
     },
     "execution_count": 11,
     "metadata": {},
     "output_type": "execute_result"
    }
   ],
   "source": [
    "data['Ad Topic Line'].nunique()"
   ]
  },
  {
   "cell_type": "markdown",
   "metadata": {},
   "source": [
    "# Missing Value 확인 및 처리"
   ]
  },
  {
   "cell_type": "code",
   "execution_count": 12,
   "metadata": {
    "scrolled": true
   },
   "outputs": [
    {
     "data": {
      "text/plain": [
       "Daily Time Spent on Site    0.000\n",
       "Age                         0.084\n",
       "Area Income                 0.000\n",
       "Daily Internet Usage        0.000\n",
       "Ad Topic Line               0.000\n",
       "City                        0.000\n",
       "Male                        0.000\n",
       "Country                     0.000\n",
       "Timestamp                   0.000\n",
       "Clicked on Ad               0.000\n",
       "dtype: float64"
      ]
     },
     "execution_count": 12,
     "metadata": {},
     "output_type": "execute_result"
    }
   ],
   "source": [
    "data.isna().sum() / len(data)"
   ]
  },
  {
   "cell_type": "code",
   "execution_count": 13,
   "metadata": {
    "scrolled": true
   },
   "outputs": [
    {
     "data": {
      "text/html": [
       "<div>\n",
       "<style scoped>\n",
       "    .dataframe tbody tr th:only-of-type {\n",
       "        vertical-align: middle;\n",
       "    }\n",
       "\n",
       "    .dataframe tbody tr th {\n",
       "        vertical-align: top;\n",
       "    }\n",
       "\n",
       "    .dataframe thead th {\n",
       "        text-align: right;\n",
       "    }\n",
       "</style>\n",
       "<table border=\"1\" class=\"dataframe\">\n",
       "  <thead>\n",
       "    <tr style=\"text-align: right;\">\n",
       "      <th></th>\n",
       "      <th>Daily Time Spent on Site</th>\n",
       "      <th>Age</th>\n",
       "      <th>Area Income</th>\n",
       "      <th>Daily Internet Usage</th>\n",
       "      <th>Ad Topic Line</th>\n",
       "      <th>City</th>\n",
       "      <th>Male</th>\n",
       "      <th>Country</th>\n",
       "      <th>Timestamp</th>\n",
       "      <th>Clicked on Ad</th>\n",
       "    </tr>\n",
       "  </thead>\n",
       "  <tbody>\n",
       "    <tr>\n",
       "      <th>1</th>\n",
       "      <td>80.23</td>\n",
       "      <td>31.0</td>\n",
       "      <td>68441.85</td>\n",
       "      <td>193.77</td>\n",
       "      <td>Monitored national standardization</td>\n",
       "      <td>West Jodi</td>\n",
       "      <td>1</td>\n",
       "      <td>Nauru</td>\n",
       "      <td>4/4/2016 1:39</td>\n",
       "      <td>0</td>\n",
       "    </tr>\n",
       "    <tr>\n",
       "      <th>2</th>\n",
       "      <td>69.47</td>\n",
       "      <td>26.0</td>\n",
       "      <td>59785.94</td>\n",
       "      <td>236.50</td>\n",
       "      <td>Organic bottom-line service-desk</td>\n",
       "      <td>Davidton</td>\n",
       "      <td>0</td>\n",
       "      <td>San Marino</td>\n",
       "      <td>3/13/2016 20:35</td>\n",
       "      <td>0</td>\n",
       "    </tr>\n",
       "    <tr>\n",
       "      <th>3</th>\n",
       "      <td>74.15</td>\n",
       "      <td>29.0</td>\n",
       "      <td>54806.18</td>\n",
       "      <td>245.89</td>\n",
       "      <td>Triple-buffered reciprocal time-frame</td>\n",
       "      <td>West Terrifurt</td>\n",
       "      <td>1</td>\n",
       "      <td>Italy</td>\n",
       "      <td>1/10/2016 2:31</td>\n",
       "      <td>0</td>\n",
       "    </tr>\n",
       "    <tr>\n",
       "      <th>4</th>\n",
       "      <td>68.37</td>\n",
       "      <td>35.0</td>\n",
       "      <td>73889.99</td>\n",
       "      <td>225.58</td>\n",
       "      <td>Robust logistical utilization</td>\n",
       "      <td>South Manuel</td>\n",
       "      <td>0</td>\n",
       "      <td>Iceland</td>\n",
       "      <td>6/3/2016 3:36</td>\n",
       "      <td>0</td>\n",
       "    </tr>\n",
       "    <tr>\n",
       "      <th>5</th>\n",
       "      <td>59.99</td>\n",
       "      <td>23.0</td>\n",
       "      <td>59761.56</td>\n",
       "      <td>226.74</td>\n",
       "      <td>Sharable client-driven software</td>\n",
       "      <td>Jamieberg</td>\n",
       "      <td>1</td>\n",
       "      <td>Norway</td>\n",
       "      <td>5/19/2016 14:30</td>\n",
       "      <td>0</td>\n",
       "    </tr>\n",
       "    <tr>\n",
       "      <th>...</th>\n",
       "      <td>...</td>\n",
       "      <td>...</td>\n",
       "      <td>...</td>\n",
       "      <td>...</td>\n",
       "      <td>...</td>\n",
       "      <td>...</td>\n",
       "      <td>...</td>\n",
       "      <td>...</td>\n",
       "      <td>...</td>\n",
       "      <td>...</td>\n",
       "    </tr>\n",
       "    <tr>\n",
       "      <th>995</th>\n",
       "      <td>72.97</td>\n",
       "      <td>30.0</td>\n",
       "      <td>71384.57</td>\n",
       "      <td>208.58</td>\n",
       "      <td>Fundamental modular algorithm</td>\n",
       "      <td>Duffystad</td>\n",
       "      <td>1</td>\n",
       "      <td>Lebanon</td>\n",
       "      <td>2/11/2016 21:49</td>\n",
       "      <td>1</td>\n",
       "    </tr>\n",
       "    <tr>\n",
       "      <th>996</th>\n",
       "      <td>51.30</td>\n",
       "      <td>45.0</td>\n",
       "      <td>67782.17</td>\n",
       "      <td>134.42</td>\n",
       "      <td>Grass-roots cohesive monitoring</td>\n",
       "      <td>New Darlene</td>\n",
       "      <td>1</td>\n",
       "      <td>Bosnia and Herzegovina</td>\n",
       "      <td>4/22/2016 2:07</td>\n",
       "      <td>1</td>\n",
       "    </tr>\n",
       "    <tr>\n",
       "      <th>997</th>\n",
       "      <td>51.63</td>\n",
       "      <td>51.0</td>\n",
       "      <td>42415.72</td>\n",
       "      <td>120.37</td>\n",
       "      <td>Expanded intangible solution</td>\n",
       "      <td>South Jessica</td>\n",
       "      <td>1</td>\n",
       "      <td>Mongolia</td>\n",
       "      <td>2/1/2016 17:24</td>\n",
       "      <td>1</td>\n",
       "    </tr>\n",
       "    <tr>\n",
       "      <th>998</th>\n",
       "      <td>55.55</td>\n",
       "      <td>19.0</td>\n",
       "      <td>41920.79</td>\n",
       "      <td>187.95</td>\n",
       "      <td>Proactive bandwidth-monitored policy</td>\n",
       "      <td>West Steven</td>\n",
       "      <td>0</td>\n",
       "      <td>Guatemala</td>\n",
       "      <td>3/24/2016 2:35</td>\n",
       "      <td>0</td>\n",
       "    </tr>\n",
       "    <tr>\n",
       "      <th>999</th>\n",
       "      <td>45.01</td>\n",
       "      <td>26.0</td>\n",
       "      <td>29875.80</td>\n",
       "      <td>178.35</td>\n",
       "      <td>Virtual 5thgeneration emulation</td>\n",
       "      <td>Ronniemouth</td>\n",
       "      <td>0</td>\n",
       "      <td>Brazil</td>\n",
       "      <td>6/3/2016 21:43</td>\n",
       "      <td>1</td>\n",
       "    </tr>\n",
       "  </tbody>\n",
       "</table>\n",
       "<p>916 rows × 10 columns</p>\n",
       "</div>"
      ],
      "text/plain": [
       "     Daily Time Spent on Site   Age  Area Income  Daily Internet Usage  \\\n",
       "1                       80.23  31.0     68441.85                193.77   \n",
       "2                       69.47  26.0     59785.94                236.50   \n",
       "3                       74.15  29.0     54806.18                245.89   \n",
       "4                       68.37  35.0     73889.99                225.58   \n",
       "5                       59.99  23.0     59761.56                226.74   \n",
       "..                        ...   ...          ...                   ...   \n",
       "995                     72.97  30.0     71384.57                208.58   \n",
       "996                     51.30  45.0     67782.17                134.42   \n",
       "997                     51.63  51.0     42415.72                120.37   \n",
       "998                     55.55  19.0     41920.79                187.95   \n",
       "999                     45.01  26.0     29875.80                178.35   \n",
       "\n",
       "                             Ad Topic Line            City  Male  \\\n",
       "1       Monitored national standardization       West Jodi     1   \n",
       "2         Organic bottom-line service-desk        Davidton     0   \n",
       "3    Triple-buffered reciprocal time-frame  West Terrifurt     1   \n",
       "4            Robust logistical utilization    South Manuel     0   \n",
       "5          Sharable client-driven software       Jamieberg     1   \n",
       "..                                     ...             ...   ...   \n",
       "995          Fundamental modular algorithm       Duffystad     1   \n",
       "996        Grass-roots cohesive monitoring     New Darlene     1   \n",
       "997           Expanded intangible solution   South Jessica     1   \n",
       "998   Proactive bandwidth-monitored policy     West Steven     0   \n",
       "999        Virtual 5thgeneration emulation     Ronniemouth     0   \n",
       "\n",
       "                    Country        Timestamp  Clicked on Ad  \n",
       "1                     Nauru    4/4/2016 1:39              0  \n",
       "2                San Marino  3/13/2016 20:35              0  \n",
       "3                     Italy   1/10/2016 2:31              0  \n",
       "4                   Iceland    6/3/2016 3:36              0  \n",
       "5                    Norway  5/19/2016 14:30              0  \n",
       "..                      ...              ...            ...  \n",
       "995                 Lebanon  2/11/2016 21:49              1  \n",
       "996  Bosnia and Herzegovina   4/22/2016 2:07              1  \n",
       "997                Mongolia   2/1/2016 17:24              1  \n",
       "998               Guatemala   3/24/2016 2:35              0  \n",
       "999                  Brazil   6/3/2016 21:43              1  \n",
       "\n",
       "[916 rows x 10 columns]"
      ]
     },
     "execution_count": 13,
     "metadata": {},
     "output_type": "execute_result"
    }
   ],
   "source": [
    "data.dropna()"
   ]
  },
  {
   "cell_type": "code",
   "execution_count": 14,
   "metadata": {
    "scrolled": true
   },
   "outputs": [
    {
     "data": {
      "text/html": [
       "<div>\n",
       "<style scoped>\n",
       "    .dataframe tbody tr th:only-of-type {\n",
       "        vertical-align: middle;\n",
       "    }\n",
       "\n",
       "    .dataframe tbody tr th {\n",
       "        vertical-align: top;\n",
       "    }\n",
       "\n",
       "    .dataframe thead th {\n",
       "        text-align: right;\n",
       "    }\n",
       "</style>\n",
       "<table border=\"1\" class=\"dataframe\">\n",
       "  <thead>\n",
       "    <tr style=\"text-align: right;\">\n",
       "      <th></th>\n",
       "      <th>Daily Time Spent on Site</th>\n",
       "      <th>Area Income</th>\n",
       "      <th>Daily Internet Usage</th>\n",
       "      <th>Ad Topic Line</th>\n",
       "      <th>City</th>\n",
       "      <th>Male</th>\n",
       "      <th>Country</th>\n",
       "      <th>Timestamp</th>\n",
       "      <th>Clicked on Ad</th>\n",
       "    </tr>\n",
       "  </thead>\n",
       "  <tbody>\n",
       "    <tr>\n",
       "      <th>0</th>\n",
       "      <td>68.95</td>\n",
       "      <td>61833.90</td>\n",
       "      <td>256.09</td>\n",
       "      <td>Cloned 5thgeneration orchestration</td>\n",
       "      <td>Wrightburgh</td>\n",
       "      <td>0</td>\n",
       "      <td>Tunisia</td>\n",
       "      <td>3/27/2016 0:53</td>\n",
       "      <td>0</td>\n",
       "    </tr>\n",
       "    <tr>\n",
       "      <th>1</th>\n",
       "      <td>80.23</td>\n",
       "      <td>68441.85</td>\n",
       "      <td>193.77</td>\n",
       "      <td>Monitored national standardization</td>\n",
       "      <td>West Jodi</td>\n",
       "      <td>1</td>\n",
       "      <td>Nauru</td>\n",
       "      <td>4/4/2016 1:39</td>\n",
       "      <td>0</td>\n",
       "    </tr>\n",
       "    <tr>\n",
       "      <th>2</th>\n",
       "      <td>69.47</td>\n",
       "      <td>59785.94</td>\n",
       "      <td>236.50</td>\n",
       "      <td>Organic bottom-line service-desk</td>\n",
       "      <td>Davidton</td>\n",
       "      <td>0</td>\n",
       "      <td>San Marino</td>\n",
       "      <td>3/13/2016 20:35</td>\n",
       "      <td>0</td>\n",
       "    </tr>\n",
       "    <tr>\n",
       "      <th>3</th>\n",
       "      <td>74.15</td>\n",
       "      <td>54806.18</td>\n",
       "      <td>245.89</td>\n",
       "      <td>Triple-buffered reciprocal time-frame</td>\n",
       "      <td>West Terrifurt</td>\n",
       "      <td>1</td>\n",
       "      <td>Italy</td>\n",
       "      <td>1/10/2016 2:31</td>\n",
       "      <td>0</td>\n",
       "    </tr>\n",
       "    <tr>\n",
       "      <th>4</th>\n",
       "      <td>68.37</td>\n",
       "      <td>73889.99</td>\n",
       "      <td>225.58</td>\n",
       "      <td>Robust logistical utilization</td>\n",
       "      <td>South Manuel</td>\n",
       "      <td>0</td>\n",
       "      <td>Iceland</td>\n",
       "      <td>6/3/2016 3:36</td>\n",
       "      <td>0</td>\n",
       "    </tr>\n",
       "    <tr>\n",
       "      <th>...</th>\n",
       "      <td>...</td>\n",
       "      <td>...</td>\n",
       "      <td>...</td>\n",
       "      <td>...</td>\n",
       "      <td>...</td>\n",
       "      <td>...</td>\n",
       "      <td>...</td>\n",
       "      <td>...</td>\n",
       "      <td>...</td>\n",
       "    </tr>\n",
       "    <tr>\n",
       "      <th>995</th>\n",
       "      <td>72.97</td>\n",
       "      <td>71384.57</td>\n",
       "      <td>208.58</td>\n",
       "      <td>Fundamental modular algorithm</td>\n",
       "      <td>Duffystad</td>\n",
       "      <td>1</td>\n",
       "      <td>Lebanon</td>\n",
       "      <td>2/11/2016 21:49</td>\n",
       "      <td>1</td>\n",
       "    </tr>\n",
       "    <tr>\n",
       "      <th>996</th>\n",
       "      <td>51.30</td>\n",
       "      <td>67782.17</td>\n",
       "      <td>134.42</td>\n",
       "      <td>Grass-roots cohesive monitoring</td>\n",
       "      <td>New Darlene</td>\n",
       "      <td>1</td>\n",
       "      <td>Bosnia and Herzegovina</td>\n",
       "      <td>4/22/2016 2:07</td>\n",
       "      <td>1</td>\n",
       "    </tr>\n",
       "    <tr>\n",
       "      <th>997</th>\n",
       "      <td>51.63</td>\n",
       "      <td>42415.72</td>\n",
       "      <td>120.37</td>\n",
       "      <td>Expanded intangible solution</td>\n",
       "      <td>South Jessica</td>\n",
       "      <td>1</td>\n",
       "      <td>Mongolia</td>\n",
       "      <td>2/1/2016 17:24</td>\n",
       "      <td>1</td>\n",
       "    </tr>\n",
       "    <tr>\n",
       "      <th>998</th>\n",
       "      <td>55.55</td>\n",
       "      <td>41920.79</td>\n",
       "      <td>187.95</td>\n",
       "      <td>Proactive bandwidth-monitored policy</td>\n",
       "      <td>West Steven</td>\n",
       "      <td>0</td>\n",
       "      <td>Guatemala</td>\n",
       "      <td>3/24/2016 2:35</td>\n",
       "      <td>0</td>\n",
       "    </tr>\n",
       "    <tr>\n",
       "      <th>999</th>\n",
       "      <td>45.01</td>\n",
       "      <td>29875.80</td>\n",
       "      <td>178.35</td>\n",
       "      <td>Virtual 5thgeneration emulation</td>\n",
       "      <td>Ronniemouth</td>\n",
       "      <td>0</td>\n",
       "      <td>Brazil</td>\n",
       "      <td>6/3/2016 21:43</td>\n",
       "      <td>1</td>\n",
       "    </tr>\n",
       "  </tbody>\n",
       "</table>\n",
       "<p>1000 rows × 9 columns</p>\n",
       "</div>"
      ],
      "text/plain": [
       "     Daily Time Spent on Site  Area Income  Daily Internet Usage  \\\n",
       "0                       68.95     61833.90                256.09   \n",
       "1                       80.23     68441.85                193.77   \n",
       "2                       69.47     59785.94                236.50   \n",
       "3                       74.15     54806.18                245.89   \n",
       "4                       68.37     73889.99                225.58   \n",
       "..                        ...          ...                   ...   \n",
       "995                     72.97     71384.57                208.58   \n",
       "996                     51.30     67782.17                134.42   \n",
       "997                     51.63     42415.72                120.37   \n",
       "998                     55.55     41920.79                187.95   \n",
       "999                     45.01     29875.80                178.35   \n",
       "\n",
       "                             Ad Topic Line            City  Male  \\\n",
       "0       Cloned 5thgeneration orchestration     Wrightburgh     0   \n",
       "1       Monitored national standardization       West Jodi     1   \n",
       "2         Organic bottom-line service-desk        Davidton     0   \n",
       "3    Triple-buffered reciprocal time-frame  West Terrifurt     1   \n",
       "4            Robust logistical utilization    South Manuel     0   \n",
       "..                                     ...             ...   ...   \n",
       "995          Fundamental modular algorithm       Duffystad     1   \n",
       "996        Grass-roots cohesive monitoring     New Darlene     1   \n",
       "997           Expanded intangible solution   South Jessica     1   \n",
       "998   Proactive bandwidth-monitored policy     West Steven     0   \n",
       "999        Virtual 5thgeneration emulation     Ronniemouth     0   \n",
       "\n",
       "                    Country        Timestamp  Clicked on Ad  \n",
       "0                   Tunisia   3/27/2016 0:53              0  \n",
       "1                     Nauru    4/4/2016 1:39              0  \n",
       "2                San Marino  3/13/2016 20:35              0  \n",
       "3                     Italy   1/10/2016 2:31              0  \n",
       "4                   Iceland    6/3/2016 3:36              0  \n",
       "..                      ...              ...            ...  \n",
       "995                 Lebanon  2/11/2016 21:49              1  \n",
       "996  Bosnia and Herzegovina   4/22/2016 2:07              1  \n",
       "997                Mongolia   2/1/2016 17:24              1  \n",
       "998               Guatemala   3/24/2016 2:35              0  \n",
       "999                  Brazil   6/3/2016 21:43              1  \n",
       "\n",
       "[1000 rows x 9 columns]"
      ]
     },
     "execution_count": 14,
     "metadata": {},
     "output_type": "execute_result"
    }
   ],
   "source": [
    "data.drop('Age', axis=1)"
   ]
  },
  {
   "cell_type": "code",
   "execution_count": 15,
   "metadata": {},
   "outputs": [
    {
     "data": {
      "text/plain": [
       "36"
      ]
     },
     "execution_count": 15,
     "metadata": {},
     "output_type": "execute_result"
    }
   ],
   "source": [
    "round(data['Age'].mean())"
   ]
  },
  {
   "cell_type": "code",
   "execution_count": 16,
   "metadata": {},
   "outputs": [
    {
     "data": {
      "text/plain": [
       "35.0"
      ]
     },
     "execution_count": 16,
     "metadata": {},
     "output_type": "execute_result"
    }
   ],
   "source": [
    "data['Age'].median()"
   ]
  },
  {
   "cell_type": "code",
   "execution_count": 17,
   "metadata": {},
   "outputs": [],
   "source": [
    "data = data.fillna(round(data['Age'].mean()))"
   ]
  },
  {
   "cell_type": "code",
   "execution_count": 18,
   "metadata": {},
   "outputs": [
    {
     "data": {
      "text/html": [
       "<div>\n",
       "<style scoped>\n",
       "    .dataframe tbody tr th:only-of-type {\n",
       "        vertical-align: middle;\n",
       "    }\n",
       "\n",
       "    .dataframe tbody tr th {\n",
       "        vertical-align: top;\n",
       "    }\n",
       "\n",
       "    .dataframe thead th {\n",
       "        text-align: right;\n",
       "    }\n",
       "</style>\n",
       "<table border=\"1\" class=\"dataframe\">\n",
       "  <thead>\n",
       "    <tr style=\"text-align: right;\">\n",
       "      <th></th>\n",
       "      <th>Daily Time Spent on Site</th>\n",
       "      <th>Age</th>\n",
       "      <th>Area Income</th>\n",
       "      <th>Daily Internet Usage</th>\n",
       "      <th>Ad Topic Line</th>\n",
       "      <th>City</th>\n",
       "      <th>Male</th>\n",
       "      <th>Country</th>\n",
       "      <th>Timestamp</th>\n",
       "      <th>Clicked on Ad</th>\n",
       "    </tr>\n",
       "  </thead>\n",
       "  <tbody>\n",
       "    <tr>\n",
       "      <th>0</th>\n",
       "      <td>68.95</td>\n",
       "      <td>36.0</td>\n",
       "      <td>61833.90</td>\n",
       "      <td>256.09</td>\n",
       "      <td>Cloned 5thgeneration orchestration</td>\n",
       "      <td>Wrightburgh</td>\n",
       "      <td>0</td>\n",
       "      <td>Tunisia</td>\n",
       "      <td>3/27/2016 0:53</td>\n",
       "      <td>0</td>\n",
       "    </tr>\n",
       "    <tr>\n",
       "      <th>1</th>\n",
       "      <td>80.23</td>\n",
       "      <td>31.0</td>\n",
       "      <td>68441.85</td>\n",
       "      <td>193.77</td>\n",
       "      <td>Monitored national standardization</td>\n",
       "      <td>West Jodi</td>\n",
       "      <td>1</td>\n",
       "      <td>Nauru</td>\n",
       "      <td>4/4/2016 1:39</td>\n",
       "      <td>0</td>\n",
       "    </tr>\n",
       "    <tr>\n",
       "      <th>2</th>\n",
       "      <td>69.47</td>\n",
       "      <td>26.0</td>\n",
       "      <td>59785.94</td>\n",
       "      <td>236.50</td>\n",
       "      <td>Organic bottom-line service-desk</td>\n",
       "      <td>Davidton</td>\n",
       "      <td>0</td>\n",
       "      <td>San Marino</td>\n",
       "      <td>3/13/2016 20:35</td>\n",
       "      <td>0</td>\n",
       "    </tr>\n",
       "    <tr>\n",
       "      <th>3</th>\n",
       "      <td>74.15</td>\n",
       "      <td>29.0</td>\n",
       "      <td>54806.18</td>\n",
       "      <td>245.89</td>\n",
       "      <td>Triple-buffered reciprocal time-frame</td>\n",
       "      <td>West Terrifurt</td>\n",
       "      <td>1</td>\n",
       "      <td>Italy</td>\n",
       "      <td>1/10/2016 2:31</td>\n",
       "      <td>0</td>\n",
       "    </tr>\n",
       "    <tr>\n",
       "      <th>4</th>\n",
       "      <td>68.37</td>\n",
       "      <td>35.0</td>\n",
       "      <td>73889.99</td>\n",
       "      <td>225.58</td>\n",
       "      <td>Robust logistical utilization</td>\n",
       "      <td>South Manuel</td>\n",
       "      <td>0</td>\n",
       "      <td>Iceland</td>\n",
       "      <td>6/3/2016 3:36</td>\n",
       "      <td>0</td>\n",
       "    </tr>\n",
       "    <tr>\n",
       "      <th>...</th>\n",
       "      <td>...</td>\n",
       "      <td>...</td>\n",
       "      <td>...</td>\n",
       "      <td>...</td>\n",
       "      <td>...</td>\n",
       "      <td>...</td>\n",
       "      <td>...</td>\n",
       "      <td>...</td>\n",
       "      <td>...</td>\n",
       "      <td>...</td>\n",
       "    </tr>\n",
       "    <tr>\n",
       "      <th>995</th>\n",
       "      <td>72.97</td>\n",
       "      <td>30.0</td>\n",
       "      <td>71384.57</td>\n",
       "      <td>208.58</td>\n",
       "      <td>Fundamental modular algorithm</td>\n",
       "      <td>Duffystad</td>\n",
       "      <td>1</td>\n",
       "      <td>Lebanon</td>\n",
       "      <td>2/11/2016 21:49</td>\n",
       "      <td>1</td>\n",
       "    </tr>\n",
       "    <tr>\n",
       "      <th>996</th>\n",
       "      <td>51.30</td>\n",
       "      <td>45.0</td>\n",
       "      <td>67782.17</td>\n",
       "      <td>134.42</td>\n",
       "      <td>Grass-roots cohesive monitoring</td>\n",
       "      <td>New Darlene</td>\n",
       "      <td>1</td>\n",
       "      <td>Bosnia and Herzegovina</td>\n",
       "      <td>4/22/2016 2:07</td>\n",
       "      <td>1</td>\n",
       "    </tr>\n",
       "    <tr>\n",
       "      <th>997</th>\n",
       "      <td>51.63</td>\n",
       "      <td>51.0</td>\n",
       "      <td>42415.72</td>\n",
       "      <td>120.37</td>\n",
       "      <td>Expanded intangible solution</td>\n",
       "      <td>South Jessica</td>\n",
       "      <td>1</td>\n",
       "      <td>Mongolia</td>\n",
       "      <td>2/1/2016 17:24</td>\n",
       "      <td>1</td>\n",
       "    </tr>\n",
       "    <tr>\n",
       "      <th>998</th>\n",
       "      <td>55.55</td>\n",
       "      <td>19.0</td>\n",
       "      <td>41920.79</td>\n",
       "      <td>187.95</td>\n",
       "      <td>Proactive bandwidth-monitored policy</td>\n",
       "      <td>West Steven</td>\n",
       "      <td>0</td>\n",
       "      <td>Guatemala</td>\n",
       "      <td>3/24/2016 2:35</td>\n",
       "      <td>0</td>\n",
       "    </tr>\n",
       "    <tr>\n",
       "      <th>999</th>\n",
       "      <td>45.01</td>\n",
       "      <td>26.0</td>\n",
       "      <td>29875.80</td>\n",
       "      <td>178.35</td>\n",
       "      <td>Virtual 5thgeneration emulation</td>\n",
       "      <td>Ronniemouth</td>\n",
       "      <td>0</td>\n",
       "      <td>Brazil</td>\n",
       "      <td>6/3/2016 21:43</td>\n",
       "      <td>1</td>\n",
       "    </tr>\n",
       "  </tbody>\n",
       "</table>\n",
       "<p>1000 rows × 10 columns</p>\n",
       "</div>"
      ],
      "text/plain": [
       "     Daily Time Spent on Site   Age  Area Income  Daily Internet Usage  \\\n",
       "0                       68.95  36.0     61833.90                256.09   \n",
       "1                       80.23  31.0     68441.85                193.77   \n",
       "2                       69.47  26.0     59785.94                236.50   \n",
       "3                       74.15  29.0     54806.18                245.89   \n",
       "4                       68.37  35.0     73889.99                225.58   \n",
       "..                        ...   ...          ...                   ...   \n",
       "995                     72.97  30.0     71384.57                208.58   \n",
       "996                     51.30  45.0     67782.17                134.42   \n",
       "997                     51.63  51.0     42415.72                120.37   \n",
       "998                     55.55  19.0     41920.79                187.95   \n",
       "999                     45.01  26.0     29875.80                178.35   \n",
       "\n",
       "                             Ad Topic Line            City  Male  \\\n",
       "0       Cloned 5thgeneration orchestration     Wrightburgh     0   \n",
       "1       Monitored national standardization       West Jodi     1   \n",
       "2         Organic bottom-line service-desk        Davidton     0   \n",
       "3    Triple-buffered reciprocal time-frame  West Terrifurt     1   \n",
       "4            Robust logistical utilization    South Manuel     0   \n",
       "..                                     ...             ...   ...   \n",
       "995          Fundamental modular algorithm       Duffystad     1   \n",
       "996        Grass-roots cohesive monitoring     New Darlene     1   \n",
       "997           Expanded intangible solution   South Jessica     1   \n",
       "998   Proactive bandwidth-monitored policy     West Steven     0   \n",
       "999        Virtual 5thgeneration emulation     Ronniemouth     0   \n",
       "\n",
       "                    Country        Timestamp  Clicked on Ad  \n",
       "0                   Tunisia   3/27/2016 0:53              0  \n",
       "1                     Nauru    4/4/2016 1:39              0  \n",
       "2                San Marino  3/13/2016 20:35              0  \n",
       "3                     Italy   1/10/2016 2:31              0  \n",
       "4                   Iceland    6/3/2016 3:36              0  \n",
       "..                      ...              ...            ...  \n",
       "995                 Lebanon  2/11/2016 21:49              1  \n",
       "996  Bosnia and Herzegovina   4/22/2016 2:07              1  \n",
       "997                Mongolia   2/1/2016 17:24              1  \n",
       "998               Guatemala   3/24/2016 2:35              0  \n",
       "999                  Brazil   6/3/2016 21:43              1  \n",
       "\n",
       "[1000 rows x 10 columns]"
      ]
     },
     "execution_count": 18,
     "metadata": {},
     "output_type": "execute_result"
    }
   ],
   "source": [
    "data"
   ]
  },
  {
   "cell_type": "code",
   "execution_count": 19,
   "metadata": {},
   "outputs": [
    {
     "data": {
      "text/plain": [
       "Daily Time Spent on Site    0\n",
       "Age                         0\n",
       "Area Income                 0\n",
       "Daily Internet Usage        0\n",
       "Ad Topic Line               0\n",
       "City                        0\n",
       "Male                        0\n",
       "Country                     0\n",
       "Timestamp                   0\n",
       "Clicked on Ad               0\n",
       "dtype: int64"
      ]
     },
     "execution_count": 19,
     "metadata": {},
     "output_type": "execute_result"
    }
   ],
   "source": [
    "data.isna().sum()"
   ]
  },
  {
   "cell_type": "markdown",
   "metadata": {},
   "source": [
    "# Train / Test 나누기"
   ]
  },
  {
   "cell_type": "code",
   "execution_count": 20,
   "metadata": {},
   "outputs": [],
   "source": [
    "from sklearn.model_selection import train_test_split"
   ]
  },
  {
   "cell_type": "code",
   "execution_count": 21,
   "metadata": {},
   "outputs": [],
   "source": [
    "X = data[['Daily Time Spent on Site', 'Age', 'Area Income', 'Daily Internet Usage', 'Male']]\n",
    "y = data['Clicked on Ad']"
   ]
  },
  {
   "cell_type": "code",
   "execution_count": 22,
   "metadata": {},
   "outputs": [],
   "source": [
    "X_train, X_test, y_train, y_test = train_test_split(X, y, test_size=0.2, random_state=100)"
   ]
  },
  {
   "cell_type": "markdown",
   "metadata": {},
   "source": [
    "# 로지스틱 리그레션 모델 만들기"
   ]
  },
  {
   "cell_type": "code",
   "execution_count": 23,
   "metadata": {},
   "outputs": [],
   "source": [
    "from sklearn.linear_model import LogisticRegression"
   ]
  },
  {
   "cell_type": "code",
   "execution_count": 24,
   "metadata": {},
   "outputs": [],
   "source": [
    "model = LogisticRegression()"
   ]
  },
  {
   "cell_type": "code",
   "execution_count": 25,
   "metadata": {},
   "outputs": [
    {
     "data": {
      "text/plain": [
       "LogisticRegression()"
      ]
     },
     "execution_count": 25,
     "metadata": {},
     "output_type": "execute_result"
    }
   ],
   "source": [
    "model.fit(X_train, y_train)"
   ]
  },
  {
   "cell_type": "code",
   "execution_count": 26,
   "metadata": {},
   "outputs": [
    {
     "data": {
      "text/plain": [
       "array([[-6.64737762e-02,  2.66015818e-01, -1.15501902e-05,\n",
       "        -2.44285539e-02,  2.00758165e-03]])"
      ]
     },
     "execution_count": 26,
     "metadata": {},
     "output_type": "execute_result"
    }
   ],
   "source": [
    "# Coefficient 확인\n",
    "model.coef_"
   ]
  },
  {
   "cell_type": "markdown",
   "metadata": {},
   "source": [
    "# 예측 및 평가"
   ]
  },
  {
   "cell_type": "code",
   "execution_count": 27,
   "metadata": {},
   "outputs": [],
   "source": [
    "pred = model.predict(X_test)"
   ]
  },
  {
   "cell_type": "code",
   "execution_count": 28,
   "metadata": {},
   "outputs": [
    {
     "data": {
      "text/plain": [
       "249    1\n",
       "353    0\n",
       "537    0\n",
       "424    1\n",
       "564    1\n",
       "      ..\n",
       "684    1\n",
       "644    0\n",
       "110    1\n",
       "28     1\n",
       "804    1\n",
       "Name: Clicked on Ad, Length: 200, dtype: int64"
      ]
     },
     "execution_count": 28,
     "metadata": {},
     "output_type": "execute_result"
    }
   ],
   "source": [
    "y_test"
   ]
  },
  {
   "cell_type": "code",
   "execution_count": 29,
   "metadata": {},
   "outputs": [],
   "source": [
    "from sklearn.metrics import accuracy_score, confusion_matrix"
   ]
  },
  {
   "cell_type": "code",
   "execution_count": 30,
   "metadata": {},
   "outputs": [
    {
     "data": {
      "text/plain": [
       "0.9"
      ]
     },
     "execution_count": 30,
     "metadata": {},
     "output_type": "execute_result"
    }
   ],
   "source": [
    "accuracy_score(y_test, pred)"
   ]
  },
  {
   "cell_type": "code",
   "execution_count": 31,
   "metadata": {},
   "outputs": [
    {
     "data": {
      "text/plain": [
       "array([[92,  8],\n",
       "       [12, 88]], dtype=int64)"
      ]
     },
     "execution_count": 31,
     "metadata": {},
     "output_type": "execute_result"
    }
   ],
   "source": [
    "confusion_matrix(y_test, pred)"
   ]
  }
 ],
 "metadata": {
  "kernelspec": {
   "display_name": "Python 3",
   "language": "python",
   "name": "python3"
  },
  "language_info": {
   "codemirror_mode": {
    "name": "ipython",
    "version": 3
   },
   "file_extension": ".py",
   "mimetype": "text/x-python",
   "name": "python",
   "nbconvert_exporter": "python",
   "pygments_lexer": "ipython3",
   "version": "3.7.6"
  }
 },
 "nbformat": 4,
 "nbformat_minor": 4
}
