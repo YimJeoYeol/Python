{
 "cells": [
  {
   "cell_type": "markdown",
   "source": [
    "md# 데이터 취득\n",
    "# 문자는 숫자로 또는 카테고리로(male).\n",
    "## 주소 -> 지역별 수입평균값.\n",
    "\n",
    "# EDA, (df.describe(), df.info(), df.isna())\n",
    "## 기술통계값이 파악이 되면!?\n",
    "## 시각화! (histogram -> sns.displot(df[\"col\"])\n",
    "\n",
    "# 결측치 제거? 또는 특정 값으로 채우기.\n",
    "## 최빈값, 0, 평균, 중앙값, NaN이 있는 행 버리기.\n",
    "## 방법은 다양하다.\n",
    "\n",
    "# 모델선정\n",
    "\n",
    "## 회귀(연속된 값) -> 선형회귀\n",
    "\n",
    "## 이진분류binary classification(강아지냐 고양이냐? 클릭할거냐 말거냐?)\n",
    "### 로지스틱 회귀 logistic regression\n",
    "### 의사결정나무decision tree, 랜덤포레스트random forest\n",
    "### ...\n",
    "\n",
    "# 모델 결정\n",
    "model = LogisticRegression()\n",
    "\n",
    "# 훈련(학습)데이터와 테스트데이터 분류\n",
    "X_t, X_test, y_t, y_test = train_test_split(X, y, test_size=0.1)\n",
    "\n",
    "# 학습(훈련)시킴\n",
    "model.fit(X_train, y_train)\n",
    "\n",
    "model.coef_\n",
    "\n",
    "pred = model.predict(X_test)\n",
    "\n",
    "from sklearn.metrics import accuracy_score, confusion_matrix\n",
    "\n",
    "0.901\n",
    "\n",
    "CONFUSION_MATRIX\n",
    "      0    1\n",
    "  0  180  10\n",
    "  1  30  180\n",
    "\n",
    "##  모델 평가는 테스트데이터로만 함.\n",
    "\n",
    "\n",
    "\n"
   ],
   "metadata": {
    "collapsed": false
   }
  },
  {
   "cell_type": "markdown",
   "metadata": {},
   "source": [
    ",# 모듈 및 데이터 로딩"
   ]
  },
  {
   "cell_type": "markdown",
   "source": [
    "모듈을 임포트합니다."
   ],
   "metadata": {
    "collapsed": false
   }
  },
  {
   "cell_type": "code",
   "execution_count": 2,
   "metadata": {
    "ExecuteTime": {
     "start_time": "2023-05-04T15:23:40.884945Z",
     "end_time": "2023-05-04T15:23:40.900579Z"
    }
   },
   "outputs": [],
   "source": [
    "import pandas as pd\n",
    "import numpy as np\n",
    "\n",
    "import matplotlib.pyplot as plt\n",
    "import seaborn as sns"
   ]
  },
  {
   "cell_type": "markdown",
   "source": [
    "데이터를 불러옵니다.\n",
    "데이터베이스에서 직접 불러오는 방법도 알아봅시다."
   ],
   "metadata": {
    "collapsed": false
   }
  },
  {
   "cell_type": "markdown",
   "source": [],
   "metadata": {
    "collapsed": false
   }
  },
  {
   "cell_type": "code",
   "execution_count": 9,
   "metadata": {
    "ExecuteTime": {
     "start_time": "2023-05-04T15:23:59.016148Z",
     "end_time": "2023-05-04T15:23:59.094294Z"
    }
   },
   "outputs": [],
   "source": [
    "data = pd.read_csv('advertising.csv')"
   ]
  },
  {
   "cell_type": "code",
   "execution_count": 10,
   "outputs": [
    {
     "data": {
      "text/plain": "France                                                 9\nCzech Republic                                         9\nPeru                                                   8\nTurkey                                                 8\nGreece                                                 8\n                                                      ..\nRomania                                                1\nBritish Indian Ocean Territory (Chagos Archipelago)    1\nGermany                                                1\nAruba                                                  1\nLesotho                                                1\nName: Country, Length: 237, dtype: int64"
     },
     "execution_count": 10,
     "metadata": {},
     "output_type": "execute_result"
    }
   ],
   "source": [
    "\n",
    "data[\"Country\"].value_counts()"
   ],
   "metadata": {
    "collapsed": false,
    "ExecuteTime": {
     "start_time": "2023-05-04T15:24:03.319216Z",
     "end_time": "2023-05-04T15:24:03.366149Z"
    }
   }
  },
  {
   "cell_type": "markdown",
   "metadata": {},
   "source": [
    "# 데이터 특성 확인하기"
   ]
  },
  {
   "cell_type": "markdown",
   "source": [
    "데이터의 형태를 알아봅시다."
   ],
   "metadata": {
    "collapsed": false
   }
  },
  {
   "cell_type": "code",
   "execution_count": 11,
   "metadata": {
    "ExecuteTime": {
     "start_time": "2023-05-04T15:24:06.677031Z",
     "end_time": "2023-05-04T15:24:06.739638Z"
    }
   },
   "outputs": [
    {
     "data": {
      "text/plain": "     Daily Time Spent on Site   Age  Area Income  Daily Internet Usage  \\\n0                       68.95   NaN     61833.90                256.09   \n1                       80.23  31.0     68441.85                193.77   \n2                       69.47  26.0     59785.94                236.50   \n3                       74.15  29.0     54806.18                245.89   \n4                       68.37  35.0     73889.99                225.58   \n..                        ...   ...          ...                   ...   \n995                     72.97  30.0     71384.57                208.58   \n996                     51.30  45.0     67782.17                134.42   \n997                     51.63  51.0     42415.72                120.37   \n998                     55.55  19.0     41920.79                187.95   \n999                     45.01  26.0     29875.80                178.35   \n\n                             Ad Topic Line            City  Male  \\\n0       Cloned 5thgeneration orchestration     Wrightburgh     0   \n1       Monitored national standardization       West Jodi     1   \n2         Organic bottom-line service-desk        Davidton     0   \n3    Triple-buffered reciprocal time-frame  West Terrifurt     1   \n4            Robust logistical utilization    South Manuel     0   \n..                                     ...             ...   ...   \n995          Fundamental modular algorithm       Duffystad     1   \n996        Grass-roots cohesive monitoring     New Darlene     1   \n997           Expanded intangible solution   South Jessica     1   \n998   Proactive bandwidth-monitored policy     West Steven     0   \n999        Virtual 5thgeneration emulation     Ronniemouth     0   \n\n                    Country        Timestamp  Clicked on Ad  \n0                   Tunisia   3/27/2016 0:53              0  \n1                     Nauru    4/4/2016 1:39              0  \n2                San Marino  3/13/2016 20:35              0  \n3                     Italy   1/10/2016 2:31              0  \n4                   Iceland    6/3/2016 3:36              0  \n..                      ...              ...            ...  \n995                 Lebanon  2/11/2016 21:49              1  \n996  Bosnia and Herzegovina   4/22/2016 2:07              1  \n997                Mongolia   2/1/2016 17:24              1  \n998               Guatemala   3/24/2016 2:35              0  \n999                  Brazil   6/3/2016 21:43              1  \n\n[1000 rows x 10 columns]",
      "text/html": "<div>\n<style scoped>\n    .dataframe tbody tr th:only-of-type {\n        vertical-align: middle;\n    }\n\n    .dataframe tbody tr th {\n        vertical-align: top;\n    }\n\n    .dataframe thead th {\n        text-align: right;\n    }\n</style>\n<table border=\"1\" class=\"dataframe\">\n  <thead>\n    <tr style=\"text-align: right;\">\n      <th></th>\n      <th>Daily Time Spent on Site</th>\n      <th>Age</th>\n      <th>Area Income</th>\n      <th>Daily Internet Usage</th>\n      <th>Ad Topic Line</th>\n      <th>City</th>\n      <th>Male</th>\n      <th>Country</th>\n      <th>Timestamp</th>\n      <th>Clicked on Ad</th>\n    </tr>\n  </thead>\n  <tbody>\n    <tr>\n      <th>0</th>\n      <td>68.95</td>\n      <td>NaN</td>\n      <td>61833.90</td>\n      <td>256.09</td>\n      <td>Cloned 5thgeneration orchestration</td>\n      <td>Wrightburgh</td>\n      <td>0</td>\n      <td>Tunisia</td>\n      <td>3/27/2016 0:53</td>\n      <td>0</td>\n    </tr>\n    <tr>\n      <th>1</th>\n      <td>80.23</td>\n      <td>31.0</td>\n      <td>68441.85</td>\n      <td>193.77</td>\n      <td>Monitored national standardization</td>\n      <td>West Jodi</td>\n      <td>1</td>\n      <td>Nauru</td>\n      <td>4/4/2016 1:39</td>\n      <td>0</td>\n    </tr>\n    <tr>\n      <th>2</th>\n      <td>69.47</td>\n      <td>26.0</td>\n      <td>59785.94</td>\n      <td>236.50</td>\n      <td>Organic bottom-line service-desk</td>\n      <td>Davidton</td>\n      <td>0</td>\n      <td>San Marino</td>\n      <td>3/13/2016 20:35</td>\n      <td>0</td>\n    </tr>\n    <tr>\n      <th>3</th>\n      <td>74.15</td>\n      <td>29.0</td>\n      <td>54806.18</td>\n      <td>245.89</td>\n      <td>Triple-buffered reciprocal time-frame</td>\n      <td>West Terrifurt</td>\n      <td>1</td>\n      <td>Italy</td>\n      <td>1/10/2016 2:31</td>\n      <td>0</td>\n    </tr>\n    <tr>\n      <th>4</th>\n      <td>68.37</td>\n      <td>35.0</td>\n      <td>73889.99</td>\n      <td>225.58</td>\n      <td>Robust logistical utilization</td>\n      <td>South Manuel</td>\n      <td>0</td>\n      <td>Iceland</td>\n      <td>6/3/2016 3:36</td>\n      <td>0</td>\n    </tr>\n    <tr>\n      <th>...</th>\n      <td>...</td>\n      <td>...</td>\n      <td>...</td>\n      <td>...</td>\n      <td>...</td>\n      <td>...</td>\n      <td>...</td>\n      <td>...</td>\n      <td>...</td>\n      <td>...</td>\n    </tr>\n    <tr>\n      <th>995</th>\n      <td>72.97</td>\n      <td>30.0</td>\n      <td>71384.57</td>\n      <td>208.58</td>\n      <td>Fundamental modular algorithm</td>\n      <td>Duffystad</td>\n      <td>1</td>\n      <td>Lebanon</td>\n      <td>2/11/2016 21:49</td>\n      <td>1</td>\n    </tr>\n    <tr>\n      <th>996</th>\n      <td>51.30</td>\n      <td>45.0</td>\n      <td>67782.17</td>\n      <td>134.42</td>\n      <td>Grass-roots cohesive monitoring</td>\n      <td>New Darlene</td>\n      <td>1</td>\n      <td>Bosnia and Herzegovina</td>\n      <td>4/22/2016 2:07</td>\n      <td>1</td>\n    </tr>\n    <tr>\n      <th>997</th>\n      <td>51.63</td>\n      <td>51.0</td>\n      <td>42415.72</td>\n      <td>120.37</td>\n      <td>Expanded intangible solution</td>\n      <td>South Jessica</td>\n      <td>1</td>\n      <td>Mongolia</td>\n      <td>2/1/2016 17:24</td>\n      <td>1</td>\n    </tr>\n    <tr>\n      <th>998</th>\n      <td>55.55</td>\n      <td>19.0</td>\n      <td>41920.79</td>\n      <td>187.95</td>\n      <td>Proactive bandwidth-monitored policy</td>\n      <td>West Steven</td>\n      <td>0</td>\n      <td>Guatemala</td>\n      <td>3/24/2016 2:35</td>\n      <td>0</td>\n    </tr>\n    <tr>\n      <th>999</th>\n      <td>45.01</td>\n      <td>26.0</td>\n      <td>29875.80</td>\n      <td>178.35</td>\n      <td>Virtual 5thgeneration emulation</td>\n      <td>Ronniemouth</td>\n      <td>0</td>\n      <td>Brazil</td>\n      <td>6/3/2016 21:43</td>\n      <td>1</td>\n    </tr>\n  </tbody>\n</table>\n<p>1000 rows × 10 columns</p>\n</div>"
     },
     "execution_count": 11,
     "metadata": {},
     "output_type": "execute_result"
    }
   ],
   "source": [
    "data"
   ]
  },
  {
   "cell_type": "markdown",
   "source": [
    "데이터의 시작부분 10개의 행을 확인해봅시다."
   ],
   "metadata": {
    "collapsed": false
   }
  },
  {
   "cell_type": "code",
   "execution_count": 12,
   "metadata": {
    "ExecuteTime": {
     "start_time": "2023-05-04T15:24:08.381784Z",
     "end_time": "2023-05-04T15:24:08.428641Z"
    }
   },
   "outputs": [
    {
     "data": {
      "text/plain": "   Daily Time Spent on Site   Age  Area Income  Daily Internet Usage  \\\n0                     68.95   NaN     61833.90                256.09   \n1                     80.23  31.0     68441.85                193.77   \n2                     69.47  26.0     59785.94                236.50   \n3                     74.15  29.0     54806.18                245.89   \n4                     68.37  35.0     73889.99                225.58   \n5                     59.99  23.0     59761.56                226.74   \n6                     88.91   NaN     53852.85                208.36   \n7                     66.00  48.0     24593.33                131.76   \n8                     74.53  30.0     68862.00                221.51   \n9                     69.88  20.0     55642.32                183.82   \n\n                           Ad Topic Line              City  Male     Country  \\\n0     Cloned 5thgeneration orchestration       Wrightburgh     0     Tunisia   \n1     Monitored national standardization         West Jodi     1       Nauru   \n2       Organic bottom-line service-desk          Davidton     0  San Marino   \n3  Triple-buffered reciprocal time-frame    West Terrifurt     1       Italy   \n4          Robust logistical utilization      South Manuel     0     Iceland   \n5        Sharable client-driven software         Jamieberg     1      Norway   \n6             Enhanced dedicated support       Brandonstad     0     Myanmar   \n7               Reactive local challenge  Port Jefferybury     1   Australia   \n8         Configurable coherent function        West Colin     1     Grenada   \n9     Mandatory homogeneous architecture        Ramirezton     1       Ghana   \n\n         Timestamp  Clicked on Ad  \n0   3/27/2016 0:53              0  \n1    4/4/2016 1:39              0  \n2  3/13/2016 20:35              0  \n3   1/10/2016 2:31              0  \n4    6/3/2016 3:36              0  \n5  5/19/2016 14:30              0  \n6  1/28/2016 20:59              0  \n7    3/7/2016 1:40              1  \n8   4/18/2016 9:33              0  \n9   7/11/2016 1:42              0  ",
      "text/html": "<div>\n<style scoped>\n    .dataframe tbody tr th:only-of-type {\n        vertical-align: middle;\n    }\n\n    .dataframe tbody tr th {\n        vertical-align: top;\n    }\n\n    .dataframe thead th {\n        text-align: right;\n    }\n</style>\n<table border=\"1\" class=\"dataframe\">\n  <thead>\n    <tr style=\"text-align: right;\">\n      <th></th>\n      <th>Daily Time Spent on Site</th>\n      <th>Age</th>\n      <th>Area Income</th>\n      <th>Daily Internet Usage</th>\n      <th>Ad Topic Line</th>\n      <th>City</th>\n      <th>Male</th>\n      <th>Country</th>\n      <th>Timestamp</th>\n      <th>Clicked on Ad</th>\n    </tr>\n  </thead>\n  <tbody>\n    <tr>\n      <th>0</th>\n      <td>68.95</td>\n      <td>NaN</td>\n      <td>61833.90</td>\n      <td>256.09</td>\n      <td>Cloned 5thgeneration orchestration</td>\n      <td>Wrightburgh</td>\n      <td>0</td>\n      <td>Tunisia</td>\n      <td>3/27/2016 0:53</td>\n      <td>0</td>\n    </tr>\n    <tr>\n      <th>1</th>\n      <td>80.23</td>\n      <td>31.0</td>\n      <td>68441.85</td>\n      <td>193.77</td>\n      <td>Monitored national standardization</td>\n      <td>West Jodi</td>\n      <td>1</td>\n      <td>Nauru</td>\n      <td>4/4/2016 1:39</td>\n      <td>0</td>\n    </tr>\n    <tr>\n      <th>2</th>\n      <td>69.47</td>\n      <td>26.0</td>\n      <td>59785.94</td>\n      <td>236.50</td>\n      <td>Organic bottom-line service-desk</td>\n      <td>Davidton</td>\n      <td>0</td>\n      <td>San Marino</td>\n      <td>3/13/2016 20:35</td>\n      <td>0</td>\n    </tr>\n    <tr>\n      <th>3</th>\n      <td>74.15</td>\n      <td>29.0</td>\n      <td>54806.18</td>\n      <td>245.89</td>\n      <td>Triple-buffered reciprocal time-frame</td>\n      <td>West Terrifurt</td>\n      <td>1</td>\n      <td>Italy</td>\n      <td>1/10/2016 2:31</td>\n      <td>0</td>\n    </tr>\n    <tr>\n      <th>4</th>\n      <td>68.37</td>\n      <td>35.0</td>\n      <td>73889.99</td>\n      <td>225.58</td>\n      <td>Robust logistical utilization</td>\n      <td>South Manuel</td>\n      <td>0</td>\n      <td>Iceland</td>\n      <td>6/3/2016 3:36</td>\n      <td>0</td>\n    </tr>\n    <tr>\n      <th>5</th>\n      <td>59.99</td>\n      <td>23.0</td>\n      <td>59761.56</td>\n      <td>226.74</td>\n      <td>Sharable client-driven software</td>\n      <td>Jamieberg</td>\n      <td>1</td>\n      <td>Norway</td>\n      <td>5/19/2016 14:30</td>\n      <td>0</td>\n    </tr>\n    <tr>\n      <th>6</th>\n      <td>88.91</td>\n      <td>NaN</td>\n      <td>53852.85</td>\n      <td>208.36</td>\n      <td>Enhanced dedicated support</td>\n      <td>Brandonstad</td>\n      <td>0</td>\n      <td>Myanmar</td>\n      <td>1/28/2016 20:59</td>\n      <td>0</td>\n    </tr>\n    <tr>\n      <th>7</th>\n      <td>66.00</td>\n      <td>48.0</td>\n      <td>24593.33</td>\n      <td>131.76</td>\n      <td>Reactive local challenge</td>\n      <td>Port Jefferybury</td>\n      <td>1</td>\n      <td>Australia</td>\n      <td>3/7/2016 1:40</td>\n      <td>1</td>\n    </tr>\n    <tr>\n      <th>8</th>\n      <td>74.53</td>\n      <td>30.0</td>\n      <td>68862.00</td>\n      <td>221.51</td>\n      <td>Configurable coherent function</td>\n      <td>West Colin</td>\n      <td>1</td>\n      <td>Grenada</td>\n      <td>4/18/2016 9:33</td>\n      <td>0</td>\n    </tr>\n    <tr>\n      <th>9</th>\n      <td>69.88</td>\n      <td>20.0</td>\n      <td>55642.32</td>\n      <td>183.82</td>\n      <td>Mandatory homogeneous architecture</td>\n      <td>Ramirezton</td>\n      <td>1</td>\n      <td>Ghana</td>\n      <td>7/11/2016 1:42</td>\n      <td>0</td>\n    </tr>\n  </tbody>\n</table>\n</div>"
     },
     "execution_count": 12,
     "metadata": {},
     "output_type": "execute_result"
    }
   ],
   "source": [
    "data.head(10)"
   ]
  },
  {
   "cell_type": "markdown",
   "source": [
    "각 칼럼의 정보를 확인해봅시다."
   ],
   "metadata": {
    "collapsed": false
   }
  },
  {
   "cell_type": "code",
   "execution_count": 13,
   "metadata": {
    "ExecuteTime": {
     "start_time": "2023-05-04T15:24:10.025850Z",
     "end_time": "2023-05-04T15:24:10.041421Z"
    }
   },
   "outputs": [
    {
     "name": "stdout",
     "output_type": "stream",
     "text": [
      "<class 'pandas.core.frame.DataFrame'>\n",
      "RangeIndex: 1000 entries, 0 to 999\n",
      "Data columns (total 10 columns):\n",
      " #   Column                    Non-Null Count  Dtype  \n",
      "---  ------                    --------------  -----  \n",
      " 0   Daily Time Spent on Site  1000 non-null   float64\n",
      " 1   Age                       916 non-null    float64\n",
      " 2   Area Income               1000 non-null   float64\n",
      " 3   Daily Internet Usage      1000 non-null   float64\n",
      " 4   Ad Topic Line             1000 non-null   object \n",
      " 5   City                      1000 non-null   object \n",
      " 6   Male                      1000 non-null   int64  \n",
      " 7   Country                   1000 non-null   object \n",
      " 8   Timestamp                 1000 non-null   object \n",
      " 9   Clicked on Ad             1000 non-null   int64  \n",
      "dtypes: float64(4), int64(2), object(4)\n",
      "memory usage: 78.2+ KB\n"
     ]
    }
   ],
   "source": [
    "data.info()"
   ]
  },
  {
   "cell_type": "markdown",
   "source": [
    "칼럼별 기술통계값을 알아봅니다."
   ],
   "metadata": {
    "collapsed": false
   }
  },
  {
   "cell_type": "code",
   "execution_count": 14,
   "metadata": {
    "ExecuteTime": {
     "start_time": "2023-05-04T15:24:10.996026Z",
     "end_time": "2023-05-04T15:24:11.027310Z"
    }
   },
   "outputs": [
    {
     "data": {
      "text/plain": "       Daily Time Spent on Site         Age   Area Income  \\\ncount               1000.000000  916.000000   1000.000000   \nmean                  65.000200   36.128821  55000.000080   \nstd                   15.853615    9.018548  13414.634022   \nmin                   32.600000   19.000000  13996.500000   \n25%                   51.360000   29.000000  47031.802500   \n50%                   68.215000   35.000000  57012.300000   \n75%                   78.547500   42.000000  65470.635000   \nmax                   91.430000   61.000000  79484.800000   \n\n       Daily Internet Usage         Male  Clicked on Ad  \ncount           1000.000000  1000.000000     1000.00000  \nmean             180.000100     0.481000        0.50000  \nstd               43.902339     0.499889        0.50025  \nmin              104.780000     0.000000        0.00000  \n25%              138.830000     0.000000        0.00000  \n50%              183.130000     0.000000        0.50000  \n75%              218.792500     1.000000        1.00000  \nmax              269.960000     1.000000        1.00000  ",
      "text/html": "<div>\n<style scoped>\n    .dataframe tbody tr th:only-of-type {\n        vertical-align: middle;\n    }\n\n    .dataframe tbody tr th {\n        vertical-align: top;\n    }\n\n    .dataframe thead th {\n        text-align: right;\n    }\n</style>\n<table border=\"1\" class=\"dataframe\">\n  <thead>\n    <tr style=\"text-align: right;\">\n      <th></th>\n      <th>Daily Time Spent on Site</th>\n      <th>Age</th>\n      <th>Area Income</th>\n      <th>Daily Internet Usage</th>\n      <th>Male</th>\n      <th>Clicked on Ad</th>\n    </tr>\n  </thead>\n  <tbody>\n    <tr>\n      <th>count</th>\n      <td>1000.000000</td>\n      <td>916.000000</td>\n      <td>1000.000000</td>\n      <td>1000.000000</td>\n      <td>1000.000000</td>\n      <td>1000.00000</td>\n    </tr>\n    <tr>\n      <th>mean</th>\n      <td>65.000200</td>\n      <td>36.128821</td>\n      <td>55000.000080</td>\n      <td>180.000100</td>\n      <td>0.481000</td>\n      <td>0.50000</td>\n    </tr>\n    <tr>\n      <th>std</th>\n      <td>15.853615</td>\n      <td>9.018548</td>\n      <td>13414.634022</td>\n      <td>43.902339</td>\n      <td>0.499889</td>\n      <td>0.50025</td>\n    </tr>\n    <tr>\n      <th>min</th>\n      <td>32.600000</td>\n      <td>19.000000</td>\n      <td>13996.500000</td>\n      <td>104.780000</td>\n      <td>0.000000</td>\n      <td>0.00000</td>\n    </tr>\n    <tr>\n      <th>25%</th>\n      <td>51.360000</td>\n      <td>29.000000</td>\n      <td>47031.802500</td>\n      <td>138.830000</td>\n      <td>0.000000</td>\n      <td>0.00000</td>\n    </tr>\n    <tr>\n      <th>50%</th>\n      <td>68.215000</td>\n      <td>35.000000</td>\n      <td>57012.300000</td>\n      <td>183.130000</td>\n      <td>0.000000</td>\n      <td>0.50000</td>\n    </tr>\n    <tr>\n      <th>75%</th>\n      <td>78.547500</td>\n      <td>42.000000</td>\n      <td>65470.635000</td>\n      <td>218.792500</td>\n      <td>1.000000</td>\n      <td>1.00000</td>\n    </tr>\n    <tr>\n      <th>max</th>\n      <td>91.430000</td>\n      <td>61.000000</td>\n      <td>79484.800000</td>\n      <td>269.960000</td>\n      <td>1.000000</td>\n      <td>1.00000</td>\n    </tr>\n  </tbody>\n</table>\n</div>"
     },
     "execution_count": 14,
     "metadata": {},
     "output_type": "execute_result"
    }
   ],
   "source": [
    "data.describe()"
   ]
  },
  {
   "cell_type": "code",
   "execution_count": 15,
   "metadata": {
    "ExecuteTime": {
     "start_time": "2023-05-04T15:24:11.719722Z",
     "end_time": "2023-05-04T15:24:12.128643Z"
    }
   },
   "outputs": [
    {
     "name": "stderr",
     "output_type": "stream",
     "text": [
      "C:\\Users\\hkit\\AppData\\Local\\Temp\\ipykernel_18020\\814957152.py:1: UserWarning: \n",
      "\n",
      "`distplot` is a deprecated function and will be removed in seaborn v0.14.0.\n",
      "\n",
      "Please adapt your code to use either `displot` (a figure-level function with\n",
      "similar flexibility) or `histplot` (an axes-level function for histograms).\n",
      "\n",
      "For a guide to updating your code to use the new functions, please see\n",
      "https://gist.github.com/mwaskom/de44147ed2974457ad6372750bbe5751\n",
      "\n",
      "  sns.distplot(data['Area Income'])\n"
     ]
    },
    {
     "data": {
      "text/plain": "<Axes: xlabel='Area Income', ylabel='Density'>"
     },
     "execution_count": 15,
     "metadata": {},
     "output_type": "execute_result"
    },
    {
     "data": {
      "text/plain": "<Figure size 640x480 with 1 Axes>",
      "image/png": "[encoded data removed]"
     },
     "metadata": {},
     "output_type": "display_data"
    }
   ],
   "source": [
    "sns.distplot(data['Area Income'])"
   ]
  },
  {
   "cell_type": "code",
   "execution_count": 16,
   "metadata": {
    "ExecuteTime": {
     "start_time": "2023-05-04T15:24:12.566994Z",
     "end_time": "2023-05-04T15:24:12.941791Z"
    }
   },
   "outputs": [
    {
     "name": "stderr",
     "output_type": "stream",
     "text": [
      "C:\\Users\\hkit\\AppData\\Local\\Temp\\ipykernel_18020\\1298243121.py:1: UserWarning: \n",
      "\n",
      "`distplot` is a deprecated function and will be removed in seaborn v0.14.0.\n",
      "\n",
      "Please adapt your code to use either `displot` (a figure-level function with\n",
      "similar flexibility) or `histplot` (an axes-level function for histograms).\n",
      "\n",
      "For a guide to updating your code to use the new functions, please see\n",
      "https://gist.github.com/mwaskom/de44147ed2974457ad6372750bbe5751\n",
      "\n",
      "  sns.distplot(data['Age'])\n"
     ]
    },
    {
     "data": {
      "text/plain": "<Axes: xlabel='Age', ylabel='Density'>"
     },
     "execution_count": 16,
     "metadata": {},
     "output_type": "execute_result"
    },
    {
     "data": {
      "text/plain": "<Figure size 640x480 with 1 Axes>",
      "image/png": "[encoded data removed]"
     },
     "metadata": {},
     "output_type": "display_data"
    }
   ],
   "source": [
    "sns.distplot(data['Age'])"
   ]
  },
  {
   "cell_type": "markdown",
   "metadata": {},
   "source": [
    "# 텍스트로 된 컬럼 확인"
   ]
  },
  {
   "cell_type": "code",
   "execution_count": 17,
   "metadata": {
    "ExecuteTime": {
     "start_time": "2023-05-04T15:24:14.209875Z",
     "end_time": "2023-05-04T15:24:14.225530Z"
    }
   },
   "outputs": [
    {
     "data": {
      "text/plain": "237"
     },
     "execution_count": 17,
     "metadata": {},
     "output_type": "execute_result"
    }
   ],
   "source": [
    "data['Country'].nunique()"
   ]
  },
  {
   "cell_type": "code",
   "execution_count": 18,
   "metadata": {
    "ExecuteTime": {
     "start_time": "2023-05-04T15:24:14.776872Z",
     "end_time": "2023-05-04T15:24:14.808228Z"
    }
   },
   "outputs": [
    {
     "data": {
      "text/plain": "969"
     },
     "execution_count": 18,
     "metadata": {},
     "output_type": "execute_result"
    }
   ],
   "source": [
    "data['City'].nunique()"
   ]
  },
  {
   "cell_type": "code",
   "execution_count": 19,
   "metadata": {
    "ExecuteTime": {
     "start_time": "2023-05-04T15:24:15.283848Z",
     "end_time": "2023-05-04T15:24:15.362079Z"
    }
   },
   "outputs": [
    {
     "data": {
      "text/plain": "1000"
     },
     "execution_count": 19,
     "metadata": {},
     "output_type": "execute_result"
    }
   ],
   "source": [
    "data['Ad Topic Line'].nunique()"
   ]
  },
  {
   "cell_type": "markdown",
   "metadata": {},
   "source": [
    "# Missing Value 확인 및 처리"
   ]
  },
  {
   "cell_type": "code",
   "execution_count": 20,
   "metadata": {
    "scrolled": true,
    "ExecuteTime": {
     "start_time": "2023-05-04T15:24:16.586169Z",
     "end_time": "2023-05-04T15:24:16.619030Z"
    }
   },
   "outputs": [
    {
     "data": {
      "text/plain": "Daily Time Spent on Site    0.000\nAge                         0.084\nArea Income                 0.000\nDaily Internet Usage        0.000\nAd Topic Line               0.000\nCity                        0.000\nMale                        0.000\nCountry                     0.000\nTimestamp                   0.000\nClicked on Ad               0.000\ndtype: float64"
     },
     "execution_count": 20,
     "metadata": {},
     "output_type": "execute_result"
    }
   ],
   "source": [
    "data.isna().sum() / len(data)"
   ]
  },
  {
   "cell_type": "code",
   "execution_count": 21,
   "metadata": {
    "scrolled": true,
    "ExecuteTime": {
     "start_time": "2023-05-04T15:24:17.911033Z",
     "end_time": "2023-05-04T15:24:17.957937Z"
    }
   },
   "outputs": [
    {
     "data": {
      "text/plain": "     Daily Time Spent on Site   Age  Area Income  Daily Internet Usage  \\\n1                       80.23  31.0     68441.85                193.77   \n2                       69.47  26.0     59785.94                236.50   \n3                       74.15  29.0     54806.18                245.89   \n4                       68.37  35.0     73889.99                225.58   \n5                       59.99  23.0     59761.56                226.74   \n..                        ...   ...          ...                   ...   \n995                     72.97  30.0     71384.57                208.58   \n996                     51.30  45.0     67782.17                134.42   \n997                     51.63  51.0     42415.72                120.37   \n998                     55.55  19.0     41920.79                187.95   \n999                     45.01  26.0     29875.80                178.35   \n\n                             Ad Topic Line            City  Male  \\\n1       Monitored national standardization       West Jodi     1   \n2         Organic bottom-line service-desk        Davidton     0   \n3    Triple-buffered reciprocal time-frame  West Terrifurt     1   \n4            Robust logistical utilization    South Manuel     0   \n5          Sharable client-driven software       Jamieberg     1   \n..                                     ...             ...   ...   \n995          Fundamental modular algorithm       Duffystad     1   \n996        Grass-roots cohesive monitoring     New Darlene     1   \n997           Expanded intangible solution   South Jessica     1   \n998   Proactive bandwidth-monitored policy     West Steven     0   \n999        Virtual 5thgeneration emulation     Ronniemouth     0   \n\n                    Country        Timestamp  Clicked on Ad  \n1                     Nauru    4/4/2016 1:39              0  \n2                San Marino  3/13/2016 20:35              0  \n3                     Italy   1/10/2016 2:31              0  \n4                   Iceland    6/3/2016 3:36              0  \n5                    Norway  5/19/2016 14:30              0  \n..                      ...              ...            ...  \n995                 Lebanon  2/11/2016 21:49              1  \n996  Bosnia and Herzegovina   4/22/2016 2:07              1  \n997                Mongolia   2/1/2016 17:24              1  \n998               Guatemala   3/24/2016 2:35              0  \n999                  Brazil   6/3/2016 21:43              1  \n\n[916 rows x 10 columns]",
      "text/html": "<div>\n<style scoped>\n    .dataframe tbody tr th:only-of-type {\n        vertical-align: middle;\n    }\n\n    .dataframe tbody tr th {\n        vertical-align: top;\n    }\n\n    .dataframe thead th {\n        text-align: right;\n    }\n</style>\n<table border=\"1\" class=\"dataframe\">\n  <thead>\n    <tr style=\"text-align: right;\">\n      <th></th>\n      <th>Daily Time Spent on Site</th>\n      <th>Age</th>\n      <th>Area Income</th>\n      <th>Daily Internet Usage</th>\n      <th>Ad Topic Line</th>\n      <th>City</th>\n      <th>Male</th>\n      <th>Country</th>\n      <th>Timestamp</th>\n      <th>Clicked on Ad</th>\n    </tr>\n  </thead>\n  <tbody>\n    <tr>\n      <th>1</th>\n      <td>80.23</td>\n      <td>31.0</td>\n      <td>68441.85</td>\n      <td>193.77</td>\n      <td>Monitored national standardization</td>\n      <td>West Jodi</td>\n      <td>1</td>\n      <td>Nauru</td>\n      <td>4/4/2016 1:39</td>\n      <td>0</td>\n    </tr>\n    <tr>\n      <th>2</th>\n      <td>69.47</td>\n      <td>26.0</td>\n      <td>59785.94</td>\n      <td>236.50</td>\n      <td>Organic bottom-line service-desk</td>\n      <td>Davidton</td>\n      <td>0</td>\n      <td>San Marino</td>\n      <td>3/13/2016 20:35</td>\n      <td>0</td>\n    </tr>\n    <tr>\n      <th>3</th>\n      <td>74.15</td>\n      <td>29.0</td>\n      <td>54806.18</td>\n      <td>245.89</td>\n      <td>Triple-buffered reciprocal time-frame</td>\n      <td>West Terrifurt</td>\n      <td>1</td>\n      <td>Italy</td>\n      <td>1/10/2016 2:31</td>\n      <td>0</td>\n    </tr>\n    <tr>\n      <th>4</th>\n      <td>68.37</td>\n      <td>35.0</td>\n      <td>73889.99</td>\n      <td>225.58</td>\n      <td>Robust logistical utilization</td>\n      <td>South Manuel</td>\n      <td>0</td>\n      <td>Iceland</td>\n      <td>6/3/2016 3:36</td>\n      <td>0</td>\n    </tr>\n    <tr>\n      <th>5</th>\n      <td>59.99</td>\n      <td>23.0</td>\n      <td>59761.56</td>\n      <td>226.74</td>\n      <td>Sharable client-driven software</td>\n      <td>Jamieberg</td>\n      <td>1</td>\n      <td>Norway</td>\n      <td>5/19/2016 14:30</td>\n      <td>0</td>\n    </tr>\n    <tr>\n      <th>...</th>\n      <td>...</td>\n      <td>...</td>\n      <td>...</td>\n      <td>...</td>\n      <td>...</td>\n      <td>...</td>\n      <td>...</td>\n      <td>...</td>\n      <td>...</td>\n      <td>...</td>\n    </tr>\n    <tr>\n      <th>995</th>\n      <td>72.97</td>\n      <td>30.0</td>\n      <td>71384.57</td>\n      <td>208.58</td>\n      <td>Fundamental modular algorithm</td>\n      <td>Duffystad</td>\n      <td>1</td>\n      <td>Lebanon</td>\n      <td>2/11/2016 21:49</td>\n      <td>1</td>\n    </tr>\n    <tr>\n      <th>996</th>\n      <td>51.30</td>\n      <td>45.0</td>\n      <td>67782.17</td>\n      <td>134.42</td>\n      <td>Grass-roots cohesive monitoring</td>\n      <td>New Darlene</td>\n      <td>1</td>\n      <td>Bosnia and Herzegovina</td>\n      <td>4/22/2016 2:07</td>\n      <td>1</td>\n    </tr>\n    <tr>\n      <th>997</th>\n      <td>51.63</td>\n      <td>51.0</td>\n      <td>42415.72</td>\n      <td>120.37</td>\n      <td>Expanded intangible solution</td>\n      <td>South Jessica</td>\n      <td>1</td>\n      <td>Mongolia</td>\n      <td>2/1/2016 17:24</td>\n      <td>1</td>\n    </tr>\n    <tr>\n      <th>998</th>\n      <td>55.55</td>\n      <td>19.0</td>\n      <td>41920.79</td>\n      <td>187.95</td>\n      <td>Proactive bandwidth-monitored policy</td>\n      <td>West Steven</td>\n      <td>0</td>\n      <td>Guatemala</td>\n      <td>3/24/2016 2:35</td>\n      <td>0</td>\n    </tr>\n    <tr>\n      <th>999</th>\n      <td>45.01</td>\n      <td>26.0</td>\n      <td>29875.80</td>\n      <td>178.35</td>\n      <td>Virtual 5thgeneration emulation</td>\n      <td>Ronniemouth</td>\n      <td>0</td>\n      <td>Brazil</td>\n      <td>6/3/2016 21:43</td>\n      <td>1</td>\n    </tr>\n  </tbody>\n</table>\n<p>916 rows × 10 columns</p>\n</div>"
     },
     "execution_count": 21,
     "metadata": {},
     "output_type": "execute_result"
    }
   ],
   "source": [
    "data.dropna()"
   ]
  },
  {
   "cell_type": "code",
   "execution_count": 22,
   "metadata": {
    "scrolled": true,
    "ExecuteTime": {
     "start_time": "2023-05-04T15:24:18.950245Z",
     "end_time": "2023-05-04T15:24:18.981490Z"
    }
   },
   "outputs": [
    {
     "data": {
      "text/plain": "     Daily Time Spent on Site  Area Income  Daily Internet Usage  \\\n0                       68.95     61833.90                256.09   \n1                       80.23     68441.85                193.77   \n2                       69.47     59785.94                236.50   \n3                       74.15     54806.18                245.89   \n4                       68.37     73889.99                225.58   \n..                        ...          ...                   ...   \n995                     72.97     71384.57                208.58   \n996                     51.30     67782.17                134.42   \n997                     51.63     42415.72                120.37   \n998                     55.55     41920.79                187.95   \n999                     45.01     29875.80                178.35   \n\n                             Ad Topic Line            City  Male  \\\n0       Cloned 5thgeneration orchestration     Wrightburgh     0   \n1       Monitored national standardization       West Jodi     1   \n2         Organic bottom-line service-desk        Davidton     0   \n3    Triple-buffered reciprocal time-frame  West Terrifurt     1   \n4            Robust logistical utilization    South Manuel     0   \n..                                     ...             ...   ...   \n995          Fundamental modular algorithm       Duffystad     1   \n996        Grass-roots cohesive monitoring     New Darlene     1   \n997           Expanded intangible solution   South Jessica     1   \n998   Proactive bandwidth-monitored policy     West Steven     0   \n999        Virtual 5thgeneration emulation     Ronniemouth     0   \n\n                    Country        Timestamp  Clicked on Ad  \n0                   Tunisia   3/27/2016 0:53              0  \n1                     Nauru    4/4/2016 1:39              0  \n2                San Marino  3/13/2016 20:35              0  \n3                     Italy   1/10/2016 2:31              0  \n4                   Iceland    6/3/2016 3:36              0  \n..                      ...              ...            ...  \n995                 Lebanon  2/11/2016 21:49              1  \n996  Bosnia and Herzegovina   4/22/2016 2:07              1  \n997                Mongolia   2/1/2016 17:24              1  \n998               Guatemala   3/24/2016 2:35              0  \n999                  Brazil   6/3/2016 21:43              1  \n\n[1000 rows x 9 columns]",
      "text/html": "<div>\n<style scoped>\n    .dataframe tbody tr th:only-of-type {\n        vertical-align: middle;\n    }\n\n    .dataframe tbody tr th {\n        vertical-align: top;\n    }\n\n    .dataframe thead th {\n        text-align: right;\n    }\n</style>\n<table border=\"1\" class=\"dataframe\">\n  <thead>\n    <tr style=\"text-align: right;\">\n      <th></th>\n      <th>Daily Time Spent on Site</th>\n      <th>Area Income</th>\n      <th>Daily Internet Usage</th>\n      <th>Ad Topic Line</th>\n      <th>City</th>\n      <th>Male</th>\n      <th>Country</th>\n      <th>Timestamp</th>\n      <th>Clicked on Ad</th>\n    </tr>\n  </thead>\n  <tbody>\n    <tr>\n      <th>0</th>\n      <td>68.95</td>\n      <td>61833.90</td>\n      <td>256.09</td>\n      <td>Cloned 5thgeneration orchestration</td>\n      <td>Wrightburgh</td>\n      <td>0</td>\n      <td>Tunisia</td>\n      <td>3/27/2016 0:53</td>\n      <td>0</td>\n    </tr>\n    <tr>\n      <th>1</th>\n      <td>80.23</td>\n      <td>68441.85</td>\n      <td>193.77</td>\n      <td>Monitored national standardization</td>\n      <td>West Jodi</td>\n      <td>1</td>\n      <td>Nauru</td>\n      <td>4/4/2016 1:39</td>\n      <td>0</td>\n    </tr>\n    <tr>\n      <th>2</th>\n      <td>69.47</td>\n      <td>59785.94</td>\n      <td>236.50</td>\n      <td>Organic bottom-line service-desk</td>\n      <td>Davidton</td>\n      <td>0</td>\n      <td>San Marino</td>\n      <td>3/13/2016 20:35</td>\n      <td>0</td>\n    </tr>\n    <tr>\n      <th>3</th>\n      <td>74.15</td>\n      <td>54806.18</td>\n      <td>245.89</td>\n      <td>Triple-buffered reciprocal time-frame</td>\n      <td>West Terrifurt</td>\n      <td>1</td>\n      <td>Italy</td>\n      <td>1/10/2016 2:31</td>\n      <td>0</td>\n    </tr>\n    <tr>\n      <th>4</th>\n      <td>68.37</td>\n      <td>73889.99</td>\n      <td>225.58</td>\n      <td>Robust logistical utilization</td>\n      <td>South Manuel</td>\n      <td>0</td>\n      <td>Iceland</td>\n      <td>6/3/2016 3:36</td>\n      <td>0</td>\n    </tr>\n    <tr>\n      <th>...</th>\n      <td>...</td>\n      <td>...</td>\n      <td>...</td>\n      <td>...</td>\n      <td>...</td>\n      <td>...</td>\n      <td>...</td>\n      <td>...</td>\n      <td>...</td>\n    </tr>\n    <tr>\n      <th>995</th>\n      <td>72.97</td>\n      <td>71384.57</td>\n      <td>208.58</td>\n      <td>Fundamental modular algorithm</td>\n      <td>Duffystad</td>\n      <td>1</td>\n      <td>Lebanon</td>\n      <td>2/11/2016 21:49</td>\n      <td>1</td>\n    </tr>\n    <tr>\n      <th>996</th>\n      <td>51.30</td>\n      <td>67782.17</td>\n      <td>134.42</td>\n      <td>Grass-roots cohesive monitoring</td>\n      <td>New Darlene</td>\n      <td>1</td>\n      <td>Bosnia and Herzegovina</td>\n      <td>4/22/2016 2:07</td>\n      <td>1</td>\n    </tr>\n    <tr>\n      <th>997</th>\n      <td>51.63</td>\n      <td>42415.72</td>\n      <td>120.37</td>\n      <td>Expanded intangible solution</td>\n      <td>South Jessica</td>\n      <td>1</td>\n      <td>Mongolia</td>\n      <td>2/1/2016 17:24</td>\n      <td>1</td>\n    </tr>\n    <tr>\n      <th>998</th>\n      <td>55.55</td>\n      <td>41920.79</td>\n      <td>187.95</td>\n      <td>Proactive bandwidth-monitored policy</td>\n      <td>West Steven</td>\n      <td>0</td>\n      <td>Guatemala</td>\n      <td>3/24/2016 2:35</td>\n      <td>0</td>\n    </tr>\n    <tr>\n      <th>999</th>\n      <td>45.01</td>\n      <td>29875.80</td>\n      <td>178.35</td>\n      <td>Virtual 5thgeneration emulation</td>\n      <td>Ronniemouth</td>\n      <td>0</td>\n      <td>Brazil</td>\n      <td>6/3/2016 21:43</td>\n      <td>1</td>\n    </tr>\n  </tbody>\n</table>\n<p>1000 rows × 9 columns</p>\n</div>"
     },
     "execution_count": 22,
     "metadata": {},
     "output_type": "execute_result"
    }
   ],
   "source": [
    "data.drop('Age', axis=1)"
   ]
  },
  {
   "cell_type": "code",
   "execution_count": 23,
   "metadata": {
    "ExecuteTime": {
     "start_time": "2023-05-04T15:24:19.562021Z",
     "end_time": "2023-05-04T15:24:19.593274Z"
    }
   },
   "outputs": [
    {
     "data": {
      "text/plain": "36"
     },
     "execution_count": 23,
     "metadata": {},
     "output_type": "execute_result"
    }
   ],
   "source": [
    "round(data['Age'].mean())"
   ]
  },
  {
   "cell_type": "code",
   "execution_count": 24,
   "metadata": {
    "ExecuteTime": {
     "start_time": "2023-05-04T15:24:19.905773Z",
     "end_time": "2023-05-04T15:24:19.952758Z"
    }
   },
   "outputs": [
    {
     "data": {
      "text/plain": "35.0"
     },
     "execution_count": 24,
     "metadata": {},
     "output_type": "execute_result"
    }
   ],
   "source": [
    "data['Age'].median()"
   ]
  },
  {
   "cell_type": "code",
   "execution_count": 25,
   "metadata": {
    "ExecuteTime": {
     "start_time": "2023-05-04T15:24:20.247054Z",
     "end_time": "2023-05-04T15:24:20.278342Z"
    }
   },
   "outputs": [],
   "source": [
    "data = data.fillna(round(data['Age'].mean()))"
   ]
  },
  {
   "cell_type": "code",
   "execution_count": 26,
   "metadata": {
    "ExecuteTime": {
     "start_time": "2023-05-04T15:24:20.778350Z",
     "end_time": "2023-05-04T15:24:20.840908Z"
    }
   },
   "outputs": [
    {
     "data": {
      "text/plain": "     Daily Time Spent on Site   Age  Area Income  Daily Internet Usage  \\\n0                       68.95  36.0     61833.90                256.09   \n1                       80.23  31.0     68441.85                193.77   \n2                       69.47  26.0     59785.94                236.50   \n3                       74.15  29.0     54806.18                245.89   \n4                       68.37  35.0     73889.99                225.58   \n..                        ...   ...          ...                   ...   \n995                     72.97  30.0     71384.57                208.58   \n996                     51.30  45.0     67782.17                134.42   \n997                     51.63  51.0     42415.72                120.37   \n998                     55.55  19.0     41920.79                187.95   \n999                     45.01  26.0     29875.80                178.35   \n\n                             Ad Topic Line            City  Male  \\\n0       Cloned 5thgeneration orchestration     Wrightburgh     0   \n1       Monitored national standardization       West Jodi     1   \n2         Organic bottom-line service-desk        Davidton     0   \n3    Triple-buffered reciprocal time-frame  West Terrifurt     1   \n4            Robust logistical utilization    South Manuel     0   \n..                                     ...             ...   ...   \n995          Fundamental modular algorithm       Duffystad     1   \n996        Grass-roots cohesive monitoring     New Darlene     1   \n997           Expanded intangible solution   South Jessica     1   \n998   Proactive bandwidth-monitored policy     West Steven     0   \n999        Virtual 5thgeneration emulation     Ronniemouth     0   \n\n                    Country        Timestamp  Clicked on Ad  \n0                   Tunisia   3/27/2016 0:53              0  \n1                     Nauru    4/4/2016 1:39              0  \n2                San Marino  3/13/2016 20:35              0  \n3                     Italy   1/10/2016 2:31              0  \n4                   Iceland    6/3/2016 3:36              0  \n..                      ...              ...            ...  \n995                 Lebanon  2/11/2016 21:49              1  \n996  Bosnia and Herzegovina   4/22/2016 2:07              1  \n997                Mongolia   2/1/2016 17:24              1  \n998               Guatemala   3/24/2016 2:35              0  \n999                  Brazil   6/3/2016 21:43              1  \n\n[1000 rows x 10 columns]",
      "text/html": "<div>\n<style scoped>\n    .dataframe tbody tr th:only-of-type {\n        vertical-align: middle;\n    }\n\n    .dataframe tbody tr th {\n        vertical-align: top;\n    }\n\n    .dataframe thead th {\n        text-align: right;\n    }\n</style>\n<table border=\"1\" class=\"dataframe\">\n  <thead>\n    <tr style=\"text-align: right;\">\n      <th></th>\n      <th>Daily Time Spent on Site</th>\n      <th>Age</th>\n      <th>Area Income</th>\n      <th>Daily Internet Usage</th>\n      <th>Ad Topic Line</th>\n      <th>City</th>\n      <th>Male</th>\n      <th>Country</th>\n      <th>Timestamp</th>\n      <th>Clicked on Ad</th>\n    </tr>\n  </thead>\n  <tbody>\n    <tr>\n      <th>0</th>\n      <td>68.95</td>\n      <td>36.0</td>\n      <td>61833.90</td>\n      <td>256.09</td>\n      <td>Cloned 5thgeneration orchestration</td>\n      <td>Wrightburgh</td>\n      <td>0</td>\n      <td>Tunisia</td>\n      <td>3/27/2016 0:53</td>\n      <td>0</td>\n    </tr>\n    <tr>\n      <th>1</th>\n      <td>80.23</td>\n      <td>31.0</td>\n      <td>68441.85</td>\n      <td>193.77</td>\n      <td>Monitored national standardization</td>\n      <td>West Jodi</td>\n      <td>1</td>\n      <td>Nauru</td>\n      <td>4/4/2016 1:39</td>\n      <td>0</td>\n    </tr>\n    <tr>\n      <th>2</th>\n      <td>69.47</td>\n      <td>26.0</td>\n      <td>59785.94</td>\n      <td>236.50</td>\n      <td>Organic bottom-line service-desk</td>\n      <td>Davidton</td>\n      <td>0</td>\n      <td>San Marino</td>\n      <td>3/13/2016 20:35</td>\n      <td>0</td>\n    </tr>\n    <tr>\n      <th>3</th>\n      <td>74.15</td>\n      <td>29.0</td>\n      <td>54806.18</td>\n      <td>245.89</td>\n      <td>Triple-buffered reciprocal time-frame</td>\n      <td>West Terrifurt</td>\n      <td>1</td>\n      <td>Italy</td>\n      <td>1/10/2016 2:31</td>\n      <td>0</td>\n    </tr>\n    <tr>\n      <th>4</th>\n      <td>68.37</td>\n      <td>35.0</td>\n      <td>73889.99</td>\n      <td>225.58</td>\n      <td>Robust logistical utilization</td>\n      <td>South Manuel</td>\n      <td>0</td>\n      <td>Iceland</td>\n      <td>6/3/2016 3:36</td>\n      <td>0</td>\n    </tr>\n    <tr>\n      <th>...</th>\n      <td>...</td>\n      <td>...</td>\n      <td>...</td>\n      <td>...</td>\n      <td>...</td>\n      <td>...</td>\n      <td>...</td>\n      <td>...</td>\n      <td>...</td>\n      <td>...</td>\n    </tr>\n    <tr>\n      <th>995</th>\n      <td>72.97</td>\n      <td>30.0</td>\n      <td>71384.57</td>\n      <td>208.58</td>\n      <td>Fundamental modular algorithm</td>\n      <td>Duffystad</td>\n      <td>1</td>\n      <td>Lebanon</td>\n      <td>2/11/2016 21:49</td>\n      <td>1</td>\n    </tr>\n    <tr>\n      <th>996</th>\n      <td>51.30</td>\n      <td>45.0</td>\n      <td>67782.17</td>\n      <td>134.42</td>\n      <td>Grass-roots cohesive monitoring</td>\n      <td>New Darlene</td>\n      <td>1</td>\n      <td>Bosnia and Herzegovina</td>\n      <td>4/22/2016 2:07</td>\n      <td>1</td>\n    </tr>\n    <tr>\n      <th>997</th>\n      <td>51.63</td>\n      <td>51.0</td>\n      <td>42415.72</td>\n      <td>120.37</td>\n      <td>Expanded intangible solution</td>\n      <td>South Jessica</td>\n      <td>1</td>\n      <td>Mongolia</td>\n      <td>2/1/2016 17:24</td>\n      <td>1</td>\n    </tr>\n    <tr>\n      <th>998</th>\n      <td>55.55</td>\n      <td>19.0</td>\n      <td>41920.79</td>\n      <td>187.95</td>\n      <td>Proactive bandwidth-monitored policy</td>\n      <td>West Steven</td>\n      <td>0</td>\n      <td>Guatemala</td>\n      <td>3/24/2016 2:35</td>\n      <td>0</td>\n    </tr>\n    <tr>\n      <th>999</th>\n      <td>45.01</td>\n      <td>26.0</td>\n      <td>29875.80</td>\n      <td>178.35</td>\n      <td>Virtual 5thgeneration emulation</td>\n      <td>Ronniemouth</td>\n      <td>0</td>\n      <td>Brazil</td>\n      <td>6/3/2016 21:43</td>\n      <td>1</td>\n    </tr>\n  </tbody>\n</table>\n<p>1000 rows × 10 columns</p>\n</div>"
     },
     "execution_count": 26,
     "metadata": {},
     "output_type": "execute_result"
    }
   ],
   "source": [
    "data"
   ]
  },
  {
   "cell_type": "code",
   "execution_count": 27,
   "metadata": {
    "ExecuteTime": {
     "start_time": "2023-05-04T15:24:21.196139Z",
     "end_time": "2023-05-04T15:24:21.307657Z"
    }
   },
   "outputs": [
    {
     "data": {
      "text/plain": "Daily Time Spent on Site    0\nAge                         0\nArea Income                 0\nDaily Internet Usage        0\nAd Topic Line               0\nCity                        0\nMale                        0\nCountry                     0\nTimestamp                   0\nClicked on Ad               0\ndtype: int64"
     },
     "execution_count": 27,
     "metadata": {},
     "output_type": "execute_result"
    }
   ],
   "source": [
    "data.isna().sum()"
   ]
  },
  {
   "cell_type": "markdown",
   "metadata": {},
   "source": [
    "# Train / Test 나누기"
   ]
  },
  {
   "cell_type": "code",
   "execution_count": 28,
   "metadata": {
    "ExecuteTime": {
     "start_time": "2023-05-04T15:24:22.943741Z",
     "end_time": "2023-05-04T15:24:23.215574Z"
    }
   },
   "outputs": [],
   "source": [
    "from sklearn.model_selection import train_test_split"
   ]
  },
  {
   "cell_type": "code",
   "execution_count": 29,
   "metadata": {
    "ExecuteTime": {
     "start_time": "2023-05-04T15:24:23.356174Z",
     "end_time": "2023-05-04T15:24:23.387406Z"
    }
   },
   "outputs": [],
   "source": [
    "X = data[['Daily Time Spent on Site', 'Age', 'Area Income', 'Daily Internet Usage', 'Male']]\n",
    "y = data['Clicked on Ad']"
   ]
  },
  {
   "cell_type": "code",
   "execution_count": 30,
   "metadata": {
    "ExecuteTime": {
     "start_time": "2023-05-04T15:24:26.439303Z",
     "end_time": "2023-05-04T15:24:26.470593Z"
    }
   },
   "outputs": [],
   "source": [
    "X_train, X_test, y_train, y_test = train_test_split(X, y, test_size=0.2, random_state=100)"
   ]
  },
  {
   "cell_type": "markdown",
   "metadata": {},
   "source": [
    "# 로지스틱 리그레션 모델 만들기"
   ]
  },
  {
   "cell_type": "code",
   "execution_count": 51,
   "metadata": {
    "ExecuteTime": {
     "start_time": "2023-05-04T15:26:52.522548Z",
     "end_time": "2023-05-04T15:26:52.553840Z"
    }
   },
   "outputs": [],
   "source": [
    "# from sklearn.linear_model import LogisticRegression\n",
    "from sklearn.tree import DecisionTreeClassifier"
   ]
  },
  {
   "cell_type": "code",
   "execution_count": 52,
   "metadata": {
    "ExecuteTime": {
     "start_time": "2023-05-04T15:26:54.298578Z",
     "end_time": "2023-05-04T15:26:54.329858Z"
    }
   },
   "outputs": [],
   "source": [
    "# model = LogisticRegression()\n",
    "model = DecisionTreeClassifier(max_depth=5)"
   ]
  },
  {
   "cell_type": "code",
   "execution_count": 53,
   "metadata": {
    "ExecuteTime": {
     "start_time": "2023-05-04T15:27:11.626236Z",
     "end_time": "2023-05-04T15:27:11.673149Z"
    }
   },
   "outputs": [],
   "source": [
    "model.fit(X_train, y_train)"
   ]
  },
  {
   "cell_type": "code",
   "execution_count": 54,
   "metadata": {},
   "outputs": [],
   "source": [
    "# Coefficient 확인\n",
    "model.coef_"
   ]
  },
  {
   "cell_type": "markdown",
   "metadata": {},
   "source": [
    "# 예측 및 평가"
   ]
  },
  {
   "cell_type": "code",
   "execution_count": 44,
   "metadata": {
    "ExecuteTime": {
     "start_time": "2023-05-04T15:25:56.538160Z",
     "end_time": "2023-05-04T15:25:56.569394Z"
    }
   },
   "outputs": [],
   "source": [
    "pred = model.predict(X_test)"
   ]
  },
  {
   "cell_type": "code",
   "execution_count": 48,
   "metadata": {
    "ExecuteTime": {
     "start_time": "2023-05-04T15:26:20.345295Z",
     "end_time": "2023-05-04T15:26:20.376517Z"
    }
   },
   "outputs": [],
   "source": [
    "print(\"h\")"
   ]
  },
  {
   "cell_type": "code",
   "execution_count": 49,
   "metadata": {
    "ExecuteTime": {
     "start_time": "2023-05-04T15:26:36.427757Z",
     "end_time": "2023-05-04T15:26:36.474740Z"
    }
   },
   "outputs": [],
   "source": [
    "from sklearn.metrics import accuracy_score, confusion_matrix"
   ]
  },
  {
   "cell_type": "code",
   "execution_count": 50,
   "metadata": {
    "ExecuteTime": {
     "start_time": "2023-05-04T15:26:36.615895Z",
     "end_time": "2023-05-04T15:26:36.662811Z"
    }
   },
   "outputs": [],
   "source": [
    "accuracy_score(y_test, pred)"
   ]
  },
  {
   "cell_type": "code",
   "execution_count": 31,
   "metadata": {},
   "outputs": [
    {
     "data": {
      "text/plain": [
       "array([[92,  8],\n",
       "       [12, 88]], dtype=int64)"
      ]
     },
     "execution_count": 31,
     "metadata": {},
     "output_type": "execute_result"
    }
   ],
   "source": [
    "confusion_matrix(y_test, pred)"
   ]
  },
  {
   "cell_type": "code",
   "execution_count": null,
   "outputs": [],
   "source": [
    "model.predict()"
   ],
   "metadata": {
    "collapsed": false
   }
  },
  {
   "cell_type": "code",
   "execution_count": 7,
   "outputs": [],
   "source": [
    "exec(\"a = [68.95, 36.0, 61833.90, 256.09]\")\n"
   ],
   "metadata": {
    "collapsed": false,
    "ExecuteTime": {
     "start_time": "2023-05-02T13:46:28.231784Z",
     "end_time": "2023-05-02T13:46:28.263126Z"
    }
   }
  },
  {
   "cell_type": "code",
   "execution_count": 6,
   "outputs": [
    {
     "ename": "NameError",
     "evalue": "name 'model' is not defined",
     "output_type": "error",
     "traceback": [
      "\u001B[1;31m---------------------------------------------------------------------------\u001B[0m",
      "\u001B[1;31mNameError\u001B[0m                                 Traceback (most recent call last)",
      "Cell \u001B[1;32mIn[6], line 1\u001B[0m\n\u001B[1;32m----> 1\u001B[0m \u001B[43mmodel\u001B[49m\u001B[38;5;241m.\u001B[39mpredict(_)\n",
      "\u001B[1;31mNameError\u001B[0m: name 'model' is not defined"
     ]
    }
   ],
   "source": [
    "model.predict(a)"
   ],
   "metadata": {
    "collapsed": false,
    "ExecuteTime": {
     "start_time": "2023-05-02T13:45:21.967665Z",
     "end_time": "2023-05-02T13:45:21.983294Z"
    }
   }
  },
  {
   "cell_type": "code",
   "execution_count": 1,
   "outputs": [],
   "source": [
    "import win32com.client as win32"
   ],
   "metadata": {
    "collapsed": false,
    "ExecuteTime": {
     "start_time": "2023-05-04T15:48:27.550403Z",
     "end_time": "2023-05-04T15:48:27.597281Z"
    }
   }
  },
  {
   "cell_type": "code",
   "execution_count": 2,
   "outputs": [],
   "source": [
    "# %pip install pywin32"
   ],
   "metadata": {
    "collapsed": false,
    "ExecuteTime": {
     "start_time": "2023-05-04T15:48:52.306035Z",
     "end_time": "2023-05-04T15:48:52.321661Z"
    }
   }
  },
  {
   "cell_type": "code",
   "execution_count": 4,
   "outputs": [],
   "source": [
    "excel = win32.gencache.EnsureDispatch(\"Excel.Application\")\n",
    "wb = excel.Workbooks.Add()  # 파일을 열 때는 .Open(파일경로)\n",
    "ws = wb.Worksheets(1)\n",
    "excel.Visible = True"
   ],
   "metadata": {
    "collapsed": false,
    "ExecuteTime": {
     "start_time": "2023-05-04T15:52:20.107663Z",
     "end_time": "2023-05-04T15:52:20.250049Z"
    }
   }
  },
  {
   "cell_type": "code",
   "execution_count": 5,
   "outputs": [],
   "source": [
    "today = ws.Cells(1, 1).Value"
   ],
   "metadata": {
    "collapsed": false,
    "ExecuteTime": {
     "start_time": "2023-05-04T15:53:04.815589Z",
     "end_time": "2023-05-04T15:53:04.878160Z"
    }
   }
  },
  {
   "cell_type": "code",
   "execution_count": 6,
   "outputs": [
    {
     "data": {
      "text/plain": "pywintypes.datetime(2023, 5, 4, 0, 0, tzinfo=TimeZoneInfo('GMT Standard Time', True))"
     },
     "execution_count": 6,
     "metadata": {},
     "output_type": "execute_result"
    }
   ],
   "source": [
    "today"
   ],
   "metadata": {
    "collapsed": false,
    "ExecuteTime": {
     "start_time": "2023-05-04T15:53:10.573087Z",
     "end_time": "2023-05-04T15:53:10.651207Z"
    }
   }
  },
  {
   "cell_type": "code",
   "execution_count": 7,
   "outputs": [
    {
     "data": {
      "text/plain": "2023"
     },
     "execution_count": 7,
     "metadata": {},
     "output_type": "execute_result"
    }
   ],
   "source": [
    "today.year"
   ],
   "metadata": {
    "collapsed": false,
    "ExecuteTime": {
     "start_time": "2023-05-04T15:54:03.010170Z",
     "end_time": "2023-05-04T15:54:03.025801Z"
    }
   }
  },
  {
   "cell_type": "code",
   "execution_count": 12,
   "outputs": [
    {
     "data": {
      "text/plain": "4"
     },
     "execution_count": 12,
     "metadata": {},
     "output_type": "execute_result"
    }
   ],
   "source": [
    "today.day"
   ],
   "metadata": {
    "collapsed": false,
    "ExecuteTime": {
     "start_time": "2023-05-04T15:56:31.446113Z",
     "end_time": "2023-05-04T15:56:31.461768Z"
    }
   }
  },
  {
   "cell_type": "code",
   "execution_count": 13,
   "outputs": [],
   "source": [
    "import datetime as dt"
   ],
   "metadata": {
    "collapsed": false,
    "ExecuteTime": {
     "start_time": "2023-05-04T15:56:45.127239Z",
     "end_time": "2023-05-04T15:56:45.174149Z"
    }
   }
  },
  {
   "cell_type": "code",
   "execution_count": 14,
   "outputs": [
    {
     "data": {
      "text/plain": "datetime.date(2023, 5, 4)"
     },
     "execution_count": 14,
     "metadata": {},
     "output_type": "execute_result"
    }
   ],
   "source": [
    "dt.date.today()"
   ],
   "metadata": {
    "collapsed": false,
    "ExecuteTime": {
     "start_time": "2023-05-04T15:56:54.299896Z",
     "end_time": "2023-05-04T15:56:54.362506Z"
    }
   }
  },
  {
   "cell_type": "code",
   "execution_count": 15,
   "outputs": [],
   "source": [
    "after_30days = today + dt.timedelta(days=30)"
   ],
   "metadata": {
    "collapsed": false,
    "ExecuteTime": {
     "start_time": "2023-05-04T15:57:42.183822Z",
     "end_time": "2023-05-04T15:57:42.199477Z"
    }
   }
  },
  {
   "cell_type": "code",
   "execution_count": 16,
   "outputs": [
    {
     "data": {
      "text/plain": "pywintypes.datetime(2023, 6, 3, 0, 0, tzinfo=TimeZoneInfo('GMT Standard Time', True))"
     },
     "execution_count": 16,
     "metadata": {},
     "output_type": "execute_result"
    }
   ],
   "source": [
    "after_30days"
   ],
   "metadata": {
    "collapsed": false,
    "ExecuteTime": {
     "start_time": "2023-05-04T15:57:47.097703Z",
     "end_time": "2023-05-04T15:57:47.113362Z"
    }
   }
  },
  {
   "cell_type": "code",
   "execution_count": 17,
   "outputs": [],
   "source": [],
   "metadata": {
    "collapsed": false,
    "ExecuteTime": {
     "start_time": "2023-05-04T16:01:13.342456Z",
     "end_time": "2023-05-04T16:01:13.358114Z"
    }
   }
  },
  {
   "cell_type": "code",
   "execution_count": 26,
   "outputs": [],
   "source": [
    "today = \"2023-05-04\"\n",
    "today = dt.datetime.strptime(today, \"%Y-%m-%d\")"
   ],
   "metadata": {
    "collapsed": false,
    "ExecuteTime": {
     "start_time": "2023-05-04T16:08:35.578091Z",
     "end_time": "2023-05-04T16:08:35.609345Z"
    }
   }
  },
  {
   "cell_type": "code",
   "execution_count": 27,
   "outputs": [],
   "source": [
    "target_day = \"2024-02-26\"\n",
    "target_day = dt.datetime.strptime(target_day, \"%Y-%m-%d\")"
   ],
   "metadata": {
    "collapsed": false,
    "ExecuteTime": {
     "start_time": "2023-05-04T16:08:36.457740Z",
     "end_time": "2023-05-04T16:08:36.489074Z"
    }
   }
  },
  {
   "cell_type": "code",
   "execution_count": 28,
   "outputs": [
    {
     "data": {
      "text/plain": "datetime.timedelta(days=298)"
     },
     "execution_count": 28,
     "metadata": {},
     "output_type": "execute_result"
    }
   ],
   "source": [
    "target_day - today"
   ],
   "metadata": {
    "collapsed": false,
    "ExecuteTime": {
     "start_time": "2023-05-04T16:08:37.717050Z",
     "end_time": "2023-05-04T16:08:37.748304Z"
    }
   }
  },
  {
   "cell_type": "code",
   "execution_count": 30,
   "outputs": [
    {
     "data": {
      "text/plain": "datetime.datetime(2023, 5, 4, 0, 0)"
     },
     "execution_count": 30,
     "metadata": {},
     "output_type": "execute_result"
    }
   ],
   "source": [
    "today"
   ],
   "metadata": {
    "collapsed": false,
    "ExecuteTime": {
     "start_time": "2023-05-04T16:09:20.355789Z",
     "end_time": "2023-05-04T16:09:20.387070Z"
    }
   }
  },
  {
   "cell_type": "code",
   "execution_count": 33,
   "outputs": [],
   "source": [
    "ws.Cells(5, 5).Value = today.strftime(\"%Y-%m-%d\")"
   ],
   "metadata": {
    "collapsed": false,
    "ExecuteTime": {
     "start_time": "2023-05-04T16:12:05.298784Z",
     "end_time": "2023-05-04T16:12:05.314419Z"
    }
   }
  },
  {
   "cell_type": "code",
   "execution_count": 34,
   "outputs": [],
   "source": [
    "from time import sleep\n",
    "from random import randint, random"
   ],
   "metadata": {
    "collapsed": false,
    "ExecuteTime": {
     "start_time": "2023-05-04T16:15:04.035349Z",
     "end_time": "2023-05-04T16:15:04.082261Z"
    }
   }
  },
  {
   "cell_type": "code",
   "execution_count": 35,
   "outputs": [],
   "source": [
    "sec = 1\n",
    "sleep(sec)"
   ],
   "metadata": {
    "collapsed": false,
    "ExecuteTime": {
     "start_time": "2023-05-04T16:15:28.050673Z",
     "end_time": "2023-05-04T16:15:29.069324Z"
    }
   }
  },
  {
   "cell_type": "code",
   "execution_count": 36,
   "outputs": [
    {
     "name": "stdout",
     "output_type": "stream",
     "text": [
      "8 3 8 8 7 1 7 4 3 5 5 1 6 6 2 3 2 4 2 7 1 5 6 3 4 8 5 6 1 1 2 3 8 2 4 4 8 1 4 5 3 7 2 3 2 4 6 6 1 3 7 4 7 7 7 4 1 2 4 6 2 2 1 3 7 6 4 4 7 2 4 6 3 4 4 3 3 8 3 3 8 8 5 2 8 8 7 3 3 1 5 3 1 2 1 7 5 4 2 5 "
     ]
    }
   ],
   "source": [
    "randint(1, 8)"
   ],
   "metadata": {
    "collapsed": false,
    "ExecuteTime": {
     "start_time": "2023-05-04T16:17:19.197877Z",
     "end_time": "2023-05-04T16:17:19.276111Z"
    }
   }
  },
  {
   "cell_type": "code",
   "execution_count": 173,
   "outputs": [
    {
     "data": {
      "text/plain": "3.7961866690841397"
     },
     "execution_count": 173,
     "metadata": {},
     "output_type": "execute_result"
    }
   ],
   "source": [
    "randint(1, 3) + random()"
   ],
   "metadata": {
    "collapsed": false,
    "ExecuteTime": {
     "start_time": "2023-05-04T16:19:11.320680Z",
     "end_time": "2023-05-04T16:19:11.351935Z"
    }
   }
  },
  {
   "cell_type": "code",
   "execution_count": 175,
   "outputs": [],
   "source": [
    "import time"
   ],
   "metadata": {
    "collapsed": false,
    "ExecuteTime": {
     "start_time": "2023-05-04T16:20:01.677659Z",
     "end_time": "2023-05-04T16:20:01.709014Z"
    }
   }
  },
  {
   "cell_type": "code",
   "execution_count": 178,
   "outputs": [
    {
     "name": "stdout",
     "output_type": "stream",
     "text": [
      "2.9380042552948\n"
     ]
    }
   ],
   "source": [
    "start_time = time.time()\n",
    "sleep(randint(1, 3) + random())\n",
    "end_time = time.time()\n",
    "print(end_time - start_time)"
   ],
   "metadata": {
    "collapsed": false,
    "ExecuteTime": {
     "start_time": "2023-05-04T16:22:25.706729Z",
     "end_time": "2023-05-04T16:22:28.660368Z"
    }
   }
  },
  {
   "cell_type": "code",
   "execution_count": 185,
   "outputs": [
    {
     "name": "stdout",
     "output_type": "stream",
     "text": [
      "2.95 s ± 729 ms per loop (mean ± std. dev. of 7 runs, 1 loop each)\n"
     ]
    }
   ],
   "source": [
    "%%timeit\n",
    "sleep(randint(1, 3) + random())"
   ],
   "metadata": {
    "collapsed": false,
    "ExecuteTime": {
     "start_time": "2023-05-04T16:31:32.654394Z",
     "end_time": "2023-05-04T16:31:57.137477Z"
    }
   }
  },
  {
   "cell_type": "code",
   "execution_count": 184,
   "outputs": [
    {
     "name": "stdout",
     "output_type": "stream",
     "text": [
      "CPU times: total: 0 ns\n",
      "Wall time: 1 s\n"
     ]
    }
   ],
   "source": [
    "%%time\n",
    "sleep(1)"
   ],
   "metadata": {
    "collapsed": false,
    "ExecuteTime": {
     "start_time": "2023-05-04T16:31:23.052069Z",
     "end_time": "2023-05-04T16:31:24.081007Z"
    }
   }
  },
  {
   "cell_type": "code",
   "execution_count": 187,
   "outputs": [],
   "source": [
    "a = [\n",
    "    \"830226-155252511\",\n",
    "    \"2221`830226-1552-525\",\n",
    "    \"123456-64324-631346\",\n",
    "    \"a235623-4568454\",\n",
    "    \"830226-1552525234\",\n",
    "    \"123456-6432463\",\n",
    "]"
   ],
   "metadata": {
    "collapsed": false,
    "ExecuteTime": {
     "start_time": "2023-05-04T17:10:35.232546Z",
     "end_time": "2023-05-04T17:10:35.263875Z"
    }
   }
  },
  {
   "cell_type": "code",
   "execution_count": 191,
   "outputs": [
    {
     "ename": "NameError",
     "evalue": "name 'qwer' is not defined",
     "output_type": "error",
     "traceback": [
      "\u001B[1;31m---------------------------------------------------------------------------\u001B[0m",
      "\u001B[1;31mNameError\u001B[0m                                 Traceback (most recent call last)",
      "Cell \u001B[1;32mIn[191], line 1\u001B[0m\n\u001B[1;32m----> 1\u001B[0m \u001B[38;5;28mprint\u001B[39m(\u001B[43mqwer\u001B[49m)\n",
      "\u001B[1;31mNameError\u001B[0m: name 'qwer' is not defined"
     ]
    }
   ],
   "source": [
    "print(qwer)"
   ],
   "metadata": {
    "collapsed": false
   }
  },
  {
   "cell_type": "code",
   "execution_count": 193,
   "outputs": [
    {
     "name": "stdout",
     "output_type": "stream",
     "text": [
      "name 'qwer' is not defined\n",
      "네임에러가 떴습니다.\n"
     ]
    }
   ],
   "source": [
    "try:\n",
    "    print(qwer)\n",
    "except (NameError, IndexError) as e:\n",
    "    print(e)\n",
    "    print(\"네임에러가 떴습니다.\")\n",
    "except"
   ],
   "metadata": {
    "collapsed": false,
    "ExecuteTime": {
     "start_time": "2023-05-04T17:13:52.769689Z",
     "end_time": "2023-05-04T17:13:52.832265Z"
    }
   }
  },
  {
   "cell_type": "code",
   "execution_count": 190,
   "outputs": [
    {
     "name": "stdout",
     "output_type": "stream",
     "text": [
      "123456-6432463\n"
     ]
    }
   ],
   "source": [
    "import re\n",
    "\n",
    "pattern = re.compile(r\"^\\d{6}-\\d{7}$\")\n",
    "for i in a:\n",
    "    if pattern.match(i):\n",
    "        print(i)"
   ],
   "metadata": {
    "collapsed": false,
    "ExecuteTime": {
     "start_time": "2023-05-04T17:11:49.920460Z",
     "end_time": "2023-05-04T17:11:49.951712Z"
    }
   }
  },
  {
   "cell_type": "code",
   "execution_count": 199,
   "outputs": [],
   "source": [
    "import turtle as tt"
   ],
   "metadata": {
    "collapsed": false,
    "ExecuteTime": {
     "start_time": "2023-05-04T17:19:31.905711Z",
     "end_time": "2023-05-04T17:19:32.015188Z"
    }
   }
  },
  {
   "cell_type": "code",
   "execution_count": 200,
   "outputs": [
    {
     "data": {
      "text/plain": "<turtle.ScrolledCanvas object .!scrolledcanvas>"
     },
     "execution_count": 200,
     "metadata": {},
     "output_type": "execute_result"
    }
   ],
   "source": [
    "tt.getcanvas()"
   ],
   "metadata": {
    "collapsed": false,
    "ExecuteTime": {
     "start_time": "2023-05-04T17:20:30.184609Z",
     "end_time": "2023-05-04T17:20:30.488050Z"
    }
   }
  },
  {
   "cell_type": "code",
   "execution_count": 201,
   "outputs": [],
   "source": [
    "tt.circle(5)"
   ],
   "metadata": {
    "collapsed": false,
    "ExecuteTime": {
     "start_time": "2023-05-04T17:20:44.892285Z",
     "end_time": "2023-05-04T17:20:45.756104Z"
    }
   }
  },
  {
   "cell_type": "code",
   "execution_count": 202,
   "outputs": [],
   "source": [
    "tt.clear()"
   ],
   "metadata": {
    "collapsed": false,
    "ExecuteTime": {
     "start_time": "2023-05-04T17:21:03.759860Z",
     "end_time": "2023-05-04T17:21:03.880755Z"
    }
   }
  },
  {
   "cell_type": "code",
   "execution_count": 203,
   "outputs": [],
   "source": [
    "tt.forward(5)"
   ],
   "metadata": {
    "collapsed": false,
    "ExecuteTime": {
     "start_time": "2023-05-04T17:21:31.863706Z",
     "end_time": "2023-05-04T17:21:32.084158Z"
    }
   }
  },
  {
   "cell_type": "code",
   "execution_count": 2,
   "outputs": [],
   "source": [
    "import turtle as tt"
   ],
   "metadata": {
    "collapsed": false,
    "ExecuteTime": {
     "start_time": "2023-05-04T17:26:41.275756Z",
     "end_time": "2023-05-04T17:26:41.321716Z"
    }
   }
  },
  {
   "cell_type": "code",
   "execution_count": 7,
   "outputs": [
    {
     "ename": "Terminator",
     "evalue": "",
     "output_type": "error",
     "traceback": [
      "\u001B[1;31m---------------------------------------------------------------------------\u001B[0m",
      "\u001B[1;31mTerminator\u001B[0m                                Traceback (most recent call last)",
      "Cell \u001B[1;32mIn[7], line 5\u001B[0m\n\u001B[0;32m      3\u001B[0m \u001B[38;5;28;01mwhile\u001B[39;00m \u001B[38;5;28;01mTrue\u001B[39;00m:\n\u001B[0;32m      4\u001B[0m     tt\u001B[38;5;241m.\u001B[39mforward(\u001B[38;5;241m200\u001B[39m)\n\u001B[1;32m----> 5\u001B[0m     \u001B[43mtt\u001B[49m\u001B[38;5;241;43m.\u001B[39;49m\u001B[43mleft\u001B[49m\u001B[43m(\u001B[49m\u001B[38;5;241;43m170\u001B[39;49m\u001B[43m)\u001B[49m\n\u001B[0;32m      6\u001B[0m     \u001B[38;5;28;01mif\u001B[39;00m \u001B[38;5;28mabs\u001B[39m(tt\u001B[38;5;241m.\u001B[39mpos()) \u001B[38;5;241m<\u001B[39m \u001B[38;5;241m1\u001B[39m:\n\u001B[0;32m      7\u001B[0m         \u001B[38;5;28;01mbreak\u001B[39;00m\n",
      "File \u001B[1;32m<string>:8\u001B[0m, in \u001B[0;36mleft\u001B[1;34m(angle)\u001B[0m\n",
      "File \u001B[1;32m~\\anaconda3\\lib\\turtle.py:1699\u001B[0m, in \u001B[0;36mTNavigator.left\u001B[1;34m(self, angle)\u001B[0m\n\u001B[0;32m   1680\u001B[0m \u001B[38;5;28;01mdef\u001B[39;00m \u001B[38;5;21mleft\u001B[39m(\u001B[38;5;28mself\u001B[39m, angle):\n\u001B[0;32m   1681\u001B[0m     \u001B[38;5;124;03m\"\"\"Turn turtle left by angle units.\u001B[39;00m\n\u001B[0;32m   1682\u001B[0m \n\u001B[0;32m   1683\u001B[0m \u001B[38;5;124;03m    Aliases: left | lt\u001B[39;00m\n\u001B[1;32m   (...)\u001B[0m\n\u001B[0;32m   1697\u001B[0m \u001B[38;5;124;03m    67.0\u001B[39;00m\n\u001B[0;32m   1698\u001B[0m \u001B[38;5;124;03m    \"\"\"\u001B[39;00m\n\u001B[1;32m-> 1699\u001B[0m     \u001B[38;5;28;43mself\u001B[39;49m\u001B[38;5;241;43m.\u001B[39;49m\u001B[43m_rotate\u001B[49m\u001B[43m(\u001B[49m\u001B[43mangle\u001B[49m\u001B[43m)\u001B[49m\n",
      "File \u001B[1;32m~\\anaconda3\\lib\\turtle.py:3277\u001B[0m, in \u001B[0;36mRawTurtle._rotate\u001B[1;34m(self, angle)\u001B[0m\n\u001B[0;32m   3275\u001B[0m     \u001B[38;5;28;01mfor\u001B[39;00m _ \u001B[38;5;129;01min\u001B[39;00m \u001B[38;5;28mrange\u001B[39m(steps):\n\u001B[0;32m   3276\u001B[0m         \u001B[38;5;28mself\u001B[39m\u001B[38;5;241m.\u001B[39m_orient \u001B[38;5;241m=\u001B[39m \u001B[38;5;28mself\u001B[39m\u001B[38;5;241m.\u001B[39m_orient\u001B[38;5;241m.\u001B[39mrotate(delta)\n\u001B[1;32m-> 3277\u001B[0m         \u001B[38;5;28;43mself\u001B[39;49m\u001B[38;5;241;43m.\u001B[39;49m\u001B[43m_update\u001B[49m\u001B[43m(\u001B[49m\u001B[43m)\u001B[49m\n\u001B[0;32m   3278\u001B[0m \u001B[38;5;28mself\u001B[39m\u001B[38;5;241m.\u001B[39m_orient \u001B[38;5;241m=\u001B[39m neworient\n\u001B[0;32m   3279\u001B[0m \u001B[38;5;28mself\u001B[39m\u001B[38;5;241m.\u001B[39m_update()\n",
      "File \u001B[1;32m~\\anaconda3\\lib\\turtle.py:2660\u001B[0m, in \u001B[0;36mRawTurtle._update\u001B[1;34m(self)\u001B[0m\n\u001B[0;32m   2658\u001B[0m     \u001B[38;5;28;01mreturn\u001B[39;00m\n\u001B[0;32m   2659\u001B[0m \u001B[38;5;28;01melif\u001B[39;00m screen\u001B[38;5;241m.\u001B[39m_tracing \u001B[38;5;241m==\u001B[39m \u001B[38;5;241m1\u001B[39m:\n\u001B[1;32m-> 2660\u001B[0m     \u001B[38;5;28;43mself\u001B[39;49m\u001B[38;5;241;43m.\u001B[39;49m\u001B[43m_update_data\u001B[49m\u001B[43m(\u001B[49m\u001B[43m)\u001B[49m\n\u001B[0;32m   2661\u001B[0m     \u001B[38;5;28mself\u001B[39m\u001B[38;5;241m.\u001B[39m_drawturtle()\n\u001B[0;32m   2662\u001B[0m     screen\u001B[38;5;241m.\u001B[39m_update()                  \u001B[38;5;66;03m# TurtleScreenBase\u001B[39;00m\n",
      "File \u001B[1;32m~\\anaconda3\\lib\\turtle.py:2646\u001B[0m, in \u001B[0;36mRawTurtle._update_data\u001B[1;34m(self)\u001B[0m\n\u001B[0;32m   2645\u001B[0m \u001B[38;5;28;01mdef\u001B[39;00m \u001B[38;5;21m_update_data\u001B[39m(\u001B[38;5;28mself\u001B[39m):\n\u001B[1;32m-> 2646\u001B[0m     \u001B[38;5;28;43mself\u001B[39;49m\u001B[38;5;241;43m.\u001B[39;49m\u001B[43mscreen\u001B[49m\u001B[38;5;241;43m.\u001B[39;49m\u001B[43m_incrementudc\u001B[49m\u001B[43m(\u001B[49m\u001B[43m)\u001B[49m\n\u001B[0;32m   2647\u001B[0m     \u001B[38;5;28;01mif\u001B[39;00m \u001B[38;5;28mself\u001B[39m\u001B[38;5;241m.\u001B[39mscreen\u001B[38;5;241m.\u001B[39m_updatecounter \u001B[38;5;241m!=\u001B[39m \u001B[38;5;241m0\u001B[39m:\n\u001B[0;32m   2648\u001B[0m         \u001B[38;5;28;01mreturn\u001B[39;00m\n",
      "File \u001B[1;32m~\\anaconda3\\lib\\turtle.py:1292\u001B[0m, in \u001B[0;36mTurtleScreen._incrementudc\u001B[1;34m(self)\u001B[0m\n\u001B[0;32m   1290\u001B[0m \u001B[38;5;28;01mif\u001B[39;00m \u001B[38;5;129;01mnot\u001B[39;00m TurtleScreen\u001B[38;5;241m.\u001B[39m_RUNNING:\n\u001B[0;32m   1291\u001B[0m     TurtleScreen\u001B[38;5;241m.\u001B[39m_RUNNING \u001B[38;5;241m=\u001B[39m \u001B[38;5;28;01mTrue\u001B[39;00m\n\u001B[1;32m-> 1292\u001B[0m     \u001B[38;5;28;01mraise\u001B[39;00m Terminator\n\u001B[0;32m   1293\u001B[0m \u001B[38;5;28;01mif\u001B[39;00m \u001B[38;5;28mself\u001B[39m\u001B[38;5;241m.\u001B[39m_tracing \u001B[38;5;241m>\u001B[39m \u001B[38;5;241m0\u001B[39m:\n\u001B[0;32m   1294\u001B[0m     \u001B[38;5;28mself\u001B[39m\u001B[38;5;241m.\u001B[39m_updatecounter \u001B[38;5;241m+\u001B[39m\u001B[38;5;241m=\u001B[39m \u001B[38;5;241m1\u001B[39m\n",
      "\u001B[1;31mTerminator\u001B[0m: "
     ]
    }
   ],
   "source": [
    "tt.color('red', 'yellow')\n",
    "tt.begin_fill()\n",
    "while True:\n",
    "    tt.forward(200)\n",
    "    tt.left(170)\n",
    "    if abs(tt.pos()) < 1:\n",
    "        break\n",
    "tt.end_fill()\n",
    "tt.done()"
   ],
   "metadata": {
    "collapsed": false,
    "ExecuteTime": {
     "start_time": "2023-05-04T17:23:39.346403Z",
     "end_time": "2023-05-04T17:25:11.436853Z"
    }
   }
  },
  {
   "cell_type": "code",
   "execution_count": 3,
   "outputs": [
    {
     "ename": "Terminator",
     "evalue": "",
     "output_type": "error",
     "traceback": [
      "\u001B[1;31m---------------------------------------------------------------------------\u001B[0m",
      "\u001B[1;31mTclError\u001B[0m                                  Traceback (most recent call last)",
      "File \u001B[1;32m<string>:8\u001B[0m, in \u001B[0;36mforward\u001B[1;34m(distance)\u001B[0m\n",
      "File \u001B[1;32m~\\anaconda3\\lib\\turtle.py:1637\u001B[0m, in \u001B[0;36mTNavigator.forward\u001B[1;34m(self, distance)\u001B[0m\n\u001B[0;32m   1617\u001B[0m \u001B[38;5;124;03m\"\"\"Move the turtle forward by the specified distance.\u001B[39;00m\n\u001B[0;32m   1618\u001B[0m \n\u001B[0;32m   1619\u001B[0m \u001B[38;5;124;03mAliases: forward | fd\u001B[39;00m\n\u001B[1;32m   (...)\u001B[0m\n\u001B[0;32m   1635\u001B[0m \u001B[38;5;124;03m(-50.00,0.00)\u001B[39;00m\n\u001B[0;32m   1636\u001B[0m \u001B[38;5;124;03m\"\"\"\u001B[39;00m\n\u001B[1;32m-> 1637\u001B[0m \u001B[38;5;28;43mself\u001B[39;49m\u001B[38;5;241;43m.\u001B[39;49m\u001B[43m_go\u001B[49m\u001B[43m(\u001B[49m\u001B[43mdistance\u001B[49m\u001B[43m)\u001B[49m\n",
      "File \u001B[1;32m~\\anaconda3\\lib\\turtle.py:1605\u001B[0m, in \u001B[0;36mTNavigator._go\u001B[1;34m(self, distance)\u001B[0m\n\u001B[0;32m   1604\u001B[0m ende \u001B[38;5;241m=\u001B[39m \u001B[38;5;28mself\u001B[39m\u001B[38;5;241m.\u001B[39m_position \u001B[38;5;241m+\u001B[39m \u001B[38;5;28mself\u001B[39m\u001B[38;5;241m.\u001B[39m_orient \u001B[38;5;241m*\u001B[39m distance\n\u001B[1;32m-> 1605\u001B[0m \u001B[38;5;28;43mself\u001B[39;49m\u001B[38;5;241;43m.\u001B[39;49m\u001B[43m_goto\u001B[49m\u001B[43m(\u001B[49m\u001B[43mende\u001B[49m\u001B[43m)\u001B[49m\n",
      "File \u001B[1;32m~\\anaconda3\\lib\\turtle.py:3177\u001B[0m, in \u001B[0;36mRawTurtle._goto\u001B[1;34m(self, end)\u001B[0m\n\u001B[0;32m   3176\u001B[0m \u001B[38;5;28;01mif\u001B[39;00m \u001B[38;5;28mself\u001B[39m\u001B[38;5;241m.\u001B[39m_drawing:\n\u001B[1;32m-> 3177\u001B[0m     \u001B[43mscreen\u001B[49m\u001B[38;5;241;43m.\u001B[39;49m\u001B[43m_drawline\u001B[49m\u001B[43m(\u001B[49m\u001B[38;5;28;43mself\u001B[39;49m\u001B[38;5;241;43m.\u001B[39;49m\u001B[43mdrawingLineItem\u001B[49m\u001B[43m,\u001B[49m\n\u001B[0;32m   3178\u001B[0m \u001B[43m                     \u001B[49m\u001B[43m(\u001B[49m\u001B[43mstart\u001B[49m\u001B[43m,\u001B[49m\u001B[43m \u001B[49m\u001B[38;5;28;43mself\u001B[39;49m\u001B[38;5;241;43m.\u001B[39;49m\u001B[43m_position\u001B[49m\u001B[43m)\u001B[49m\u001B[43m,\u001B[49m\n\u001B[0;32m   3179\u001B[0m \u001B[43m                     \u001B[49m\u001B[38;5;28;43mself\u001B[39;49m\u001B[38;5;241;43m.\u001B[39;49m\u001B[43m_pencolor\u001B[49m\u001B[43m,\u001B[49m\u001B[43m \u001B[49m\u001B[38;5;28;43mself\u001B[39;49m\u001B[38;5;241;43m.\u001B[39;49m\u001B[43m_pensize\u001B[49m\u001B[43m,\u001B[49m\u001B[43m \u001B[49m\u001B[43mtop\u001B[49m\u001B[43m)\u001B[49m\n\u001B[0;32m   3180\u001B[0m \u001B[38;5;28mself\u001B[39m\u001B[38;5;241m.\u001B[39m_update()\n",
      "File \u001B[1;32m~\\anaconda3\\lib\\turtle.py:544\u001B[0m, in \u001B[0;36mTurtleScreenBase._drawline\u001B[1;34m(self, lineitem, coordlist, fill, width, top)\u001B[0m\n\u001B[0;32m    543\u001B[0m         cl\u001B[38;5;241m.\u001B[39mappend(\u001B[38;5;241m-\u001B[39my \u001B[38;5;241m*\u001B[39m \u001B[38;5;28mself\u001B[39m\u001B[38;5;241m.\u001B[39myscale)\n\u001B[1;32m--> 544\u001B[0m     \u001B[38;5;28;43mself\u001B[39;49m\u001B[38;5;241;43m.\u001B[39;49m\u001B[43mcv\u001B[49m\u001B[38;5;241;43m.\u001B[39;49m\u001B[43mcoords\u001B[49m\u001B[43m(\u001B[49m\u001B[43mlineitem\u001B[49m\u001B[43m,\u001B[49m\u001B[43m \u001B[49m\u001B[38;5;241;43m*\u001B[39;49m\u001B[43mcl\u001B[49m\u001B[43m)\u001B[49m\n\u001B[0;32m    545\u001B[0m \u001B[38;5;28;01mif\u001B[39;00m fill \u001B[38;5;129;01mis\u001B[39;00m \u001B[38;5;129;01mnot\u001B[39;00m \u001B[38;5;28;01mNone\u001B[39;00m:\n",
      "File \u001B[1;32m<string>:1\u001B[0m, in \u001B[0;36mcoords\u001B[1;34m(self, *args, **kw)\u001B[0m\n",
      "File \u001B[1;32m~\\anaconda3\\lib\\tkinter\\__init__.py:2795\u001B[0m, in \u001B[0;36mCanvas.coords\u001B[1;34m(self, *args)\u001B[0m\n\u001B[0;32m   2792\u001B[0m \u001B[38;5;66;03m# XXX Should use _flatten on args\u001B[39;00m\n\u001B[0;32m   2793\u001B[0m \u001B[38;5;28;01mreturn\u001B[39;00m [\u001B[38;5;28mself\u001B[39m\u001B[38;5;241m.\u001B[39mtk\u001B[38;5;241m.\u001B[39mgetdouble(x) \u001B[38;5;28;01mfor\u001B[39;00m x \u001B[38;5;129;01min\u001B[39;00m\n\u001B[0;32m   2794\u001B[0m                    \u001B[38;5;28mself\u001B[39m\u001B[38;5;241m.\u001B[39mtk\u001B[38;5;241m.\u001B[39msplitlist(\n\u001B[1;32m-> 2795\u001B[0m            \u001B[38;5;28;43mself\u001B[39;49m\u001B[38;5;241;43m.\u001B[39;49m\u001B[43mtk\u001B[49m\u001B[38;5;241;43m.\u001B[39;49m\u001B[43mcall\u001B[49m\u001B[43m(\u001B[49m\u001B[43m(\u001B[49m\u001B[38;5;28;43mself\u001B[39;49m\u001B[38;5;241;43m.\u001B[39;49m\u001B[43m_w\u001B[49m\u001B[43m,\u001B[49m\u001B[43m \u001B[49m\u001B[38;5;124;43m'\u001B[39;49m\u001B[38;5;124;43mcoords\u001B[39;49m\u001B[38;5;124;43m'\u001B[39;49m\u001B[43m)\u001B[49m\u001B[43m \u001B[49m\u001B[38;5;241;43m+\u001B[39;49m\u001B[43m \u001B[49m\u001B[43margs\u001B[49m\u001B[43m)\u001B[49m)]\n",
      "\u001B[1;31mTclError\u001B[0m: invalid command name \".!canvas\"",
      "\nDuring handling of the above exception, another exception occurred:\n",
      "\u001B[1;31mTerminator\u001B[0m                                Traceback (most recent call last)",
      "Cell \u001B[1;32mIn[3], line 1\u001B[0m\n\u001B[1;32m----> 1\u001B[0m \u001B[43mtt\u001B[49m\u001B[38;5;241;43m.\u001B[39;49m\u001B[43mforward\u001B[49m\u001B[43m(\u001B[49m\u001B[38;5;241;43m5000\u001B[39;49m\u001B[43m)\u001B[49m\n",
      "File \u001B[1;32m<string>:12\u001B[0m, in \u001B[0;36mforward\u001B[1;34m(distance)\u001B[0m\n",
      "\u001B[1;31mTerminator\u001B[0m: "
     ]
    }
   ],
   "source": [
    "tt.forward(5000)"
   ],
   "metadata": {
    "collapsed": false,
    "ExecuteTime": {
     "start_time": "2023-05-04T17:26:17.043301Z",
     "end_time": "2023-05-04T17:26:17.168403Z"
    }
   }
  },
  {
   "cell_type": "code",
   "execution_count": null,
   "outputs": [],
   "source": [],
   "metadata": {
    "collapsed": false
   }
  }
 ],
 "metadata": {
  "kernelspec": {
   "display_name": "Python 3",
   "language": "python",
   "name": "python3"
  },
  "language_info": {
   "codemirror_mode": {
    "name": "ipython",
    "version": 3
   },
   "file_extension": ".py",
   "mimetype": "text/x-python",
   "name": "python",
   "nbconvert_exporter": "python",
   "pygments_lexer": "ipython3",
   "version": "3.7.6"
  }
 },
 "nbformat": 4,
 "nbformat_minor": 4
}
