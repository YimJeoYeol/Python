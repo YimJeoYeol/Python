{
 "cells": [
  {
   "cell_type": "code",
   "execution_count": 1,
   "metadata": {
    "ExecuteTime": {
     "start_time": "2023-05-08T08:18:07.111335Z",
     "end_time": "2023-05-08T08:18:07.123703Z"
    }
   },
   "outputs": [],
   "source": [
    "import pandas as pd"
   ]
  },
  {
   "cell_type": "markdown",
   "metadata": {},
   "source": [
    "# concat으로 데이터 합치기"
   ]
  },
  {
   "cell_type": "code",
   "execution_count": 2,
   "metadata": {
    "ExecuteTime": {
     "start_time": "2023-05-08T08:18:16.374970Z",
     "end_time": "2023-05-08T08:18:16.385000Z"
    }
   },
   "outputs": [],
   "source": [
    "df1 = pd.DataFrame({'A': [1,3,5,7,9],\n",
    "                    'B': [11,12,13,14,15],\n",
    "                    'C': [0,1,2,3,4],\n",
    "                    'D': [101,102,103,104,105]    \n",
    "},\n",
    "                  index = [1,2,3,4,5])\n",
    "\n",
    "df2 = pd.DataFrame({'A': [2,4,6,8,10],\n",
    "                    'B': [1,2,3,4,5],\n",
    "                    'C': [30,31,32,33,34],\n",
    "                    'D': [1011,1021,1031,1041,1051]    \n",
    "},\n",
    "                  index = [6,7,8,9,10])"
   ]
  },
  {
   "cell_type": "code",
   "execution_count": 3,
   "metadata": {
    "ExecuteTime": {
     "start_time": "2023-05-08T08:18:17.234358Z",
     "end_time": "2023-05-08T08:18:17.278393Z"
    }
   },
   "outputs": [
    {
     "data": {
      "text/plain": "   A   B  C    D\n1  1  11  0  101\n2  3  12  1  102\n3  5  13  2  103\n4  7  14  3  104\n5  9  15  4  105",
      "text/html": "<div>\n<style scoped>\n    .dataframe tbody tr th:only-of-type {\n        vertical-align: middle;\n    }\n\n    .dataframe tbody tr th {\n        vertical-align: top;\n    }\n\n    .dataframe thead th {\n        text-align: right;\n    }\n</style>\n<table border=\"1\" class=\"dataframe\">\n  <thead>\n    <tr style=\"text-align: right;\">\n      <th></th>\n      <th>A</th>\n      <th>B</th>\n      <th>C</th>\n      <th>D</th>\n    </tr>\n  </thead>\n  <tbody>\n    <tr>\n      <th>1</th>\n      <td>1</td>\n      <td>11</td>\n      <td>0</td>\n      <td>101</td>\n    </tr>\n    <tr>\n      <th>2</th>\n      <td>3</td>\n      <td>12</td>\n      <td>1</td>\n      <td>102</td>\n    </tr>\n    <tr>\n      <th>3</th>\n      <td>5</td>\n      <td>13</td>\n      <td>2</td>\n      <td>103</td>\n    </tr>\n    <tr>\n      <th>4</th>\n      <td>7</td>\n      <td>14</td>\n      <td>3</td>\n      <td>104</td>\n    </tr>\n    <tr>\n      <th>5</th>\n      <td>9</td>\n      <td>15</td>\n      <td>4</td>\n      <td>105</td>\n    </tr>\n  </tbody>\n</table>\n</div>"
     },
     "execution_count": 3,
     "metadata": {},
     "output_type": "execute_result"
    }
   ],
   "source": [
    "df1"
   ]
  },
  {
   "cell_type": "code",
   "execution_count": 4,
   "metadata": {
    "ExecuteTime": {
     "start_time": "2023-05-08T08:18:18.696391Z",
     "end_time": "2023-05-08T08:18:18.737336Z"
    }
   },
   "outputs": [
    {
     "data": {
      "text/plain": "     A  B   C     D\n6    2  1  30  1011\n7    4  2  31  1021\n8    6  3  32  1031\n9    8  4  33  1041\n10  10  5  34  1051",
      "text/html": "<div>\n<style scoped>\n    .dataframe tbody tr th:only-of-type {\n        vertical-align: middle;\n    }\n\n    .dataframe tbody tr th {\n        vertical-align: top;\n    }\n\n    .dataframe thead th {\n        text-align: right;\n    }\n</style>\n<table border=\"1\" class=\"dataframe\">\n  <thead>\n    <tr style=\"text-align: right;\">\n      <th></th>\n      <th>A</th>\n      <th>B</th>\n      <th>C</th>\n      <th>D</th>\n    </tr>\n  </thead>\n  <tbody>\n    <tr>\n      <th>6</th>\n      <td>2</td>\n      <td>1</td>\n      <td>30</td>\n      <td>1011</td>\n    </tr>\n    <tr>\n      <th>7</th>\n      <td>4</td>\n      <td>2</td>\n      <td>31</td>\n      <td>1021</td>\n    </tr>\n    <tr>\n      <th>8</th>\n      <td>6</td>\n      <td>3</td>\n      <td>32</td>\n      <td>1031</td>\n    </tr>\n    <tr>\n      <th>9</th>\n      <td>8</td>\n      <td>4</td>\n      <td>33</td>\n      <td>1041</td>\n    </tr>\n    <tr>\n      <th>10</th>\n      <td>10</td>\n      <td>5</td>\n      <td>34</td>\n      <td>1051</td>\n    </tr>\n  </tbody>\n</table>\n</div>"
     },
     "execution_count": 4,
     "metadata": {},
     "output_type": "execute_result"
    }
   ],
   "source": [
    "df2"
   ]
  },
  {
   "cell_type": "code",
   "execution_count": 5,
   "metadata": {
    "ExecuteTime": {
     "start_time": "2023-05-08T08:18:20.408987Z",
     "end_time": "2023-05-08T08:18:20.451584Z"
    }
   },
   "outputs": [
    {
     "data": {
      "text/plain": "     A   B   C     D\n1    1  11   0   101\n2    3  12   1   102\n3    5  13   2   103\n4    7  14   3   104\n5    9  15   4   105\n6    2   1  30  1011\n7    4   2  31  1021\n8    6   3  32  1031\n9    8   4  33  1041\n10  10   5  34  1051",
      "text/html": "<div>\n<style scoped>\n    .dataframe tbody tr th:only-of-type {\n        vertical-align: middle;\n    }\n\n    .dataframe tbody tr th {\n        vertical-align: top;\n    }\n\n    .dataframe thead th {\n        text-align: right;\n    }\n</style>\n<table border=\"1\" class=\"dataframe\">\n  <thead>\n    <tr style=\"text-align: right;\">\n      <th></th>\n      <th>A</th>\n      <th>B</th>\n      <th>C</th>\n      <th>D</th>\n    </tr>\n  </thead>\n  <tbody>\n    <tr>\n      <th>1</th>\n      <td>1</td>\n      <td>11</td>\n      <td>0</td>\n      <td>101</td>\n    </tr>\n    <tr>\n      <th>2</th>\n      <td>3</td>\n      <td>12</td>\n      <td>1</td>\n      <td>102</td>\n    </tr>\n    <tr>\n      <th>3</th>\n      <td>5</td>\n      <td>13</td>\n      <td>2</td>\n      <td>103</td>\n    </tr>\n    <tr>\n      <th>4</th>\n      <td>7</td>\n      <td>14</td>\n      <td>3</td>\n      <td>104</td>\n    </tr>\n    <tr>\n      <th>5</th>\n      <td>9</td>\n      <td>15</td>\n      <td>4</td>\n      <td>105</td>\n    </tr>\n    <tr>\n      <th>6</th>\n      <td>2</td>\n      <td>1</td>\n      <td>30</td>\n      <td>1011</td>\n    </tr>\n    <tr>\n      <th>7</th>\n      <td>4</td>\n      <td>2</td>\n      <td>31</td>\n      <td>1021</td>\n    </tr>\n    <tr>\n      <th>8</th>\n      <td>6</td>\n      <td>3</td>\n      <td>32</td>\n      <td>1031</td>\n    </tr>\n    <tr>\n      <th>9</th>\n      <td>8</td>\n      <td>4</td>\n      <td>33</td>\n      <td>1041</td>\n    </tr>\n    <tr>\n      <th>10</th>\n      <td>10</td>\n      <td>5</td>\n      <td>34</td>\n      <td>1051</td>\n    </tr>\n  </tbody>\n</table>\n</div>"
     },
     "execution_count": 5,
     "metadata": {},
     "output_type": "execute_result"
    }
   ],
   "source": [
    "pd.concat([df1, df2])"
   ]
  },
  {
   "cell_type": "code",
   "execution_count": 6,
   "metadata": {
    "ExecuteTime": {
     "start_time": "2023-05-08T08:18:29.534020Z",
     "end_time": "2023-05-08T08:18:29.593870Z"
    }
   },
   "outputs": [
    {
     "data": {
      "text/plain": "      A     B    C      D     A    B     C       D\n1   1.0  11.0  0.0  101.0   NaN  NaN   NaN     NaN\n2   3.0  12.0  1.0  102.0   NaN  NaN   NaN     NaN\n3   5.0  13.0  2.0  103.0   NaN  NaN   NaN     NaN\n4   7.0  14.0  3.0  104.0   NaN  NaN   NaN     NaN\n5   9.0  15.0  4.0  105.0   NaN  NaN   NaN     NaN\n6   NaN   NaN  NaN    NaN   2.0  1.0  30.0  1011.0\n7   NaN   NaN  NaN    NaN   4.0  2.0  31.0  1021.0\n8   NaN   NaN  NaN    NaN   6.0  3.0  32.0  1031.0\n9   NaN   NaN  NaN    NaN   8.0  4.0  33.0  1041.0\n10  NaN   NaN  NaN    NaN  10.0  5.0  34.0  1051.0",
      "text/html": "<div>\n<style scoped>\n    .dataframe tbody tr th:only-of-type {\n        vertical-align: middle;\n    }\n\n    .dataframe tbody tr th {\n        vertical-align: top;\n    }\n\n    .dataframe thead th {\n        text-align: right;\n    }\n</style>\n<table border=\"1\" class=\"dataframe\">\n  <thead>\n    <tr style=\"text-align: right;\">\n      <th></th>\n      <th>A</th>\n      <th>B</th>\n      <th>C</th>\n      <th>D</th>\n      <th>A</th>\n      <th>B</th>\n      <th>C</th>\n      <th>D</th>\n    </tr>\n  </thead>\n  <tbody>\n    <tr>\n      <th>1</th>\n      <td>1.0</td>\n      <td>11.0</td>\n      <td>0.0</td>\n      <td>101.0</td>\n      <td>NaN</td>\n      <td>NaN</td>\n      <td>NaN</td>\n      <td>NaN</td>\n    </tr>\n    <tr>\n      <th>2</th>\n      <td>3.0</td>\n      <td>12.0</td>\n      <td>1.0</td>\n      <td>102.0</td>\n      <td>NaN</td>\n      <td>NaN</td>\n      <td>NaN</td>\n      <td>NaN</td>\n    </tr>\n    <tr>\n      <th>3</th>\n      <td>5.0</td>\n      <td>13.0</td>\n      <td>2.0</td>\n      <td>103.0</td>\n      <td>NaN</td>\n      <td>NaN</td>\n      <td>NaN</td>\n      <td>NaN</td>\n    </tr>\n    <tr>\n      <th>4</th>\n      <td>7.0</td>\n      <td>14.0</td>\n      <td>3.0</td>\n      <td>104.0</td>\n      <td>NaN</td>\n      <td>NaN</td>\n      <td>NaN</td>\n      <td>NaN</td>\n    </tr>\n    <tr>\n      <th>5</th>\n      <td>9.0</td>\n      <td>15.0</td>\n      <td>4.0</td>\n      <td>105.0</td>\n      <td>NaN</td>\n      <td>NaN</td>\n      <td>NaN</td>\n      <td>NaN</td>\n    </tr>\n    <tr>\n      <th>6</th>\n      <td>NaN</td>\n      <td>NaN</td>\n      <td>NaN</td>\n      <td>NaN</td>\n      <td>2.0</td>\n      <td>1.0</td>\n      <td>30.0</td>\n      <td>1011.0</td>\n    </tr>\n    <tr>\n      <th>7</th>\n      <td>NaN</td>\n      <td>NaN</td>\n      <td>NaN</td>\n      <td>NaN</td>\n      <td>4.0</td>\n      <td>2.0</td>\n      <td>31.0</td>\n      <td>1021.0</td>\n    </tr>\n    <tr>\n      <th>8</th>\n      <td>NaN</td>\n      <td>NaN</td>\n      <td>NaN</td>\n      <td>NaN</td>\n      <td>6.0</td>\n      <td>3.0</td>\n      <td>32.0</td>\n      <td>1031.0</td>\n    </tr>\n    <tr>\n      <th>9</th>\n      <td>NaN</td>\n      <td>NaN</td>\n      <td>NaN</td>\n      <td>NaN</td>\n      <td>8.0</td>\n      <td>4.0</td>\n      <td>33.0</td>\n      <td>1041.0</td>\n    </tr>\n    <tr>\n      <th>10</th>\n      <td>NaN</td>\n      <td>NaN</td>\n      <td>NaN</td>\n      <td>NaN</td>\n      <td>10.0</td>\n      <td>5.0</td>\n      <td>34.0</td>\n      <td>1051.0</td>\n    </tr>\n  </tbody>\n</table>\n</div>"
     },
     "execution_count": 6,
     "metadata": {},
     "output_type": "execute_result"
    }
   ],
   "source": [
    "# index가 일치하지 않아 아래와 같은 모양으로 결합됨\n",
    "pd.concat([df1,df2], axis = 1)"
   ]
  },
  {
   "cell_type": "code",
   "execution_count": 7,
   "metadata": {
    "ExecuteTime": {
     "start_time": "2023-05-08T08:18:41.327060Z",
     "end_time": "2023-05-08T08:18:41.347051Z"
    }
   },
   "outputs": [],
   "source": [
    "# index 일치시키기\n",
    "df1.reset_index(drop=True, inplace = True)\n",
    "df2.reset_index(drop = True, inplace = True)"
   ]
  },
  {
   "cell_type": "code",
   "execution_count": 8,
   "metadata": {
    "ExecuteTime": {
     "start_time": "2023-05-08T08:18:42.516916Z",
     "end_time": "2023-05-08T08:18:42.554246Z"
    }
   },
   "outputs": [
    {
     "data": {
      "text/plain": "   A   B  C    D\n0  1  11  0  101\n1  3  12  1  102\n2  5  13  2  103\n3  7  14  3  104\n4  9  15  4  105",
      "text/html": "<div>\n<style scoped>\n    .dataframe tbody tr th:only-of-type {\n        vertical-align: middle;\n    }\n\n    .dataframe tbody tr th {\n        vertical-align: top;\n    }\n\n    .dataframe thead th {\n        text-align: right;\n    }\n</style>\n<table border=\"1\" class=\"dataframe\">\n  <thead>\n    <tr style=\"text-align: right;\">\n      <th></th>\n      <th>A</th>\n      <th>B</th>\n      <th>C</th>\n      <th>D</th>\n    </tr>\n  </thead>\n  <tbody>\n    <tr>\n      <th>0</th>\n      <td>1</td>\n      <td>11</td>\n      <td>0</td>\n      <td>101</td>\n    </tr>\n    <tr>\n      <th>1</th>\n      <td>3</td>\n      <td>12</td>\n      <td>1</td>\n      <td>102</td>\n    </tr>\n    <tr>\n      <th>2</th>\n      <td>5</td>\n      <td>13</td>\n      <td>2</td>\n      <td>103</td>\n    </tr>\n    <tr>\n      <th>3</th>\n      <td>7</td>\n      <td>14</td>\n      <td>3</td>\n      <td>104</td>\n    </tr>\n    <tr>\n      <th>4</th>\n      <td>9</td>\n      <td>15</td>\n      <td>4</td>\n      <td>105</td>\n    </tr>\n  </tbody>\n</table>\n</div>"
     },
     "execution_count": 8,
     "metadata": {},
     "output_type": "execute_result"
    }
   ],
   "source": [
    "df1"
   ]
  },
  {
   "cell_type": "code",
   "execution_count": 9,
   "metadata": {
    "ExecuteTime": {
     "start_time": "2023-05-08T08:18:43.628265Z",
     "end_time": "2023-05-08T08:18:43.675089Z"
    }
   },
   "outputs": [
    {
     "data": {
      "text/plain": "    A  B   C     D\n0   2  1  30  1011\n1   4  2  31  1021\n2   6  3  32  1031\n3   8  4  33  1041\n4  10  5  34  1051",
      "text/html": "<div>\n<style scoped>\n    .dataframe tbody tr th:only-of-type {\n        vertical-align: middle;\n    }\n\n    .dataframe tbody tr th {\n        vertical-align: top;\n    }\n\n    .dataframe thead th {\n        text-align: right;\n    }\n</style>\n<table border=\"1\" class=\"dataframe\">\n  <thead>\n    <tr style=\"text-align: right;\">\n      <th></th>\n      <th>A</th>\n      <th>B</th>\n      <th>C</th>\n      <th>D</th>\n    </tr>\n  </thead>\n  <tbody>\n    <tr>\n      <th>0</th>\n      <td>2</td>\n      <td>1</td>\n      <td>30</td>\n      <td>1011</td>\n    </tr>\n    <tr>\n      <th>1</th>\n      <td>4</td>\n      <td>2</td>\n      <td>31</td>\n      <td>1021</td>\n    </tr>\n    <tr>\n      <th>2</th>\n      <td>6</td>\n      <td>3</td>\n      <td>32</td>\n      <td>1031</td>\n    </tr>\n    <tr>\n      <th>3</th>\n      <td>8</td>\n      <td>4</td>\n      <td>33</td>\n      <td>1041</td>\n    </tr>\n    <tr>\n      <th>4</th>\n      <td>10</td>\n      <td>5</td>\n      <td>34</td>\n      <td>1051</td>\n    </tr>\n  </tbody>\n</table>\n</div>"
     },
     "execution_count": 9,
     "metadata": {},
     "output_type": "execute_result"
    }
   ],
   "source": [
    "df2"
   ]
  },
  {
   "cell_type": "code",
   "execution_count": 10,
   "metadata": {
    "ExecuteTime": {
     "start_time": "2023-05-08T08:18:45.842125Z",
     "end_time": "2023-05-08T08:18:45.852833Z"
    }
   },
   "outputs": [
    {
     "data": {
      "text/plain": "   A   B  C    D   A  B   C     D\n0  1  11  0  101   2  1  30  1011\n1  3  12  1  102   4  2  31  1021\n2  5  13  2  103   6  3  32  1031\n3  7  14  3  104   8  4  33  1041\n4  9  15  4  105  10  5  34  1051",
      "text/html": "<div>\n<style scoped>\n    .dataframe tbody tr th:only-of-type {\n        vertical-align: middle;\n    }\n\n    .dataframe tbody tr th {\n        vertical-align: top;\n    }\n\n    .dataframe thead th {\n        text-align: right;\n    }\n</style>\n<table border=\"1\" class=\"dataframe\">\n  <thead>\n    <tr style=\"text-align: right;\">\n      <th></th>\n      <th>A</th>\n      <th>B</th>\n      <th>C</th>\n      <th>D</th>\n      <th>A</th>\n      <th>B</th>\n      <th>C</th>\n      <th>D</th>\n    </tr>\n  </thead>\n  <tbody>\n    <tr>\n      <th>0</th>\n      <td>1</td>\n      <td>11</td>\n      <td>0</td>\n      <td>101</td>\n      <td>2</td>\n      <td>1</td>\n      <td>30</td>\n      <td>1011</td>\n    </tr>\n    <tr>\n      <th>1</th>\n      <td>3</td>\n      <td>12</td>\n      <td>1</td>\n      <td>102</td>\n      <td>4</td>\n      <td>2</td>\n      <td>31</td>\n      <td>1021</td>\n    </tr>\n    <tr>\n      <th>2</th>\n      <td>5</td>\n      <td>13</td>\n      <td>2</td>\n      <td>103</td>\n      <td>6</td>\n      <td>3</td>\n      <td>32</td>\n      <td>1031</td>\n    </tr>\n    <tr>\n      <th>3</th>\n      <td>7</td>\n      <td>14</td>\n      <td>3</td>\n      <td>104</td>\n      <td>8</td>\n      <td>4</td>\n      <td>33</td>\n      <td>1041</td>\n    </tr>\n    <tr>\n      <th>4</th>\n      <td>9</td>\n      <td>15</td>\n      <td>4</td>\n      <td>105</td>\n      <td>10</td>\n      <td>5</td>\n      <td>34</td>\n      <td>1051</td>\n    </tr>\n  </tbody>\n</table>\n</div>"
     },
     "execution_count": 10,
     "metadata": {},
     "output_type": "execute_result"
    }
   ],
   "source": [
    "pd.concat([df1, df2], axis = 1)"
   ]
  },
  {
   "cell_type": "markdown",
   "metadata": {},
   "source": [
    "# merge로 데이터 합치기"
   ]
  },
  {
   "cell_type": "code",
   "execution_count": 11,
   "metadata": {
    "ExecuteTime": {
     "start_time": "2023-05-08T08:18:51.617974Z",
     "end_time": "2023-05-08T08:18:51.633549Z"
    }
   },
   "outputs": [],
   "source": [
    "df1 = pd.DataFrame({'id': ['X01','X02','X03','X04','X05'],\n",
    "                    'A': [1,3,5,7,9],\n",
    "                    'B': [11,12,13,14,15],\n",
    "                    'C': [0,1,2,3,4],\n",
    "                    'D': [101,102,103,104,105]    \n",
    "})\n",
    "\n",
    "\n",
    "df2 = pd.DataFrame({'id': ['X01','X02','X03','X04','X06'],\n",
    "                    'E': [2,4,6,8,10],\n",
    "                    'F': [1,2,3,4,5],\n",
    "                    'G': [30,31,32,33,34],\n",
    "                    'H': [1011,1021,1031,1041,1051]    \n",
    "})"
   ]
  },
  {
   "cell_type": "code",
   "execution_count": 12,
   "metadata": {
    "ExecuteTime": {
     "start_time": "2023-05-08T08:18:52.868463Z",
     "end_time": "2023-05-08T08:18:52.899801Z"
    }
   },
   "outputs": [
    {
     "data": {
      "text/plain": "    id  A   B  C    D\n0  X01  1  11  0  101\n1  X02  3  12  1  102\n2  X03  5  13  2  103\n3  X04  7  14  3  104\n4  X05  9  15  4  105",
      "text/html": "<div>\n<style scoped>\n    .dataframe tbody tr th:only-of-type {\n        vertical-align: middle;\n    }\n\n    .dataframe tbody tr th {\n        vertical-align: top;\n    }\n\n    .dataframe thead th {\n        text-align: right;\n    }\n</style>\n<table border=\"1\" class=\"dataframe\">\n  <thead>\n    <tr style=\"text-align: right;\">\n      <th></th>\n      <th>id</th>\n      <th>A</th>\n      <th>B</th>\n      <th>C</th>\n      <th>D</th>\n    </tr>\n  </thead>\n  <tbody>\n    <tr>\n      <th>0</th>\n      <td>X01</td>\n      <td>1</td>\n      <td>11</td>\n      <td>0</td>\n      <td>101</td>\n    </tr>\n    <tr>\n      <th>1</th>\n      <td>X02</td>\n      <td>3</td>\n      <td>12</td>\n      <td>1</td>\n      <td>102</td>\n    </tr>\n    <tr>\n      <th>2</th>\n      <td>X03</td>\n      <td>5</td>\n      <td>13</td>\n      <td>2</td>\n      <td>103</td>\n    </tr>\n    <tr>\n      <th>3</th>\n      <td>X04</td>\n      <td>7</td>\n      <td>14</td>\n      <td>3</td>\n      <td>104</td>\n    </tr>\n    <tr>\n      <th>4</th>\n      <td>X05</td>\n      <td>9</td>\n      <td>15</td>\n      <td>4</td>\n      <td>105</td>\n    </tr>\n  </tbody>\n</table>\n</div>"
     },
     "execution_count": 12,
     "metadata": {},
     "output_type": "execute_result"
    }
   ],
   "source": [
    "df1"
   ]
  },
  {
   "cell_type": "code",
   "execution_count": 13,
   "metadata": {
    "ExecuteTime": {
     "start_time": "2023-05-08T08:18:53.878021Z",
     "end_time": "2023-05-08T08:18:53.924895Z"
    }
   },
   "outputs": [
    {
     "data": {
      "text/plain": "    id   E  F   G     H\n0  X01   2  1  30  1011\n1  X02   4  2  31  1021\n2  X03   6  3  32  1031\n3  X04   8  4  33  1041\n4  X06  10  5  34  1051",
      "text/html": "<div>\n<style scoped>\n    .dataframe tbody tr th:only-of-type {\n        vertical-align: middle;\n    }\n\n    .dataframe tbody tr th {\n        vertical-align: top;\n    }\n\n    .dataframe thead th {\n        text-align: right;\n    }\n</style>\n<table border=\"1\" class=\"dataframe\">\n  <thead>\n    <tr style=\"text-align: right;\">\n      <th></th>\n      <th>id</th>\n      <th>E</th>\n      <th>F</th>\n      <th>G</th>\n      <th>H</th>\n    </tr>\n  </thead>\n  <tbody>\n    <tr>\n      <th>0</th>\n      <td>X01</td>\n      <td>2</td>\n      <td>1</td>\n      <td>30</td>\n      <td>1011</td>\n    </tr>\n    <tr>\n      <th>1</th>\n      <td>X02</td>\n      <td>4</td>\n      <td>2</td>\n      <td>31</td>\n      <td>1021</td>\n    </tr>\n    <tr>\n      <th>2</th>\n      <td>X03</td>\n      <td>6</td>\n      <td>3</td>\n      <td>32</td>\n      <td>1031</td>\n    </tr>\n    <tr>\n      <th>3</th>\n      <td>X04</td>\n      <td>8</td>\n      <td>4</td>\n      <td>33</td>\n      <td>1041</td>\n    </tr>\n    <tr>\n      <th>4</th>\n      <td>X06</td>\n      <td>10</td>\n      <td>5</td>\n      <td>34</td>\n      <td>1051</td>\n    </tr>\n  </tbody>\n</table>\n</div>"
     },
     "execution_count": 13,
     "metadata": {},
     "output_type": "execute_result"
    }
   ],
   "source": [
    "df2"
   ]
  },
  {
   "cell_type": "code",
   "execution_count": 14,
   "metadata": {
    "ExecuteTime": {
     "start_time": "2023-05-08T08:19:00.568824Z",
     "end_time": "2023-05-08T08:19:00.584448Z"
    }
   },
   "outputs": [
    {
     "data": {
      "text/plain": "    id  A   B  C    D  E  F   G     H\n0  X01  1  11  0  101  2  1  30  1011\n1  X02  3  12  1  102  4  2  31  1021\n2  X03  5  13  2  103  6  3  32  1031\n3  X04  7  14  3  104  8  4  33  1041",
      "text/html": "<div>\n<style scoped>\n    .dataframe tbody tr th:only-of-type {\n        vertical-align: middle;\n    }\n\n    .dataframe tbody tr th {\n        vertical-align: top;\n    }\n\n    .dataframe thead th {\n        text-align: right;\n    }\n</style>\n<table border=\"1\" class=\"dataframe\">\n  <thead>\n    <tr style=\"text-align: right;\">\n      <th></th>\n      <th>id</th>\n      <th>A</th>\n      <th>B</th>\n      <th>C</th>\n      <th>D</th>\n      <th>E</th>\n      <th>F</th>\n      <th>G</th>\n      <th>H</th>\n    </tr>\n  </thead>\n  <tbody>\n    <tr>\n      <th>0</th>\n      <td>X01</td>\n      <td>1</td>\n      <td>11</td>\n      <td>0</td>\n      <td>101</td>\n      <td>2</td>\n      <td>1</td>\n      <td>30</td>\n      <td>1011</td>\n    </tr>\n    <tr>\n      <th>1</th>\n      <td>X02</td>\n      <td>3</td>\n      <td>12</td>\n      <td>1</td>\n      <td>102</td>\n      <td>4</td>\n      <td>2</td>\n      <td>31</td>\n      <td>1021</td>\n    </tr>\n    <tr>\n      <th>2</th>\n      <td>X03</td>\n      <td>5</td>\n      <td>13</td>\n      <td>2</td>\n      <td>103</td>\n      <td>6</td>\n      <td>3</td>\n      <td>32</td>\n      <td>1031</td>\n    </tr>\n    <tr>\n      <th>3</th>\n      <td>X04</td>\n      <td>7</td>\n      <td>14</td>\n      <td>3</td>\n      <td>104</td>\n      <td>8</td>\n      <td>4</td>\n      <td>33</td>\n      <td>1041</td>\n    </tr>\n  </tbody>\n</table>\n</div>"
     },
     "execution_count": 14,
     "metadata": {},
     "output_type": "execute_result"
    }
   ],
   "source": [
    "pd.merge(df1, df2, on = 'id')"
   ]
  },
  {
   "cell_type": "code",
   "execution_count": 15,
   "metadata": {
    "ExecuteTime": {
     "start_time": "2023-05-08T08:19:05.728543Z",
     "end_time": "2023-05-08T08:19:05.759759Z"
    }
   },
   "outputs": [
    {
     "data": {
      "text/plain": "    id  A   B  C    D  E  F   G     H\n0  X01  1  11  0  101  2  1  30  1011\n1  X02  3  12  1  102  4  2  31  1021\n2  X03  5  13  2  103  6  3  32  1031\n3  X04  7  14  3  104  8  4  33  1041",
      "text/html": "<div>\n<style scoped>\n    .dataframe tbody tr th:only-of-type {\n        vertical-align: middle;\n    }\n\n    .dataframe tbody tr th {\n        vertical-align: top;\n    }\n\n    .dataframe thead th {\n        text-align: right;\n    }\n</style>\n<table border=\"1\" class=\"dataframe\">\n  <thead>\n    <tr style=\"text-align: right;\">\n      <th></th>\n      <th>id</th>\n      <th>A</th>\n      <th>B</th>\n      <th>C</th>\n      <th>D</th>\n      <th>E</th>\n      <th>F</th>\n      <th>G</th>\n      <th>H</th>\n    </tr>\n  </thead>\n  <tbody>\n    <tr>\n      <th>0</th>\n      <td>X01</td>\n      <td>1</td>\n      <td>11</td>\n      <td>0</td>\n      <td>101</td>\n      <td>2</td>\n      <td>1</td>\n      <td>30</td>\n      <td>1011</td>\n    </tr>\n    <tr>\n      <th>1</th>\n      <td>X02</td>\n      <td>3</td>\n      <td>12</td>\n      <td>1</td>\n      <td>102</td>\n      <td>4</td>\n      <td>2</td>\n      <td>31</td>\n      <td>1021</td>\n    </tr>\n    <tr>\n      <th>2</th>\n      <td>X03</td>\n      <td>5</td>\n      <td>13</td>\n      <td>2</td>\n      <td>103</td>\n      <td>6</td>\n      <td>3</td>\n      <td>32</td>\n      <td>1031</td>\n    </tr>\n    <tr>\n      <th>3</th>\n      <td>X04</td>\n      <td>7</td>\n      <td>14</td>\n      <td>3</td>\n      <td>104</td>\n      <td>8</td>\n      <td>4</td>\n      <td>33</td>\n      <td>1041</td>\n    </tr>\n  </tbody>\n</table>\n</div>"
     },
     "execution_count": 15,
     "metadata": {},
     "output_type": "execute_result"
    }
   ],
   "source": [
    "pd.merge(df1, df2, on = 'id', how = 'inner')"
   ]
  },
  {
   "cell_type": "code",
   "execution_count": 16,
   "metadata": {
    "ExecuteTime": {
     "start_time": "2023-05-08T08:19:08.311061Z",
     "end_time": "2023-05-08T08:19:08.326717Z"
    }
   },
   "outputs": [
    {
     "data": {
      "text/plain": "    id    A     B    C      D     E    F     G       H\n0  X01  1.0  11.0  0.0  101.0   2.0  1.0  30.0  1011.0\n1  X02  3.0  12.0  1.0  102.0   4.0  2.0  31.0  1021.0\n2  X03  5.0  13.0  2.0  103.0   6.0  3.0  32.0  1031.0\n3  X04  7.0  14.0  3.0  104.0   8.0  4.0  33.0  1041.0\n4  X05  9.0  15.0  4.0  105.0   NaN  NaN   NaN     NaN\n5  X06  NaN   NaN  NaN    NaN  10.0  5.0  34.0  1051.0",
      "text/html": "<div>\n<style scoped>\n    .dataframe tbody tr th:only-of-type {\n        vertical-align: middle;\n    }\n\n    .dataframe tbody tr th {\n        vertical-align: top;\n    }\n\n    .dataframe thead th {\n        text-align: right;\n    }\n</style>\n<table border=\"1\" class=\"dataframe\">\n  <thead>\n    <tr style=\"text-align: right;\">\n      <th></th>\n      <th>id</th>\n      <th>A</th>\n      <th>B</th>\n      <th>C</th>\n      <th>D</th>\n      <th>E</th>\n      <th>F</th>\n      <th>G</th>\n      <th>H</th>\n    </tr>\n  </thead>\n  <tbody>\n    <tr>\n      <th>0</th>\n      <td>X01</td>\n      <td>1.0</td>\n      <td>11.0</td>\n      <td>0.0</td>\n      <td>101.0</td>\n      <td>2.0</td>\n      <td>1.0</td>\n      <td>30.0</td>\n      <td>1011.0</td>\n    </tr>\n    <tr>\n      <th>1</th>\n      <td>X02</td>\n      <td>3.0</td>\n      <td>12.0</td>\n      <td>1.0</td>\n      <td>102.0</td>\n      <td>4.0</td>\n      <td>2.0</td>\n      <td>31.0</td>\n      <td>1021.0</td>\n    </tr>\n    <tr>\n      <th>2</th>\n      <td>X03</td>\n      <td>5.0</td>\n      <td>13.0</td>\n      <td>2.0</td>\n      <td>103.0</td>\n      <td>6.0</td>\n      <td>3.0</td>\n      <td>32.0</td>\n      <td>1031.0</td>\n    </tr>\n    <tr>\n      <th>3</th>\n      <td>X04</td>\n      <td>7.0</td>\n      <td>14.0</td>\n      <td>3.0</td>\n      <td>104.0</td>\n      <td>8.0</td>\n      <td>4.0</td>\n      <td>33.0</td>\n      <td>1041.0</td>\n    </tr>\n    <tr>\n      <th>4</th>\n      <td>X05</td>\n      <td>9.0</td>\n      <td>15.0</td>\n      <td>4.0</td>\n      <td>105.0</td>\n      <td>NaN</td>\n      <td>NaN</td>\n      <td>NaN</td>\n      <td>NaN</td>\n    </tr>\n    <tr>\n      <th>5</th>\n      <td>X06</td>\n      <td>NaN</td>\n      <td>NaN</td>\n      <td>NaN</td>\n      <td>NaN</td>\n      <td>10.0</td>\n      <td>5.0</td>\n      <td>34.0</td>\n      <td>1051.0</td>\n    </tr>\n  </tbody>\n</table>\n</div>"
     },
     "execution_count": 16,
     "metadata": {},
     "output_type": "execute_result"
    }
   ],
   "source": [
    "pd.merge(df1, df2, on = 'id', how = 'outer')"
   ]
  },
  {
   "cell_type": "code",
   "execution_count": 17,
   "metadata": {
    "ExecuteTime": {
     "start_time": "2023-05-08T08:19:10.851166Z",
     "end_time": "2023-05-08T08:19:10.882417Z"
    }
   },
   "outputs": [
    {
     "data": {
      "text/plain": "    id  A   B  C    D    E    F     G       H\n0  X01  1  11  0  101  2.0  1.0  30.0  1011.0\n1  X02  3  12  1  102  4.0  2.0  31.0  1021.0\n2  X03  5  13  2  103  6.0  3.0  32.0  1031.0\n3  X04  7  14  3  104  8.0  4.0  33.0  1041.0\n4  X05  9  15  4  105  NaN  NaN   NaN     NaN",
      "text/html": "<div>\n<style scoped>\n    .dataframe tbody tr th:only-of-type {\n        vertical-align: middle;\n    }\n\n    .dataframe tbody tr th {\n        vertical-align: top;\n    }\n\n    .dataframe thead th {\n        text-align: right;\n    }\n</style>\n<table border=\"1\" class=\"dataframe\">\n  <thead>\n    <tr style=\"text-align: right;\">\n      <th></th>\n      <th>id</th>\n      <th>A</th>\n      <th>B</th>\n      <th>C</th>\n      <th>D</th>\n      <th>E</th>\n      <th>F</th>\n      <th>G</th>\n      <th>H</th>\n    </tr>\n  </thead>\n  <tbody>\n    <tr>\n      <th>0</th>\n      <td>X01</td>\n      <td>1</td>\n      <td>11</td>\n      <td>0</td>\n      <td>101</td>\n      <td>2.0</td>\n      <td>1.0</td>\n      <td>30.0</td>\n      <td>1011.0</td>\n    </tr>\n    <tr>\n      <th>1</th>\n      <td>X02</td>\n      <td>3</td>\n      <td>12</td>\n      <td>1</td>\n      <td>102</td>\n      <td>4.0</td>\n      <td>2.0</td>\n      <td>31.0</td>\n      <td>1021.0</td>\n    </tr>\n    <tr>\n      <th>2</th>\n      <td>X03</td>\n      <td>5</td>\n      <td>13</td>\n      <td>2</td>\n      <td>103</td>\n      <td>6.0</td>\n      <td>3.0</td>\n      <td>32.0</td>\n      <td>1031.0</td>\n    </tr>\n    <tr>\n      <th>3</th>\n      <td>X04</td>\n      <td>7</td>\n      <td>14</td>\n      <td>3</td>\n      <td>104</td>\n      <td>8.0</td>\n      <td>4.0</td>\n      <td>33.0</td>\n      <td>1041.0</td>\n    </tr>\n    <tr>\n      <th>4</th>\n      <td>X05</td>\n      <td>9</td>\n      <td>15</td>\n      <td>4</td>\n      <td>105</td>\n      <td>NaN</td>\n      <td>NaN</td>\n      <td>NaN</td>\n      <td>NaN</td>\n    </tr>\n  </tbody>\n</table>\n</div>"
     },
     "execution_count": 17,
     "metadata": {},
     "output_type": "execute_result"
    }
   ],
   "source": [
    "pd.merge(df1, df2, on = 'id', how = 'left')"
   ]
  },
  {
   "cell_type": "code",
   "execution_count": 18,
   "metadata": {
    "ExecuteTime": {
     "start_time": "2023-05-08T08:19:12.274973Z",
     "end_time": "2023-05-08T08:19:12.290603Z"
    }
   },
   "outputs": [
    {
     "data": {
      "text/plain": "    id    A     B    C      D   E  F   G     H\n0  X01  1.0  11.0  0.0  101.0   2  1  30  1011\n1  X02  3.0  12.0  1.0  102.0   4  2  31  1021\n2  X03  5.0  13.0  2.0  103.0   6  3  32  1031\n3  X04  7.0  14.0  3.0  104.0   8  4  33  1041\n4  X06  NaN   NaN  NaN    NaN  10  5  34  1051",
      "text/html": "<div>\n<style scoped>\n    .dataframe tbody tr th:only-of-type {\n        vertical-align: middle;\n    }\n\n    .dataframe tbody tr th {\n        vertical-align: top;\n    }\n\n    .dataframe thead th {\n        text-align: right;\n    }\n</style>\n<table border=\"1\" class=\"dataframe\">\n  <thead>\n    <tr style=\"text-align: right;\">\n      <th></th>\n      <th>id</th>\n      <th>A</th>\n      <th>B</th>\n      <th>C</th>\n      <th>D</th>\n      <th>E</th>\n      <th>F</th>\n      <th>G</th>\n      <th>H</th>\n    </tr>\n  </thead>\n  <tbody>\n    <tr>\n      <th>0</th>\n      <td>X01</td>\n      <td>1.0</td>\n      <td>11.0</td>\n      <td>0.0</td>\n      <td>101.0</td>\n      <td>2</td>\n      <td>1</td>\n      <td>30</td>\n      <td>1011</td>\n    </tr>\n    <tr>\n      <th>1</th>\n      <td>X02</td>\n      <td>3.0</td>\n      <td>12.0</td>\n      <td>1.0</td>\n      <td>102.0</td>\n      <td>4</td>\n      <td>2</td>\n      <td>31</td>\n      <td>1021</td>\n    </tr>\n    <tr>\n      <th>2</th>\n      <td>X03</td>\n      <td>5.0</td>\n      <td>13.0</td>\n      <td>2.0</td>\n      <td>103.0</td>\n      <td>6</td>\n      <td>3</td>\n      <td>32</td>\n      <td>1031</td>\n    </tr>\n    <tr>\n      <th>3</th>\n      <td>X04</td>\n      <td>7.0</td>\n      <td>14.0</td>\n      <td>3.0</td>\n      <td>104.0</td>\n      <td>8</td>\n      <td>4</td>\n      <td>33</td>\n      <td>1041</td>\n    </tr>\n    <tr>\n      <th>4</th>\n      <td>X06</td>\n      <td>NaN</td>\n      <td>NaN</td>\n      <td>NaN</td>\n      <td>NaN</td>\n      <td>10</td>\n      <td>5</td>\n      <td>34</td>\n      <td>1051</td>\n    </tr>\n  </tbody>\n</table>\n</div>"
     },
     "execution_count": 18,
     "metadata": {},
     "output_type": "execute_result"
    }
   ],
   "source": [
    "pd.merge(df1, df2, on = 'id', how = 'right')"
   ]
  },
  {
   "cell_type": "code",
   "execution_count": 19,
   "metadata": {
    "ExecuteTime": {
     "start_time": "2023-05-08T08:19:23.628911Z",
     "end_time": "2023-05-08T08:19:23.660108Z"
    }
   },
   "outputs": [],
   "source": [
    "# 연습을 위해 key 컬럼의 이름 변경\n",
    "df2 = pd.DataFrame({'user_id': ['X01','X02','X03','X04','X06'],\n",
    "                    'E': [2,4,6,8,10],\n",
    "                    'F': [1,2,3,4,5],\n",
    "                    'G': [30,31,32,33,34],\n",
    "                    'H': [1011,1021,1031,1041,1051]    \n",
    "})"
   ]
  },
  {
   "cell_type": "code",
   "execution_count": 20,
   "metadata": {
    "ExecuteTime": {
     "start_time": "2023-05-08T08:19:23.660108Z",
     "end_time": "2023-05-08T08:19:23.675730Z"
    }
   },
   "outputs": [
    {
     "data": {
      "text/plain": "    id  A   B  C    D user_id  E  F   G     H\n0  X01  1  11  0  101     X01  2  1  30  1011\n1  X02  3  12  1  102     X02  4  2  31  1021\n2  X03  5  13  2  103     X03  6  3  32  1031\n3  X04  7  14  3  104     X04  8  4  33  1041",
      "text/html": "<div>\n<style scoped>\n    .dataframe tbody tr th:only-of-type {\n        vertical-align: middle;\n    }\n\n    .dataframe tbody tr th {\n        vertical-align: top;\n    }\n\n    .dataframe thead th {\n        text-align: right;\n    }\n</style>\n<table border=\"1\" class=\"dataframe\">\n  <thead>\n    <tr style=\"text-align: right;\">\n      <th></th>\n      <th>id</th>\n      <th>A</th>\n      <th>B</th>\n      <th>C</th>\n      <th>D</th>\n      <th>user_id</th>\n      <th>E</th>\n      <th>F</th>\n      <th>G</th>\n      <th>H</th>\n    </tr>\n  </thead>\n  <tbody>\n    <tr>\n      <th>0</th>\n      <td>X01</td>\n      <td>1</td>\n      <td>11</td>\n      <td>0</td>\n      <td>101</td>\n      <td>X01</td>\n      <td>2</td>\n      <td>1</td>\n      <td>30</td>\n      <td>1011</td>\n    </tr>\n    <tr>\n      <th>1</th>\n      <td>X02</td>\n      <td>3</td>\n      <td>12</td>\n      <td>1</td>\n      <td>102</td>\n      <td>X02</td>\n      <td>4</td>\n      <td>2</td>\n      <td>31</td>\n      <td>1021</td>\n    </tr>\n    <tr>\n      <th>2</th>\n      <td>X03</td>\n      <td>5</td>\n      <td>13</td>\n      <td>2</td>\n      <td>103</td>\n      <td>X03</td>\n      <td>6</td>\n      <td>3</td>\n      <td>32</td>\n      <td>1031</td>\n    </tr>\n    <tr>\n      <th>3</th>\n      <td>X04</td>\n      <td>7</td>\n      <td>14</td>\n      <td>3</td>\n      <td>104</td>\n      <td>X04</td>\n      <td>8</td>\n      <td>4</td>\n      <td>33</td>\n      <td>1041</td>\n    </tr>\n  </tbody>\n</table>\n</div>"
     },
     "execution_count": 20,
     "metadata": {},
     "output_type": "execute_result"
    }
   ],
   "source": [
    "# key 컬럼의 이름이 다른 경우\n",
    "pd.merge(df1, df2, left_on = 'id', right_on='user_id')"
   ]
  },
  {
   "cell_type": "markdown",
   "metadata": {},
   "source": [
    "# join으로 데이터 합치기"
   ]
  },
  {
   "cell_type": "code",
   "execution_count": 21,
   "metadata": {
    "ExecuteTime": {
     "start_time": "2023-05-08T08:19:30.847911Z",
     "end_time": "2023-05-08T08:19:30.863536Z"
    }
   },
   "outputs": [],
   "source": [
    "df1 = pd.DataFrame({'A': [1,3,5,7,9],\n",
    "                    'B': [11,12,13,14,15],\n",
    "                    'C': [0,1,2,3,4],\n",
    "                    'D': [101,102,103,104,105]    \n",
    "},\n",
    "                  index = [1,2,3,4,5])\n",
    "\n",
    "\n",
    "df2 = pd.DataFrame({'E': [2,4,6,8,10],\n",
    "                    'F': [1,2,3,4,5],\n",
    "                    'G': [30,31,32,33,34],\n",
    "                    'H': [1011,1021,1031,1041,1051]    \n",
    "},\n",
    "                  index = [6,7,8,9,10])"
   ]
  },
  {
   "cell_type": "code",
   "execution_count": 22,
   "metadata": {
    "ExecuteTime": {
     "start_time": "2023-05-08T08:19:32.091182Z",
     "end_time": "2023-05-08T08:19:32.122533Z"
    }
   },
   "outputs": [
    {
     "data": {
      "text/plain": "   A   B  C    D\n1  1  11  0  101\n2  3  12  1  102\n3  5  13  2  103\n4  7  14  3  104\n5  9  15  4  105",
      "text/html": "<div>\n<style scoped>\n    .dataframe tbody tr th:only-of-type {\n        vertical-align: middle;\n    }\n\n    .dataframe tbody tr th {\n        vertical-align: top;\n    }\n\n    .dataframe thead th {\n        text-align: right;\n    }\n</style>\n<table border=\"1\" class=\"dataframe\">\n  <thead>\n    <tr style=\"text-align: right;\">\n      <th></th>\n      <th>A</th>\n      <th>B</th>\n      <th>C</th>\n      <th>D</th>\n    </tr>\n  </thead>\n  <tbody>\n    <tr>\n      <th>1</th>\n      <td>1</td>\n      <td>11</td>\n      <td>0</td>\n      <td>101</td>\n    </tr>\n    <tr>\n      <th>2</th>\n      <td>3</td>\n      <td>12</td>\n      <td>1</td>\n      <td>102</td>\n    </tr>\n    <tr>\n      <th>3</th>\n      <td>5</td>\n      <td>13</td>\n      <td>2</td>\n      <td>103</td>\n    </tr>\n    <tr>\n      <th>4</th>\n      <td>7</td>\n      <td>14</td>\n      <td>3</td>\n      <td>104</td>\n    </tr>\n    <tr>\n      <th>5</th>\n      <td>9</td>\n      <td>15</td>\n      <td>4</td>\n      <td>105</td>\n    </tr>\n  </tbody>\n</table>\n</div>"
     },
     "execution_count": 22,
     "metadata": {},
     "output_type": "execute_result"
    }
   ],
   "source": [
    "df1"
   ]
  },
  {
   "cell_type": "code",
   "execution_count": 23,
   "metadata": {
    "ExecuteTime": {
     "start_time": "2023-05-08T08:19:33.007805Z",
     "end_time": "2023-05-08T08:19:33.054784Z"
    }
   },
   "outputs": [
    {
     "data": {
      "text/plain": "     E  F   G     H\n6    2  1  30  1011\n7    4  2  31  1021\n8    6  3  32  1031\n9    8  4  33  1041\n10  10  5  34  1051",
      "text/html": "<div>\n<style scoped>\n    .dataframe tbody tr th:only-of-type {\n        vertical-align: middle;\n    }\n\n    .dataframe tbody tr th {\n        vertical-align: top;\n    }\n\n    .dataframe thead th {\n        text-align: right;\n    }\n</style>\n<table border=\"1\" class=\"dataframe\">\n  <thead>\n    <tr style=\"text-align: right;\">\n      <th></th>\n      <th>E</th>\n      <th>F</th>\n      <th>G</th>\n      <th>H</th>\n    </tr>\n  </thead>\n  <tbody>\n    <tr>\n      <th>6</th>\n      <td>2</td>\n      <td>1</td>\n      <td>30</td>\n      <td>1011</td>\n    </tr>\n    <tr>\n      <th>7</th>\n      <td>4</td>\n      <td>2</td>\n      <td>31</td>\n      <td>1021</td>\n    </tr>\n    <tr>\n      <th>8</th>\n      <td>6</td>\n      <td>3</td>\n      <td>32</td>\n      <td>1031</td>\n    </tr>\n    <tr>\n      <th>9</th>\n      <td>8</td>\n      <td>4</td>\n      <td>33</td>\n      <td>1041</td>\n    </tr>\n    <tr>\n      <th>10</th>\n      <td>10</td>\n      <td>5</td>\n      <td>34</td>\n      <td>1051</td>\n    </tr>\n  </tbody>\n</table>\n</div>"
     },
     "execution_count": 23,
     "metadata": {},
     "output_type": "execute_result"
    }
   ],
   "source": [
    "df2"
   ]
  },
  {
   "cell_type": "code",
   "execution_count": 24,
   "metadata": {
    "ExecuteTime": {
     "start_time": "2023-05-08T08:19:37.692397Z",
     "end_time": "2023-05-08T08:19:37.739207Z"
    }
   },
   "outputs": [
    {
     "data": {
      "text/plain": "   A   B  C    D   E   F   G   H\n1  1  11  0  101 NaN NaN NaN NaN\n2  3  12  1  102 NaN NaN NaN NaN\n3  5  13  2  103 NaN NaN NaN NaN\n4  7  14  3  104 NaN NaN NaN NaN\n5  9  15  4  105 NaN NaN NaN NaN",
      "text/html": "<div>\n<style scoped>\n    .dataframe tbody tr th:only-of-type {\n        vertical-align: middle;\n    }\n\n    .dataframe tbody tr th {\n        vertical-align: top;\n    }\n\n    .dataframe thead th {\n        text-align: right;\n    }\n</style>\n<table border=\"1\" class=\"dataframe\">\n  <thead>\n    <tr style=\"text-align: right;\">\n      <th></th>\n      <th>A</th>\n      <th>B</th>\n      <th>C</th>\n      <th>D</th>\n      <th>E</th>\n      <th>F</th>\n      <th>G</th>\n      <th>H</th>\n    </tr>\n  </thead>\n  <tbody>\n    <tr>\n      <th>1</th>\n      <td>1</td>\n      <td>11</td>\n      <td>0</td>\n      <td>101</td>\n      <td>NaN</td>\n      <td>NaN</td>\n      <td>NaN</td>\n      <td>NaN</td>\n    </tr>\n    <tr>\n      <th>2</th>\n      <td>3</td>\n      <td>12</td>\n      <td>1</td>\n      <td>102</td>\n      <td>NaN</td>\n      <td>NaN</td>\n      <td>NaN</td>\n      <td>NaN</td>\n    </tr>\n    <tr>\n      <th>3</th>\n      <td>5</td>\n      <td>13</td>\n      <td>2</td>\n      <td>103</td>\n      <td>NaN</td>\n      <td>NaN</td>\n      <td>NaN</td>\n      <td>NaN</td>\n    </tr>\n    <tr>\n      <th>4</th>\n      <td>7</td>\n      <td>14</td>\n      <td>3</td>\n      <td>104</td>\n      <td>NaN</td>\n      <td>NaN</td>\n      <td>NaN</td>\n      <td>NaN</td>\n    </tr>\n    <tr>\n      <th>5</th>\n      <td>9</td>\n      <td>15</td>\n      <td>4</td>\n      <td>105</td>\n      <td>NaN</td>\n      <td>NaN</td>\n      <td>NaN</td>\n      <td>NaN</td>\n    </tr>\n  </tbody>\n</table>\n</div>"
     },
     "execution_count": 24,
     "metadata": {},
     "output_type": "execute_result"
    }
   ],
   "source": [
    "# index가 일치하지 않아서 제대로 결합이 안됨\n",
    "df1.join(df2)"
   ]
  },
  {
   "cell_type": "code",
   "execution_count": 25,
   "metadata": {
    "ExecuteTime": {
     "start_time": "2023-05-08T08:19:40.581914Z",
     "end_time": "2023-05-08T08:19:40.597540Z"
    }
   },
   "outputs": [],
   "source": [
    "# index 일치 시켜주기\n",
    "df1.reset_index(drop=True, inplace=True)\n",
    "df2.reset_index(drop=True, inplace=True)"
   ]
  },
  {
   "cell_type": "code",
   "execution_count": 26,
   "metadata": {
    "ExecuteTime": {
     "start_time": "2023-05-08T08:19:42.031984Z",
     "end_time": "2023-05-08T08:19:42.094589Z"
    }
   },
   "outputs": [
    {
     "data": {
      "text/plain": "   A   B  C    D   E  F   G     H\n0  1  11  0  101   2  1  30  1011\n1  3  12  1  102   4  2  31  1021\n2  5  13  2  103   6  3  32  1031\n3  7  14  3  104   8  4  33  1041\n4  9  15  4  105  10  5  34  1051",
      "text/html": "<div>\n<style scoped>\n    .dataframe tbody tr th:only-of-type {\n        vertical-align: middle;\n    }\n\n    .dataframe tbody tr th {\n        vertical-align: top;\n    }\n\n    .dataframe thead th {\n        text-align: right;\n    }\n</style>\n<table border=\"1\" class=\"dataframe\">\n  <thead>\n    <tr style=\"text-align: right;\">\n      <th></th>\n      <th>A</th>\n      <th>B</th>\n      <th>C</th>\n      <th>D</th>\n      <th>E</th>\n      <th>F</th>\n      <th>G</th>\n      <th>H</th>\n    </tr>\n  </thead>\n  <tbody>\n    <tr>\n      <th>0</th>\n      <td>1</td>\n      <td>11</td>\n      <td>0</td>\n      <td>101</td>\n      <td>2</td>\n      <td>1</td>\n      <td>30</td>\n      <td>1011</td>\n    </tr>\n    <tr>\n      <th>1</th>\n      <td>3</td>\n      <td>12</td>\n      <td>1</td>\n      <td>102</td>\n      <td>4</td>\n      <td>2</td>\n      <td>31</td>\n      <td>1021</td>\n    </tr>\n    <tr>\n      <th>2</th>\n      <td>5</td>\n      <td>13</td>\n      <td>2</td>\n      <td>103</td>\n      <td>6</td>\n      <td>3</td>\n      <td>32</td>\n      <td>1031</td>\n    </tr>\n    <tr>\n      <th>3</th>\n      <td>7</td>\n      <td>14</td>\n      <td>3</td>\n      <td>104</td>\n      <td>8</td>\n      <td>4</td>\n      <td>33</td>\n      <td>1041</td>\n    </tr>\n    <tr>\n      <th>4</th>\n      <td>9</td>\n      <td>15</td>\n      <td>4</td>\n      <td>105</td>\n      <td>10</td>\n      <td>5</td>\n      <td>34</td>\n      <td>1051</td>\n    </tr>\n  </tbody>\n</table>\n</div>"
     },
     "execution_count": 26,
     "metadata": {},
     "output_type": "execute_result"
    }
   ],
   "source": [
    "df1.join(df2)"
   ]
  },
  {
   "cell_type": "code",
   "execution_count": 26,
   "outputs": [],
   "source": [],
   "metadata": {
    "collapsed": false,
    "ExecuteTime": {
     "start_time": "2023-05-08T08:19:43.321391Z",
     "end_time": "2023-05-08T08:19:43.368291Z"
    }
   }
  }
 ],
 "metadata": {
  "kernelspec": {
   "display_name": "Python 3",
   "language": "python",
   "name": "python3"
  },
  "language_info": {
   "codemirror_mode": {
    "name": "ipython",
    "version": 3
   },
   "file_extension": ".py",
   "mimetype": "text/x-python",
   "name": "python",
   "nbconvert_exporter": "python",
   "pygments_lexer": "ipython3",
   "version": "3.7.6"
  }
 },
 "nbformat": 4,
 "nbformat_minor": 4
}
