{
 "cells": [
  {
   "cell_type": "code",
   "execution_count": 1,
   "metadata": {
    "collapsed": true,
    "ExecuteTime": {
     "start_time": "2023-05-08T09:36:55.241208Z",
     "end_time": "2023-05-08T09:36:55.256838Z"
    }
   },
   "outputs": [],
   "source": [
    "import pandas as pd\n",
    "import numpy as np\n",
    "import matplotlib.pyplot as plt\n",
    "import seaborn as sns"
   ]
  },
  {
   "cell_type": "code",
   "execution_count": 2,
   "outputs": [],
   "source": [
    "data = pd.read_csv(\"transaction.csv\")"
   ],
   "metadata": {
    "collapsed": false,
    "ExecuteTime": {
     "start_time": "2023-05-08T09:37:43.938326Z",
     "end_time": "2023-05-08T09:37:44.017846Z"
    }
   }
  },
  {
   "cell_type": "code",
   "execution_count": 3,
   "outputs": [
    {
     "data": {
      "text/plain": "       id  num_item  total_amount\n0  906145         5         34000\n1  906145         1         27000\n2  906145         4         33000\n3  184478         4         29000\n4  394235         4         33000",
      "text/html": "<div>\n<style scoped>\n    .dataframe tbody tr th:only-of-type {\n        vertical-align: middle;\n    }\n\n    .dataframe tbody tr th {\n        vertical-align: top;\n    }\n\n    .dataframe thead th {\n        text-align: right;\n    }\n</style>\n<table border=\"1\" class=\"dataframe\">\n  <thead>\n    <tr style=\"text-align: right;\">\n      <th></th>\n      <th>id</th>\n      <th>num_item</th>\n      <th>total_amount</th>\n    </tr>\n  </thead>\n  <tbody>\n    <tr>\n      <th>0</th>\n      <td>906145</td>\n      <td>5</td>\n      <td>34000</td>\n    </tr>\n    <tr>\n      <th>1</th>\n      <td>906145</td>\n      <td>1</td>\n      <td>27000</td>\n    </tr>\n    <tr>\n      <th>2</th>\n      <td>906145</td>\n      <td>4</td>\n      <td>33000</td>\n    </tr>\n    <tr>\n      <th>3</th>\n      <td>184478</td>\n      <td>4</td>\n      <td>29000</td>\n    </tr>\n    <tr>\n      <th>4</th>\n      <td>394235</td>\n      <td>4</td>\n      <td>33000</td>\n    </tr>\n  </tbody>\n</table>\n</div>"
     },
     "execution_count": 3,
     "metadata": {},
     "output_type": "execute_result"
    }
   ],
   "source": [
    "data.head()"
   ],
   "metadata": {
    "collapsed": false,
    "ExecuteTime": {
     "start_time": "2023-05-08T09:37:52.022027Z",
     "end_time": "2023-05-08T09:37:52.051248Z"
    }
   }
  },
  {
   "cell_type": "code",
   "execution_count": 4,
   "outputs": [
    {
     "data": {
      "text/plain": "691067    5\n720147    5\n422265    5\n670720    5\n154620    5\n         ..\n881780    1\n154471    1\n480462    1\n126129    1\n156423    1\nName: id, Length: 64000, dtype: int64"
     },
     "execution_count": 4,
     "metadata": {},
     "output_type": "execute_result"
    }
   ],
   "source": [
    "data[\"id\"].value_counts()"
   ],
   "metadata": {
    "collapsed": false,
    "ExecuteTime": {
     "start_time": "2023-05-08T09:41:25.321249Z",
     "end_time": "2023-05-08T09:41:25.383854Z"
    }
   }
  },
  {
   "cell_type": "code",
   "execution_count": 8,
   "outputs": [
    {
     "data": {
      "text/plain": "        num_item  total_amount\nid                            \n100001  3.500000  26000.000000\n100008  5.000000  26000.000000\n100032  2.666667  20666.666667\n100036  3.000000  25800.000000\n100070  3.250000  21250.000000\n...          ...           ...\n999932  5.000000  32000.000000\n999981  2.000000  22750.000000\n999990  3.000000  28000.000000\n999995  2.000000  27000.000000\n999997  2.000000  13000.000000\n\n[64000 rows x 2 columns]",
      "text/html": "<div>\n<style scoped>\n    .dataframe tbody tr th:only-of-type {\n        vertical-align: middle;\n    }\n\n    .dataframe tbody tr th {\n        vertical-align: top;\n    }\n\n    .dataframe thead th {\n        text-align: right;\n    }\n</style>\n<table border=\"1\" class=\"dataframe\">\n  <thead>\n    <tr style=\"text-align: right;\">\n      <th></th>\n      <th>num_item</th>\n      <th>total_amount</th>\n    </tr>\n    <tr>\n      <th>id</th>\n      <th></th>\n      <th></th>\n    </tr>\n  </thead>\n  <tbody>\n    <tr>\n      <th>100001</th>\n      <td>3.500000</td>\n      <td>26000.000000</td>\n    </tr>\n    <tr>\n      <th>100008</th>\n      <td>5.000000</td>\n      <td>26000.000000</td>\n    </tr>\n    <tr>\n      <th>100032</th>\n      <td>2.666667</td>\n      <td>20666.666667</td>\n    </tr>\n    <tr>\n      <th>100036</th>\n      <td>3.000000</td>\n      <td>25800.000000</td>\n    </tr>\n    <tr>\n      <th>100070</th>\n      <td>3.250000</td>\n      <td>21250.000000</td>\n    </tr>\n    <tr>\n      <th>...</th>\n      <td>...</td>\n      <td>...</td>\n    </tr>\n    <tr>\n      <th>999932</th>\n      <td>5.000000</td>\n      <td>32000.000000</td>\n    </tr>\n    <tr>\n      <th>999981</th>\n      <td>2.000000</td>\n      <td>22750.000000</td>\n    </tr>\n    <tr>\n      <th>999990</th>\n      <td>3.000000</td>\n      <td>28000.000000</td>\n    </tr>\n    <tr>\n      <th>999995</th>\n      <td>2.000000</td>\n      <td>27000.000000</td>\n    </tr>\n    <tr>\n      <th>999997</th>\n      <td>2.000000</td>\n      <td>13000.000000</td>\n    </tr>\n  </tbody>\n</table>\n<p>64000 rows × 2 columns</p>\n</div>"
     },
     "execution_count": 8,
     "metadata": {},
     "output_type": "execute_result"
    }
   ],
   "source": [
    "data.groupby(\"id\").mean()"
   ],
   "metadata": {
    "collapsed": false,
    "ExecuteTime": {
     "start_time": "2023-05-08T09:43:54.047735Z",
     "end_time": "2023-05-08T09:43:54.094640Z"
    }
   }
  },
  {
   "cell_type": "code",
   "execution_count": 10,
   "outputs": [
    {
     "data": {
      "text/plain": "       num_item                                                total_amount  \\\n          count      mean       std  min   25%  50%   75%  max        count   \nid                                                                            \n100001      2.0  3.500000  0.707107  3.0  3.25  3.5  3.75  4.0          2.0   \n100008      1.0  5.000000       NaN  5.0  5.00  5.0  5.00  5.0          1.0   \n100032      3.0  2.666667  2.081666  1.0  1.50  2.0  3.50  5.0          3.0   \n100036      5.0  3.000000  1.581139  1.0  2.00  3.0  4.00  5.0          5.0   \n100070      4.0  3.250000  1.500000  2.0  2.00  3.0  4.25  5.0          4.0   \n...         ...       ...       ...  ...   ...  ...   ...  ...          ...   \n999932      1.0  5.000000       NaN  5.0  5.00  5.0  5.00  5.0          1.0   \n999981      4.0  2.000000  0.816497  1.0  1.75  2.0  2.25  3.0          4.0   \n999990      3.0  3.000000  1.000000  2.0  2.50  3.0  3.50  4.0          3.0   \n999995      1.0  2.000000       NaN  2.0  2.00  2.0  2.00  2.0          1.0   \n999997      1.0  2.000000       NaN  2.0  2.00  2.0  2.00  2.0          1.0   \n\n                                                                        \\\n                mean           std      min      25%      50%      75%   \nid                                                                       \n100001  26000.000000   2828.427125  24000.0  25000.0  26000.0  27000.0   \n100008  26000.000000           NaN  26000.0  26000.0  26000.0  26000.0   \n100032  20666.666667   8736.894948  11000.0  17000.0  23000.0  25500.0   \n100036  25800.000000  11344.602241   8000.0  21000.0  32000.0  33000.0   \n100070  21250.000000   7932.002690  13000.0  16000.0  20500.0  25750.0   \n...              ...           ...      ...      ...      ...      ...   \n999932  32000.000000           NaN  32000.0  32000.0  32000.0  32000.0   \n999981  22750.000000  10078.855755   9000.0  19500.0  24500.0  27750.0   \n999990  28000.000000   5291.502622  22000.0  26000.0  30000.0  31000.0   \n999995  27000.000000           NaN  27000.0  27000.0  27000.0  27000.0   \n999997  13000.000000           NaN  13000.0  13000.0  13000.0  13000.0   \n\n                 \n            max  \nid               \n100001  28000.0  \n100008  26000.0  \n100032  28000.0  \n100036  35000.0  \n100070  31000.0  \n...         ...  \n999932  32000.0  \n999981  33000.0  \n999990  32000.0  \n999995  27000.0  \n999997  13000.0  \n\n[64000 rows x 16 columns]",
      "text/html": "<div>\n<style scoped>\n    .dataframe tbody tr th:only-of-type {\n        vertical-align: middle;\n    }\n\n    .dataframe tbody tr th {\n        vertical-align: top;\n    }\n\n    .dataframe thead tr th {\n        text-align: left;\n    }\n\n    .dataframe thead tr:last-of-type th {\n        text-align: right;\n    }\n</style>\n<table border=\"1\" class=\"dataframe\">\n  <thead>\n    <tr>\n      <th></th>\n      <th colspan=\"8\" halign=\"left\">num_item</th>\n      <th colspan=\"8\" halign=\"left\">total_amount</th>\n    </tr>\n    <tr>\n      <th></th>\n      <th>count</th>\n      <th>mean</th>\n      <th>std</th>\n      <th>min</th>\n      <th>25%</th>\n      <th>50%</th>\n      <th>75%</th>\n      <th>max</th>\n      <th>count</th>\n      <th>mean</th>\n      <th>std</th>\n      <th>min</th>\n      <th>25%</th>\n      <th>50%</th>\n      <th>75%</th>\n      <th>max</th>\n    </tr>\n    <tr>\n      <th>id</th>\n      <th></th>\n      <th></th>\n      <th></th>\n      <th></th>\n      <th></th>\n      <th></th>\n      <th></th>\n      <th></th>\n      <th></th>\n      <th></th>\n      <th></th>\n      <th></th>\n      <th></th>\n      <th></th>\n      <th></th>\n      <th></th>\n    </tr>\n  </thead>\n  <tbody>\n    <tr>\n      <th>100001</th>\n      <td>2.0</td>\n      <td>3.500000</td>\n      <td>0.707107</td>\n      <td>3.0</td>\n      <td>3.25</td>\n      <td>3.5</td>\n      <td>3.75</td>\n      <td>4.0</td>\n      <td>2.0</td>\n      <td>26000.000000</td>\n      <td>2828.427125</td>\n      <td>24000.0</td>\n      <td>25000.0</td>\n      <td>26000.0</td>\n      <td>27000.0</td>\n      <td>28000.0</td>\n    </tr>\n    <tr>\n      <th>100008</th>\n      <td>1.0</td>\n      <td>5.000000</td>\n      <td>NaN</td>\n      <td>5.0</td>\n      <td>5.00</td>\n      <td>5.0</td>\n      <td>5.00</td>\n      <td>5.0</td>\n      <td>1.0</td>\n      <td>26000.000000</td>\n      <td>NaN</td>\n      <td>26000.0</td>\n      <td>26000.0</td>\n      <td>26000.0</td>\n      <td>26000.0</td>\n      <td>26000.0</td>\n    </tr>\n    <tr>\n      <th>100032</th>\n      <td>3.0</td>\n      <td>2.666667</td>\n      <td>2.081666</td>\n      <td>1.0</td>\n      <td>1.50</td>\n      <td>2.0</td>\n      <td>3.50</td>\n      <td>5.0</td>\n      <td>3.0</td>\n      <td>20666.666667</td>\n      <td>8736.894948</td>\n      <td>11000.0</td>\n      <td>17000.0</td>\n      <td>23000.0</td>\n      <td>25500.0</td>\n      <td>28000.0</td>\n    </tr>\n    <tr>\n      <th>100036</th>\n      <td>5.0</td>\n      <td>3.000000</td>\n      <td>1.581139</td>\n      <td>1.0</td>\n      <td>2.00</td>\n      <td>3.0</td>\n      <td>4.00</td>\n      <td>5.0</td>\n      <td>5.0</td>\n      <td>25800.000000</td>\n      <td>11344.602241</td>\n      <td>8000.0</td>\n      <td>21000.0</td>\n      <td>32000.0</td>\n      <td>33000.0</td>\n      <td>35000.0</td>\n    </tr>\n    <tr>\n      <th>100070</th>\n      <td>4.0</td>\n      <td>3.250000</td>\n      <td>1.500000</td>\n      <td>2.0</td>\n      <td>2.00</td>\n      <td>3.0</td>\n      <td>4.25</td>\n      <td>5.0</td>\n      <td>4.0</td>\n      <td>21250.000000</td>\n      <td>7932.002690</td>\n      <td>13000.0</td>\n      <td>16000.0</td>\n      <td>20500.0</td>\n      <td>25750.0</td>\n      <td>31000.0</td>\n    </tr>\n    <tr>\n      <th>...</th>\n      <td>...</td>\n      <td>...</td>\n      <td>...</td>\n      <td>...</td>\n      <td>...</td>\n      <td>...</td>\n      <td>...</td>\n      <td>...</td>\n      <td>...</td>\n      <td>...</td>\n      <td>...</td>\n      <td>...</td>\n      <td>...</td>\n      <td>...</td>\n      <td>...</td>\n      <td>...</td>\n    </tr>\n    <tr>\n      <th>999932</th>\n      <td>1.0</td>\n      <td>5.000000</td>\n      <td>NaN</td>\n      <td>5.0</td>\n      <td>5.00</td>\n      <td>5.0</td>\n      <td>5.00</td>\n      <td>5.0</td>\n      <td>1.0</td>\n      <td>32000.000000</td>\n      <td>NaN</td>\n      <td>32000.0</td>\n      <td>32000.0</td>\n      <td>32000.0</td>\n      <td>32000.0</td>\n      <td>32000.0</td>\n    </tr>\n    <tr>\n      <th>999981</th>\n      <td>4.0</td>\n      <td>2.000000</td>\n      <td>0.816497</td>\n      <td>1.0</td>\n      <td>1.75</td>\n      <td>2.0</td>\n      <td>2.25</td>\n      <td>3.0</td>\n      <td>4.0</td>\n      <td>22750.000000</td>\n      <td>10078.855755</td>\n      <td>9000.0</td>\n      <td>19500.0</td>\n      <td>24500.0</td>\n      <td>27750.0</td>\n      <td>33000.0</td>\n    </tr>\n    <tr>\n      <th>999990</th>\n      <td>3.0</td>\n      <td>3.000000</td>\n      <td>1.000000</td>\n      <td>2.0</td>\n      <td>2.50</td>\n      <td>3.0</td>\n      <td>3.50</td>\n      <td>4.0</td>\n      <td>3.0</td>\n      <td>28000.000000</td>\n      <td>5291.502622</td>\n      <td>22000.0</td>\n      <td>26000.0</td>\n      <td>30000.0</td>\n      <td>31000.0</td>\n      <td>32000.0</td>\n    </tr>\n    <tr>\n      <th>999995</th>\n      <td>1.0</td>\n      <td>2.000000</td>\n      <td>NaN</td>\n      <td>2.0</td>\n      <td>2.00</td>\n      <td>2.0</td>\n      <td>2.00</td>\n      <td>2.0</td>\n      <td>1.0</td>\n      <td>27000.000000</td>\n      <td>NaN</td>\n      <td>27000.0</td>\n      <td>27000.0</td>\n      <td>27000.0</td>\n      <td>27000.0</td>\n      <td>27000.0</td>\n    </tr>\n    <tr>\n      <th>999997</th>\n      <td>1.0</td>\n      <td>2.000000</td>\n      <td>NaN</td>\n      <td>2.0</td>\n      <td>2.00</td>\n      <td>2.0</td>\n      <td>2.00</td>\n      <td>2.0</td>\n      <td>1.0</td>\n      <td>13000.000000</td>\n      <td>NaN</td>\n      <td>13000.0</td>\n      <td>13000.0</td>\n      <td>13000.0</td>\n      <td>13000.0</td>\n      <td>13000.0</td>\n    </tr>\n  </tbody>\n</table>\n<p>64000 rows × 16 columns</p>\n</div>"
     },
     "execution_count": 10,
     "metadata": {},
     "output_type": "execute_result"
    }
   ],
   "source": [
    "data.groupby(\"id\").describe()"
   ],
   "metadata": {
    "collapsed": false,
    "ExecuteTime": {
     "start_time": "2023-05-08T09:56:37.147964Z",
     "end_time": "2023-05-08T09:56:37.325558Z"
    }
   }
  },
  {
   "cell_type": "code",
   "execution_count": 12,
   "outputs": [],
   "source": [
    "data = data.head(1000)"
   ],
   "metadata": {
    "collapsed": false,
    "ExecuteTime": {
     "start_time": "2023-05-08T10:03:12.128514Z",
     "end_time": "2023-05-08T10:03:12.159801Z"
    }
   }
  },
  {
   "cell_type": "code",
   "execution_count": 13,
   "outputs": [
    {
     "data": {
      "text/plain": "         id  num_item  total_amount\n0    906145         5         34000\n1    906145         1         27000\n2    906145         4         33000\n3    184478         4         29000\n4    394235         4         33000\n..      ...       ...           ...\n995  403475         2         24000\n996  403475         3         34000\n997  324592         5         26000\n998  324592         5         16000\n999  324592         3         24000\n\n[1000 rows x 3 columns]",
      "text/html": "<div>\n<style scoped>\n    .dataframe tbody tr th:only-of-type {\n        vertical-align: middle;\n    }\n\n    .dataframe tbody tr th {\n        vertical-align: top;\n    }\n\n    .dataframe thead th {\n        text-align: right;\n    }\n</style>\n<table border=\"1\" class=\"dataframe\">\n  <thead>\n    <tr style=\"text-align: right;\">\n      <th></th>\n      <th>id</th>\n      <th>num_item</th>\n      <th>total_amount</th>\n    </tr>\n  </thead>\n  <tbody>\n    <tr>\n      <th>0</th>\n      <td>906145</td>\n      <td>5</td>\n      <td>34000</td>\n    </tr>\n    <tr>\n      <th>1</th>\n      <td>906145</td>\n      <td>1</td>\n      <td>27000</td>\n    </tr>\n    <tr>\n      <th>2</th>\n      <td>906145</td>\n      <td>4</td>\n      <td>33000</td>\n    </tr>\n    <tr>\n      <th>3</th>\n      <td>184478</td>\n      <td>4</td>\n      <td>29000</td>\n    </tr>\n    <tr>\n      <th>4</th>\n      <td>394235</td>\n      <td>4</td>\n      <td>33000</td>\n    </tr>\n    <tr>\n      <th>...</th>\n      <td>...</td>\n      <td>...</td>\n      <td>...</td>\n    </tr>\n    <tr>\n      <th>995</th>\n      <td>403475</td>\n      <td>2</td>\n      <td>24000</td>\n    </tr>\n    <tr>\n      <th>996</th>\n      <td>403475</td>\n      <td>3</td>\n      <td>34000</td>\n    </tr>\n    <tr>\n      <th>997</th>\n      <td>324592</td>\n      <td>5</td>\n      <td>26000</td>\n    </tr>\n    <tr>\n      <th>998</th>\n      <td>324592</td>\n      <td>5</td>\n      <td>16000</td>\n    </tr>\n    <tr>\n      <th>999</th>\n      <td>324592</td>\n      <td>3</td>\n      <td>24000</td>\n    </tr>\n  </tbody>\n</table>\n<p>1000 rows × 3 columns</p>\n</div>"
     },
     "execution_count": 13,
     "metadata": {},
     "output_type": "execute_result"
    }
   ],
   "source": [
    "data"
   ],
   "metadata": {
    "collapsed": false,
    "ExecuteTime": {
     "start_time": "2023-05-08T10:03:16.100472Z",
     "end_time": "2023-05-08T10:03:16.131758Z"
    }
   }
  },
  {
   "cell_type": "code",
   "execution_count": 15,
   "outputs": [],
   "source": [
    "data.set_index(\"id\", inplace=True)\n",
    "# data = data.set_index(\"id\")"
   ],
   "metadata": {
    "collapsed": false,
    "ExecuteTime": {
     "start_time": "2023-05-08T10:05:16.027842Z",
     "end_time": "2023-05-08T10:05:16.043463Z"
    }
   }
  },
  {
   "cell_type": "code",
   "execution_count": 16,
   "outputs": [
    {
     "data": {
      "text/plain": "        num_item  total_amount\nid                            \n906145         5         34000\n906145         1         27000\n906145         4         33000\n184478         4         29000\n394235         4         33000\n...          ...           ...\n403475         2         24000\n403475         3         34000\n324592         5         26000\n324592         5         16000\n324592         3         24000\n\n[1000 rows x 2 columns]",
      "text/html": "<div>\n<style scoped>\n    .dataframe tbody tr th:only-of-type {\n        vertical-align: middle;\n    }\n\n    .dataframe tbody tr th {\n        vertical-align: top;\n    }\n\n    .dataframe thead th {\n        text-align: right;\n    }\n</style>\n<table border=\"1\" class=\"dataframe\">\n  <thead>\n    <tr style=\"text-align: right;\">\n      <th></th>\n      <th>num_item</th>\n      <th>total_amount</th>\n    </tr>\n    <tr>\n      <th>id</th>\n      <th></th>\n      <th></th>\n    </tr>\n  </thead>\n  <tbody>\n    <tr>\n      <th>906145</th>\n      <td>5</td>\n      <td>34000</td>\n    </tr>\n    <tr>\n      <th>906145</th>\n      <td>1</td>\n      <td>27000</td>\n    </tr>\n    <tr>\n      <th>906145</th>\n      <td>4</td>\n      <td>33000</td>\n    </tr>\n    <tr>\n      <th>184478</th>\n      <td>4</td>\n      <td>29000</td>\n    </tr>\n    <tr>\n      <th>394235</th>\n      <td>4</td>\n      <td>33000</td>\n    </tr>\n    <tr>\n      <th>...</th>\n      <td>...</td>\n      <td>...</td>\n    </tr>\n    <tr>\n      <th>403475</th>\n      <td>2</td>\n      <td>24000</td>\n    </tr>\n    <tr>\n      <th>403475</th>\n      <td>3</td>\n      <td>34000</td>\n    </tr>\n    <tr>\n      <th>324592</th>\n      <td>5</td>\n      <td>26000</td>\n    </tr>\n    <tr>\n      <th>324592</th>\n      <td>5</td>\n      <td>16000</td>\n    </tr>\n    <tr>\n      <th>324592</th>\n      <td>3</td>\n      <td>24000</td>\n    </tr>\n  </tbody>\n</table>\n<p>1000 rows × 2 columns</p>\n</div>"
     },
     "execution_count": 16,
     "metadata": {},
     "output_type": "execute_result"
    }
   ],
   "source": [
    "data"
   ],
   "metadata": {
    "collapsed": false,
    "ExecuteTime": {
     "start_time": "2023-05-08T10:05:17.880655Z",
     "end_time": "2023-05-08T10:05:17.927634Z"
    }
   }
  },
  {
   "cell_type": "code",
   "execution_count": 17,
   "outputs": [
    {
     "data": {
      "text/plain": "         id  num_item  total_amount\n0    906145         5         34000\n1    906145         1         27000\n2    906145         4         33000\n3    184478         4         29000\n4    394235         4         33000\n..      ...       ...           ...\n995  403475         2         24000\n996  403475         3         34000\n997  324592         5         26000\n998  324592         5         16000\n999  324592         3         24000\n\n[1000 rows x 3 columns]",
      "text/html": "<div>\n<style scoped>\n    .dataframe tbody tr th:only-of-type {\n        vertical-align: middle;\n    }\n\n    .dataframe tbody tr th {\n        vertical-align: top;\n    }\n\n    .dataframe thead th {\n        text-align: right;\n    }\n</style>\n<table border=\"1\" class=\"dataframe\">\n  <thead>\n    <tr style=\"text-align: right;\">\n      <th></th>\n      <th>id</th>\n      <th>num_item</th>\n      <th>total_amount</th>\n    </tr>\n  </thead>\n  <tbody>\n    <tr>\n      <th>0</th>\n      <td>906145</td>\n      <td>5</td>\n      <td>34000</td>\n    </tr>\n    <tr>\n      <th>1</th>\n      <td>906145</td>\n      <td>1</td>\n      <td>27000</td>\n    </tr>\n    <tr>\n      <th>2</th>\n      <td>906145</td>\n      <td>4</td>\n      <td>33000</td>\n    </tr>\n    <tr>\n      <th>3</th>\n      <td>184478</td>\n      <td>4</td>\n      <td>29000</td>\n    </tr>\n    <tr>\n      <th>4</th>\n      <td>394235</td>\n      <td>4</td>\n      <td>33000</td>\n    </tr>\n    <tr>\n      <th>...</th>\n      <td>...</td>\n      <td>...</td>\n      <td>...</td>\n    </tr>\n    <tr>\n      <th>995</th>\n      <td>403475</td>\n      <td>2</td>\n      <td>24000</td>\n    </tr>\n    <tr>\n      <th>996</th>\n      <td>403475</td>\n      <td>3</td>\n      <td>34000</td>\n    </tr>\n    <tr>\n      <th>997</th>\n      <td>324592</td>\n      <td>5</td>\n      <td>26000</td>\n    </tr>\n    <tr>\n      <th>998</th>\n      <td>324592</td>\n      <td>5</td>\n      <td>16000</td>\n    </tr>\n    <tr>\n      <th>999</th>\n      <td>324592</td>\n      <td>3</td>\n      <td>24000</td>\n    </tr>\n  </tbody>\n</table>\n<p>1000 rows × 3 columns</p>\n</div>"
     },
     "execution_count": 17,
     "metadata": {},
     "output_type": "execute_result"
    }
   ],
   "source": [
    "data.reset_index()"
   ],
   "metadata": {
    "collapsed": false,
    "ExecuteTime": {
     "start_time": "2023-05-08T10:06:12.609774Z",
     "end_time": "2023-05-08T10:06:12.734782Z"
    }
   }
  },
  {
   "cell_type": "code",
   "execution_count": 18,
   "outputs": [
    {
     "data": {
      "text/plain": "     num_item  total_amount\n0           5         34000\n1           1         27000\n2           4         33000\n3           4         29000\n4           4         33000\n..        ...           ...\n995         2         24000\n996         3         34000\n997         5         26000\n998         5         16000\n999         3         24000\n\n[1000 rows x 2 columns]",
      "text/html": "<div>\n<style scoped>\n    .dataframe tbody tr th:only-of-type {\n        vertical-align: middle;\n    }\n\n    .dataframe tbody tr th {\n        vertical-align: top;\n    }\n\n    .dataframe thead th {\n        text-align: right;\n    }\n</style>\n<table border=\"1\" class=\"dataframe\">\n  <thead>\n    <tr style=\"text-align: right;\">\n      <th></th>\n      <th>num_item</th>\n      <th>total_amount</th>\n    </tr>\n  </thead>\n  <tbody>\n    <tr>\n      <th>0</th>\n      <td>5</td>\n      <td>34000</td>\n    </tr>\n    <tr>\n      <th>1</th>\n      <td>1</td>\n      <td>27000</td>\n    </tr>\n    <tr>\n      <th>2</th>\n      <td>4</td>\n      <td>33000</td>\n    </tr>\n    <tr>\n      <th>3</th>\n      <td>4</td>\n      <td>29000</td>\n    </tr>\n    <tr>\n      <th>4</th>\n      <td>4</td>\n      <td>33000</td>\n    </tr>\n    <tr>\n      <th>...</th>\n      <td>...</td>\n      <td>...</td>\n    </tr>\n    <tr>\n      <th>995</th>\n      <td>2</td>\n      <td>24000</td>\n    </tr>\n    <tr>\n      <th>996</th>\n      <td>3</td>\n      <td>34000</td>\n    </tr>\n    <tr>\n      <th>997</th>\n      <td>5</td>\n      <td>26000</td>\n    </tr>\n    <tr>\n      <th>998</th>\n      <td>5</td>\n      <td>16000</td>\n    </tr>\n    <tr>\n      <th>999</th>\n      <td>3</td>\n      <td>24000</td>\n    </tr>\n  </tbody>\n</table>\n<p>1000 rows × 2 columns</p>\n</div>"
     },
     "execution_count": 18,
     "metadata": {},
     "output_type": "execute_result"
    }
   ],
   "source": [
    "# data.reset_index().drop(\"id\")\n",
    "data.reset_index(drop=True)"
   ],
   "metadata": {
    "collapsed": false,
    "ExecuteTime": {
     "start_time": "2023-05-08T10:07:05.745671Z",
     "end_time": "2023-05-08T10:07:05.770609Z"
    }
   }
  },
  {
   "cell_type": "code",
   "execution_count": 20,
   "outputs": [
    {
     "data": {
      "text/plain": "         id  num_item  total_amount\n0    101354         8         81000\n1    102658        13         98000\n2    103128         4         69000\n3    103308         9         53000\n4    107253        11         67000\n..      ...       ...           ...\n336  980721        11         66000\n337  982341         3         27000\n338  982358         8         73000\n339  990129         2         17000\n340  993410        13         94000\n\n[341 rows x 3 columns]",
      "text/html": "<div>\n<style scoped>\n    .dataframe tbody tr th:only-of-type {\n        vertical-align: middle;\n    }\n\n    .dataframe tbody tr th {\n        vertical-align: top;\n    }\n\n    .dataframe thead th {\n        text-align: right;\n    }\n</style>\n<table border=\"1\" class=\"dataframe\">\n  <thead>\n    <tr style=\"text-align: right;\">\n      <th></th>\n      <th>id</th>\n      <th>num_item</th>\n      <th>total_amount</th>\n    </tr>\n  </thead>\n  <tbody>\n    <tr>\n      <th>0</th>\n      <td>101354</td>\n      <td>8</td>\n      <td>81000</td>\n    </tr>\n    <tr>\n      <th>1</th>\n      <td>102658</td>\n      <td>13</td>\n      <td>98000</td>\n    </tr>\n    <tr>\n      <th>2</th>\n      <td>103128</td>\n      <td>4</td>\n      <td>69000</td>\n    </tr>\n    <tr>\n      <th>3</th>\n      <td>103308</td>\n      <td>9</td>\n      <td>53000</td>\n    </tr>\n    <tr>\n      <th>4</th>\n      <td>107253</td>\n      <td>11</td>\n      <td>67000</td>\n    </tr>\n    <tr>\n      <th>...</th>\n      <td>...</td>\n      <td>...</td>\n      <td>...</td>\n    </tr>\n    <tr>\n      <th>336</th>\n      <td>980721</td>\n      <td>11</td>\n      <td>66000</td>\n    </tr>\n    <tr>\n      <th>337</th>\n      <td>982341</td>\n      <td>3</td>\n      <td>27000</td>\n    </tr>\n    <tr>\n      <th>338</th>\n      <td>982358</td>\n      <td>8</td>\n      <td>73000</td>\n    </tr>\n    <tr>\n      <th>339</th>\n      <td>990129</td>\n      <td>2</td>\n      <td>17000</td>\n    </tr>\n    <tr>\n      <th>340</th>\n      <td>993410</td>\n      <td>13</td>\n      <td>94000</td>\n    </tr>\n  </tbody>\n</table>\n<p>341 rows × 3 columns</p>\n</div>"
     },
     "execution_count": 20,
     "metadata": {},
     "output_type": "execute_result"
    }
   ],
   "source": [
    "data.groupby(\"id\").sum().reset_index()"
   ],
   "metadata": {
    "collapsed": false,
    "ExecuteTime": {
     "start_time": "2023-05-08T10:10:05.062512Z",
     "end_time": "2023-05-08T10:10:05.109491Z"
    }
   }
  },
  {
   "cell_type": "markdown",
   "source": [
    "# 데이터 병합하기"
   ],
   "metadata": {
    "collapsed": false
   }
  },
  {
   "cell_type": "code",
   "execution_count": 2,
   "outputs": [],
   "source": [
    "dict1 = {\"A\": [1, 3, 5, 7, 9],\n",
    "         \"B\": [2, 3, 4, 5, 6],\n",
    "         \"C\": [10, 20, 30, 40, 50],\n",
    "         \"D\": [1000, 2000, 3000, 40000, 5000]}\n",
    "\n",
    "dict2 = {\"A\": [10, 30, 50, 70, 90],\n",
    "         \"B\": [200, 300, 400, 500, 600],\n",
    "         \"C\": [1, 2, 3, 4, 5],\n",
    "         \"D\": [11, 22, 33, 44, 55]}\n",
    "\n",
    "df1 = pd.DataFrame(dict1, index=[1, 2, 3, 4, 5])\n",
    "df2 = pd.DataFrame(dict2, index=[6, 7, 8, 9, 10])"
   ],
   "metadata": {
    "collapsed": false,
    "ExecuteTime": {
     "start_time": "2023-05-08T16:58:09.736276Z",
     "end_time": "2023-05-08T16:58:09.767574Z"
    }
   }
  },
  {
   "cell_type": "code",
   "execution_count": 3,
   "outputs": [
    {
     "data": {
      "text/plain": "   A  B   C      D\n1  1  2  10   1000\n2  3  3  20   2000\n3  5  4  30   3000\n4  7  5  40  40000\n5  9  6  50   5000",
      "text/html": "<div>\n<style scoped>\n    .dataframe tbody tr th:only-of-type {\n        vertical-align: middle;\n    }\n\n    .dataframe tbody tr th {\n        vertical-align: top;\n    }\n\n    .dataframe thead th {\n        text-align: right;\n    }\n</style>\n<table border=\"1\" class=\"dataframe\">\n  <thead>\n    <tr style=\"text-align: right;\">\n      <th></th>\n      <th>A</th>\n      <th>B</th>\n      <th>C</th>\n      <th>D</th>\n    </tr>\n  </thead>\n  <tbody>\n    <tr>\n      <th>1</th>\n      <td>1</td>\n      <td>2</td>\n      <td>10</td>\n      <td>1000</td>\n    </tr>\n    <tr>\n      <th>2</th>\n      <td>3</td>\n      <td>3</td>\n      <td>20</td>\n      <td>2000</td>\n    </tr>\n    <tr>\n      <th>3</th>\n      <td>5</td>\n      <td>4</td>\n      <td>30</td>\n      <td>3000</td>\n    </tr>\n    <tr>\n      <th>4</th>\n      <td>7</td>\n      <td>5</td>\n      <td>40</td>\n      <td>40000</td>\n    </tr>\n    <tr>\n      <th>5</th>\n      <td>9</td>\n      <td>6</td>\n      <td>50</td>\n      <td>5000</td>\n    </tr>\n  </tbody>\n</table>\n</div>"
     },
     "execution_count": 3,
     "metadata": {},
     "output_type": "execute_result"
    }
   ],
   "source": [
    "df1"
   ],
   "metadata": {
    "collapsed": false,
    "ExecuteTime": {
     "start_time": "2023-05-08T16:58:13.407402Z",
     "end_time": "2023-05-08T16:58:13.469905Z"
    }
   }
  },
  {
   "cell_type": "code",
   "execution_count": 9,
   "outputs": [],
   "source": [
    "df2"
   ],
   "metadata": {
    "collapsed": false,
    "ExecuteTime": {
     "start_time": "2023-05-08T16:59:07.055272Z",
     "end_time": "2023-05-08T16:59:07.242772Z"
    }
   }
  },
  {
   "cell_type": "code",
   "execution_count": 26,
   "outputs": [
    {
     "data": {
      "text/plain": "     A    B   C      D\n1    1    2  10   1000\n2    3    3  20   2000\n3    5    4  30   3000\n4    7    5  40  40000\n5    9    6  50   5000\n6   10  200   1     11\n7   30  300   2     22\n8   50  400   3     33\n9   70  500   4     44\n10  90  600   5     55",
      "text/html": "<div>\n<style scoped>\n    .dataframe tbody tr th:only-of-type {\n        vertical-align: middle;\n    }\n\n    .dataframe tbody tr th {\n        vertical-align: top;\n    }\n\n    .dataframe thead th {\n        text-align: right;\n    }\n</style>\n<table border=\"1\" class=\"dataframe\">\n  <thead>\n    <tr style=\"text-align: right;\">\n      <th></th>\n      <th>A</th>\n      <th>B</th>\n      <th>C</th>\n      <th>D</th>\n    </tr>\n  </thead>\n  <tbody>\n    <tr>\n      <th>1</th>\n      <td>1</td>\n      <td>2</td>\n      <td>10</td>\n      <td>1000</td>\n    </tr>\n    <tr>\n      <th>2</th>\n      <td>3</td>\n      <td>3</td>\n      <td>20</td>\n      <td>2000</td>\n    </tr>\n    <tr>\n      <th>3</th>\n      <td>5</td>\n      <td>4</td>\n      <td>30</td>\n      <td>3000</td>\n    </tr>\n    <tr>\n      <th>4</th>\n      <td>7</td>\n      <td>5</td>\n      <td>40</td>\n      <td>40000</td>\n    </tr>\n    <tr>\n      <th>5</th>\n      <td>9</td>\n      <td>6</td>\n      <td>50</td>\n      <td>5000</td>\n    </tr>\n    <tr>\n      <th>6</th>\n      <td>10</td>\n      <td>200</td>\n      <td>1</td>\n      <td>11</td>\n    </tr>\n    <tr>\n      <th>7</th>\n      <td>30</td>\n      <td>300</td>\n      <td>2</td>\n      <td>22</td>\n    </tr>\n    <tr>\n      <th>8</th>\n      <td>50</td>\n      <td>400</td>\n      <td>3</td>\n      <td>33</td>\n    </tr>\n    <tr>\n      <th>9</th>\n      <td>70</td>\n      <td>500</td>\n      <td>4</td>\n      <td>44</td>\n    </tr>\n    <tr>\n      <th>10</th>\n      <td>90</td>\n      <td>600</td>\n      <td>5</td>\n      <td>55</td>\n    </tr>\n  </tbody>\n</table>\n</div>"
     },
     "execution_count": 26,
     "metadata": {},
     "output_type": "execute_result"
    }
   ],
   "source": [
    "pd.concat([df1, df2])"
   ],
   "metadata": {
    "collapsed": false,
    "ExecuteTime": {
     "start_time": "2023-05-08T10:17:14.386282Z",
     "end_time": "2023-05-08T10:17:14.442315Z"
    }
   }
  },
  {
   "cell_type": "code",
   "execution_count": 27,
   "outputs": [
    {
     "data": {
      "text/plain": "      A    B     C        D     A      B    C     D\n1   1.0  2.0  10.0   1000.0   NaN    NaN  NaN   NaN\n2   3.0  3.0  20.0   2000.0   NaN    NaN  NaN   NaN\n3   5.0  4.0  30.0   3000.0   NaN    NaN  NaN   NaN\n4   7.0  5.0  40.0  40000.0   NaN    NaN  NaN   NaN\n5   9.0  6.0  50.0   5000.0   NaN    NaN  NaN   NaN\n6   NaN  NaN   NaN      NaN  10.0  200.0  1.0  11.0\n7   NaN  NaN   NaN      NaN  30.0  300.0  2.0  22.0\n8   NaN  NaN   NaN      NaN  50.0  400.0  3.0  33.0\n9   NaN  NaN   NaN      NaN  70.0  500.0  4.0  44.0\n10  NaN  NaN   NaN      NaN  90.0  600.0  5.0  55.0",
      "text/html": "<div>\n<style scoped>\n    .dataframe tbody tr th:only-of-type {\n        vertical-align: middle;\n    }\n\n    .dataframe tbody tr th {\n        vertical-align: top;\n    }\n\n    .dataframe thead th {\n        text-align: right;\n    }\n</style>\n<table border=\"1\" class=\"dataframe\">\n  <thead>\n    <tr style=\"text-align: right;\">\n      <th></th>\n      <th>A</th>\n      <th>B</th>\n      <th>C</th>\n      <th>D</th>\n      <th>A</th>\n      <th>B</th>\n      <th>C</th>\n      <th>D</th>\n    </tr>\n  </thead>\n  <tbody>\n    <tr>\n      <th>1</th>\n      <td>1.0</td>\n      <td>2.0</td>\n      <td>10.0</td>\n      <td>1000.0</td>\n      <td>NaN</td>\n      <td>NaN</td>\n      <td>NaN</td>\n      <td>NaN</td>\n    </tr>\n    <tr>\n      <th>2</th>\n      <td>3.0</td>\n      <td>3.0</td>\n      <td>20.0</td>\n      <td>2000.0</td>\n      <td>NaN</td>\n      <td>NaN</td>\n      <td>NaN</td>\n      <td>NaN</td>\n    </tr>\n    <tr>\n      <th>3</th>\n      <td>5.0</td>\n      <td>4.0</td>\n      <td>30.0</td>\n      <td>3000.0</td>\n      <td>NaN</td>\n      <td>NaN</td>\n      <td>NaN</td>\n      <td>NaN</td>\n    </tr>\n    <tr>\n      <th>4</th>\n      <td>7.0</td>\n      <td>5.0</td>\n      <td>40.0</td>\n      <td>40000.0</td>\n      <td>NaN</td>\n      <td>NaN</td>\n      <td>NaN</td>\n      <td>NaN</td>\n    </tr>\n    <tr>\n      <th>5</th>\n      <td>9.0</td>\n      <td>6.0</td>\n      <td>50.0</td>\n      <td>5000.0</td>\n      <td>NaN</td>\n      <td>NaN</td>\n      <td>NaN</td>\n      <td>NaN</td>\n    </tr>\n    <tr>\n      <th>6</th>\n      <td>NaN</td>\n      <td>NaN</td>\n      <td>NaN</td>\n      <td>NaN</td>\n      <td>10.0</td>\n      <td>200.0</td>\n      <td>1.0</td>\n      <td>11.0</td>\n    </tr>\n    <tr>\n      <th>7</th>\n      <td>NaN</td>\n      <td>NaN</td>\n      <td>NaN</td>\n      <td>NaN</td>\n      <td>30.0</td>\n      <td>300.0</td>\n      <td>2.0</td>\n      <td>22.0</td>\n    </tr>\n    <tr>\n      <th>8</th>\n      <td>NaN</td>\n      <td>NaN</td>\n      <td>NaN</td>\n      <td>NaN</td>\n      <td>50.0</td>\n      <td>400.0</td>\n      <td>3.0</td>\n      <td>33.0</td>\n    </tr>\n    <tr>\n      <th>9</th>\n      <td>NaN</td>\n      <td>NaN</td>\n      <td>NaN</td>\n      <td>NaN</td>\n      <td>70.0</td>\n      <td>500.0</td>\n      <td>4.0</td>\n      <td>44.0</td>\n    </tr>\n    <tr>\n      <th>10</th>\n      <td>NaN</td>\n      <td>NaN</td>\n      <td>NaN</td>\n      <td>NaN</td>\n      <td>90.0</td>\n      <td>600.0</td>\n      <td>5.0</td>\n      <td>55.0</td>\n    </tr>\n  </tbody>\n</table>\n</div>"
     },
     "execution_count": 27,
     "metadata": {},
     "output_type": "execute_result"
    }
   ],
   "source": [
    "pd.concat([df1, df2], axis=1)"
   ],
   "metadata": {
    "collapsed": false,
    "ExecuteTime": {
     "start_time": "2023-05-08T10:18:24.230286Z",
     "end_time": "2023-05-08T10:18:24.305308Z"
    }
   }
  },
  {
   "cell_type": "code",
   "execution_count": 28,
   "outputs": [
    {
     "data": {
      "text/plain": "Int64Index([1, 2, 3, 4, 5], dtype='int64')"
     },
     "execution_count": 28,
     "metadata": {},
     "output_type": "execute_result"
    }
   ],
   "source": [
    "df1.index"
   ],
   "metadata": {
    "collapsed": false,
    "ExecuteTime": {
     "start_time": "2023-05-08T10:19:36.007568Z",
     "end_time": "2023-05-08T10:19:36.085757Z"
    }
   }
  },
  {
   "cell_type": "code",
   "execution_count": 29,
   "outputs": [
    {
     "data": {
      "text/plain": "Int64Index([6, 7, 8, 9, 10], dtype='int64')"
     },
     "execution_count": 29,
     "metadata": {},
     "output_type": "execute_result"
    }
   ],
   "source": [
    "df2.index"
   ],
   "metadata": {
    "collapsed": false,
    "ExecuteTime": {
     "start_time": "2023-05-08T10:19:39.953744Z",
     "end_time": "2023-05-08T10:19:40.047599Z"
    }
   }
  },
  {
   "cell_type": "code",
   "execution_count": 34,
   "outputs": [],
   "source": [
    "df1 = df1.reset_index(drop=True)\n",
    "df2 = df2.reset_index(drop=True)"
   ],
   "metadata": {
    "collapsed": false,
    "ExecuteTime": {
     "start_time": "2023-05-08T10:21:48.762183Z",
     "end_time": "2023-05-08T10:21:48.809166Z"
    }
   }
  },
  {
   "cell_type": "code",
   "execution_count": 35,
   "outputs": [
    {
     "data": {
      "text/plain": "   A  B   C      D\n0  1  2  10   1000\n1  3  3  20   2000\n2  5  4  30   3000\n3  7  5  40  40000\n4  9  6  50   5000",
      "text/html": "<div>\n<style scoped>\n    .dataframe tbody tr th:only-of-type {\n        vertical-align: middle;\n    }\n\n    .dataframe tbody tr th {\n        vertical-align: top;\n    }\n\n    .dataframe thead th {\n        text-align: right;\n    }\n</style>\n<table border=\"1\" class=\"dataframe\">\n  <thead>\n    <tr style=\"text-align: right;\">\n      <th></th>\n      <th>A</th>\n      <th>B</th>\n      <th>C</th>\n      <th>D</th>\n    </tr>\n  </thead>\n  <tbody>\n    <tr>\n      <th>0</th>\n      <td>1</td>\n      <td>2</td>\n      <td>10</td>\n      <td>1000</td>\n    </tr>\n    <tr>\n      <th>1</th>\n      <td>3</td>\n      <td>3</td>\n      <td>20</td>\n      <td>2000</td>\n    </tr>\n    <tr>\n      <th>2</th>\n      <td>5</td>\n      <td>4</td>\n      <td>30</td>\n      <td>3000</td>\n    </tr>\n    <tr>\n      <th>3</th>\n      <td>7</td>\n      <td>5</td>\n      <td>40</td>\n      <td>40000</td>\n    </tr>\n    <tr>\n      <th>4</th>\n      <td>9</td>\n      <td>6</td>\n      <td>50</td>\n      <td>5000</td>\n    </tr>\n  </tbody>\n</table>\n</div>"
     },
     "execution_count": 35,
     "metadata": {},
     "output_type": "execute_result"
    }
   ],
   "source": [
    "df1"
   ],
   "metadata": {
    "collapsed": false,
    "ExecuteTime": {
     "start_time": "2023-05-08T10:21:50.447374Z",
     "end_time": "2023-05-08T10:21:50.478664Z"
    }
   }
  },
  {
   "cell_type": "code",
   "execution_count": 36,
   "outputs": [
    {
     "data": {
      "text/plain": "   A  B   C      D   A    B  C   D\n0  1  2  10   1000  10  200  1  11\n1  3  3  20   2000  30  300  2  22\n2  5  4  30   3000  50  400  3  33\n3  7  5  40  40000  70  500  4  44\n4  9  6  50   5000  90  600  5  55",
      "text/html": "<div>\n<style scoped>\n    .dataframe tbody tr th:only-of-type {\n        vertical-align: middle;\n    }\n\n    .dataframe tbody tr th {\n        vertical-align: top;\n    }\n\n    .dataframe thead th {\n        text-align: right;\n    }\n</style>\n<table border=\"1\" class=\"dataframe\">\n  <thead>\n    <tr style=\"text-align: right;\">\n      <th></th>\n      <th>A</th>\n      <th>B</th>\n      <th>C</th>\n      <th>D</th>\n      <th>A</th>\n      <th>B</th>\n      <th>C</th>\n      <th>D</th>\n    </tr>\n  </thead>\n  <tbody>\n    <tr>\n      <th>0</th>\n      <td>1</td>\n      <td>2</td>\n      <td>10</td>\n      <td>1000</td>\n      <td>10</td>\n      <td>200</td>\n      <td>1</td>\n      <td>11</td>\n    </tr>\n    <tr>\n      <th>1</th>\n      <td>3</td>\n      <td>3</td>\n      <td>20</td>\n      <td>2000</td>\n      <td>30</td>\n      <td>300</td>\n      <td>2</td>\n      <td>22</td>\n    </tr>\n    <tr>\n      <th>2</th>\n      <td>5</td>\n      <td>4</td>\n      <td>30</td>\n      <td>3000</td>\n      <td>50</td>\n      <td>400</td>\n      <td>3</td>\n      <td>33</td>\n    </tr>\n    <tr>\n      <th>3</th>\n      <td>7</td>\n      <td>5</td>\n      <td>40</td>\n      <td>40000</td>\n      <td>70</td>\n      <td>500</td>\n      <td>4</td>\n      <td>44</td>\n    </tr>\n    <tr>\n      <th>4</th>\n      <td>9</td>\n      <td>6</td>\n      <td>50</td>\n      <td>5000</td>\n      <td>90</td>\n      <td>600</td>\n      <td>5</td>\n      <td>55</td>\n    </tr>\n  </tbody>\n</table>\n</div>"
     },
     "execution_count": 36,
     "metadata": {},
     "output_type": "execute_result"
    }
   ],
   "source": [
    "pd.concat([df1, df2], axis=1)"
   ],
   "metadata": {
    "collapsed": false,
    "ExecuteTime": {
     "start_time": "2023-05-08T10:22:41.654140Z",
     "end_time": "2023-05-08T10:22:41.685434Z"
    }
   }
  },
  {
   "cell_type": "code",
   "execution_count": 54,
   "outputs": [],
   "source": [
    "dict1 = {\"user_id\": [\"X1\", \"X2\", \"X3\", \"X4\", \"X5\"],\n",
    "         \"A\": [1, 3, 5, 7, 9],\n",
    "         \"B\": [2, 3, 4, 5, 6],\n",
    "         \"C\": [10, 20, 30, 40, 50],\n",
    "         \"D\": [1000, 2000, 3000, 40000, 5000]}\n",
    "\n",
    "dict2 = {\"id\": [\"X1\", \"X2\", \"X3\", \"X4\", \"X6\"],\n",
    "         \"E\": [10, 30, 50, 70, 90],\n",
    "         \"F\": [200, 300, 400, 500, 600],\n",
    "         \"G\": [1, 2, 3, 4, 5],\n",
    "         \"H\": [11, 22, 33, 44, 55]}\n",
    "\n",
    "df1 = pd.DataFrame(dict1)\n",
    "df2 = pd.DataFrame(dict2)"
   ],
   "metadata": {
    "collapsed": false,
    "ExecuteTime": {
     "start_time": "2023-05-08T10:35:22.980426Z",
     "end_time": "2023-05-08T10:35:23.027408Z"
    }
   }
  },
  {
   "cell_type": "code",
   "execution_count": 55,
   "outputs": [],
   "source": [
    "df1"
   ],
   "metadata": {
    "collapsed": false,
    "ExecuteTime": {
     "start_time": "2023-05-08T10:35:24.727933Z",
     "end_time": "2023-05-08T10:35:24.774787Z"
    }
   }
  },
  {
   "cell_type": "code",
   "execution_count": 49,
   "outputs": [
    {
     "data": {
      "text/plain": "   id   E    F  G   H\n0  X1  10  200  1  11\n1  X2  30  300  2  22\n2  X3  50  400  3  33\n3  X4  70  500  4  44\n4  X6  90  600  5  55",
      "text/html": "<div>\n<style scoped>\n    .dataframe tbody tr th:only-of-type {\n        vertical-align: middle;\n    }\n\n    .dataframe tbody tr th {\n        vertical-align: top;\n    }\n\n    .dataframe thead th {\n        text-align: right;\n    }\n</style>\n<table border=\"1\" class=\"dataframe\">\n  <thead>\n    <tr style=\"text-align: right;\">\n      <th></th>\n      <th>id</th>\n      <th>E</th>\n      <th>F</th>\n      <th>G</th>\n      <th>H</th>\n    </tr>\n  </thead>\n  <tbody>\n    <tr>\n      <th>0</th>\n      <td>X1</td>\n      <td>10</td>\n      <td>200</td>\n      <td>1</td>\n      <td>11</td>\n    </tr>\n    <tr>\n      <th>1</th>\n      <td>X2</td>\n      <td>30</td>\n      <td>300</td>\n      <td>2</td>\n      <td>22</td>\n    </tr>\n    <tr>\n      <th>2</th>\n      <td>X3</td>\n      <td>50</td>\n      <td>400</td>\n      <td>3</td>\n      <td>33</td>\n    </tr>\n    <tr>\n      <th>3</th>\n      <td>X4</td>\n      <td>70</td>\n      <td>500</td>\n      <td>4</td>\n      <td>44</td>\n    </tr>\n    <tr>\n      <th>4</th>\n      <td>X6</td>\n      <td>90</td>\n      <td>600</td>\n      <td>5</td>\n      <td>55</td>\n    </tr>\n  </tbody>\n</table>\n</div>"
     },
     "execution_count": 49,
     "metadata": {},
     "output_type": "execute_result"
    }
   ],
   "source": [
    "df2"
   ],
   "metadata": {
    "collapsed": false,
    "ExecuteTime": {
     "start_time": "2023-05-08T10:32:07.703098Z",
     "end_time": "2023-05-08T10:32:07.765708Z"
    }
   }
  },
  {
   "cell_type": "code",
   "execution_count": 53,
   "outputs": [
    {
     "data": {
      "text/plain": "   id    A    B     C        D     E      F    G     H\n0  X1  1.0  2.0  10.0   1000.0  10.0  200.0  1.0  11.0\n1  X2  3.0  3.0  20.0   2000.0  30.0  300.0  2.0  22.0\n2  X3  5.0  4.0  30.0   3000.0  50.0  400.0  3.0  33.0\n3  X4  7.0  5.0  40.0  40000.0  70.0  500.0  4.0  44.0\n4  X5  9.0  6.0  50.0   5000.0   NaN    NaN  NaN   NaN\n5  X6  NaN  NaN   NaN      NaN  90.0  600.0  5.0  55.0",
      "text/html": "<div>\n<style scoped>\n    .dataframe tbody tr th:only-of-type {\n        vertical-align: middle;\n    }\n\n    .dataframe tbody tr th {\n        vertical-align: top;\n    }\n\n    .dataframe thead th {\n        text-align: right;\n    }\n</style>\n<table border=\"1\" class=\"dataframe\">\n  <thead>\n    <tr style=\"text-align: right;\">\n      <th></th>\n      <th>id</th>\n      <th>A</th>\n      <th>B</th>\n      <th>C</th>\n      <th>D</th>\n      <th>E</th>\n      <th>F</th>\n      <th>G</th>\n      <th>H</th>\n    </tr>\n  </thead>\n  <tbody>\n    <tr>\n      <th>0</th>\n      <td>X1</td>\n      <td>1.0</td>\n      <td>2.0</td>\n      <td>10.0</td>\n      <td>1000.0</td>\n      <td>10.0</td>\n      <td>200.0</td>\n      <td>1.0</td>\n      <td>11.0</td>\n    </tr>\n    <tr>\n      <th>1</th>\n      <td>X2</td>\n      <td>3.0</td>\n      <td>3.0</td>\n      <td>20.0</td>\n      <td>2000.0</td>\n      <td>30.0</td>\n      <td>300.0</td>\n      <td>2.0</td>\n      <td>22.0</td>\n    </tr>\n    <tr>\n      <th>2</th>\n      <td>X3</td>\n      <td>5.0</td>\n      <td>4.0</td>\n      <td>30.0</td>\n      <td>3000.0</td>\n      <td>50.0</td>\n      <td>400.0</td>\n      <td>3.0</td>\n      <td>33.0</td>\n    </tr>\n    <tr>\n      <th>3</th>\n      <td>X4</td>\n      <td>7.0</td>\n      <td>5.0</td>\n      <td>40.0</td>\n      <td>40000.0</td>\n      <td>70.0</td>\n      <td>500.0</td>\n      <td>4.0</td>\n      <td>44.0</td>\n    </tr>\n    <tr>\n      <th>4</th>\n      <td>X5</td>\n      <td>9.0</td>\n      <td>6.0</td>\n      <td>50.0</td>\n      <td>5000.0</td>\n      <td>NaN</td>\n      <td>NaN</td>\n      <td>NaN</td>\n      <td>NaN</td>\n    </tr>\n    <tr>\n      <th>5</th>\n      <td>X6</td>\n      <td>NaN</td>\n      <td>NaN</td>\n      <td>NaN</td>\n      <td>NaN</td>\n      <td>90.0</td>\n      <td>600.0</td>\n      <td>5.0</td>\n      <td>55.0</td>\n    </tr>\n  </tbody>\n</table>\n</div>"
     },
     "execution_count": 53,
     "metadata": {},
     "output_type": "execute_result"
    }
   ],
   "source": [
    "pd.merge(df1, df2, on=\"id\", how=\"outer\")"
   ],
   "metadata": {
    "collapsed": false,
    "ExecuteTime": {
     "start_time": "2023-05-08T10:33:46.580461Z",
     "end_time": "2023-05-08T10:33:46.627365Z"
    }
   }
  },
  {
   "cell_type": "code",
   "execution_count": 46,
   "outputs": [
    {
     "data": {
      "text/plain": "   id  A  B   C      D   E    F  G   H\n0  X1  1  2  10   1000  10  200  1  11\n1  X2  3  3  20   2000  30  300  2  22\n2  X3  5  4  30   3000  50  400  3  33\n3  X4  7  5  40  40000  70  500  4  44\n4  X5  9  6  50   5000  90  600  5  55",
      "text/html": "<div>\n<style scoped>\n    .dataframe tbody tr th:only-of-type {\n        vertical-align: middle;\n    }\n\n    .dataframe tbody tr th {\n        vertical-align: top;\n    }\n\n    .dataframe thead th {\n        text-align: right;\n    }\n</style>\n<table border=\"1\" class=\"dataframe\">\n  <thead>\n    <tr style=\"text-align: right;\">\n      <th></th>\n      <th>id</th>\n      <th>A</th>\n      <th>B</th>\n      <th>C</th>\n      <th>D</th>\n      <th>E</th>\n      <th>F</th>\n      <th>G</th>\n      <th>H</th>\n    </tr>\n  </thead>\n  <tbody>\n    <tr>\n      <th>0</th>\n      <td>X1</td>\n      <td>1</td>\n      <td>2</td>\n      <td>10</td>\n      <td>1000</td>\n      <td>10</td>\n      <td>200</td>\n      <td>1</td>\n      <td>11</td>\n    </tr>\n    <tr>\n      <th>1</th>\n      <td>X2</td>\n      <td>3</td>\n      <td>3</td>\n      <td>20</td>\n      <td>2000</td>\n      <td>30</td>\n      <td>300</td>\n      <td>2</td>\n      <td>22</td>\n    </tr>\n    <tr>\n      <th>2</th>\n      <td>X3</td>\n      <td>5</td>\n      <td>4</td>\n      <td>30</td>\n      <td>3000</td>\n      <td>50</td>\n      <td>400</td>\n      <td>3</td>\n      <td>33</td>\n    </tr>\n    <tr>\n      <th>3</th>\n      <td>X4</td>\n      <td>7</td>\n      <td>5</td>\n      <td>40</td>\n      <td>40000</td>\n      <td>70</td>\n      <td>500</td>\n      <td>4</td>\n      <td>44</td>\n    </tr>\n    <tr>\n      <th>4</th>\n      <td>X5</td>\n      <td>9</td>\n      <td>6</td>\n      <td>50</td>\n      <td>5000</td>\n      <td>90</td>\n      <td>600</td>\n      <td>5</td>\n      <td>55</td>\n    </tr>\n  </tbody>\n</table>\n</div>"
     },
     "execution_count": 46,
     "metadata": {},
     "output_type": "execute_result"
    }
   ],
   "source": [],
   "metadata": {
    "collapsed": false,
    "ExecuteTime": {
     "start_time": "2023-05-08T10:31:27.737225Z",
     "end_time": "2023-05-08T10:31:27.768484Z"
    }
   }
  },
  {
   "cell_type": "code",
   "execution_count": 2,
   "outputs": [],
   "source": [
    "import pandas as pd\n",
    "\n",
    "dict1 = {\"user_id\": [\"X1\", \"X2\", \"X3\", \"X4\", \"X5\"],\n",
    "         \"A\": [1, 3, 5, 7, 9],\n",
    "         \"B\": [2, 3, 4, 5, 6],\n",
    "         \"C\": [10, 20, 30, 40, 50],\n",
    "         \"D\": [1000, 2000, 3000, 40000, 5000]}\n",
    "\n",
    "dict2 = {\"id\": [\"X1\", \"X2\", \"X3\", \"X4\", \"X6\"],\n",
    "         \"E\": [10, 30, 50, 70, 90],\n",
    "         \"F\": [200, 300, 400, 500, 600],\n",
    "         \"G\": [1, 2, 3, 4, 5],\n",
    "         \"H\": [11, 22, 33, 44, 55]}\n",
    "\n",
    "df1 = pd.DataFrame(dict1)\n",
    "df2 = pd.DataFrame(dict2, index=[\"a\", \"b\", \"c\", \"d\", \"e\"])"
   ],
   "metadata": {
    "collapsed": false,
    "ExecuteTime": {
     "start_time": "2023-05-08T10:44:52.179741Z",
     "end_time": "2023-05-08T10:44:52.303096Z"
    }
   }
  },
  {
   "cell_type": "code",
   "execution_count": 3,
   "outputs": [
    {
     "data": {
      "text/plain": "  user_id  A  B   C      D\n0      X1  1  2  10   1000\n1      X2  3  3  20   2000\n2      X3  5  4  30   3000\n3      X4  7  5  40  40000\n4      X5  9  6  50   5000",
      "text/html": "<div>\n<style scoped>\n    .dataframe tbody tr th:only-of-type {\n        vertical-align: middle;\n    }\n\n    .dataframe tbody tr th {\n        vertical-align: top;\n    }\n\n    .dataframe thead th {\n        text-align: right;\n    }\n</style>\n<table border=\"1\" class=\"dataframe\">\n  <thead>\n    <tr style=\"text-align: right;\">\n      <th></th>\n      <th>user_id</th>\n      <th>A</th>\n      <th>B</th>\n      <th>C</th>\n      <th>D</th>\n    </tr>\n  </thead>\n  <tbody>\n    <tr>\n      <th>0</th>\n      <td>X1</td>\n      <td>1</td>\n      <td>2</td>\n      <td>10</td>\n      <td>1000</td>\n    </tr>\n    <tr>\n      <th>1</th>\n      <td>X2</td>\n      <td>3</td>\n      <td>3</td>\n      <td>20</td>\n      <td>2000</td>\n    </tr>\n    <tr>\n      <th>2</th>\n      <td>X3</td>\n      <td>5</td>\n      <td>4</td>\n      <td>30</td>\n      <td>3000</td>\n    </tr>\n    <tr>\n      <th>3</th>\n      <td>X4</td>\n      <td>7</td>\n      <td>5</td>\n      <td>40</td>\n      <td>40000</td>\n    </tr>\n    <tr>\n      <th>4</th>\n      <td>X5</td>\n      <td>9</td>\n      <td>6</td>\n      <td>50</td>\n      <td>5000</td>\n    </tr>\n  </tbody>\n</table>\n</div>"
     },
     "execution_count": 3,
     "metadata": {},
     "output_type": "execute_result"
    }
   ],
   "source": [
    "df1"
   ],
   "metadata": {
    "collapsed": false,
    "ExecuteTime": {
     "start_time": "2023-05-08T10:44:55.865767Z",
     "end_time": "2023-05-08T10:44:56.026148Z"
    }
   }
  },
  {
   "cell_type": "code",
   "execution_count": 4,
   "outputs": [
    {
     "data": {
      "text/plain": "   id   E    F  G   H\na  X1  10  200  1  11\nb  X2  30  300  2  22\nc  X3  50  400  3  33\nd  X4  70  500  4  44\ne  X6  90  600  5  55",
      "text/html": "<div>\n<style scoped>\n    .dataframe tbody tr th:only-of-type {\n        vertical-align: middle;\n    }\n\n    .dataframe tbody tr th {\n        vertical-align: top;\n    }\n\n    .dataframe thead th {\n        text-align: right;\n    }\n</style>\n<table border=\"1\" class=\"dataframe\">\n  <thead>\n    <tr style=\"text-align: right;\">\n      <th></th>\n      <th>id</th>\n      <th>E</th>\n      <th>F</th>\n      <th>G</th>\n      <th>H</th>\n    </tr>\n  </thead>\n  <tbody>\n    <tr>\n      <th>a</th>\n      <td>X1</td>\n      <td>10</td>\n      <td>200</td>\n      <td>1</td>\n      <td>11</td>\n    </tr>\n    <tr>\n      <th>b</th>\n      <td>X2</td>\n      <td>30</td>\n      <td>300</td>\n      <td>2</td>\n      <td>22</td>\n    </tr>\n    <tr>\n      <th>c</th>\n      <td>X3</td>\n      <td>50</td>\n      <td>400</td>\n      <td>3</td>\n      <td>33</td>\n    </tr>\n    <tr>\n      <th>d</th>\n      <td>X4</td>\n      <td>70</td>\n      <td>500</td>\n      <td>4</td>\n      <td>44</td>\n    </tr>\n    <tr>\n      <th>e</th>\n      <td>X6</td>\n      <td>90</td>\n      <td>600</td>\n      <td>5</td>\n      <td>55</td>\n    </tr>\n  </tbody>\n</table>\n</div>"
     },
     "execution_count": 4,
     "metadata": {},
     "output_type": "execute_result"
    }
   ],
   "source": [
    "df2"
   ],
   "metadata": {
    "collapsed": false,
    "ExecuteTime": {
     "start_time": "2023-05-08T10:44:59.953764Z",
     "end_time": "2023-05-08T10:45:00.126578Z"
    }
   }
  },
  {
   "cell_type": "code",
   "execution_count": 5,
   "outputs": [
    {
     "data": {
      "text/plain": "  user_id  A  B   C      D   id   E   F   G   H\n0      X1  1  2  10   1000  NaN NaN NaN NaN NaN\n1      X2  3  3  20   2000  NaN NaN NaN NaN NaN\n2      X3  5  4  30   3000  NaN NaN NaN NaN NaN\n3      X4  7  5  40  40000  NaN NaN NaN NaN NaN\n4      X5  9  6  50   5000  NaN NaN NaN NaN NaN",
      "text/html": "<div>\n<style scoped>\n    .dataframe tbody tr th:only-of-type {\n        vertical-align: middle;\n    }\n\n    .dataframe tbody tr th {\n        vertical-align: top;\n    }\n\n    .dataframe thead th {\n        text-align: right;\n    }\n</style>\n<table border=\"1\" class=\"dataframe\">\n  <thead>\n    <tr style=\"text-align: right;\">\n      <th></th>\n      <th>user_id</th>\n      <th>A</th>\n      <th>B</th>\n      <th>C</th>\n      <th>D</th>\n      <th>id</th>\n      <th>E</th>\n      <th>F</th>\n      <th>G</th>\n      <th>H</th>\n    </tr>\n  </thead>\n  <tbody>\n    <tr>\n      <th>0</th>\n      <td>X1</td>\n      <td>1</td>\n      <td>2</td>\n      <td>10</td>\n      <td>1000</td>\n      <td>NaN</td>\n      <td>NaN</td>\n      <td>NaN</td>\n      <td>NaN</td>\n      <td>NaN</td>\n    </tr>\n    <tr>\n      <th>1</th>\n      <td>X2</td>\n      <td>3</td>\n      <td>3</td>\n      <td>20</td>\n      <td>2000</td>\n      <td>NaN</td>\n      <td>NaN</td>\n      <td>NaN</td>\n      <td>NaN</td>\n      <td>NaN</td>\n    </tr>\n    <tr>\n      <th>2</th>\n      <td>X3</td>\n      <td>5</td>\n      <td>4</td>\n      <td>30</td>\n      <td>3000</td>\n      <td>NaN</td>\n      <td>NaN</td>\n      <td>NaN</td>\n      <td>NaN</td>\n      <td>NaN</td>\n    </tr>\n    <tr>\n      <th>3</th>\n      <td>X4</td>\n      <td>7</td>\n      <td>5</td>\n      <td>40</td>\n      <td>40000</td>\n      <td>NaN</td>\n      <td>NaN</td>\n      <td>NaN</td>\n      <td>NaN</td>\n      <td>NaN</td>\n    </tr>\n    <tr>\n      <th>4</th>\n      <td>X5</td>\n      <td>9</td>\n      <td>6</td>\n      <td>50</td>\n      <td>5000</td>\n      <td>NaN</td>\n      <td>NaN</td>\n      <td>NaN</td>\n      <td>NaN</td>\n      <td>NaN</td>\n    </tr>\n  </tbody>\n</table>\n</div>"
     },
     "execution_count": 5,
     "metadata": {},
     "output_type": "execute_result"
    }
   ],
   "source": [
    "df1.join(df2)"
   ],
   "metadata": {
    "collapsed": false,
    "ExecuteTime": {
     "start_time": "2023-05-08T10:46:08.120033Z",
     "end_time": "2023-05-08T10:46:08.182535Z"
    }
   }
  },
  {
   "cell_type": "code",
   "execution_count": 6,
   "outputs": [],
   "source": [
    "df1.reset_index(drop=True, inplace=True)\n",
    "df2.reset_index(drop=True, inplace=True)"
   ],
   "metadata": {
    "collapsed": false,
    "ExecuteTime": {
     "start_time": "2023-05-08T10:47:31.493630Z",
     "end_time": "2023-05-08T10:47:31.587399Z"
    }
   }
  },
  {
   "cell_type": "code",
   "execution_count": 7,
   "outputs": [
    {
     "data": {
      "text/plain": "  user_id  A  B   C      D\n0      X1  1  2  10   1000\n1      X2  3  3  20   2000\n2      X3  5  4  30   3000\n3      X4  7  5  40  40000\n4      X5  9  6  50   5000",
      "text/html": "<div>\n<style scoped>\n    .dataframe tbody tr th:only-of-type {\n        vertical-align: middle;\n    }\n\n    .dataframe tbody tr th {\n        vertical-align: top;\n    }\n\n    .dataframe thead th {\n        text-align: right;\n    }\n</style>\n<table border=\"1\" class=\"dataframe\">\n  <thead>\n    <tr style=\"text-align: right;\">\n      <th></th>\n      <th>user_id</th>\n      <th>A</th>\n      <th>B</th>\n      <th>C</th>\n      <th>D</th>\n    </tr>\n  </thead>\n  <tbody>\n    <tr>\n      <th>0</th>\n      <td>X1</td>\n      <td>1</td>\n      <td>2</td>\n      <td>10</td>\n      <td>1000</td>\n    </tr>\n    <tr>\n      <th>1</th>\n      <td>X2</td>\n      <td>3</td>\n      <td>3</td>\n      <td>20</td>\n      <td>2000</td>\n    </tr>\n    <tr>\n      <th>2</th>\n      <td>X3</td>\n      <td>5</td>\n      <td>4</td>\n      <td>30</td>\n      <td>3000</td>\n    </tr>\n    <tr>\n      <th>3</th>\n      <td>X4</td>\n      <td>7</td>\n      <td>5</td>\n      <td>40</td>\n      <td>40000</td>\n    </tr>\n    <tr>\n      <th>4</th>\n      <td>X5</td>\n      <td>9</td>\n      <td>6</td>\n      <td>50</td>\n      <td>5000</td>\n    </tr>\n  </tbody>\n</table>\n</div>"
     },
     "execution_count": 7,
     "metadata": {},
     "output_type": "execute_result"
    }
   ],
   "source": [
    "df1"
   ],
   "metadata": {
    "collapsed": false,
    "ExecuteTime": {
     "start_time": "2023-05-08T10:47:34.792588Z",
     "end_time": "2023-05-08T10:47:34.808217Z"
    }
   }
  },
  {
   "cell_type": "code",
   "execution_count": 8,
   "outputs": [
    {
     "data": {
      "text/plain": "   id   E    F  G   H\n0  X1  10  200  1  11\n1  X2  30  300  2  22\n2  X3  50  400  3  33\n3  X4  70  500  4  44\n4  X6  90  600  5  55",
      "text/html": "<div>\n<style scoped>\n    .dataframe tbody tr th:only-of-type {\n        vertical-align: middle;\n    }\n\n    .dataframe tbody tr th {\n        vertical-align: top;\n    }\n\n    .dataframe thead th {\n        text-align: right;\n    }\n</style>\n<table border=\"1\" class=\"dataframe\">\n  <thead>\n    <tr style=\"text-align: right;\">\n      <th></th>\n      <th>id</th>\n      <th>E</th>\n      <th>F</th>\n      <th>G</th>\n      <th>H</th>\n    </tr>\n  </thead>\n  <tbody>\n    <tr>\n      <th>0</th>\n      <td>X1</td>\n      <td>10</td>\n      <td>200</td>\n      <td>1</td>\n      <td>11</td>\n    </tr>\n    <tr>\n      <th>1</th>\n      <td>X2</td>\n      <td>30</td>\n      <td>300</td>\n      <td>2</td>\n      <td>22</td>\n    </tr>\n    <tr>\n      <th>2</th>\n      <td>X3</td>\n      <td>50</td>\n      <td>400</td>\n      <td>3</td>\n      <td>33</td>\n    </tr>\n    <tr>\n      <th>3</th>\n      <td>X4</td>\n      <td>70</td>\n      <td>500</td>\n      <td>4</td>\n      <td>44</td>\n    </tr>\n    <tr>\n      <th>4</th>\n      <td>X6</td>\n      <td>90</td>\n      <td>600</td>\n      <td>5</td>\n      <td>55</td>\n    </tr>\n  </tbody>\n</table>\n</div>"
     },
     "execution_count": 8,
     "metadata": {},
     "output_type": "execute_result"
    }
   ],
   "source": [
    "df2"
   ],
   "metadata": {
    "collapsed": false,
    "ExecuteTime": {
     "start_time": "2023-05-08T10:47:39.767923Z",
     "end_time": "2023-05-08T10:47:39.783549Z"
    }
   }
  },
  {
   "cell_type": "code",
   "execution_count": 9,
   "outputs": [
    {
     "data": {
      "text/plain": "  user_id  A  B   C      D  id   E    F  G   H\n0      X1  1  2  10   1000  X1  10  200  1  11\n1      X2  3  3  20   2000  X2  30  300  2  22\n2      X3  5  4  30   3000  X3  50  400  3  33\n3      X4  7  5  40  40000  X4  70  500  4  44\n4      X5  9  6  50   5000  X6  90  600  5  55",
      "text/html": "<div>\n<style scoped>\n    .dataframe tbody tr th:only-of-type {\n        vertical-align: middle;\n    }\n\n    .dataframe tbody tr th {\n        vertical-align: top;\n    }\n\n    .dataframe thead th {\n        text-align: right;\n    }\n</style>\n<table border=\"1\" class=\"dataframe\">\n  <thead>\n    <tr style=\"text-align: right;\">\n      <th></th>\n      <th>user_id</th>\n      <th>A</th>\n      <th>B</th>\n      <th>C</th>\n      <th>D</th>\n      <th>id</th>\n      <th>E</th>\n      <th>F</th>\n      <th>G</th>\n      <th>H</th>\n    </tr>\n  </thead>\n  <tbody>\n    <tr>\n      <th>0</th>\n      <td>X1</td>\n      <td>1</td>\n      <td>2</td>\n      <td>10</td>\n      <td>1000</td>\n      <td>X1</td>\n      <td>10</td>\n      <td>200</td>\n      <td>1</td>\n      <td>11</td>\n    </tr>\n    <tr>\n      <th>1</th>\n      <td>X2</td>\n      <td>3</td>\n      <td>3</td>\n      <td>20</td>\n      <td>2000</td>\n      <td>X2</td>\n      <td>30</td>\n      <td>300</td>\n      <td>2</td>\n      <td>22</td>\n    </tr>\n    <tr>\n      <th>2</th>\n      <td>X3</td>\n      <td>5</td>\n      <td>4</td>\n      <td>30</td>\n      <td>3000</td>\n      <td>X3</td>\n      <td>50</td>\n      <td>400</td>\n      <td>3</td>\n      <td>33</td>\n    </tr>\n    <tr>\n      <th>3</th>\n      <td>X4</td>\n      <td>7</td>\n      <td>5</td>\n      <td>40</td>\n      <td>40000</td>\n      <td>X4</td>\n      <td>70</td>\n      <td>500</td>\n      <td>4</td>\n      <td>44</td>\n    </tr>\n    <tr>\n      <th>4</th>\n      <td>X5</td>\n      <td>9</td>\n      <td>6</td>\n      <td>50</td>\n      <td>5000</td>\n      <td>X6</td>\n      <td>90</td>\n      <td>600</td>\n      <td>5</td>\n      <td>55</td>\n    </tr>\n  </tbody>\n</table>\n</div>"
     },
     "execution_count": 9,
     "metadata": {},
     "output_type": "execute_result"
    }
   ],
   "source": [
    "df1.join(df2)"
   ],
   "metadata": {
    "collapsed": false,
    "ExecuteTime": {
     "start_time": "2023-05-08T10:47:52.963140Z",
     "end_time": "2023-05-08T10:47:53.072546Z"
    }
   }
  },
  {
   "cell_type": "code",
   "execution_count": 10,
   "outputs": [
    {
     "data": {
      "text/plain": "   id   E    F  G   H user_id  A  B   C      D\n0  X1  10  200  1  11      X1  1  2  10   1000\n1  X2  30  300  2  22      X2  3  3  20   2000\n2  X3  50  400  3  33      X3  5  4  30   3000\n3  X4  70  500  4  44      X4  7  5  40  40000\n4  X6  90  600  5  55      X5  9  6  50   5000",
      "text/html": "<div>\n<style scoped>\n    .dataframe tbody tr th:only-of-type {\n        vertical-align: middle;\n    }\n\n    .dataframe tbody tr th {\n        vertical-align: top;\n    }\n\n    .dataframe thead th {\n        text-align: right;\n    }\n</style>\n<table border=\"1\" class=\"dataframe\">\n  <thead>\n    <tr style=\"text-align: right;\">\n      <th></th>\n      <th>id</th>\n      <th>E</th>\n      <th>F</th>\n      <th>G</th>\n      <th>H</th>\n      <th>user_id</th>\n      <th>A</th>\n      <th>B</th>\n      <th>C</th>\n      <th>D</th>\n    </tr>\n  </thead>\n  <tbody>\n    <tr>\n      <th>0</th>\n      <td>X1</td>\n      <td>10</td>\n      <td>200</td>\n      <td>1</td>\n      <td>11</td>\n      <td>X1</td>\n      <td>1</td>\n      <td>2</td>\n      <td>10</td>\n      <td>1000</td>\n    </tr>\n    <tr>\n      <th>1</th>\n      <td>X2</td>\n      <td>30</td>\n      <td>300</td>\n      <td>2</td>\n      <td>22</td>\n      <td>X2</td>\n      <td>3</td>\n      <td>3</td>\n      <td>20</td>\n      <td>2000</td>\n    </tr>\n    <tr>\n      <th>2</th>\n      <td>X3</td>\n      <td>50</td>\n      <td>400</td>\n      <td>3</td>\n      <td>33</td>\n      <td>X3</td>\n      <td>5</td>\n      <td>4</td>\n      <td>30</td>\n      <td>3000</td>\n    </tr>\n    <tr>\n      <th>3</th>\n      <td>X4</td>\n      <td>70</td>\n      <td>500</td>\n      <td>4</td>\n      <td>44</td>\n      <td>X4</td>\n      <td>7</td>\n      <td>5</td>\n      <td>40</td>\n      <td>40000</td>\n    </tr>\n    <tr>\n      <th>4</th>\n      <td>X6</td>\n      <td>90</td>\n      <td>600</td>\n      <td>5</td>\n      <td>55</td>\n      <td>X5</td>\n      <td>9</td>\n      <td>6</td>\n      <td>50</td>\n      <td>5000</td>\n    </tr>\n  </tbody>\n</table>\n</div>"
     },
     "execution_count": 10,
     "metadata": {},
     "output_type": "execute_result"
    }
   ],
   "source": [
    "df2.join(df1)"
   ],
   "metadata": {
    "collapsed": false,
    "ExecuteTime": {
     "start_time": "2023-05-08T10:48:14.309207Z",
     "end_time": "2023-05-08T10:48:14.402613Z"
    }
   }
  },
  {
   "cell_type": "markdown",
   "source": [
    "# pd.concat([df1, df2, df3, df4, df5], axis=1)\n",
    "# pd.merge(df1, df2, on=\"id\", how=\"outer|inner|left|right\")\n",
    "# df.join(df2)"
   ],
   "metadata": {
    "collapsed": false
   }
  },
  {
   "cell_type": "code",
   "execution_count": 11,
   "outputs": [],
   "source": [
    "import pandas as pd\n",
    "import numpy as np\n",
    "import matplotlib.pyplot as plt\n",
    "import seaborn as sns"
   ],
   "metadata": {
    "collapsed": false,
    "ExecuteTime": {
     "start_time": "2023-05-08T11:05:30.714830Z",
     "end_time": "2023-05-08T11:05:30.777329Z"
    }
   }
  },
  {
   "cell_type": "code",
   "execution_count": 12,
   "outputs": [],
   "source": [
    "mem = pd.read_csv(\"member.csv\")\n",
    "tran = pd.read_csv(r\"C:\\Users\\hkit\\PycharmProjects\\e_commerce\\6_promotion#random_forest\\transaction.csv\")"
   ],
   "metadata": {
    "collapsed": false,
    "ExecuteTime": {
     "start_time": "2023-05-08T11:07:57.723016Z",
     "end_time": "2023-05-08T11:07:57.832379Z"
    }
   }
  },
  {
   "cell_type": "code",
   "execution_count": 13,
   "outputs": [
    {
     "data": {
      "text/plain": "       id  recency  zip_code  is_referral channel  conversion\n0  906145       10  Suburban            0   Phone           0\n1  184478        6     Rural            1     Web           0\n2  394235        7  Suburban            1     Web           0\n3  130152        9     Rural            1     Web           0\n4  940352        2     Urban            0     Web           0",
      "text/html": "<div>\n<style scoped>\n    .dataframe tbody tr th:only-of-type {\n        vertical-align: middle;\n    }\n\n    .dataframe tbody tr th {\n        vertical-align: top;\n    }\n\n    .dataframe thead th {\n        text-align: right;\n    }\n</style>\n<table border=\"1\" class=\"dataframe\">\n  <thead>\n    <tr style=\"text-align: right;\">\n      <th></th>\n      <th>id</th>\n      <th>recency</th>\n      <th>zip_code</th>\n      <th>is_referral</th>\n      <th>channel</th>\n      <th>conversion</th>\n    </tr>\n  </thead>\n  <tbody>\n    <tr>\n      <th>0</th>\n      <td>906145</td>\n      <td>10</td>\n      <td>Suburban</td>\n      <td>0</td>\n      <td>Phone</td>\n      <td>0</td>\n    </tr>\n    <tr>\n      <th>1</th>\n      <td>184478</td>\n      <td>6</td>\n      <td>Rural</td>\n      <td>1</td>\n      <td>Web</td>\n      <td>0</td>\n    </tr>\n    <tr>\n      <th>2</th>\n      <td>394235</td>\n      <td>7</td>\n      <td>Suburban</td>\n      <td>1</td>\n      <td>Web</td>\n      <td>0</td>\n    </tr>\n    <tr>\n      <th>3</th>\n      <td>130152</td>\n      <td>9</td>\n      <td>Rural</td>\n      <td>1</td>\n      <td>Web</td>\n      <td>0</td>\n    </tr>\n    <tr>\n      <th>4</th>\n      <td>940352</td>\n      <td>2</td>\n      <td>Urban</td>\n      <td>0</td>\n      <td>Web</td>\n      <td>0</td>\n    </tr>\n  </tbody>\n</table>\n</div>"
     },
     "execution_count": 13,
     "metadata": {},
     "output_type": "execute_result"
    }
   ],
   "source": [
    "mem.head()"
   ],
   "metadata": {
    "collapsed": false,
    "ExecuteTime": {
     "start_time": "2023-05-08T11:08:11.229837Z",
     "end_time": "2023-05-08T11:08:11.276685Z"
    }
   }
  },
  {
   "cell_type": "code",
   "execution_count": 14,
   "outputs": [
    {
     "name": "stdout",
     "output_type": "stream",
     "text": [
      "<class 'pandas.core.frame.DataFrame'>\n",
      "RangeIndex: 64000 entries, 0 to 63999\n",
      "Data columns (total 6 columns):\n",
      " #   Column       Non-Null Count  Dtype \n",
      "---  ------       --------------  ----- \n",
      " 0   id           64000 non-null  int64 \n",
      " 1   recency      64000 non-null  int64 \n",
      " 2   zip_code     64000 non-null  object\n",
      " 3   is_referral  64000 non-null  int64 \n",
      " 4   channel      64000 non-null  object\n",
      " 5   conversion   64000 non-null  int64 \n",
      "dtypes: int64(4), object(2)\n",
      "memory usage: 2.9+ MB\n"
     ]
    }
   ],
   "source": [
    "mem.info()"
   ],
   "metadata": {
    "collapsed": false,
    "ExecuteTime": {
     "start_time": "2023-05-08T11:09:45.691753Z",
     "end_time": "2023-05-08T11:09:45.801134Z"
    }
   }
  },
  {
   "cell_type": "code",
   "execution_count": 15,
   "outputs": [
    {
     "data": {
      "text/plain": "                  id       recency   is_referral    conversion\ncount   64000.000000  64000.000000  64000.000000  64000.000000\nmean   550694.137797      5.763734      0.502250      0.146781\nstd    259105.689773      3.507592      0.499999      0.353890\nmin    100001.000000      1.000000      0.000000      0.000000\n25%    326772.000000      2.000000      0.000000      0.000000\n50%    551300.000000      6.000000      1.000000      0.000000\n75%    774914.500000      9.000000      1.000000      0.000000\nmax    999997.000000     12.000000      1.000000      1.000000",
      "text/html": "<div>\n<style scoped>\n    .dataframe tbody tr th:only-of-type {\n        vertical-align: middle;\n    }\n\n    .dataframe tbody tr th {\n        vertical-align: top;\n    }\n\n    .dataframe thead th {\n        text-align: right;\n    }\n</style>\n<table border=\"1\" class=\"dataframe\">\n  <thead>\n    <tr style=\"text-align: right;\">\n      <th></th>\n      <th>id</th>\n      <th>recency</th>\n      <th>is_referral</th>\n      <th>conversion</th>\n    </tr>\n  </thead>\n  <tbody>\n    <tr>\n      <th>count</th>\n      <td>64000.000000</td>\n      <td>64000.000000</td>\n      <td>64000.000000</td>\n      <td>64000.000000</td>\n    </tr>\n    <tr>\n      <th>mean</th>\n      <td>550694.137797</td>\n      <td>5.763734</td>\n      <td>0.502250</td>\n      <td>0.146781</td>\n    </tr>\n    <tr>\n      <th>std</th>\n      <td>259105.689773</td>\n      <td>3.507592</td>\n      <td>0.499999</td>\n      <td>0.353890</td>\n    </tr>\n    <tr>\n      <th>min</th>\n      <td>100001.000000</td>\n      <td>1.000000</td>\n      <td>0.000000</td>\n      <td>0.000000</td>\n    </tr>\n    <tr>\n      <th>25%</th>\n      <td>326772.000000</td>\n      <td>2.000000</td>\n      <td>0.000000</td>\n      <td>0.000000</td>\n    </tr>\n    <tr>\n      <th>50%</th>\n      <td>551300.000000</td>\n      <td>6.000000</td>\n      <td>1.000000</td>\n      <td>0.000000</td>\n    </tr>\n    <tr>\n      <th>75%</th>\n      <td>774914.500000</td>\n      <td>9.000000</td>\n      <td>1.000000</td>\n      <td>0.000000</td>\n    </tr>\n    <tr>\n      <th>max</th>\n      <td>999997.000000</td>\n      <td>12.000000</td>\n      <td>1.000000</td>\n      <td>1.000000</td>\n    </tr>\n  </tbody>\n</table>\n</div>"
     },
     "execution_count": 15,
     "metadata": {},
     "output_type": "execute_result"
    }
   ],
   "source": [
    "mem.describe()"
   ],
   "metadata": {
    "collapsed": false,
    "ExecuteTime": {
     "start_time": "2023-05-08T11:10:55.363899Z",
     "end_time": "2023-05-08T11:10:55.502896Z"
    }
   }
  },
  {
   "cell_type": "code",
   "execution_count": 16,
   "outputs": [
    {
     "data": {
      "text/plain": "       id  num_item  total_amount\n0  906145         5         34000\n1  906145         1         27000\n2  906145         4         33000\n3  184478         4         29000\n4  394235         4         33000",
      "text/html": "<div>\n<style scoped>\n    .dataframe tbody tr th:only-of-type {\n        vertical-align: middle;\n    }\n\n    .dataframe tbody tr th {\n        vertical-align: top;\n    }\n\n    .dataframe thead th {\n        text-align: right;\n    }\n</style>\n<table border=\"1\" class=\"dataframe\">\n  <thead>\n    <tr style=\"text-align: right;\">\n      <th></th>\n      <th>id</th>\n      <th>num_item</th>\n      <th>total_amount</th>\n    </tr>\n  </thead>\n  <tbody>\n    <tr>\n      <th>0</th>\n      <td>906145</td>\n      <td>5</td>\n      <td>34000</td>\n    </tr>\n    <tr>\n      <th>1</th>\n      <td>906145</td>\n      <td>1</td>\n      <td>27000</td>\n    </tr>\n    <tr>\n      <th>2</th>\n      <td>906145</td>\n      <td>4</td>\n      <td>33000</td>\n    </tr>\n    <tr>\n      <th>3</th>\n      <td>184478</td>\n      <td>4</td>\n      <td>29000</td>\n    </tr>\n    <tr>\n      <th>4</th>\n      <td>394235</td>\n      <td>4</td>\n      <td>33000</td>\n    </tr>\n  </tbody>\n</table>\n</div>"
     },
     "execution_count": 16,
     "metadata": {},
     "output_type": "execute_result"
    }
   ],
   "source": [
    "tran.head()"
   ],
   "metadata": {
    "collapsed": false,
    "ExecuteTime": {
     "start_time": "2023-05-08T11:15:16.440645Z",
     "end_time": "2023-05-08T11:15:16.571407Z"
    }
   }
  },
  {
   "cell_type": "code",
   "execution_count": 17,
   "outputs": [
    {
     "name": "stdout",
     "output_type": "stream",
     "text": [
      "<class 'pandas.core.frame.DataFrame'>\n",
      "RangeIndex: 196836 entries, 0 to 196835\n",
      "Data columns (total 3 columns):\n",
      " #   Column        Non-Null Count   Dtype\n",
      "---  ------        --------------   -----\n",
      " 0   id            196836 non-null  int64\n",
      " 1   num_item      196836 non-null  int64\n",
      " 2   total_amount  196836 non-null  int64\n",
      "dtypes: int64(3)\n",
      "memory usage: 4.5 MB\n"
     ]
    }
   ],
   "source": [
    "tran.info()"
   ],
   "metadata": {
    "collapsed": false,
    "ExecuteTime": {
     "start_time": "2023-05-08T11:16:56.112696Z",
     "end_time": "2023-05-08T11:16:56.128330Z"
    }
   }
  },
  {
   "cell_type": "code",
   "execution_count": 18,
   "outputs": [
    {
     "data": {
      "text/plain": "                  id       num_item   total_amount\ncount  196836.000000  196836.000000  196836.000000\nmean   550557.552932       3.078365   21837.102969\nstd    259254.795613       1.478408    8218.005565\nmin    100001.000000       1.000000    8000.000000\n25%    326719.000000       2.000000   15000.000000\n50%    550918.000000       3.000000   22000.000000\n75%    774916.000000       4.000000   29000.000000\nmax    999997.000000       6.000000   38000.000000",
      "text/html": "<div>\n<style scoped>\n    .dataframe tbody tr th:only-of-type {\n        vertical-align: middle;\n    }\n\n    .dataframe tbody tr th {\n        vertical-align: top;\n    }\n\n    .dataframe thead th {\n        text-align: right;\n    }\n</style>\n<table border=\"1\" class=\"dataframe\">\n  <thead>\n    <tr style=\"text-align: right;\">\n      <th></th>\n      <th>id</th>\n      <th>num_item</th>\n      <th>total_amount</th>\n    </tr>\n  </thead>\n  <tbody>\n    <tr>\n      <th>count</th>\n      <td>196836.000000</td>\n      <td>196836.000000</td>\n      <td>196836.000000</td>\n    </tr>\n    <tr>\n      <th>mean</th>\n      <td>550557.552932</td>\n      <td>3.078365</td>\n      <td>21837.102969</td>\n    </tr>\n    <tr>\n      <th>std</th>\n      <td>259254.795613</td>\n      <td>1.478408</td>\n      <td>8218.005565</td>\n    </tr>\n    <tr>\n      <th>min</th>\n      <td>100001.000000</td>\n      <td>1.000000</td>\n      <td>8000.000000</td>\n    </tr>\n    <tr>\n      <th>25%</th>\n      <td>326719.000000</td>\n      <td>2.000000</td>\n      <td>15000.000000</td>\n    </tr>\n    <tr>\n      <th>50%</th>\n      <td>550918.000000</td>\n      <td>3.000000</td>\n      <td>22000.000000</td>\n    </tr>\n    <tr>\n      <th>75%</th>\n      <td>774916.000000</td>\n      <td>4.000000</td>\n      <td>29000.000000</td>\n    </tr>\n    <tr>\n      <th>max</th>\n      <td>999997.000000</td>\n      <td>6.000000</td>\n      <td>38000.000000</td>\n    </tr>\n  </tbody>\n</table>\n</div>"
     },
     "execution_count": 18,
     "metadata": {},
     "output_type": "execute_result"
    }
   ],
   "source": [
    "tran.describe()"
   ],
   "metadata": {
    "collapsed": false,
    "ExecuteTime": {
     "start_time": "2023-05-08T11:17:44.324446Z",
     "end_time": "2023-05-08T11:17:44.450053Z"
    }
   }
  },
  {
   "cell_type": "code",
   "execution_count": 19,
   "outputs": [
    {
     "data": {
      "text/plain": "            id  num_item  total_amount\n0       906145         5         34000\n1       906145         1         27000\n2       906145         4         33000\n3       184478         4         29000\n4       394235         4         33000\n...        ...       ...           ...\n196831  536246         5         24000\n196832  927617         5         26000\n196833  927617         3         22000\n196834  927617         3         18000\n196835  927617         3         20000\n\n[196836 rows x 3 columns]",
      "text/html": "<div>\n<style scoped>\n    .dataframe tbody tr th:only-of-type {\n        vertical-align: middle;\n    }\n\n    .dataframe tbody tr th {\n        vertical-align: top;\n    }\n\n    .dataframe thead th {\n        text-align: right;\n    }\n</style>\n<table border=\"1\" class=\"dataframe\">\n  <thead>\n    <tr style=\"text-align: right;\">\n      <th></th>\n      <th>id</th>\n      <th>num_item</th>\n      <th>total_amount</th>\n    </tr>\n  </thead>\n  <tbody>\n    <tr>\n      <th>0</th>\n      <td>906145</td>\n      <td>5</td>\n      <td>34000</td>\n    </tr>\n    <tr>\n      <th>1</th>\n      <td>906145</td>\n      <td>1</td>\n      <td>27000</td>\n    </tr>\n    <tr>\n      <th>2</th>\n      <td>906145</td>\n      <td>4</td>\n      <td>33000</td>\n    </tr>\n    <tr>\n      <th>3</th>\n      <td>184478</td>\n      <td>4</td>\n      <td>29000</td>\n    </tr>\n    <tr>\n      <th>4</th>\n      <td>394235</td>\n      <td>4</td>\n      <td>33000</td>\n    </tr>\n    <tr>\n      <th>...</th>\n      <td>...</td>\n      <td>...</td>\n      <td>...</td>\n    </tr>\n    <tr>\n      <th>196831</th>\n      <td>536246</td>\n      <td>5</td>\n      <td>24000</td>\n    </tr>\n    <tr>\n      <th>196832</th>\n      <td>927617</td>\n      <td>5</td>\n      <td>26000</td>\n    </tr>\n    <tr>\n      <th>196833</th>\n      <td>927617</td>\n      <td>3</td>\n      <td>22000</td>\n    </tr>\n    <tr>\n      <th>196834</th>\n      <td>927617</td>\n      <td>3</td>\n      <td>18000</td>\n    </tr>\n    <tr>\n      <th>196835</th>\n      <td>927617</td>\n      <td>3</td>\n      <td>20000</td>\n    </tr>\n  </tbody>\n</table>\n<p>196836 rows × 3 columns</p>\n</div>"
     },
     "execution_count": 19,
     "metadata": {},
     "output_type": "execute_result"
    }
   ],
   "source": [
    "tran"
   ],
   "metadata": {
    "collapsed": false,
    "ExecuteTime": {
     "start_time": "2023-05-08T11:19:42.648916Z",
     "end_time": "2023-05-08T11:19:42.664543Z"
    }
   }
  },
  {
   "cell_type": "code",
   "execution_count": 20,
   "outputs": [],
   "source": [
    "tran[\"avg_price\"] = tran[\"total_amount\"] / tran[\"num_item\"]"
   ],
   "metadata": {
    "collapsed": false,
    "ExecuteTime": {
     "start_time": "2023-05-08T11:20:58.404417Z",
     "end_time": "2023-05-08T11:20:58.420075Z"
    }
   }
  },
  {
   "cell_type": "code",
   "execution_count": 22,
   "outputs": [
    {
     "data": {
      "text/plain": "            id  num_item  total_amount     avg_price\n0       906145         5         34000   6800.000000\n1       906145         1         27000  27000.000000\n2       906145         4         33000   8250.000000\n3       184478         4         29000   7250.000000\n4       394235         4         33000   8250.000000\n...        ...       ...           ...           ...\n196831  536246         5         24000   4800.000000\n196832  927617         5         26000   5200.000000\n196833  927617         3         22000   7333.333333\n196834  927617         3         18000   6000.000000\n196835  927617         3         20000   6666.666667\n\n[196836 rows x 4 columns]",
      "text/html": "<div>\n<style scoped>\n    .dataframe tbody tr th:only-of-type {\n        vertical-align: middle;\n    }\n\n    .dataframe tbody tr th {\n        vertical-align: top;\n    }\n\n    .dataframe thead th {\n        text-align: right;\n    }\n</style>\n<table border=\"1\" class=\"dataframe\">\n  <thead>\n    <tr style=\"text-align: right;\">\n      <th></th>\n      <th>id</th>\n      <th>num_item</th>\n      <th>total_amount</th>\n      <th>avg_price</th>\n    </tr>\n  </thead>\n  <tbody>\n    <tr>\n      <th>0</th>\n      <td>906145</td>\n      <td>5</td>\n      <td>34000</td>\n      <td>6800.000000</td>\n    </tr>\n    <tr>\n      <th>1</th>\n      <td>906145</td>\n      <td>1</td>\n      <td>27000</td>\n      <td>27000.000000</td>\n    </tr>\n    <tr>\n      <th>2</th>\n      <td>906145</td>\n      <td>4</td>\n      <td>33000</td>\n      <td>8250.000000</td>\n    </tr>\n    <tr>\n      <th>3</th>\n      <td>184478</td>\n      <td>4</td>\n      <td>29000</td>\n      <td>7250.000000</td>\n    </tr>\n    <tr>\n      <th>4</th>\n      <td>394235</td>\n      <td>4</td>\n      <td>33000</td>\n      <td>8250.000000</td>\n    </tr>\n    <tr>\n      <th>...</th>\n      <td>...</td>\n      <td>...</td>\n      <td>...</td>\n      <td>...</td>\n    </tr>\n    <tr>\n      <th>196831</th>\n      <td>536246</td>\n      <td>5</td>\n      <td>24000</td>\n      <td>4800.000000</td>\n    </tr>\n    <tr>\n      <th>196832</th>\n      <td>927617</td>\n      <td>5</td>\n      <td>26000</td>\n      <td>5200.000000</td>\n    </tr>\n    <tr>\n      <th>196833</th>\n      <td>927617</td>\n      <td>3</td>\n      <td>22000</td>\n      <td>7333.333333</td>\n    </tr>\n    <tr>\n      <th>196834</th>\n      <td>927617</td>\n      <td>3</td>\n      <td>18000</td>\n      <td>6000.000000</td>\n    </tr>\n    <tr>\n      <th>196835</th>\n      <td>927617</td>\n      <td>3</td>\n      <td>20000</td>\n      <td>6666.666667</td>\n    </tr>\n  </tbody>\n</table>\n<p>196836 rows × 4 columns</p>\n</div>"
     },
     "execution_count": 22,
     "metadata": {},
     "output_type": "execute_result"
    }
   ],
   "source": [
    "tran"
   ],
   "metadata": {
    "collapsed": false,
    "ExecuteTime": {
     "start_time": "2023-05-08T11:23:22.866116Z",
     "end_time": "2023-05-08T11:23:22.928706Z"
    }
   }
  },
  {
   "cell_type": "code",
   "execution_count": 24,
   "outputs": [],
   "source": [
    "tran_mean = tran.groupby(\"id\").mean()"
   ],
   "metadata": {
    "collapsed": false,
    "ExecuteTime": {
     "start_time": "2023-05-08T11:25:22.633937Z",
     "end_time": "2023-05-08T11:25:22.696425Z"
    }
   }
  },
  {
   "cell_type": "code",
   "execution_count": 25,
   "outputs": [
    {
     "data": {
      "text/plain": "        num_item  total_amount     avg_price\nid                                          \n100001  3.500000  26000.000000   7500.000000\n100008  5.000000  26000.000000   5200.000000\n100032  2.666667  20666.666667   9366.666667\n100036  3.000000  25800.000000  13273.333333\n100070  3.250000  21250.000000   8537.500000\n...          ...           ...           ...\n999932  5.000000  32000.000000   6400.000000\n999981  2.000000  22750.000000  12875.000000\n999990  3.000000  28000.000000  10388.888889\n999995  2.000000  27000.000000  13500.000000\n999997  2.000000  13000.000000   6500.000000\n\n[64000 rows x 3 columns]",
      "text/html": "<div>\n<style scoped>\n    .dataframe tbody tr th:only-of-type {\n        vertical-align: middle;\n    }\n\n    .dataframe tbody tr th {\n        vertical-align: top;\n    }\n\n    .dataframe thead th {\n        text-align: right;\n    }\n</style>\n<table border=\"1\" class=\"dataframe\">\n  <thead>\n    <tr style=\"text-align: right;\">\n      <th></th>\n      <th>num_item</th>\n      <th>total_amount</th>\n      <th>avg_price</th>\n    </tr>\n    <tr>\n      <th>id</th>\n      <th></th>\n      <th></th>\n      <th></th>\n    </tr>\n  </thead>\n  <tbody>\n    <tr>\n      <th>100001</th>\n      <td>3.500000</td>\n      <td>26000.000000</td>\n      <td>7500.000000</td>\n    </tr>\n    <tr>\n      <th>100008</th>\n      <td>5.000000</td>\n      <td>26000.000000</td>\n      <td>5200.000000</td>\n    </tr>\n    <tr>\n      <th>100032</th>\n      <td>2.666667</td>\n      <td>20666.666667</td>\n      <td>9366.666667</td>\n    </tr>\n    <tr>\n      <th>100036</th>\n      <td>3.000000</td>\n      <td>25800.000000</td>\n      <td>13273.333333</td>\n    </tr>\n    <tr>\n      <th>100070</th>\n      <td>3.250000</td>\n      <td>21250.000000</td>\n      <td>8537.500000</td>\n    </tr>\n    <tr>\n      <th>...</th>\n      <td>...</td>\n      <td>...</td>\n      <td>...</td>\n    </tr>\n    <tr>\n      <th>999932</th>\n      <td>5.000000</td>\n      <td>32000.000000</td>\n      <td>6400.000000</td>\n    </tr>\n    <tr>\n      <th>999981</th>\n      <td>2.000000</td>\n      <td>22750.000000</td>\n      <td>12875.000000</td>\n    </tr>\n    <tr>\n      <th>999990</th>\n      <td>3.000000</td>\n      <td>28000.000000</td>\n      <td>10388.888889</td>\n    </tr>\n    <tr>\n      <th>999995</th>\n      <td>2.000000</td>\n      <td>27000.000000</td>\n      <td>13500.000000</td>\n    </tr>\n    <tr>\n      <th>999997</th>\n      <td>2.000000</td>\n      <td>13000.000000</td>\n      <td>6500.000000</td>\n    </tr>\n  </tbody>\n</table>\n<p>64000 rows × 3 columns</p>\n</div>"
     },
     "execution_count": 25,
     "metadata": {},
     "output_type": "execute_result"
    }
   ],
   "source": [
    "tran_mean"
   ],
   "metadata": {
    "collapsed": false,
    "ExecuteTime": {
     "start_time": "2023-05-08T11:25:27.899617Z",
     "end_time": "2023-05-08T11:25:27.915272Z"
    }
   }
  },
  {
   "cell_type": "code",
   "execution_count": 29,
   "outputs": [
    {
     "data": {
      "text/plain": "691067    5\n720147    5\n422265    5\n670720    5\n154620    5\n         ..\n881780    1\n154471    1\n480462    1\n126129    1\n156423    1\nName: id, Length: 64000, dtype: int64"
     },
     "execution_count": 29,
     "metadata": {},
     "output_type": "execute_result"
    }
   ],
   "source": [
    "count = tran[\"id\"].value_counts()\n",
    "count"
   ],
   "metadata": {
    "collapsed": false,
    "ExecuteTime": {
     "start_time": "2023-05-08T11:29:00.515082Z",
     "end_time": "2023-05-08T11:29:00.593219Z"
    }
   }
  },
  {
   "cell_type": "code",
   "execution_count": 28,
   "outputs": [
    {
     "ename": "MergeError",
     "evalue": "No common columns to perform merge on. Merge options: left_on=None, right_on=None, left_index=False, right_index=False",
     "output_type": "error",
     "traceback": [
      "\u001B[1;31m---------------------------------------------------------------------------\u001B[0m",
      "\u001B[1;31mMergeError\u001B[0m                                Traceback (most recent call last)",
      "Cell \u001B[1;32mIn[28], line 1\u001B[0m\n\u001B[1;32m----> 1\u001B[0m \u001B[43mpd\u001B[49m\u001B[38;5;241;43m.\u001B[39;49m\u001B[43mmerge\u001B[49m\u001B[43m(\u001B[49m\u001B[43mtran_mean\u001B[49m\u001B[43m,\u001B[49m\u001B[43m \u001B[49m\u001B[43mcount\u001B[49m\u001B[43m)\u001B[49m\n",
      "File \u001B[1;32m~\\anaconda3\\lib\\site-packages\\pandas\\core\\reshape\\merge.py:110\u001B[0m, in \u001B[0;36mmerge\u001B[1;34m(left, right, how, on, left_on, right_on, left_index, right_index, sort, suffixes, copy, indicator, validate)\u001B[0m\n\u001B[0;32m     93\u001B[0m \u001B[38;5;129m@Substitution\u001B[39m(\u001B[38;5;124m\"\u001B[39m\u001B[38;5;130;01m\\n\u001B[39;00m\u001B[38;5;124mleft : DataFrame or named Series\u001B[39m\u001B[38;5;124m\"\u001B[39m)\n\u001B[0;32m     94\u001B[0m \u001B[38;5;129m@Appender\u001B[39m(_merge_doc, indents\u001B[38;5;241m=\u001B[39m\u001B[38;5;241m0\u001B[39m)\n\u001B[0;32m     95\u001B[0m \u001B[38;5;28;01mdef\u001B[39;00m \u001B[38;5;21mmerge\u001B[39m(\n\u001B[1;32m   (...)\u001B[0m\n\u001B[0;32m    108\u001B[0m     validate: \u001B[38;5;28mstr\u001B[39m \u001B[38;5;241m|\u001B[39m \u001B[38;5;28;01mNone\u001B[39;00m \u001B[38;5;241m=\u001B[39m \u001B[38;5;28;01mNone\u001B[39;00m,\n\u001B[0;32m    109\u001B[0m ) \u001B[38;5;241m-\u001B[39m\u001B[38;5;241m>\u001B[39m DataFrame:\n\u001B[1;32m--> 110\u001B[0m     op \u001B[38;5;241m=\u001B[39m \u001B[43m_MergeOperation\u001B[49m\u001B[43m(\u001B[49m\n\u001B[0;32m    111\u001B[0m \u001B[43m        \u001B[49m\u001B[43mleft\u001B[49m\u001B[43m,\u001B[49m\n\u001B[0;32m    112\u001B[0m \u001B[43m        \u001B[49m\u001B[43mright\u001B[49m\u001B[43m,\u001B[49m\n\u001B[0;32m    113\u001B[0m \u001B[43m        \u001B[49m\u001B[43mhow\u001B[49m\u001B[38;5;241;43m=\u001B[39;49m\u001B[43mhow\u001B[49m\u001B[43m,\u001B[49m\n\u001B[0;32m    114\u001B[0m \u001B[43m        \u001B[49m\u001B[43mon\u001B[49m\u001B[38;5;241;43m=\u001B[39;49m\u001B[43mon\u001B[49m\u001B[43m,\u001B[49m\n\u001B[0;32m    115\u001B[0m \u001B[43m        \u001B[49m\u001B[43mleft_on\u001B[49m\u001B[38;5;241;43m=\u001B[39;49m\u001B[43mleft_on\u001B[49m\u001B[43m,\u001B[49m\n\u001B[0;32m    116\u001B[0m \u001B[43m        \u001B[49m\u001B[43mright_on\u001B[49m\u001B[38;5;241;43m=\u001B[39;49m\u001B[43mright_on\u001B[49m\u001B[43m,\u001B[49m\n\u001B[0;32m    117\u001B[0m \u001B[43m        \u001B[49m\u001B[43mleft_index\u001B[49m\u001B[38;5;241;43m=\u001B[39;49m\u001B[43mleft_index\u001B[49m\u001B[43m,\u001B[49m\n\u001B[0;32m    118\u001B[0m \u001B[43m        \u001B[49m\u001B[43mright_index\u001B[49m\u001B[38;5;241;43m=\u001B[39;49m\u001B[43mright_index\u001B[49m\u001B[43m,\u001B[49m\n\u001B[0;32m    119\u001B[0m \u001B[43m        \u001B[49m\u001B[43msort\u001B[49m\u001B[38;5;241;43m=\u001B[39;49m\u001B[43msort\u001B[49m\u001B[43m,\u001B[49m\n\u001B[0;32m    120\u001B[0m \u001B[43m        \u001B[49m\u001B[43msuffixes\u001B[49m\u001B[38;5;241;43m=\u001B[39;49m\u001B[43msuffixes\u001B[49m\u001B[43m,\u001B[49m\n\u001B[0;32m    121\u001B[0m \u001B[43m        \u001B[49m\u001B[43mindicator\u001B[49m\u001B[38;5;241;43m=\u001B[39;49m\u001B[43mindicator\u001B[49m\u001B[43m,\u001B[49m\n\u001B[0;32m    122\u001B[0m \u001B[43m        \u001B[49m\u001B[43mvalidate\u001B[49m\u001B[38;5;241;43m=\u001B[39;49m\u001B[43mvalidate\u001B[49m\u001B[43m,\u001B[49m\n\u001B[0;32m    123\u001B[0m \u001B[43m    \u001B[49m\u001B[43m)\u001B[49m\n\u001B[0;32m    124\u001B[0m     \u001B[38;5;28;01mreturn\u001B[39;00m op\u001B[38;5;241m.\u001B[39mget_result(copy\u001B[38;5;241m=\u001B[39mcopy)\n",
      "File \u001B[1;32m~\\anaconda3\\lib\\site-packages\\pandas\\core\\reshape\\merge.py:685\u001B[0m, in \u001B[0;36m_MergeOperation.__init__\u001B[1;34m(self, left, right, how, on, left_on, right_on, axis, left_index, right_index, sort, suffixes, indicator, validate)\u001B[0m\n\u001B[0;32m    681\u001B[0m     \u001B[38;5;66;03m# stacklevel chosen to be correct when this is reached via pd.merge\u001B[39;00m\n\u001B[0;32m    682\u001B[0m     \u001B[38;5;66;03m# (and not DataFrame.join)\u001B[39;00m\n\u001B[0;32m    683\u001B[0m     warnings\u001B[38;5;241m.\u001B[39mwarn(msg, \u001B[38;5;167;01mFutureWarning\u001B[39;00m, stacklevel\u001B[38;5;241m=\u001B[39mfind_stack_level())\n\u001B[1;32m--> 685\u001B[0m \u001B[38;5;28mself\u001B[39m\u001B[38;5;241m.\u001B[39mleft_on, \u001B[38;5;28mself\u001B[39m\u001B[38;5;241m.\u001B[39mright_on \u001B[38;5;241m=\u001B[39m \u001B[38;5;28;43mself\u001B[39;49m\u001B[38;5;241;43m.\u001B[39;49m\u001B[43m_validate_left_right_on\u001B[49m\u001B[43m(\u001B[49m\u001B[43mleft_on\u001B[49m\u001B[43m,\u001B[49m\u001B[43m \u001B[49m\u001B[43mright_on\u001B[49m\u001B[43m)\u001B[49m\n\u001B[0;32m    687\u001B[0m cross_col \u001B[38;5;241m=\u001B[39m \u001B[38;5;28;01mNone\u001B[39;00m\n\u001B[0;32m    688\u001B[0m \u001B[38;5;28;01mif\u001B[39;00m \u001B[38;5;28mself\u001B[39m\u001B[38;5;241m.\u001B[39mhow \u001B[38;5;241m==\u001B[39m \u001B[38;5;124m\"\u001B[39m\u001B[38;5;124mcross\u001B[39m\u001B[38;5;124m\"\u001B[39m:\n",
      "File \u001B[1;32m~\\anaconda3\\lib\\site-packages\\pandas\\core\\reshape\\merge.py:1434\u001B[0m, in \u001B[0;36m_MergeOperation._validate_left_right_on\u001B[1;34m(self, left_on, right_on)\u001B[0m\n\u001B[0;32m   1432\u001B[0m common_cols \u001B[38;5;241m=\u001B[39m left_cols\u001B[38;5;241m.\u001B[39mintersection(right_cols)\n\u001B[0;32m   1433\u001B[0m \u001B[38;5;28;01mif\u001B[39;00m \u001B[38;5;28mlen\u001B[39m(common_cols) \u001B[38;5;241m==\u001B[39m \u001B[38;5;241m0\u001B[39m:\n\u001B[1;32m-> 1434\u001B[0m     \u001B[38;5;28;01mraise\u001B[39;00m MergeError(\n\u001B[0;32m   1435\u001B[0m         \u001B[38;5;124m\"\u001B[39m\u001B[38;5;124mNo common columns to perform merge on. \u001B[39m\u001B[38;5;124m\"\u001B[39m\n\u001B[0;32m   1436\u001B[0m         \u001B[38;5;124mf\u001B[39m\u001B[38;5;124m\"\u001B[39m\u001B[38;5;124mMerge options: left_on=\u001B[39m\u001B[38;5;132;01m{\u001B[39;00mleft_on\u001B[38;5;132;01m}\u001B[39;00m\u001B[38;5;124m, \u001B[39m\u001B[38;5;124m\"\u001B[39m\n\u001B[0;32m   1437\u001B[0m         \u001B[38;5;124mf\u001B[39m\u001B[38;5;124m\"\u001B[39m\u001B[38;5;124mright_on=\u001B[39m\u001B[38;5;132;01m{\u001B[39;00mright_on\u001B[38;5;132;01m}\u001B[39;00m\u001B[38;5;124m, \u001B[39m\u001B[38;5;124m\"\u001B[39m\n\u001B[0;32m   1438\u001B[0m         \u001B[38;5;124mf\u001B[39m\u001B[38;5;124m\"\u001B[39m\u001B[38;5;124mleft_index=\u001B[39m\u001B[38;5;132;01m{\u001B[39;00m\u001B[38;5;28mself\u001B[39m\u001B[38;5;241m.\u001B[39mleft_index\u001B[38;5;132;01m}\u001B[39;00m\u001B[38;5;124m, \u001B[39m\u001B[38;5;124m\"\u001B[39m\n\u001B[0;32m   1439\u001B[0m         \u001B[38;5;124mf\u001B[39m\u001B[38;5;124m\"\u001B[39m\u001B[38;5;124mright_index=\u001B[39m\u001B[38;5;132;01m{\u001B[39;00m\u001B[38;5;28mself\u001B[39m\u001B[38;5;241m.\u001B[39mright_index\u001B[38;5;132;01m}\u001B[39;00m\u001B[38;5;124m\"\u001B[39m\n\u001B[0;32m   1440\u001B[0m     )\n\u001B[0;32m   1441\u001B[0m \u001B[38;5;28;01mif\u001B[39;00m (\n\u001B[0;32m   1442\u001B[0m     \u001B[38;5;129;01mnot\u001B[39;00m left_cols\u001B[38;5;241m.\u001B[39mjoin(common_cols, how\u001B[38;5;241m=\u001B[39m\u001B[38;5;124m\"\u001B[39m\u001B[38;5;124minner\u001B[39m\u001B[38;5;124m\"\u001B[39m)\u001B[38;5;241m.\u001B[39mis_unique\n\u001B[0;32m   1443\u001B[0m     \u001B[38;5;129;01mor\u001B[39;00m \u001B[38;5;129;01mnot\u001B[39;00m right_cols\u001B[38;5;241m.\u001B[39mjoin(common_cols, how\u001B[38;5;241m=\u001B[39m\u001B[38;5;124m\"\u001B[39m\u001B[38;5;124minner\u001B[39m\u001B[38;5;124m\"\u001B[39m)\u001B[38;5;241m.\u001B[39mis_unique\n\u001B[0;32m   1444\u001B[0m ):\n\u001B[0;32m   1445\u001B[0m     \u001B[38;5;28;01mraise\u001B[39;00m MergeError(\u001B[38;5;124mf\u001B[39m\u001B[38;5;124m\"\u001B[39m\u001B[38;5;124mData columns not unique: \u001B[39m\u001B[38;5;132;01m{\u001B[39;00m\u001B[38;5;28mrepr\u001B[39m(common_cols)\u001B[38;5;132;01m}\u001B[39;00m\u001B[38;5;124m\"\u001B[39m)\n",
      "\u001B[1;31mMergeError\u001B[0m: No common columns to perform merge on. Merge options: left_on=None, right_on=None, left_index=False, right_index=False"
     ]
    }
   ],
   "source": [
    "pd.merge(tran_mean, count)"
   ],
   "metadata": {
    "collapsed": false
   }
  },
  {
   "cell_type": "code",
   "execution_count": 30,
   "outputs": [
    {
     "data": {
      "text/plain": "           id  num_item  total_amount     avg_price\n0      100001  3.500000  26000.000000   7500.000000\n1      100008  5.000000  26000.000000   5200.000000\n2      100032  2.666667  20666.666667   9366.666667\n3      100036  3.000000  25800.000000  13273.333333\n4      100070  3.250000  21250.000000   8537.500000\n...       ...       ...           ...           ...\n63995  999932  5.000000  32000.000000   6400.000000\n63996  999981  2.000000  22750.000000  12875.000000\n63997  999990  3.000000  28000.000000  10388.888889\n63998  999995  2.000000  27000.000000  13500.000000\n63999  999997  2.000000  13000.000000   6500.000000\n\n[64000 rows x 4 columns]",
      "text/html": "<div>\n<style scoped>\n    .dataframe tbody tr th:only-of-type {\n        vertical-align: middle;\n    }\n\n    .dataframe tbody tr th {\n        vertical-align: top;\n    }\n\n    .dataframe thead th {\n        text-align: right;\n    }\n</style>\n<table border=\"1\" class=\"dataframe\">\n  <thead>\n    <tr style=\"text-align: right;\">\n      <th></th>\n      <th>id</th>\n      <th>num_item</th>\n      <th>total_amount</th>\n      <th>avg_price</th>\n    </tr>\n  </thead>\n  <tbody>\n    <tr>\n      <th>0</th>\n      <td>100001</td>\n      <td>3.500000</td>\n      <td>26000.000000</td>\n      <td>7500.000000</td>\n    </tr>\n    <tr>\n      <th>1</th>\n      <td>100008</td>\n      <td>5.000000</td>\n      <td>26000.000000</td>\n      <td>5200.000000</td>\n    </tr>\n    <tr>\n      <th>2</th>\n      <td>100032</td>\n      <td>2.666667</td>\n      <td>20666.666667</td>\n      <td>9366.666667</td>\n    </tr>\n    <tr>\n      <th>3</th>\n      <td>100036</td>\n      <td>3.000000</td>\n      <td>25800.000000</td>\n      <td>13273.333333</td>\n    </tr>\n    <tr>\n      <th>4</th>\n      <td>100070</td>\n      <td>3.250000</td>\n      <td>21250.000000</td>\n      <td>8537.500000</td>\n    </tr>\n    <tr>\n      <th>...</th>\n      <td>...</td>\n      <td>...</td>\n      <td>...</td>\n      <td>...</td>\n    </tr>\n    <tr>\n      <th>63995</th>\n      <td>999932</td>\n      <td>5.000000</td>\n      <td>32000.000000</td>\n      <td>6400.000000</td>\n    </tr>\n    <tr>\n      <th>63996</th>\n      <td>999981</td>\n      <td>2.000000</td>\n      <td>22750.000000</td>\n      <td>12875.000000</td>\n    </tr>\n    <tr>\n      <th>63997</th>\n      <td>999990</td>\n      <td>3.000000</td>\n      <td>28000.000000</td>\n      <td>10388.888889</td>\n    </tr>\n    <tr>\n      <th>63998</th>\n      <td>999995</td>\n      <td>2.000000</td>\n      <td>27000.000000</td>\n      <td>13500.000000</td>\n    </tr>\n    <tr>\n      <th>63999</th>\n      <td>999997</td>\n      <td>2.000000</td>\n      <td>13000.000000</td>\n      <td>6500.000000</td>\n    </tr>\n  </tbody>\n</table>\n<p>64000 rows × 4 columns</p>\n</div>"
     },
     "execution_count": 30,
     "metadata": {},
     "output_type": "execute_result"
    }
   ],
   "source": [
    "tran_mean.reset_index(inplace=True)\n",
    "tran_mean"
   ],
   "metadata": {
    "collapsed": false,
    "ExecuteTime": {
     "start_time": "2023-05-08T11:30:27.157534Z",
     "end_time": "2023-05-08T11:30:27.221677Z"
    }
   }
  },
  {
   "cell_type": "code",
   "execution_count": 31,
   "outputs": [
    {
     "data": {
      "text/plain": "691067    5\n720147    5\n422265    5\n670720    5\n154620    5\n         ..\n881780    1\n154471    1\n480462    1\n126129    1\n156423    1\nName: id, Length: 64000, dtype: int64"
     },
     "execution_count": 31,
     "metadata": {},
     "output_type": "execute_result"
    }
   ],
   "source": [
    "count"
   ],
   "metadata": {
    "collapsed": false,
    "ExecuteTime": {
     "start_time": "2023-05-08T11:30:39.132121Z",
     "end_time": "2023-05-08T11:30:39.194724Z"
    }
   }
  },
  {
   "cell_type": "code",
   "execution_count": 35,
   "outputs": [],
   "source": [
    "count = count.reset_index()"
   ],
   "metadata": {
    "collapsed": false,
    "ExecuteTime": {
     "start_time": "2023-05-08T11:32:14.736113Z",
     "end_time": "2023-05-08T11:32:14.767470Z"
    }
   }
  },
  {
   "cell_type": "code",
   "execution_count": 36,
   "outputs": [
    {
     "data": {
      "text/plain": "        index  id\n0      691067   5\n1      720147   5\n2      422265   5\n3      670720   5\n4      154620   5\n...       ...  ..\n63995  881780   1\n63996  154471   1\n63997  480462   1\n63998  126129   1\n63999  156423   1\n\n[64000 rows x 2 columns]",
      "text/html": "<div>\n<style scoped>\n    .dataframe tbody tr th:only-of-type {\n        vertical-align: middle;\n    }\n\n    .dataframe tbody tr th {\n        vertical-align: top;\n    }\n\n    .dataframe thead th {\n        text-align: right;\n    }\n</style>\n<table border=\"1\" class=\"dataframe\">\n  <thead>\n    <tr style=\"text-align: right;\">\n      <th></th>\n      <th>index</th>\n      <th>id</th>\n    </tr>\n  </thead>\n  <tbody>\n    <tr>\n      <th>0</th>\n      <td>691067</td>\n      <td>5</td>\n    </tr>\n    <tr>\n      <th>1</th>\n      <td>720147</td>\n      <td>5</td>\n    </tr>\n    <tr>\n      <th>2</th>\n      <td>422265</td>\n      <td>5</td>\n    </tr>\n    <tr>\n      <th>3</th>\n      <td>670720</td>\n      <td>5</td>\n    </tr>\n    <tr>\n      <th>4</th>\n      <td>154620</td>\n      <td>5</td>\n    </tr>\n    <tr>\n      <th>...</th>\n      <td>...</td>\n      <td>...</td>\n    </tr>\n    <tr>\n      <th>63995</th>\n      <td>881780</td>\n      <td>1</td>\n    </tr>\n    <tr>\n      <th>63996</th>\n      <td>154471</td>\n      <td>1</td>\n    </tr>\n    <tr>\n      <th>63997</th>\n      <td>480462</td>\n      <td>1</td>\n    </tr>\n    <tr>\n      <th>63998</th>\n      <td>126129</td>\n      <td>1</td>\n    </tr>\n    <tr>\n      <th>63999</th>\n      <td>156423</td>\n      <td>1</td>\n    </tr>\n  </tbody>\n</table>\n<p>64000 rows × 2 columns</p>\n</div>"
     },
     "execution_count": 36,
     "metadata": {},
     "output_type": "execute_result"
    }
   ],
   "source": [
    "count"
   ],
   "metadata": {
    "collapsed": false,
    "ExecuteTime": {
     "start_time": "2023-05-08T11:32:18.013136Z",
     "end_time": "2023-05-08T11:32:18.028796Z"
    }
   }
  },
  {
   "cell_type": "code",
   "execution_count": 37,
   "outputs": [
    {
     "data": {
      "text/plain": "           id  num_item  total_amount     avg_price\n0      100001  3.500000  26000.000000   7500.000000\n1      100008  5.000000  26000.000000   5200.000000\n2      100032  2.666667  20666.666667   9366.666667\n3      100036  3.000000  25800.000000  13273.333333\n4      100070  3.250000  21250.000000   8537.500000\n...       ...       ...           ...           ...\n63995  999932  5.000000  32000.000000   6400.000000\n63996  999981  2.000000  22750.000000  12875.000000\n63997  999990  3.000000  28000.000000  10388.888889\n63998  999995  2.000000  27000.000000  13500.000000\n63999  999997  2.000000  13000.000000   6500.000000\n\n[64000 rows x 4 columns]",
      "text/html": "<div>\n<style scoped>\n    .dataframe tbody tr th:only-of-type {\n        vertical-align: middle;\n    }\n\n    .dataframe tbody tr th {\n        vertical-align: top;\n    }\n\n    .dataframe thead th {\n        text-align: right;\n    }\n</style>\n<table border=\"1\" class=\"dataframe\">\n  <thead>\n    <tr style=\"text-align: right;\">\n      <th></th>\n      <th>id</th>\n      <th>num_item</th>\n      <th>total_amount</th>\n      <th>avg_price</th>\n    </tr>\n  </thead>\n  <tbody>\n    <tr>\n      <th>0</th>\n      <td>100001</td>\n      <td>3.500000</td>\n      <td>26000.000000</td>\n      <td>7500.000000</td>\n    </tr>\n    <tr>\n      <th>1</th>\n      <td>100008</td>\n      <td>5.000000</td>\n      <td>26000.000000</td>\n      <td>5200.000000</td>\n    </tr>\n    <tr>\n      <th>2</th>\n      <td>100032</td>\n      <td>2.666667</td>\n      <td>20666.666667</td>\n      <td>9366.666667</td>\n    </tr>\n    <tr>\n      <th>3</th>\n      <td>100036</td>\n      <td>3.000000</td>\n      <td>25800.000000</td>\n      <td>13273.333333</td>\n    </tr>\n    <tr>\n      <th>4</th>\n      <td>100070</td>\n      <td>3.250000</td>\n      <td>21250.000000</td>\n      <td>8537.500000</td>\n    </tr>\n    <tr>\n      <th>...</th>\n      <td>...</td>\n      <td>...</td>\n      <td>...</td>\n      <td>...</td>\n    </tr>\n    <tr>\n      <th>63995</th>\n      <td>999932</td>\n      <td>5.000000</td>\n      <td>32000.000000</td>\n      <td>6400.000000</td>\n    </tr>\n    <tr>\n      <th>63996</th>\n      <td>999981</td>\n      <td>2.000000</td>\n      <td>22750.000000</td>\n      <td>12875.000000</td>\n    </tr>\n    <tr>\n      <th>63997</th>\n      <td>999990</td>\n      <td>3.000000</td>\n      <td>28000.000000</td>\n      <td>10388.888889</td>\n    </tr>\n    <tr>\n      <th>63998</th>\n      <td>999995</td>\n      <td>2.000000</td>\n      <td>27000.000000</td>\n      <td>13500.000000</td>\n    </tr>\n    <tr>\n      <th>63999</th>\n      <td>999997</td>\n      <td>2.000000</td>\n      <td>13000.000000</td>\n      <td>6500.000000</td>\n    </tr>\n  </tbody>\n</table>\n<p>64000 rows × 4 columns</p>\n</div>"
     },
     "execution_count": 37,
     "metadata": {},
     "output_type": "execute_result"
    }
   ],
   "source": [
    "tran_mean"
   ],
   "metadata": {
    "collapsed": false,
    "ExecuteTime": {
     "start_time": "2023-05-08T11:32:25.717104Z",
     "end_time": "2023-05-08T11:32:25.810884Z"
    }
   }
  },
  {
   "cell_type": "code",
   "execution_count": 55,
   "outputs": [],
   "source": [
    "df = pd.merge(tran_mean, count, left_on=\"id\", right_on=\"index\")"
   ],
   "metadata": {
    "collapsed": false,
    "ExecuteTime": {
     "start_time": "2023-05-08T11:42:13.665477Z",
     "end_time": "2023-05-08T11:42:13.696832Z"
    }
   }
  },
  {
   "cell_type": "code",
   "execution_count": 56,
   "outputs": [
    {
     "data": {
      "text/plain": "Index(['id_x', 'num_item', 'total_amount', 'avg_price', 'index', 'id_y'], dtype='object')"
     },
     "execution_count": 56,
     "metadata": {},
     "output_type": "execute_result"
    }
   ],
   "source": [
    "df.columns"
   ],
   "metadata": {
    "collapsed": false,
    "ExecuteTime": {
     "start_time": "2023-05-08T11:42:14.833199Z",
     "end_time": "2023-05-08T11:42:14.880182Z"
    }
   }
  },
  {
   "cell_type": "code",
   "execution_count": 57,
   "outputs": [],
   "source": [
    "df.columns = ['id', 'num_item', 'total_amount', 'avg_price', 'index', 'count']"
   ],
   "metadata": {
    "collapsed": false,
    "ExecuteTime": {
     "start_time": "2023-05-08T11:42:18.460613Z",
     "end_time": "2023-05-08T11:42:18.476217Z"
    }
   }
  },
  {
   "cell_type": "code",
   "execution_count": 59,
   "outputs": [
    {
     "data": {
      "text/plain": "        num_item  total_amount     avg_price   index  count\nid                                                         \n100001  3.500000  26000.000000   7500.000000  100001      2\n100008  5.000000  26000.000000   5200.000000  100008      1\n100032  2.666667  20666.666667   9366.666667  100032      3\n100036  3.000000  25800.000000  13273.333333  100036      5\n100070  3.250000  21250.000000   8537.500000  100070      4\n...          ...           ...           ...     ...    ...\n999932  5.000000  32000.000000   6400.000000  999932      1\n999981  2.000000  22750.000000  12875.000000  999981      4\n999990  3.000000  28000.000000  10388.888889  999990      3\n999995  2.000000  27000.000000  13500.000000  999995      1\n999997  2.000000  13000.000000   6500.000000  999997      1\n\n[64000 rows x 5 columns]",
      "text/html": "<div>\n<style scoped>\n    .dataframe tbody tr th:only-of-type {\n        vertical-align: middle;\n    }\n\n    .dataframe tbody tr th {\n        vertical-align: top;\n    }\n\n    .dataframe thead th {\n        text-align: right;\n    }\n</style>\n<table border=\"1\" class=\"dataframe\">\n  <thead>\n    <tr style=\"text-align: right;\">\n      <th></th>\n      <th>num_item</th>\n      <th>total_amount</th>\n      <th>avg_price</th>\n      <th>index</th>\n      <th>count</th>\n    </tr>\n    <tr>\n      <th>id</th>\n      <th></th>\n      <th></th>\n      <th></th>\n      <th></th>\n      <th></th>\n    </tr>\n  </thead>\n  <tbody>\n    <tr>\n      <th>100001</th>\n      <td>3.500000</td>\n      <td>26000.000000</td>\n      <td>7500.000000</td>\n      <td>100001</td>\n      <td>2</td>\n    </tr>\n    <tr>\n      <th>100008</th>\n      <td>5.000000</td>\n      <td>26000.000000</td>\n      <td>5200.000000</td>\n      <td>100008</td>\n      <td>1</td>\n    </tr>\n    <tr>\n      <th>100032</th>\n      <td>2.666667</td>\n      <td>20666.666667</td>\n      <td>9366.666667</td>\n      <td>100032</td>\n      <td>3</td>\n    </tr>\n    <tr>\n      <th>100036</th>\n      <td>3.000000</td>\n      <td>25800.000000</td>\n      <td>13273.333333</td>\n      <td>100036</td>\n      <td>5</td>\n    </tr>\n    <tr>\n      <th>100070</th>\n      <td>3.250000</td>\n      <td>21250.000000</td>\n      <td>8537.500000</td>\n      <td>100070</td>\n      <td>4</td>\n    </tr>\n    <tr>\n      <th>...</th>\n      <td>...</td>\n      <td>...</td>\n      <td>...</td>\n      <td>...</td>\n      <td>...</td>\n    </tr>\n    <tr>\n      <th>999932</th>\n      <td>5.000000</td>\n      <td>32000.000000</td>\n      <td>6400.000000</td>\n      <td>999932</td>\n      <td>1</td>\n    </tr>\n    <tr>\n      <th>999981</th>\n      <td>2.000000</td>\n      <td>22750.000000</td>\n      <td>12875.000000</td>\n      <td>999981</td>\n      <td>4</td>\n    </tr>\n    <tr>\n      <th>999990</th>\n      <td>3.000000</td>\n      <td>28000.000000</td>\n      <td>10388.888889</td>\n      <td>999990</td>\n      <td>3</td>\n    </tr>\n    <tr>\n      <th>999995</th>\n      <td>2.000000</td>\n      <td>27000.000000</td>\n      <td>13500.000000</td>\n      <td>999995</td>\n      <td>1</td>\n    </tr>\n    <tr>\n      <th>999997</th>\n      <td>2.000000</td>\n      <td>13000.000000</td>\n      <td>6500.000000</td>\n      <td>999997</td>\n      <td>1</td>\n    </tr>\n  </tbody>\n</table>\n<p>64000 rows × 5 columns</p>\n</div>"
     },
     "execution_count": 59,
     "metadata": {},
     "output_type": "execute_result"
    }
   ],
   "source": [
    "df.set_index(\"id\", inplace=True)\n",
    "df"
   ],
   "metadata": {
    "collapsed": false,
    "ExecuteTime": {
     "start_time": "2023-05-08T11:43:01.682095Z",
     "end_time": "2023-05-08T11:43:01.723838Z"
    }
   }
  },
  {
   "cell_type": "code",
   "execution_count": 45,
   "outputs": [],
   "source": [
    "df.drop(\"index\", inplace=True, axis=1)"
   ],
   "metadata": {
    "collapsed": false,
    "ExecuteTime": {
     "start_time": "2023-05-08T11:36:33.132767Z",
     "end_time": "2023-05-08T11:36:33.164051Z"
    }
   }
  },
  {
   "cell_type": "code",
   "execution_count": 46,
   "outputs": [
    {
     "data": {
      "text/plain": "           id  num_item  total_amount     avg_price  count\n0      100001  3.500000  26000.000000   7500.000000      2\n1      100008  5.000000  26000.000000   5200.000000      1\n2      100032  2.666667  20666.666667   9366.666667      3\n3      100036  3.000000  25800.000000  13273.333333      5\n4      100070  3.250000  21250.000000   8537.500000      4\n...       ...       ...           ...           ...    ...\n63995  999932  5.000000  32000.000000   6400.000000      1\n63996  999981  2.000000  22750.000000  12875.000000      4\n63997  999990  3.000000  28000.000000  10388.888889      3\n63998  999995  2.000000  27000.000000  13500.000000      1\n63999  999997  2.000000  13000.000000   6500.000000      1\n\n[64000 rows x 5 columns]",
      "text/html": "<div>\n<style scoped>\n    .dataframe tbody tr th:only-of-type {\n        vertical-align: middle;\n    }\n\n    .dataframe tbody tr th {\n        vertical-align: top;\n    }\n\n    .dataframe thead th {\n        text-align: right;\n    }\n</style>\n<table border=\"1\" class=\"dataframe\">\n  <thead>\n    <tr style=\"text-align: right;\">\n      <th></th>\n      <th>id</th>\n      <th>num_item</th>\n      <th>total_amount</th>\n      <th>avg_price</th>\n      <th>count</th>\n    </tr>\n  </thead>\n  <tbody>\n    <tr>\n      <th>0</th>\n      <td>100001</td>\n      <td>3.500000</td>\n      <td>26000.000000</td>\n      <td>7500.000000</td>\n      <td>2</td>\n    </tr>\n    <tr>\n      <th>1</th>\n      <td>100008</td>\n      <td>5.000000</td>\n      <td>26000.000000</td>\n      <td>5200.000000</td>\n      <td>1</td>\n    </tr>\n    <tr>\n      <th>2</th>\n      <td>100032</td>\n      <td>2.666667</td>\n      <td>20666.666667</td>\n      <td>9366.666667</td>\n      <td>3</td>\n    </tr>\n    <tr>\n      <th>3</th>\n      <td>100036</td>\n      <td>3.000000</td>\n      <td>25800.000000</td>\n      <td>13273.333333</td>\n      <td>5</td>\n    </tr>\n    <tr>\n      <th>4</th>\n      <td>100070</td>\n      <td>3.250000</td>\n      <td>21250.000000</td>\n      <td>8537.500000</td>\n      <td>4</td>\n    </tr>\n    <tr>\n      <th>...</th>\n      <td>...</td>\n      <td>...</td>\n      <td>...</td>\n      <td>...</td>\n      <td>...</td>\n    </tr>\n    <tr>\n      <th>63995</th>\n      <td>999932</td>\n      <td>5.000000</td>\n      <td>32000.000000</td>\n      <td>6400.000000</td>\n      <td>1</td>\n    </tr>\n    <tr>\n      <th>63996</th>\n      <td>999981</td>\n      <td>2.000000</td>\n      <td>22750.000000</td>\n      <td>12875.000000</td>\n      <td>4</td>\n    </tr>\n    <tr>\n      <th>63997</th>\n      <td>999990</td>\n      <td>3.000000</td>\n      <td>28000.000000</td>\n      <td>10388.888889</td>\n      <td>3</td>\n    </tr>\n    <tr>\n      <th>63998</th>\n      <td>999995</td>\n      <td>2.000000</td>\n      <td>27000.000000</td>\n      <td>13500.000000</td>\n      <td>1</td>\n    </tr>\n    <tr>\n      <th>63999</th>\n      <td>999997</td>\n      <td>2.000000</td>\n      <td>13000.000000</td>\n      <td>6500.000000</td>\n      <td>1</td>\n    </tr>\n  </tbody>\n</table>\n<p>64000 rows × 5 columns</p>\n</div>"
     },
     "execution_count": 46,
     "metadata": {},
     "output_type": "execute_result"
    }
   ],
   "source": [
    "df"
   ],
   "metadata": {
    "collapsed": false,
    "ExecuteTime": {
     "start_time": "2023-05-08T11:36:35.148234Z",
     "end_time": "2023-05-08T11:36:35.219134Z"
    }
   }
  },
  {
   "cell_type": "code",
   "execution_count": 47,
   "outputs": [
    {
     "data": {
      "text/plain": "           id  recency  zip_code  is_referral       channel  conversion\n0      906145       10  Suburban            0         Phone           0\n1      184478        6     Rural            1           Web           0\n2      394235        7  Suburban            1           Web           0\n3      130152        9     Rural            1           Web           0\n4      940352        2     Urban            0           Web           0\n...       ...      ...       ...          ...           ...         ...\n63995  838295       10     Urban            0           Web           0\n63996  547316        5     Urban            1         Phone           0\n63997  131575        6     Urban            1         Phone           0\n63998  603659        1  Suburban            1  Multichannel           0\n63999  254229        1  Suburban            0           Web           0\n\n[64000 rows x 6 columns]",
      "text/html": "<div>\n<style scoped>\n    .dataframe tbody tr th:only-of-type {\n        vertical-align: middle;\n    }\n\n    .dataframe tbody tr th {\n        vertical-align: top;\n    }\n\n    .dataframe thead th {\n        text-align: right;\n    }\n</style>\n<table border=\"1\" class=\"dataframe\">\n  <thead>\n    <tr style=\"text-align: right;\">\n      <th></th>\n      <th>id</th>\n      <th>recency</th>\n      <th>zip_code</th>\n      <th>is_referral</th>\n      <th>channel</th>\n      <th>conversion</th>\n    </tr>\n  </thead>\n  <tbody>\n    <tr>\n      <th>0</th>\n      <td>906145</td>\n      <td>10</td>\n      <td>Suburban</td>\n      <td>0</td>\n      <td>Phone</td>\n      <td>0</td>\n    </tr>\n    <tr>\n      <th>1</th>\n      <td>184478</td>\n      <td>6</td>\n      <td>Rural</td>\n      <td>1</td>\n      <td>Web</td>\n      <td>0</td>\n    </tr>\n    <tr>\n      <th>2</th>\n      <td>394235</td>\n      <td>7</td>\n      <td>Suburban</td>\n      <td>1</td>\n      <td>Web</td>\n      <td>0</td>\n    </tr>\n    <tr>\n      <th>3</th>\n      <td>130152</td>\n      <td>9</td>\n      <td>Rural</td>\n      <td>1</td>\n      <td>Web</td>\n      <td>0</td>\n    </tr>\n    <tr>\n      <th>4</th>\n      <td>940352</td>\n      <td>2</td>\n      <td>Urban</td>\n      <td>0</td>\n      <td>Web</td>\n      <td>0</td>\n    </tr>\n    <tr>\n      <th>...</th>\n      <td>...</td>\n      <td>...</td>\n      <td>...</td>\n      <td>...</td>\n      <td>...</td>\n      <td>...</td>\n    </tr>\n    <tr>\n      <th>63995</th>\n      <td>838295</td>\n      <td>10</td>\n      <td>Urban</td>\n      <td>0</td>\n      <td>Web</td>\n      <td>0</td>\n    </tr>\n    <tr>\n      <th>63996</th>\n      <td>547316</td>\n      <td>5</td>\n      <td>Urban</td>\n      <td>1</td>\n      <td>Phone</td>\n      <td>0</td>\n    </tr>\n    <tr>\n      <th>63997</th>\n      <td>131575</td>\n      <td>6</td>\n      <td>Urban</td>\n      <td>1</td>\n      <td>Phone</td>\n      <td>0</td>\n    </tr>\n    <tr>\n      <th>63998</th>\n      <td>603659</td>\n      <td>1</td>\n      <td>Suburban</td>\n      <td>1</td>\n      <td>Multichannel</td>\n      <td>0</td>\n    </tr>\n    <tr>\n      <th>63999</th>\n      <td>254229</td>\n      <td>1</td>\n      <td>Suburban</td>\n      <td>0</td>\n      <td>Web</td>\n      <td>0</td>\n    </tr>\n  </tbody>\n</table>\n<p>64000 rows × 6 columns</p>\n</div>"
     },
     "execution_count": 47,
     "metadata": {},
     "output_type": "execute_result"
    }
   ],
   "source": [
    "mem"
   ],
   "metadata": {
    "collapsed": false,
    "ExecuteTime": {
     "start_time": "2023-05-08T11:36:55.717353Z",
     "end_time": "2023-05-08T11:36:55.779867Z"
    }
   }
  },
  {
   "cell_type": "code",
   "execution_count": 48,
   "outputs": [
    {
     "ename": "ValueError",
     "evalue": "columns overlap but no suffix specified: Index(['id'], dtype='object')",
     "output_type": "error",
     "traceback": [
      "\u001B[1;31m---------------------------------------------------------------------------\u001B[0m",
      "\u001B[1;31mValueError\u001B[0m                                Traceback (most recent call last)",
      "Cell \u001B[1;32mIn[48], line 1\u001B[0m\n\u001B[1;32m----> 1\u001B[0m \u001B[43mmem\u001B[49m\u001B[38;5;241;43m.\u001B[39;49m\u001B[43mjoin\u001B[49m\u001B[43m(\u001B[49m\u001B[43mdf\u001B[49m\u001B[43m)\u001B[49m\n",
      "File \u001B[1;32m~\\anaconda3\\lib\\site-packages\\pandas\\core\\frame.py:9979\u001B[0m, in \u001B[0;36mDataFrame.join\u001B[1;34m(self, other, on, how, lsuffix, rsuffix, sort, validate)\u001B[0m\n\u001B[0;32m   9816\u001B[0m \u001B[38;5;28;01mdef\u001B[39;00m \u001B[38;5;21mjoin\u001B[39m(\n\u001B[0;32m   9817\u001B[0m     \u001B[38;5;28mself\u001B[39m,\n\u001B[0;32m   9818\u001B[0m     other: DataFrame \u001B[38;5;241m|\u001B[39m Series \u001B[38;5;241m|\u001B[39m \u001B[38;5;28mlist\u001B[39m[DataFrame \u001B[38;5;241m|\u001B[39m Series],\n\u001B[1;32m   (...)\u001B[0m\n\u001B[0;32m   9824\u001B[0m     validate: \u001B[38;5;28mstr\u001B[39m \u001B[38;5;241m|\u001B[39m \u001B[38;5;28;01mNone\u001B[39;00m \u001B[38;5;241m=\u001B[39m \u001B[38;5;28;01mNone\u001B[39;00m,\n\u001B[0;32m   9825\u001B[0m ) \u001B[38;5;241m-\u001B[39m\u001B[38;5;241m>\u001B[39m DataFrame:\n\u001B[0;32m   9826\u001B[0m     \u001B[38;5;124;03m\"\"\"\u001B[39;00m\n\u001B[0;32m   9827\u001B[0m \u001B[38;5;124;03m    Join columns of another DataFrame.\u001B[39;00m\n\u001B[0;32m   9828\u001B[0m \n\u001B[1;32m   (...)\u001B[0m\n\u001B[0;32m   9977\u001B[0m \u001B[38;5;124;03m    5  K1  A5   B1\u001B[39;00m\n\u001B[0;32m   9978\u001B[0m \u001B[38;5;124;03m    \"\"\"\u001B[39;00m\n\u001B[1;32m-> 9979\u001B[0m     \u001B[38;5;28;01mreturn\u001B[39;00m \u001B[38;5;28;43mself\u001B[39;49m\u001B[38;5;241;43m.\u001B[39;49m\u001B[43m_join_compat\u001B[49m\u001B[43m(\u001B[49m\n\u001B[0;32m   9980\u001B[0m \u001B[43m        \u001B[49m\u001B[43mother\u001B[49m\u001B[43m,\u001B[49m\n\u001B[0;32m   9981\u001B[0m \u001B[43m        \u001B[49m\u001B[43mon\u001B[49m\u001B[38;5;241;43m=\u001B[39;49m\u001B[43mon\u001B[49m\u001B[43m,\u001B[49m\n\u001B[0;32m   9982\u001B[0m \u001B[43m        \u001B[49m\u001B[43mhow\u001B[49m\u001B[38;5;241;43m=\u001B[39;49m\u001B[43mhow\u001B[49m\u001B[43m,\u001B[49m\n\u001B[0;32m   9983\u001B[0m \u001B[43m        \u001B[49m\u001B[43mlsuffix\u001B[49m\u001B[38;5;241;43m=\u001B[39;49m\u001B[43mlsuffix\u001B[49m\u001B[43m,\u001B[49m\n\u001B[0;32m   9984\u001B[0m \u001B[43m        \u001B[49m\u001B[43mrsuffix\u001B[49m\u001B[38;5;241;43m=\u001B[39;49m\u001B[43mrsuffix\u001B[49m\u001B[43m,\u001B[49m\n\u001B[0;32m   9985\u001B[0m \u001B[43m        \u001B[49m\u001B[43msort\u001B[49m\u001B[38;5;241;43m=\u001B[39;49m\u001B[43msort\u001B[49m\u001B[43m,\u001B[49m\n\u001B[0;32m   9986\u001B[0m \u001B[43m        \u001B[49m\u001B[43mvalidate\u001B[49m\u001B[38;5;241;43m=\u001B[39;49m\u001B[43mvalidate\u001B[49m\u001B[43m,\u001B[49m\n\u001B[0;32m   9987\u001B[0m \u001B[43m    \u001B[49m\u001B[43m)\u001B[49m\n",
      "File \u001B[1;32m~\\anaconda3\\lib\\site-packages\\pandas\\core\\frame.py:10018\u001B[0m, in \u001B[0;36mDataFrame._join_compat\u001B[1;34m(self, other, on, how, lsuffix, rsuffix, sort, validate)\u001B[0m\n\u001B[0;32m  10008\u001B[0m     \u001B[38;5;28;01mif\u001B[39;00m how \u001B[38;5;241m==\u001B[39m \u001B[38;5;124m\"\u001B[39m\u001B[38;5;124mcross\u001B[39m\u001B[38;5;124m\"\u001B[39m:\n\u001B[0;32m  10009\u001B[0m         \u001B[38;5;28;01mreturn\u001B[39;00m merge(\n\u001B[0;32m  10010\u001B[0m             \u001B[38;5;28mself\u001B[39m,\n\u001B[0;32m  10011\u001B[0m             other,\n\u001B[1;32m   (...)\u001B[0m\n\u001B[0;32m  10016\u001B[0m             validate\u001B[38;5;241m=\u001B[39mvalidate,\n\u001B[0;32m  10017\u001B[0m         )\n\u001B[1;32m> 10018\u001B[0m     \u001B[38;5;28;01mreturn\u001B[39;00m \u001B[43mmerge\u001B[49m\u001B[43m(\u001B[49m\n\u001B[0;32m  10019\u001B[0m \u001B[43m        \u001B[49m\u001B[38;5;28;43mself\u001B[39;49m\u001B[43m,\u001B[49m\n\u001B[0;32m  10020\u001B[0m \u001B[43m        \u001B[49m\u001B[43mother\u001B[49m\u001B[43m,\u001B[49m\n\u001B[0;32m  10021\u001B[0m \u001B[43m        \u001B[49m\u001B[43mleft_on\u001B[49m\u001B[38;5;241;43m=\u001B[39;49m\u001B[43mon\u001B[49m\u001B[43m,\u001B[49m\n\u001B[0;32m  10022\u001B[0m \u001B[43m        \u001B[49m\u001B[43mhow\u001B[49m\u001B[38;5;241;43m=\u001B[39;49m\u001B[43mhow\u001B[49m\u001B[43m,\u001B[49m\n\u001B[0;32m  10023\u001B[0m \u001B[43m        \u001B[49m\u001B[43mleft_index\u001B[49m\u001B[38;5;241;43m=\u001B[39;49m\u001B[43mon\u001B[49m\u001B[43m \u001B[49m\u001B[38;5;129;43;01mis\u001B[39;49;00m\u001B[43m \u001B[49m\u001B[38;5;28;43;01mNone\u001B[39;49;00m\u001B[43m,\u001B[49m\n\u001B[0;32m  10024\u001B[0m \u001B[43m        \u001B[49m\u001B[43mright_index\u001B[49m\u001B[38;5;241;43m=\u001B[39;49m\u001B[38;5;28;43;01mTrue\u001B[39;49;00m\u001B[43m,\u001B[49m\n\u001B[0;32m  10025\u001B[0m \u001B[43m        \u001B[49m\u001B[43msuffixes\u001B[49m\u001B[38;5;241;43m=\u001B[39;49m\u001B[43m(\u001B[49m\u001B[43mlsuffix\u001B[49m\u001B[43m,\u001B[49m\u001B[43m \u001B[49m\u001B[43mrsuffix\u001B[49m\u001B[43m)\u001B[49m\u001B[43m,\u001B[49m\n\u001B[0;32m  10026\u001B[0m \u001B[43m        \u001B[49m\u001B[43msort\u001B[49m\u001B[38;5;241;43m=\u001B[39;49m\u001B[43msort\u001B[49m\u001B[43m,\u001B[49m\n\u001B[0;32m  10027\u001B[0m \u001B[43m        \u001B[49m\u001B[43mvalidate\u001B[49m\u001B[38;5;241;43m=\u001B[39;49m\u001B[43mvalidate\u001B[49m\u001B[43m,\u001B[49m\n\u001B[0;32m  10028\u001B[0m \u001B[43m    \u001B[49m\u001B[43m)\u001B[49m\n\u001B[0;32m  10029\u001B[0m \u001B[38;5;28;01melse\u001B[39;00m:\n\u001B[0;32m  10030\u001B[0m     \u001B[38;5;28;01mif\u001B[39;00m on \u001B[38;5;129;01mis\u001B[39;00m \u001B[38;5;129;01mnot\u001B[39;00m \u001B[38;5;28;01mNone\u001B[39;00m:\n",
      "File \u001B[1;32m~\\anaconda3\\lib\\site-packages\\pandas\\core\\reshape\\merge.py:124\u001B[0m, in \u001B[0;36mmerge\u001B[1;34m(left, right, how, on, left_on, right_on, left_index, right_index, sort, suffixes, copy, indicator, validate)\u001B[0m\n\u001B[0;32m     93\u001B[0m \u001B[38;5;129m@Substitution\u001B[39m(\u001B[38;5;124m\"\u001B[39m\u001B[38;5;130;01m\\n\u001B[39;00m\u001B[38;5;124mleft : DataFrame or named Series\u001B[39m\u001B[38;5;124m\"\u001B[39m)\n\u001B[0;32m     94\u001B[0m \u001B[38;5;129m@Appender\u001B[39m(_merge_doc, indents\u001B[38;5;241m=\u001B[39m\u001B[38;5;241m0\u001B[39m)\n\u001B[0;32m     95\u001B[0m \u001B[38;5;28;01mdef\u001B[39;00m \u001B[38;5;21mmerge\u001B[39m(\n\u001B[1;32m   (...)\u001B[0m\n\u001B[0;32m    108\u001B[0m     validate: \u001B[38;5;28mstr\u001B[39m \u001B[38;5;241m|\u001B[39m \u001B[38;5;28;01mNone\u001B[39;00m \u001B[38;5;241m=\u001B[39m \u001B[38;5;28;01mNone\u001B[39;00m,\n\u001B[0;32m    109\u001B[0m ) \u001B[38;5;241m-\u001B[39m\u001B[38;5;241m>\u001B[39m DataFrame:\n\u001B[0;32m    110\u001B[0m     op \u001B[38;5;241m=\u001B[39m _MergeOperation(\n\u001B[0;32m    111\u001B[0m         left,\n\u001B[0;32m    112\u001B[0m         right,\n\u001B[1;32m   (...)\u001B[0m\n\u001B[0;32m    122\u001B[0m         validate\u001B[38;5;241m=\u001B[39mvalidate,\n\u001B[0;32m    123\u001B[0m     )\n\u001B[1;32m--> 124\u001B[0m     \u001B[38;5;28;01mreturn\u001B[39;00m \u001B[43mop\u001B[49m\u001B[38;5;241;43m.\u001B[39;49m\u001B[43mget_result\u001B[49m\u001B[43m(\u001B[49m\u001B[43mcopy\u001B[49m\u001B[38;5;241;43m=\u001B[39;49m\u001B[43mcopy\u001B[49m\u001B[43m)\u001B[49m\n",
      "File \u001B[1;32m~\\anaconda3\\lib\\site-packages\\pandas\\core\\reshape\\merge.py:775\u001B[0m, in \u001B[0;36m_MergeOperation.get_result\u001B[1;34m(self, copy)\u001B[0m\n\u001B[0;32m    771\u001B[0m     \u001B[38;5;28mself\u001B[39m\u001B[38;5;241m.\u001B[39mleft, \u001B[38;5;28mself\u001B[39m\u001B[38;5;241m.\u001B[39mright \u001B[38;5;241m=\u001B[39m \u001B[38;5;28mself\u001B[39m\u001B[38;5;241m.\u001B[39m_indicator_pre_merge(\u001B[38;5;28mself\u001B[39m\u001B[38;5;241m.\u001B[39mleft, \u001B[38;5;28mself\u001B[39m\u001B[38;5;241m.\u001B[39mright)\n\u001B[0;32m    773\u001B[0m join_index, left_indexer, right_indexer \u001B[38;5;241m=\u001B[39m \u001B[38;5;28mself\u001B[39m\u001B[38;5;241m.\u001B[39m_get_join_info()\n\u001B[1;32m--> 775\u001B[0m result \u001B[38;5;241m=\u001B[39m \u001B[38;5;28;43mself\u001B[39;49m\u001B[38;5;241;43m.\u001B[39;49m\u001B[43m_reindex_and_concat\u001B[49m\u001B[43m(\u001B[49m\n\u001B[0;32m    776\u001B[0m \u001B[43m    \u001B[49m\u001B[43mjoin_index\u001B[49m\u001B[43m,\u001B[49m\u001B[43m \u001B[49m\u001B[43mleft_indexer\u001B[49m\u001B[43m,\u001B[49m\u001B[43m \u001B[49m\u001B[43mright_indexer\u001B[49m\u001B[43m,\u001B[49m\u001B[43m \u001B[49m\u001B[43mcopy\u001B[49m\u001B[38;5;241;43m=\u001B[39;49m\u001B[43mcopy\u001B[49m\n\u001B[0;32m    777\u001B[0m \u001B[43m\u001B[49m\u001B[43m)\u001B[49m\n\u001B[0;32m    778\u001B[0m result \u001B[38;5;241m=\u001B[39m result\u001B[38;5;241m.\u001B[39m__finalize__(\u001B[38;5;28mself\u001B[39m, method\u001B[38;5;241m=\u001B[39m\u001B[38;5;28mself\u001B[39m\u001B[38;5;241m.\u001B[39m_merge_type)\n\u001B[0;32m    780\u001B[0m \u001B[38;5;28;01mif\u001B[39;00m \u001B[38;5;28mself\u001B[39m\u001B[38;5;241m.\u001B[39mindicator:\n",
      "File \u001B[1;32m~\\anaconda3\\lib\\site-packages\\pandas\\core\\reshape\\merge.py:729\u001B[0m, in \u001B[0;36m_MergeOperation._reindex_and_concat\u001B[1;34m(self, join_index, left_indexer, right_indexer, copy)\u001B[0m\n\u001B[0;32m    726\u001B[0m left \u001B[38;5;241m=\u001B[39m \u001B[38;5;28mself\u001B[39m\u001B[38;5;241m.\u001B[39mleft[:]\n\u001B[0;32m    727\u001B[0m right \u001B[38;5;241m=\u001B[39m \u001B[38;5;28mself\u001B[39m\u001B[38;5;241m.\u001B[39mright[:]\n\u001B[1;32m--> 729\u001B[0m llabels, rlabels \u001B[38;5;241m=\u001B[39m \u001B[43m_items_overlap_with_suffix\u001B[49m\u001B[43m(\u001B[49m\n\u001B[0;32m    730\u001B[0m \u001B[43m    \u001B[49m\u001B[38;5;28;43mself\u001B[39;49m\u001B[38;5;241;43m.\u001B[39;49m\u001B[43mleft\u001B[49m\u001B[38;5;241;43m.\u001B[39;49m\u001B[43m_info_axis\u001B[49m\u001B[43m,\u001B[49m\u001B[43m \u001B[49m\u001B[38;5;28;43mself\u001B[39;49m\u001B[38;5;241;43m.\u001B[39;49m\u001B[43mright\u001B[49m\u001B[38;5;241;43m.\u001B[39;49m\u001B[43m_info_axis\u001B[49m\u001B[43m,\u001B[49m\u001B[43m \u001B[49m\u001B[38;5;28;43mself\u001B[39;49m\u001B[38;5;241;43m.\u001B[39;49m\u001B[43msuffixes\u001B[49m\n\u001B[0;32m    731\u001B[0m \u001B[43m\u001B[49m\u001B[43m)\u001B[49m\n\u001B[0;32m    733\u001B[0m \u001B[38;5;28;01mif\u001B[39;00m left_indexer \u001B[38;5;129;01mis\u001B[39;00m \u001B[38;5;129;01mnot\u001B[39;00m \u001B[38;5;28;01mNone\u001B[39;00m:\n\u001B[0;32m    734\u001B[0m     \u001B[38;5;66;03m# Pinning the index here (and in the right code just below) is not\u001B[39;00m\n\u001B[0;32m    735\u001B[0m     \u001B[38;5;66;03m#  necessary, but makes the `.take` more performant if we have e.g.\u001B[39;00m\n\u001B[0;32m    736\u001B[0m     \u001B[38;5;66;03m#  a MultiIndex for left.index.\u001B[39;00m\n\u001B[0;32m    737\u001B[0m     lmgr \u001B[38;5;241m=\u001B[39m left\u001B[38;5;241m.\u001B[39m_mgr\u001B[38;5;241m.\u001B[39mreindex_indexer(\n\u001B[0;32m    738\u001B[0m         join_index,\n\u001B[0;32m    739\u001B[0m         left_indexer,\n\u001B[1;32m   (...)\u001B[0m\n\u001B[0;32m    744\u001B[0m         use_na_proxy\u001B[38;5;241m=\u001B[39m\u001B[38;5;28;01mTrue\u001B[39;00m,\n\u001B[0;32m    745\u001B[0m     )\n",
      "File \u001B[1;32m~\\anaconda3\\lib\\site-packages\\pandas\\core\\reshape\\merge.py:2458\u001B[0m, in \u001B[0;36m_items_overlap_with_suffix\u001B[1;34m(left, right, suffixes)\u001B[0m\n\u001B[0;32m   2455\u001B[0m lsuffix, rsuffix \u001B[38;5;241m=\u001B[39m suffixes\n\u001B[0;32m   2457\u001B[0m \u001B[38;5;28;01mif\u001B[39;00m \u001B[38;5;129;01mnot\u001B[39;00m lsuffix \u001B[38;5;129;01mand\u001B[39;00m \u001B[38;5;129;01mnot\u001B[39;00m rsuffix:\n\u001B[1;32m-> 2458\u001B[0m     \u001B[38;5;28;01mraise\u001B[39;00m \u001B[38;5;167;01mValueError\u001B[39;00m(\u001B[38;5;124mf\u001B[39m\u001B[38;5;124m\"\u001B[39m\u001B[38;5;124mcolumns overlap but no suffix specified: \u001B[39m\u001B[38;5;132;01m{\u001B[39;00mto_rename\u001B[38;5;132;01m}\u001B[39;00m\u001B[38;5;124m\"\u001B[39m)\n\u001B[0;32m   2460\u001B[0m \u001B[38;5;28;01mdef\u001B[39;00m \u001B[38;5;21mrenamer\u001B[39m(x, suffix):\n\u001B[0;32m   2461\u001B[0m     \u001B[38;5;124;03m\"\"\"\u001B[39;00m\n\u001B[0;32m   2462\u001B[0m \u001B[38;5;124;03m    Rename the left and right indices.\u001B[39;00m\n\u001B[0;32m   2463\u001B[0m \n\u001B[1;32m   (...)\u001B[0m\n\u001B[0;32m   2474\u001B[0m \u001B[38;5;124;03m    x : renamed column name\u001B[39;00m\n\u001B[0;32m   2475\u001B[0m \u001B[38;5;124;03m    \"\"\"\u001B[39;00m\n",
      "\u001B[1;31mValueError\u001B[0m: columns overlap but no suffix specified: Index(['id'], dtype='object')"
     ]
    }
   ],
   "source": [
    "mem.join(df)"
   ],
   "metadata": {
    "collapsed": false
   }
  },
  {
   "cell_type": "code",
   "execution_count": 49,
   "outputs": [],
   "source": [
    "mem.set_index(\"id\", inplace=True)"
   ],
   "metadata": {
    "collapsed": false,
    "ExecuteTime": {
     "start_time": "2023-05-08T11:39:27.227395Z",
     "end_time": "2023-05-08T11:39:27.289933Z"
    }
   }
  },
  {
   "cell_type": "code",
   "execution_count": 50,
   "outputs": [
    {
     "data": {
      "text/plain": "        recency  zip_code  is_referral       channel  conversion\nid                                                              \n906145       10  Suburban            0         Phone           0\n184478        6     Rural            1           Web           0\n394235        7  Suburban            1           Web           0\n130152        9     Rural            1           Web           0\n940352        2     Urban            0           Web           0\n...         ...       ...          ...           ...         ...\n838295       10     Urban            0           Web           0\n547316        5     Urban            1         Phone           0\n131575        6     Urban            1         Phone           0\n603659        1  Suburban            1  Multichannel           0\n254229        1  Suburban            0           Web           0\n\n[64000 rows x 5 columns]",
      "text/html": "<div>\n<style scoped>\n    .dataframe tbody tr th:only-of-type {\n        vertical-align: middle;\n    }\n\n    .dataframe tbody tr th {\n        vertical-align: top;\n    }\n\n    .dataframe thead th {\n        text-align: right;\n    }\n</style>\n<table border=\"1\" class=\"dataframe\">\n  <thead>\n    <tr style=\"text-align: right;\">\n      <th></th>\n      <th>recency</th>\n      <th>zip_code</th>\n      <th>is_referral</th>\n      <th>channel</th>\n      <th>conversion</th>\n    </tr>\n    <tr>\n      <th>id</th>\n      <th></th>\n      <th></th>\n      <th></th>\n      <th></th>\n      <th></th>\n    </tr>\n  </thead>\n  <tbody>\n    <tr>\n      <th>906145</th>\n      <td>10</td>\n      <td>Suburban</td>\n      <td>0</td>\n      <td>Phone</td>\n      <td>0</td>\n    </tr>\n    <tr>\n      <th>184478</th>\n      <td>6</td>\n      <td>Rural</td>\n      <td>1</td>\n      <td>Web</td>\n      <td>0</td>\n    </tr>\n    <tr>\n      <th>394235</th>\n      <td>7</td>\n      <td>Suburban</td>\n      <td>1</td>\n      <td>Web</td>\n      <td>0</td>\n    </tr>\n    <tr>\n      <th>130152</th>\n      <td>9</td>\n      <td>Rural</td>\n      <td>1</td>\n      <td>Web</td>\n      <td>0</td>\n    </tr>\n    <tr>\n      <th>940352</th>\n      <td>2</td>\n      <td>Urban</td>\n      <td>0</td>\n      <td>Web</td>\n      <td>0</td>\n    </tr>\n    <tr>\n      <th>...</th>\n      <td>...</td>\n      <td>...</td>\n      <td>...</td>\n      <td>...</td>\n      <td>...</td>\n    </tr>\n    <tr>\n      <th>838295</th>\n      <td>10</td>\n      <td>Urban</td>\n      <td>0</td>\n      <td>Web</td>\n      <td>0</td>\n    </tr>\n    <tr>\n      <th>547316</th>\n      <td>5</td>\n      <td>Urban</td>\n      <td>1</td>\n      <td>Phone</td>\n      <td>0</td>\n    </tr>\n    <tr>\n      <th>131575</th>\n      <td>6</td>\n      <td>Urban</td>\n      <td>1</td>\n      <td>Phone</td>\n      <td>0</td>\n    </tr>\n    <tr>\n      <th>603659</th>\n      <td>1</td>\n      <td>Suburban</td>\n      <td>1</td>\n      <td>Multichannel</td>\n      <td>0</td>\n    </tr>\n    <tr>\n      <th>254229</th>\n      <td>1</td>\n      <td>Suburban</td>\n      <td>0</td>\n      <td>Web</td>\n      <td>0</td>\n    </tr>\n  </tbody>\n</table>\n<p>64000 rows × 5 columns</p>\n</div>"
     },
     "execution_count": 50,
     "metadata": {},
     "output_type": "execute_result"
    }
   ],
   "source": [
    "mem"
   ],
   "metadata": {
    "collapsed": false,
    "ExecuteTime": {
     "start_time": "2023-05-08T11:39:29.137343Z",
     "end_time": "2023-05-08T11:39:29.184259Z"
    }
   }
  },
  {
   "cell_type": "code",
   "execution_count": 52,
   "outputs": [],
   "source": [
    "df = mem.join(df).drop(\"id\", axis=1)"
   ],
   "metadata": {
    "collapsed": false,
    "ExecuteTime": {
     "start_time": "2023-05-08T11:40:44.460391Z",
     "end_time": "2023-05-08T11:40:44.491642Z"
    }
   }
  },
  {
   "cell_type": "code",
   "execution_count": 53,
   "outputs": [
    {
     "data": {
      "text/plain": "        recency  zip_code  is_referral       channel  conversion  num_item  \\\nid                                                                           \n906145       10  Suburban            0         Phone           0       NaN   \n184478        6     Rural            1           Web           0       NaN   \n394235        7  Suburban            1           Web           0       NaN   \n130152        9     Rural            1           Web           0       NaN   \n940352        2     Urban            0           Web           0       NaN   \n...         ...       ...          ...           ...         ...       ...   \n838295       10     Urban            0           Web           0       NaN   \n547316        5     Urban            1         Phone           0       NaN   \n131575        6     Urban            1         Phone           0       NaN   \n603659        1  Suburban            1  Multichannel           0       NaN   \n254229        1  Suburban            0           Web           0       NaN   \n\n        total_amount  avg_price  count  \nid                                      \n906145           NaN        NaN    NaN  \n184478           NaN        NaN    NaN  \n394235           NaN        NaN    NaN  \n130152           NaN        NaN    NaN  \n940352           NaN        NaN    NaN  \n...              ...        ...    ...  \n838295           NaN        NaN    NaN  \n547316           NaN        NaN    NaN  \n131575           NaN        NaN    NaN  \n603659           NaN        NaN    NaN  \n254229           NaN        NaN    NaN  \n\n[64000 rows x 9 columns]",
      "text/html": "<div>\n<style scoped>\n    .dataframe tbody tr th:only-of-type {\n        vertical-align: middle;\n    }\n\n    .dataframe tbody tr th {\n        vertical-align: top;\n    }\n\n    .dataframe thead th {\n        text-align: right;\n    }\n</style>\n<table border=\"1\" class=\"dataframe\">\n  <thead>\n    <tr style=\"text-align: right;\">\n      <th></th>\n      <th>recency</th>\n      <th>zip_code</th>\n      <th>is_referral</th>\n      <th>channel</th>\n      <th>conversion</th>\n      <th>num_item</th>\n      <th>total_amount</th>\n      <th>avg_price</th>\n      <th>count</th>\n    </tr>\n    <tr>\n      <th>id</th>\n      <th></th>\n      <th></th>\n      <th></th>\n      <th></th>\n      <th></th>\n      <th></th>\n      <th></th>\n      <th></th>\n      <th></th>\n    </tr>\n  </thead>\n  <tbody>\n    <tr>\n      <th>906145</th>\n      <td>10</td>\n      <td>Suburban</td>\n      <td>0</td>\n      <td>Phone</td>\n      <td>0</td>\n      <td>NaN</td>\n      <td>NaN</td>\n      <td>NaN</td>\n      <td>NaN</td>\n    </tr>\n    <tr>\n      <th>184478</th>\n      <td>6</td>\n      <td>Rural</td>\n      <td>1</td>\n      <td>Web</td>\n      <td>0</td>\n      <td>NaN</td>\n      <td>NaN</td>\n      <td>NaN</td>\n      <td>NaN</td>\n    </tr>\n    <tr>\n      <th>394235</th>\n      <td>7</td>\n      <td>Suburban</td>\n      <td>1</td>\n      <td>Web</td>\n      <td>0</td>\n      <td>NaN</td>\n      <td>NaN</td>\n      <td>NaN</td>\n      <td>NaN</td>\n    </tr>\n    <tr>\n      <th>130152</th>\n      <td>9</td>\n      <td>Rural</td>\n      <td>1</td>\n      <td>Web</td>\n      <td>0</td>\n      <td>NaN</td>\n      <td>NaN</td>\n      <td>NaN</td>\n      <td>NaN</td>\n    </tr>\n    <tr>\n      <th>940352</th>\n      <td>2</td>\n      <td>Urban</td>\n      <td>0</td>\n      <td>Web</td>\n      <td>0</td>\n      <td>NaN</td>\n      <td>NaN</td>\n      <td>NaN</td>\n      <td>NaN</td>\n    </tr>\n    <tr>\n      <th>...</th>\n      <td>...</td>\n      <td>...</td>\n      <td>...</td>\n      <td>...</td>\n      <td>...</td>\n      <td>...</td>\n      <td>...</td>\n      <td>...</td>\n      <td>...</td>\n    </tr>\n    <tr>\n      <th>838295</th>\n      <td>10</td>\n      <td>Urban</td>\n      <td>0</td>\n      <td>Web</td>\n      <td>0</td>\n      <td>NaN</td>\n      <td>NaN</td>\n      <td>NaN</td>\n      <td>NaN</td>\n    </tr>\n    <tr>\n      <th>547316</th>\n      <td>5</td>\n      <td>Urban</td>\n      <td>1</td>\n      <td>Phone</td>\n      <td>0</td>\n      <td>NaN</td>\n      <td>NaN</td>\n      <td>NaN</td>\n      <td>NaN</td>\n    </tr>\n    <tr>\n      <th>131575</th>\n      <td>6</td>\n      <td>Urban</td>\n      <td>1</td>\n      <td>Phone</td>\n      <td>0</td>\n      <td>NaN</td>\n      <td>NaN</td>\n      <td>NaN</td>\n      <td>NaN</td>\n    </tr>\n    <tr>\n      <th>603659</th>\n      <td>1</td>\n      <td>Suburban</td>\n      <td>1</td>\n      <td>Multichannel</td>\n      <td>0</td>\n      <td>NaN</td>\n      <td>NaN</td>\n      <td>NaN</td>\n      <td>NaN</td>\n    </tr>\n    <tr>\n      <th>254229</th>\n      <td>1</td>\n      <td>Suburban</td>\n      <td>0</td>\n      <td>Web</td>\n      <td>0</td>\n      <td>NaN</td>\n      <td>NaN</td>\n      <td>NaN</td>\n      <td>NaN</td>\n    </tr>\n  </tbody>\n</table>\n<p>64000 rows × 9 columns</p>\n</div>"
     },
     "execution_count": 53,
     "metadata": {},
     "output_type": "execute_result"
    }
   ],
   "source": [
    "df"
   ],
   "metadata": {
    "collapsed": false,
    "ExecuteTime": {
     "start_time": "2023-05-08T11:40:45.759936Z",
     "end_time": "2023-05-08T11:40:45.822517Z"
    }
   }
  },
  {
   "cell_type": "code",
   "execution_count": 54,
   "outputs": [
    {
     "data": {
      "text/plain": "        recency  zip_code  is_referral       channel  conversion  num_item  \\\nid                                                                           \n906145       10  Suburban            0         Phone           0       NaN   \n184478        6     Rural            1           Web           0       NaN   \n394235        7  Suburban            1           Web           0       NaN   \n130152        9     Rural            1           Web           0       NaN   \n940352        2     Urban            0           Web           0       NaN   \n...         ...       ...          ...           ...         ...       ...   \n838295       10     Urban            0           Web           0       NaN   \n547316        5     Urban            1         Phone           0       NaN   \n131575        6     Urban            1         Phone           0       NaN   \n603659        1  Suburban            1  Multichannel           0       NaN   \n254229        1  Suburban            0           Web           0       NaN   \n\n        total_amount  avg_price  count  \nid                                      \n906145           NaN        NaN    NaN  \n184478           NaN        NaN    NaN  \n394235           NaN        NaN    NaN  \n130152           NaN        NaN    NaN  \n940352           NaN        NaN    NaN  \n...              ...        ...    ...  \n838295           NaN        NaN    NaN  \n547316           NaN        NaN    NaN  \n131575           NaN        NaN    NaN  \n603659           NaN        NaN    NaN  \n254229           NaN        NaN    NaN  \n\n[64000 rows x 9 columns]",
      "text/html": "<div>\n<style scoped>\n    .dataframe tbody tr th:only-of-type {\n        vertical-align: middle;\n    }\n\n    .dataframe tbody tr th {\n        vertical-align: top;\n    }\n\n    .dataframe thead th {\n        text-align: right;\n    }\n</style>\n<table border=\"1\" class=\"dataframe\">\n  <thead>\n    <tr style=\"text-align: right;\">\n      <th></th>\n      <th>recency</th>\n      <th>zip_code</th>\n      <th>is_referral</th>\n      <th>channel</th>\n      <th>conversion</th>\n      <th>num_item</th>\n      <th>total_amount</th>\n      <th>avg_price</th>\n      <th>count</th>\n    </tr>\n    <tr>\n      <th>id</th>\n      <th></th>\n      <th></th>\n      <th></th>\n      <th></th>\n      <th></th>\n      <th></th>\n      <th></th>\n      <th></th>\n      <th></th>\n    </tr>\n  </thead>\n  <tbody>\n    <tr>\n      <th>906145</th>\n      <td>10</td>\n      <td>Suburban</td>\n      <td>0</td>\n      <td>Phone</td>\n      <td>0</td>\n      <td>NaN</td>\n      <td>NaN</td>\n      <td>NaN</td>\n      <td>NaN</td>\n    </tr>\n    <tr>\n      <th>184478</th>\n      <td>6</td>\n      <td>Rural</td>\n      <td>1</td>\n      <td>Web</td>\n      <td>0</td>\n      <td>NaN</td>\n      <td>NaN</td>\n      <td>NaN</td>\n      <td>NaN</td>\n    </tr>\n    <tr>\n      <th>394235</th>\n      <td>7</td>\n      <td>Suburban</td>\n      <td>1</td>\n      <td>Web</td>\n      <td>0</td>\n      <td>NaN</td>\n      <td>NaN</td>\n      <td>NaN</td>\n      <td>NaN</td>\n    </tr>\n    <tr>\n      <th>130152</th>\n      <td>9</td>\n      <td>Rural</td>\n      <td>1</td>\n      <td>Web</td>\n      <td>0</td>\n      <td>NaN</td>\n      <td>NaN</td>\n      <td>NaN</td>\n      <td>NaN</td>\n    </tr>\n    <tr>\n      <th>940352</th>\n      <td>2</td>\n      <td>Urban</td>\n      <td>0</td>\n      <td>Web</td>\n      <td>0</td>\n      <td>NaN</td>\n      <td>NaN</td>\n      <td>NaN</td>\n      <td>NaN</td>\n    </tr>\n    <tr>\n      <th>...</th>\n      <td>...</td>\n      <td>...</td>\n      <td>...</td>\n      <td>...</td>\n      <td>...</td>\n      <td>...</td>\n      <td>...</td>\n      <td>...</td>\n      <td>...</td>\n    </tr>\n    <tr>\n      <th>838295</th>\n      <td>10</td>\n      <td>Urban</td>\n      <td>0</td>\n      <td>Web</td>\n      <td>0</td>\n      <td>NaN</td>\n      <td>NaN</td>\n      <td>NaN</td>\n      <td>NaN</td>\n    </tr>\n    <tr>\n      <th>547316</th>\n      <td>5</td>\n      <td>Urban</td>\n      <td>1</td>\n      <td>Phone</td>\n      <td>0</td>\n      <td>NaN</td>\n      <td>NaN</td>\n      <td>NaN</td>\n      <td>NaN</td>\n    </tr>\n    <tr>\n      <th>131575</th>\n      <td>6</td>\n      <td>Urban</td>\n      <td>1</td>\n      <td>Phone</td>\n      <td>0</td>\n      <td>NaN</td>\n      <td>NaN</td>\n      <td>NaN</td>\n      <td>NaN</td>\n    </tr>\n    <tr>\n      <th>603659</th>\n      <td>1</td>\n      <td>Suburban</td>\n      <td>1</td>\n      <td>Multichannel</td>\n      <td>0</td>\n      <td>NaN</td>\n      <td>NaN</td>\n      <td>NaN</td>\n      <td>NaN</td>\n    </tr>\n    <tr>\n      <th>254229</th>\n      <td>1</td>\n      <td>Suburban</td>\n      <td>0</td>\n      <td>Web</td>\n      <td>0</td>\n      <td>NaN</td>\n      <td>NaN</td>\n      <td>NaN</td>\n      <td>NaN</td>\n    </tr>\n  </tbody>\n</table>\n<p>64000 rows × 9 columns</p>\n</div>"
     },
     "execution_count": 54,
     "metadata": {},
     "output_type": "execute_result"
    }
   ],
   "source": [],
   "metadata": {
    "collapsed": false,
    "ExecuteTime": {
     "start_time": "2023-05-08T11:41:49.112850Z",
     "end_time": "2023-05-08T11:41:49.190976Z"
    }
   }
  },
  {
   "cell_type": "code",
   "execution_count": 60,
   "outputs": [
    {
     "data": {
      "text/plain": "        recency  zip_code  is_referral       channel  conversion  num_item  \\\nid                                                                           \n906145       10  Suburban            0         Phone           0  3.333333   \n184478        6     Rural            1           Web           0  4.000000   \n394235        7  Suburban            1           Web           0  4.000000   \n130152        9     Rural            1           Web           0  1.750000   \n940352        2     Urban            0           Web           0  3.000000   \n...         ...       ...          ...           ...         ...       ...   \n838295       10     Urban            0           Web           0  3.500000   \n547316        5     Urban            1         Phone           0  1.800000   \n131575        6     Urban            1         Phone           0  4.000000   \n603659        1  Suburban            1  Multichannel           0  3.200000   \n254229        1  Suburban            0           Web           0  3.400000   \n\n        total_amount     avg_price   index  count  \nid                                                 \n906145  31333.333333  14016.666667  906145      3  \n184478  29000.000000   7250.000000  184478      1  \n394235  20500.000000   5125.000000  394235      2  \n130152  20750.000000  14875.000000  130152      4  \n940352  31000.000000  10333.333333  940352      1  \n...              ...           ...     ...    ...  \n838295  26000.000000   8012.500000  838295      4  \n547316  17800.000000  11300.000000  547316      5  \n131575  30500.000000   7833.333333  131575      2  \n603659  21600.000000   7583.333333  603659      5  \n254229  24400.000000   9280.000000  254229      5  \n\n[64000 rows x 10 columns]",
      "text/html": "<div>\n<style scoped>\n    .dataframe tbody tr th:only-of-type {\n        vertical-align: middle;\n    }\n\n    .dataframe tbody tr th {\n        vertical-align: top;\n    }\n\n    .dataframe thead th {\n        text-align: right;\n    }\n</style>\n<table border=\"1\" class=\"dataframe\">\n  <thead>\n    <tr style=\"text-align: right;\">\n      <th></th>\n      <th>recency</th>\n      <th>zip_code</th>\n      <th>is_referral</th>\n      <th>channel</th>\n      <th>conversion</th>\n      <th>num_item</th>\n      <th>total_amount</th>\n      <th>avg_price</th>\n      <th>index</th>\n      <th>count</th>\n    </tr>\n    <tr>\n      <th>id</th>\n      <th></th>\n      <th></th>\n      <th></th>\n      <th></th>\n      <th></th>\n      <th></th>\n      <th></th>\n      <th></th>\n      <th></th>\n      <th></th>\n    </tr>\n  </thead>\n  <tbody>\n    <tr>\n      <th>906145</th>\n      <td>10</td>\n      <td>Suburban</td>\n      <td>0</td>\n      <td>Phone</td>\n      <td>0</td>\n      <td>3.333333</td>\n      <td>31333.333333</td>\n      <td>14016.666667</td>\n      <td>906145</td>\n      <td>3</td>\n    </tr>\n    <tr>\n      <th>184478</th>\n      <td>6</td>\n      <td>Rural</td>\n      <td>1</td>\n      <td>Web</td>\n      <td>0</td>\n      <td>4.000000</td>\n      <td>29000.000000</td>\n      <td>7250.000000</td>\n      <td>184478</td>\n      <td>1</td>\n    </tr>\n    <tr>\n      <th>394235</th>\n      <td>7</td>\n      <td>Suburban</td>\n      <td>1</td>\n      <td>Web</td>\n      <td>0</td>\n      <td>4.000000</td>\n      <td>20500.000000</td>\n      <td>5125.000000</td>\n      <td>394235</td>\n      <td>2</td>\n    </tr>\n    <tr>\n      <th>130152</th>\n      <td>9</td>\n      <td>Rural</td>\n      <td>1</td>\n      <td>Web</td>\n      <td>0</td>\n      <td>1.750000</td>\n      <td>20750.000000</td>\n      <td>14875.000000</td>\n      <td>130152</td>\n      <td>4</td>\n    </tr>\n    <tr>\n      <th>940352</th>\n      <td>2</td>\n      <td>Urban</td>\n      <td>0</td>\n      <td>Web</td>\n      <td>0</td>\n      <td>3.000000</td>\n      <td>31000.000000</td>\n      <td>10333.333333</td>\n      <td>940352</td>\n      <td>1</td>\n    </tr>\n    <tr>\n      <th>...</th>\n      <td>...</td>\n      <td>...</td>\n      <td>...</td>\n      <td>...</td>\n      <td>...</td>\n      <td>...</td>\n      <td>...</td>\n      <td>...</td>\n      <td>...</td>\n      <td>...</td>\n    </tr>\n    <tr>\n      <th>838295</th>\n      <td>10</td>\n      <td>Urban</td>\n      <td>0</td>\n      <td>Web</td>\n      <td>0</td>\n      <td>3.500000</td>\n      <td>26000.000000</td>\n      <td>8012.500000</td>\n      <td>838295</td>\n      <td>4</td>\n    </tr>\n    <tr>\n      <th>547316</th>\n      <td>5</td>\n      <td>Urban</td>\n      <td>1</td>\n      <td>Phone</td>\n      <td>0</td>\n      <td>1.800000</td>\n      <td>17800.000000</td>\n      <td>11300.000000</td>\n      <td>547316</td>\n      <td>5</td>\n    </tr>\n    <tr>\n      <th>131575</th>\n      <td>6</td>\n      <td>Urban</td>\n      <td>1</td>\n      <td>Phone</td>\n      <td>0</td>\n      <td>4.000000</td>\n      <td>30500.000000</td>\n      <td>7833.333333</td>\n      <td>131575</td>\n      <td>2</td>\n    </tr>\n    <tr>\n      <th>603659</th>\n      <td>1</td>\n      <td>Suburban</td>\n      <td>1</td>\n      <td>Multichannel</td>\n      <td>0</td>\n      <td>3.200000</td>\n      <td>21600.000000</td>\n      <td>7583.333333</td>\n      <td>603659</td>\n      <td>5</td>\n    </tr>\n    <tr>\n      <th>254229</th>\n      <td>1</td>\n      <td>Suburban</td>\n      <td>0</td>\n      <td>Web</td>\n      <td>0</td>\n      <td>3.400000</td>\n      <td>24400.000000</td>\n      <td>9280.000000</td>\n      <td>254229</td>\n      <td>5</td>\n    </tr>\n  </tbody>\n</table>\n<p>64000 rows × 10 columns</p>\n</div>"
     },
     "execution_count": 60,
     "metadata": {},
     "output_type": "execute_result"
    }
   ],
   "source": [
    "mem.join(df)"
   ],
   "metadata": {
    "collapsed": false,
    "ExecuteTime": {
     "start_time": "2023-05-08T11:43:36.998274Z",
     "end_time": "2023-05-08T11:43:37.117269Z"
    }
   }
  },
  {
   "cell_type": "code",
   "execution_count": 61,
   "outputs": [],
   "source": [
    "mem = pd.read_csv(\"member.csv\")\n",
    "tran = pd.read_csv(\"transaction.csv\")"
   ],
   "metadata": {
    "collapsed": false,
    "ExecuteTime": {
     "start_time": "2023-05-08T11:46:02.517458Z",
     "end_time": "2023-05-08T11:46:02.628480Z"
    }
   }
  },
  {
   "cell_type": "code",
   "execution_count": 62,
   "outputs": [],
   "source": [
    "tran[\"avg_price\"] = tran[\"total_amount\"] / tran[\"num_item\"]"
   ],
   "metadata": {
    "collapsed": false,
    "ExecuteTime": {
     "start_time": "2023-05-08T11:47:00.257983Z",
     "end_time": "2023-05-08T11:47:00.304894Z"
    }
   }
  },
  {
   "cell_type": "code",
   "execution_count": 63,
   "outputs": [
    {
     "data": {
      "text/plain": "            id  num_item  total_amount     avg_price\n0       906145         5         34000   6800.000000\n1       906145         1         27000  27000.000000\n2       906145         4         33000   8250.000000\n3       184478         4         29000   7250.000000\n4       394235         4         33000   8250.000000\n...        ...       ...           ...           ...\n196831  536246         5         24000   4800.000000\n196832  927617         5         26000   5200.000000\n196833  927617         3         22000   7333.333333\n196834  927617         3         18000   6000.000000\n196835  927617         3         20000   6666.666667\n\n[196836 rows x 4 columns]",
      "text/html": "<div>\n<style scoped>\n    .dataframe tbody tr th:only-of-type {\n        vertical-align: middle;\n    }\n\n    .dataframe tbody tr th {\n        vertical-align: top;\n    }\n\n    .dataframe thead th {\n        text-align: right;\n    }\n</style>\n<table border=\"1\" class=\"dataframe\">\n  <thead>\n    <tr style=\"text-align: right;\">\n      <th></th>\n      <th>id</th>\n      <th>num_item</th>\n      <th>total_amount</th>\n      <th>avg_price</th>\n    </tr>\n  </thead>\n  <tbody>\n    <tr>\n      <th>0</th>\n      <td>906145</td>\n      <td>5</td>\n      <td>34000</td>\n      <td>6800.000000</td>\n    </tr>\n    <tr>\n      <th>1</th>\n      <td>906145</td>\n      <td>1</td>\n      <td>27000</td>\n      <td>27000.000000</td>\n    </tr>\n    <tr>\n      <th>2</th>\n      <td>906145</td>\n      <td>4</td>\n      <td>33000</td>\n      <td>8250.000000</td>\n    </tr>\n    <tr>\n      <th>3</th>\n      <td>184478</td>\n      <td>4</td>\n      <td>29000</td>\n      <td>7250.000000</td>\n    </tr>\n    <tr>\n      <th>4</th>\n      <td>394235</td>\n      <td>4</td>\n      <td>33000</td>\n      <td>8250.000000</td>\n    </tr>\n    <tr>\n      <th>...</th>\n      <td>...</td>\n      <td>...</td>\n      <td>...</td>\n      <td>...</td>\n    </tr>\n    <tr>\n      <th>196831</th>\n      <td>536246</td>\n      <td>5</td>\n      <td>24000</td>\n      <td>4800.000000</td>\n    </tr>\n    <tr>\n      <th>196832</th>\n      <td>927617</td>\n      <td>5</td>\n      <td>26000</td>\n      <td>5200.000000</td>\n    </tr>\n    <tr>\n      <th>196833</th>\n      <td>927617</td>\n      <td>3</td>\n      <td>22000</td>\n      <td>7333.333333</td>\n    </tr>\n    <tr>\n      <th>196834</th>\n      <td>927617</td>\n      <td>3</td>\n      <td>18000</td>\n      <td>6000.000000</td>\n    </tr>\n    <tr>\n      <th>196835</th>\n      <td>927617</td>\n      <td>3</td>\n      <td>20000</td>\n      <td>6666.666667</td>\n    </tr>\n  </tbody>\n</table>\n<p>196836 rows × 4 columns</p>\n</div>"
     },
     "execution_count": 63,
     "metadata": {},
     "output_type": "execute_result"
    }
   ],
   "source": [
    "tran"
   ],
   "metadata": {
    "collapsed": false,
    "ExecuteTime": {
     "start_time": "2023-05-08T11:47:02.200444Z",
     "end_time": "2023-05-08T11:47:02.231701Z"
    }
   }
  },
  {
   "cell_type": "code",
   "execution_count": 64,
   "outputs": [],
   "source": [
    "tran_mean = tran.groupby(\"id\").mean()"
   ],
   "metadata": {
    "collapsed": false,
    "ExecuteTime": {
     "start_time": "2023-05-08T11:47:44.722185Z",
     "end_time": "2023-05-08T11:47:44.831570Z"
    }
   }
  },
  {
   "cell_type": "code",
   "execution_count": 65,
   "outputs": [
    {
     "data": {
      "text/plain": "        num_item  total_amount     avg_price\nid                                          \n100001  3.500000  26000.000000   7500.000000\n100008  5.000000  26000.000000   5200.000000\n100032  2.666667  20666.666667   9366.666667\n100036  3.000000  25800.000000  13273.333333\n100070  3.250000  21250.000000   8537.500000\n...          ...           ...           ...\n999932  5.000000  32000.000000   6400.000000\n999981  2.000000  22750.000000  12875.000000\n999990  3.000000  28000.000000  10388.888889\n999995  2.000000  27000.000000  13500.000000\n999997  2.000000  13000.000000   6500.000000\n\n[64000 rows x 3 columns]",
      "text/html": "<div>\n<style scoped>\n    .dataframe tbody tr th:only-of-type {\n        vertical-align: middle;\n    }\n\n    .dataframe tbody tr th {\n        vertical-align: top;\n    }\n\n    .dataframe thead th {\n        text-align: right;\n    }\n</style>\n<table border=\"1\" class=\"dataframe\">\n  <thead>\n    <tr style=\"text-align: right;\">\n      <th></th>\n      <th>num_item</th>\n      <th>total_amount</th>\n      <th>avg_price</th>\n    </tr>\n    <tr>\n      <th>id</th>\n      <th></th>\n      <th></th>\n      <th></th>\n    </tr>\n  </thead>\n  <tbody>\n    <tr>\n      <th>100001</th>\n      <td>3.500000</td>\n      <td>26000.000000</td>\n      <td>7500.000000</td>\n    </tr>\n    <tr>\n      <th>100008</th>\n      <td>5.000000</td>\n      <td>26000.000000</td>\n      <td>5200.000000</td>\n    </tr>\n    <tr>\n      <th>100032</th>\n      <td>2.666667</td>\n      <td>20666.666667</td>\n      <td>9366.666667</td>\n    </tr>\n    <tr>\n      <th>100036</th>\n      <td>3.000000</td>\n      <td>25800.000000</td>\n      <td>13273.333333</td>\n    </tr>\n    <tr>\n      <th>100070</th>\n      <td>3.250000</td>\n      <td>21250.000000</td>\n      <td>8537.500000</td>\n    </tr>\n    <tr>\n      <th>...</th>\n      <td>...</td>\n      <td>...</td>\n      <td>...</td>\n    </tr>\n    <tr>\n      <th>999932</th>\n      <td>5.000000</td>\n      <td>32000.000000</td>\n      <td>6400.000000</td>\n    </tr>\n    <tr>\n      <th>999981</th>\n      <td>2.000000</td>\n      <td>22750.000000</td>\n      <td>12875.000000</td>\n    </tr>\n    <tr>\n      <th>999990</th>\n      <td>3.000000</td>\n      <td>28000.000000</td>\n      <td>10388.888889</td>\n    </tr>\n    <tr>\n      <th>999995</th>\n      <td>2.000000</td>\n      <td>27000.000000</td>\n      <td>13500.000000</td>\n    </tr>\n    <tr>\n      <th>999997</th>\n      <td>2.000000</td>\n      <td>13000.000000</td>\n      <td>6500.000000</td>\n    </tr>\n  </tbody>\n</table>\n<p>64000 rows × 3 columns</p>\n</div>"
     },
     "execution_count": 65,
     "metadata": {},
     "output_type": "execute_result"
    }
   ],
   "source": [
    "tran_mean"
   ],
   "metadata": {
    "collapsed": false,
    "ExecuteTime": {
     "start_time": "2023-05-08T11:47:47.906899Z",
     "end_time": "2023-05-08T11:47:48.017978Z"
    }
   }
  },
  {
   "cell_type": "code",
   "execution_count": 66,
   "outputs": [],
   "source": [
    "tran_cnt = tran[\"id\"].value_counts()"
   ],
   "metadata": {
    "collapsed": false,
    "ExecuteTime": {
     "start_time": "2023-05-08T11:48:19.292667Z",
     "end_time": "2023-05-08T11:48:19.370898Z"
    }
   }
  },
  {
   "cell_type": "code",
   "execution_count": 67,
   "outputs": [
    {
     "data": {
      "text/plain": "691067    5\n720147    5\n422265    5\n670720    5\n154620    5\n         ..\n881780    1\n154471    1\n480462    1\n126129    1\n156423    1\nName: id, Length: 64000, dtype: int64"
     },
     "execution_count": 67,
     "metadata": {},
     "output_type": "execute_result"
    }
   ],
   "source": [
    "tran_cnt"
   ],
   "metadata": {
    "collapsed": false,
    "ExecuteTime": {
     "start_time": "2023-05-08T11:48:24.698655Z",
     "end_time": "2023-05-08T11:48:24.751779Z"
    }
   }
  },
  {
   "cell_type": "code",
   "execution_count": 68,
   "outputs": [],
   "source": [
    "tran_df = pd.concat([tran_mean, tran_cnt], axis=1)"
   ],
   "metadata": {
    "collapsed": false,
    "ExecuteTime": {
     "start_time": "2023-05-08T11:49:27.292600Z",
     "end_time": "2023-05-08T11:49:27.386471Z"
    }
   }
  },
  {
   "cell_type": "code",
   "execution_count": 69,
   "outputs": [
    {
     "data": {
      "text/plain": "        num_item  total_amount     avg_price  id\n100001  3.500000  26000.000000   7500.000000   2\n100008  5.000000  26000.000000   5200.000000   1\n100032  2.666667  20666.666667   9366.666667   3\n100036  3.000000  25800.000000  13273.333333   5\n100070  3.250000  21250.000000   8537.500000   4\n...          ...           ...           ...  ..\n999932  5.000000  32000.000000   6400.000000   1\n999981  2.000000  22750.000000  12875.000000   4\n999990  3.000000  28000.000000  10388.888889   3\n999995  2.000000  27000.000000  13500.000000   1\n999997  2.000000  13000.000000   6500.000000   1\n\n[64000 rows x 4 columns]",
      "text/html": "<div>\n<style scoped>\n    .dataframe tbody tr th:only-of-type {\n        vertical-align: middle;\n    }\n\n    .dataframe tbody tr th {\n        vertical-align: top;\n    }\n\n    .dataframe thead th {\n        text-align: right;\n    }\n</style>\n<table border=\"1\" class=\"dataframe\">\n  <thead>\n    <tr style=\"text-align: right;\">\n      <th></th>\n      <th>num_item</th>\n      <th>total_amount</th>\n      <th>avg_price</th>\n      <th>id</th>\n    </tr>\n  </thead>\n  <tbody>\n    <tr>\n      <th>100001</th>\n      <td>3.500000</td>\n      <td>26000.000000</td>\n      <td>7500.000000</td>\n      <td>2</td>\n    </tr>\n    <tr>\n      <th>100008</th>\n      <td>5.000000</td>\n      <td>26000.000000</td>\n      <td>5200.000000</td>\n      <td>1</td>\n    </tr>\n    <tr>\n      <th>100032</th>\n      <td>2.666667</td>\n      <td>20666.666667</td>\n      <td>9366.666667</td>\n      <td>3</td>\n    </tr>\n    <tr>\n      <th>100036</th>\n      <td>3.000000</td>\n      <td>25800.000000</td>\n      <td>13273.333333</td>\n      <td>5</td>\n    </tr>\n    <tr>\n      <th>100070</th>\n      <td>3.250000</td>\n      <td>21250.000000</td>\n      <td>8537.500000</td>\n      <td>4</td>\n    </tr>\n    <tr>\n      <th>...</th>\n      <td>...</td>\n      <td>...</td>\n      <td>...</td>\n      <td>...</td>\n    </tr>\n    <tr>\n      <th>999932</th>\n      <td>5.000000</td>\n      <td>32000.000000</td>\n      <td>6400.000000</td>\n      <td>1</td>\n    </tr>\n    <tr>\n      <th>999981</th>\n      <td>2.000000</td>\n      <td>22750.000000</td>\n      <td>12875.000000</td>\n      <td>4</td>\n    </tr>\n    <tr>\n      <th>999990</th>\n      <td>3.000000</td>\n      <td>28000.000000</td>\n      <td>10388.888889</td>\n      <td>3</td>\n    </tr>\n    <tr>\n      <th>999995</th>\n      <td>2.000000</td>\n      <td>27000.000000</td>\n      <td>13500.000000</td>\n      <td>1</td>\n    </tr>\n    <tr>\n      <th>999997</th>\n      <td>2.000000</td>\n      <td>13000.000000</td>\n      <td>6500.000000</td>\n      <td>1</td>\n    </tr>\n  </tbody>\n</table>\n<p>64000 rows × 4 columns</p>\n</div>"
     },
     "execution_count": 69,
     "metadata": {},
     "output_type": "execute_result"
    }
   ],
   "source": [
    "tran_df"
   ],
   "metadata": {
    "collapsed": false,
    "ExecuteTime": {
     "start_time": "2023-05-08T11:49:30.015447Z",
     "end_time": "2023-05-08T11:49:30.124822Z"
    }
   }
  },
  {
   "cell_type": "code",
   "execution_count": 70,
   "outputs": [
    {
     "data": {
      "text/plain": "Index(['num_item', 'total_amount', 'avg_price', 'id'], dtype='object')"
     },
     "execution_count": 70,
     "metadata": {},
     "output_type": "execute_result"
    }
   ],
   "source": [
    "tran_df.columns"
   ],
   "metadata": {
    "collapsed": false,
    "ExecuteTime": {
     "start_time": "2023-05-08T11:49:53.540931Z",
     "end_time": "2023-05-08T11:49:53.650331Z"
    }
   }
  },
  {
   "cell_type": "code",
   "execution_count": 71,
   "outputs": [],
   "source": [
    "tran_df.columns = ['num_item', 'total_amount', 'avg_price', 'count']"
   ],
   "metadata": {
    "collapsed": false,
    "ExecuteTime": {
     "start_time": "2023-05-08T11:50:33.518876Z",
     "end_time": "2023-05-08T11:50:33.550159Z"
    }
   }
  },
  {
   "cell_type": "code",
   "execution_count": 72,
   "outputs": [
    {
     "data": {
      "text/plain": "        num_item  total_amount     avg_price  count\n100001  3.500000  26000.000000   7500.000000      2\n100008  5.000000  26000.000000   5200.000000      1\n100032  2.666667  20666.666667   9366.666667      3\n100036  3.000000  25800.000000  13273.333333      5\n100070  3.250000  21250.000000   8537.500000      4\n...          ...           ...           ...    ...\n999932  5.000000  32000.000000   6400.000000      1\n999981  2.000000  22750.000000  12875.000000      4\n999990  3.000000  28000.000000  10388.888889      3\n999995  2.000000  27000.000000  13500.000000      1\n999997  2.000000  13000.000000   6500.000000      1\n\n[64000 rows x 4 columns]",
      "text/html": "<div>\n<style scoped>\n    .dataframe tbody tr th:only-of-type {\n        vertical-align: middle;\n    }\n\n    .dataframe tbody tr th {\n        vertical-align: top;\n    }\n\n    .dataframe thead th {\n        text-align: right;\n    }\n</style>\n<table border=\"1\" class=\"dataframe\">\n  <thead>\n    <tr style=\"text-align: right;\">\n      <th></th>\n      <th>num_item</th>\n      <th>total_amount</th>\n      <th>avg_price</th>\n      <th>count</th>\n    </tr>\n  </thead>\n  <tbody>\n    <tr>\n      <th>100001</th>\n      <td>3.500000</td>\n      <td>26000.000000</td>\n      <td>7500.000000</td>\n      <td>2</td>\n    </tr>\n    <tr>\n      <th>100008</th>\n      <td>5.000000</td>\n      <td>26000.000000</td>\n      <td>5200.000000</td>\n      <td>1</td>\n    </tr>\n    <tr>\n      <th>100032</th>\n      <td>2.666667</td>\n      <td>20666.666667</td>\n      <td>9366.666667</td>\n      <td>3</td>\n    </tr>\n    <tr>\n      <th>100036</th>\n      <td>3.000000</td>\n      <td>25800.000000</td>\n      <td>13273.333333</td>\n      <td>5</td>\n    </tr>\n    <tr>\n      <th>100070</th>\n      <td>3.250000</td>\n      <td>21250.000000</td>\n      <td>8537.500000</td>\n      <td>4</td>\n    </tr>\n    <tr>\n      <th>...</th>\n      <td>...</td>\n      <td>...</td>\n      <td>...</td>\n      <td>...</td>\n    </tr>\n    <tr>\n      <th>999932</th>\n      <td>5.000000</td>\n      <td>32000.000000</td>\n      <td>6400.000000</td>\n      <td>1</td>\n    </tr>\n    <tr>\n      <th>999981</th>\n      <td>2.000000</td>\n      <td>22750.000000</td>\n      <td>12875.000000</td>\n      <td>4</td>\n    </tr>\n    <tr>\n      <th>999990</th>\n      <td>3.000000</td>\n      <td>28000.000000</td>\n      <td>10388.888889</td>\n      <td>3</td>\n    </tr>\n    <tr>\n      <th>999995</th>\n      <td>2.000000</td>\n      <td>27000.000000</td>\n      <td>13500.000000</td>\n      <td>1</td>\n    </tr>\n    <tr>\n      <th>999997</th>\n      <td>2.000000</td>\n      <td>13000.000000</td>\n      <td>6500.000000</td>\n      <td>1</td>\n    </tr>\n  </tbody>\n</table>\n<p>64000 rows × 4 columns</p>\n</div>"
     },
     "execution_count": 72,
     "metadata": {},
     "output_type": "execute_result"
    }
   ],
   "source": [
    "tran_df"
   ],
   "metadata": {
    "collapsed": false,
    "ExecuteTime": {
     "start_time": "2023-05-08T11:50:37.051661Z",
     "end_time": "2023-05-08T11:50:37.145433Z"
    }
   }
  },
  {
   "cell_type": "code",
   "execution_count": 74,
   "outputs": [
    {
     "data": {
      "text/plain": "           id  recency  zip_code  is_referral       channel  conversion\n0      906145       10  Suburban            0         Phone           0\n1      184478        6     Rural            1           Web           0\n2      394235        7  Suburban            1           Web           0\n3      130152        9     Rural            1           Web           0\n4      940352        2     Urban            0           Web           0\n...       ...      ...       ...          ...           ...         ...\n63995  838295       10     Urban            0           Web           0\n63996  547316        5     Urban            1         Phone           0\n63997  131575        6     Urban            1         Phone           0\n63998  603659        1  Suburban            1  Multichannel           0\n63999  254229        1  Suburban            0           Web           0\n\n[64000 rows x 6 columns]",
      "text/html": "<div>\n<style scoped>\n    .dataframe tbody tr th:only-of-type {\n        vertical-align: middle;\n    }\n\n    .dataframe tbody tr th {\n        vertical-align: top;\n    }\n\n    .dataframe thead th {\n        text-align: right;\n    }\n</style>\n<table border=\"1\" class=\"dataframe\">\n  <thead>\n    <tr style=\"text-align: right;\">\n      <th></th>\n      <th>id</th>\n      <th>recency</th>\n      <th>zip_code</th>\n      <th>is_referral</th>\n      <th>channel</th>\n      <th>conversion</th>\n    </tr>\n  </thead>\n  <tbody>\n    <tr>\n      <th>0</th>\n      <td>906145</td>\n      <td>10</td>\n      <td>Suburban</td>\n      <td>0</td>\n      <td>Phone</td>\n      <td>0</td>\n    </tr>\n    <tr>\n      <th>1</th>\n      <td>184478</td>\n      <td>6</td>\n      <td>Rural</td>\n      <td>1</td>\n      <td>Web</td>\n      <td>0</td>\n    </tr>\n    <tr>\n      <th>2</th>\n      <td>394235</td>\n      <td>7</td>\n      <td>Suburban</td>\n      <td>1</td>\n      <td>Web</td>\n      <td>0</td>\n    </tr>\n    <tr>\n      <th>3</th>\n      <td>130152</td>\n      <td>9</td>\n      <td>Rural</td>\n      <td>1</td>\n      <td>Web</td>\n      <td>0</td>\n    </tr>\n    <tr>\n      <th>4</th>\n      <td>940352</td>\n      <td>2</td>\n      <td>Urban</td>\n      <td>0</td>\n      <td>Web</td>\n      <td>0</td>\n    </tr>\n    <tr>\n      <th>...</th>\n      <td>...</td>\n      <td>...</td>\n      <td>...</td>\n      <td>...</td>\n      <td>...</td>\n      <td>...</td>\n    </tr>\n    <tr>\n      <th>63995</th>\n      <td>838295</td>\n      <td>10</td>\n      <td>Urban</td>\n      <td>0</td>\n      <td>Web</td>\n      <td>0</td>\n    </tr>\n    <tr>\n      <th>63996</th>\n      <td>547316</td>\n      <td>5</td>\n      <td>Urban</td>\n      <td>1</td>\n      <td>Phone</td>\n      <td>0</td>\n    </tr>\n    <tr>\n      <th>63997</th>\n      <td>131575</td>\n      <td>6</td>\n      <td>Urban</td>\n      <td>1</td>\n      <td>Phone</td>\n      <td>0</td>\n    </tr>\n    <tr>\n      <th>63998</th>\n      <td>603659</td>\n      <td>1</td>\n      <td>Suburban</td>\n      <td>1</td>\n      <td>Multichannel</td>\n      <td>0</td>\n    </tr>\n    <tr>\n      <th>63999</th>\n      <td>254229</td>\n      <td>1</td>\n      <td>Suburban</td>\n      <td>0</td>\n      <td>Web</td>\n      <td>0</td>\n    </tr>\n  </tbody>\n</table>\n<p>64000 rows × 6 columns</p>\n</div>"
     },
     "execution_count": 74,
     "metadata": {},
     "output_type": "execute_result"
    }
   ],
   "source": [
    "mem"
   ],
   "metadata": {
    "collapsed": false,
    "ExecuteTime": {
     "start_time": "2023-05-08T12:03:01.234441Z",
     "end_time": "2023-05-08T12:03:01.328191Z"
    }
   }
  },
  {
   "cell_type": "code",
   "execution_count": 75,
   "outputs": [
    {
     "data": {
      "text/plain": "        recency  zip_code  is_referral       channel  conversion\nid                                                              \n906145       10  Suburban            0         Phone           0\n184478        6     Rural            1           Web           0\n394235        7  Suburban            1           Web           0\n130152        9     Rural            1           Web           0\n940352        2     Urban            0           Web           0\n...         ...       ...          ...           ...         ...\n838295       10     Urban            0           Web           0\n547316        5     Urban            1         Phone           0\n131575        6     Urban            1         Phone           0\n603659        1  Suburban            1  Multichannel           0\n254229        1  Suburban            0           Web           0\n\n[64000 rows x 5 columns]",
      "text/html": "<div>\n<style scoped>\n    .dataframe tbody tr th:only-of-type {\n        vertical-align: middle;\n    }\n\n    .dataframe tbody tr th {\n        vertical-align: top;\n    }\n\n    .dataframe thead th {\n        text-align: right;\n    }\n</style>\n<table border=\"1\" class=\"dataframe\">\n  <thead>\n    <tr style=\"text-align: right;\">\n      <th></th>\n      <th>recency</th>\n      <th>zip_code</th>\n      <th>is_referral</th>\n      <th>channel</th>\n      <th>conversion</th>\n    </tr>\n    <tr>\n      <th>id</th>\n      <th></th>\n      <th></th>\n      <th></th>\n      <th></th>\n      <th></th>\n    </tr>\n  </thead>\n  <tbody>\n    <tr>\n      <th>906145</th>\n      <td>10</td>\n      <td>Suburban</td>\n      <td>0</td>\n      <td>Phone</td>\n      <td>0</td>\n    </tr>\n    <tr>\n      <th>184478</th>\n      <td>6</td>\n      <td>Rural</td>\n      <td>1</td>\n      <td>Web</td>\n      <td>0</td>\n    </tr>\n    <tr>\n      <th>394235</th>\n      <td>7</td>\n      <td>Suburban</td>\n      <td>1</td>\n      <td>Web</td>\n      <td>0</td>\n    </tr>\n    <tr>\n      <th>130152</th>\n      <td>9</td>\n      <td>Rural</td>\n      <td>1</td>\n      <td>Web</td>\n      <td>0</td>\n    </tr>\n    <tr>\n      <th>940352</th>\n      <td>2</td>\n      <td>Urban</td>\n      <td>0</td>\n      <td>Web</td>\n      <td>0</td>\n    </tr>\n    <tr>\n      <th>...</th>\n      <td>...</td>\n      <td>...</td>\n      <td>...</td>\n      <td>...</td>\n      <td>...</td>\n    </tr>\n    <tr>\n      <th>838295</th>\n      <td>10</td>\n      <td>Urban</td>\n      <td>0</td>\n      <td>Web</td>\n      <td>0</td>\n    </tr>\n    <tr>\n      <th>547316</th>\n      <td>5</td>\n      <td>Urban</td>\n      <td>1</td>\n      <td>Phone</td>\n      <td>0</td>\n    </tr>\n    <tr>\n      <th>131575</th>\n      <td>6</td>\n      <td>Urban</td>\n      <td>1</td>\n      <td>Phone</td>\n      <td>0</td>\n    </tr>\n    <tr>\n      <th>603659</th>\n      <td>1</td>\n      <td>Suburban</td>\n      <td>1</td>\n      <td>Multichannel</td>\n      <td>0</td>\n    </tr>\n    <tr>\n      <th>254229</th>\n      <td>1</td>\n      <td>Suburban</td>\n      <td>0</td>\n      <td>Web</td>\n      <td>0</td>\n    </tr>\n  </tbody>\n</table>\n<p>64000 rows × 5 columns</p>\n</div>"
     },
     "execution_count": 75,
     "metadata": {},
     "output_type": "execute_result"
    }
   ],
   "source": [
    "mem.set_index(\"id\", inplace=True)\n",
    "mem"
   ],
   "metadata": {
    "collapsed": false,
    "ExecuteTime": {
     "start_time": "2023-05-08T12:03:48.111695Z",
     "end_time": "2023-05-08T12:03:48.191591Z"
    }
   }
  },
  {
   "cell_type": "code",
   "execution_count": 77,
   "outputs": [],
   "source": [
    "df = mem.join(tran_df)"
   ],
   "metadata": {
    "collapsed": false,
    "ExecuteTime": {
     "start_time": "2023-05-08T12:04:49.412934Z",
     "end_time": "2023-05-08T12:04:49.491167Z"
    }
   }
  },
  {
   "cell_type": "code",
   "execution_count": 78,
   "outputs": [
    {
     "data": {
      "text/plain": "        recency  zip_code  is_referral       channel  conversion  num_item  \\\nid                                                                           \n906145       10  Suburban            0         Phone           0  3.333333   \n184478        6     Rural            1           Web           0  4.000000   \n394235        7  Suburban            1           Web           0  4.000000   \n130152        9     Rural            1           Web           0  1.750000   \n940352        2     Urban            0           Web           0  3.000000   \n...         ...       ...          ...           ...         ...       ...   \n838295       10     Urban            0           Web           0  3.500000   \n547316        5     Urban            1         Phone           0  1.800000   \n131575        6     Urban            1         Phone           0  4.000000   \n603659        1  Suburban            1  Multichannel           0  3.200000   \n254229        1  Suburban            0           Web           0  3.400000   \n\n        total_amount     avg_price  count  \nid                                         \n906145  31333.333333  14016.666667      3  \n184478  29000.000000   7250.000000      1  \n394235  20500.000000   5125.000000      2  \n130152  20750.000000  14875.000000      4  \n940352  31000.000000  10333.333333      1  \n...              ...           ...    ...  \n838295  26000.000000   8012.500000      4  \n547316  17800.000000  11300.000000      5  \n131575  30500.000000   7833.333333      2  \n603659  21600.000000   7583.333333      5  \n254229  24400.000000   9280.000000      5  \n\n[64000 rows x 9 columns]",
      "text/html": "<div>\n<style scoped>\n    .dataframe tbody tr th:only-of-type {\n        vertical-align: middle;\n    }\n\n    .dataframe tbody tr th {\n        vertical-align: top;\n    }\n\n    .dataframe thead th {\n        text-align: right;\n    }\n</style>\n<table border=\"1\" class=\"dataframe\">\n  <thead>\n    <tr style=\"text-align: right;\">\n      <th></th>\n      <th>recency</th>\n      <th>zip_code</th>\n      <th>is_referral</th>\n      <th>channel</th>\n      <th>conversion</th>\n      <th>num_item</th>\n      <th>total_amount</th>\n      <th>avg_price</th>\n      <th>count</th>\n    </tr>\n    <tr>\n      <th>id</th>\n      <th></th>\n      <th></th>\n      <th></th>\n      <th></th>\n      <th></th>\n      <th></th>\n      <th></th>\n      <th></th>\n      <th></th>\n    </tr>\n  </thead>\n  <tbody>\n    <tr>\n      <th>906145</th>\n      <td>10</td>\n      <td>Suburban</td>\n      <td>0</td>\n      <td>Phone</td>\n      <td>0</td>\n      <td>3.333333</td>\n      <td>31333.333333</td>\n      <td>14016.666667</td>\n      <td>3</td>\n    </tr>\n    <tr>\n      <th>184478</th>\n      <td>6</td>\n      <td>Rural</td>\n      <td>1</td>\n      <td>Web</td>\n      <td>0</td>\n      <td>4.000000</td>\n      <td>29000.000000</td>\n      <td>7250.000000</td>\n      <td>1</td>\n    </tr>\n    <tr>\n      <th>394235</th>\n      <td>7</td>\n      <td>Suburban</td>\n      <td>1</td>\n      <td>Web</td>\n      <td>0</td>\n      <td>4.000000</td>\n      <td>20500.000000</td>\n      <td>5125.000000</td>\n      <td>2</td>\n    </tr>\n    <tr>\n      <th>130152</th>\n      <td>9</td>\n      <td>Rural</td>\n      <td>1</td>\n      <td>Web</td>\n      <td>0</td>\n      <td>1.750000</td>\n      <td>20750.000000</td>\n      <td>14875.000000</td>\n      <td>4</td>\n    </tr>\n    <tr>\n      <th>940352</th>\n      <td>2</td>\n      <td>Urban</td>\n      <td>0</td>\n      <td>Web</td>\n      <td>0</td>\n      <td>3.000000</td>\n      <td>31000.000000</td>\n      <td>10333.333333</td>\n      <td>1</td>\n    </tr>\n    <tr>\n      <th>...</th>\n      <td>...</td>\n      <td>...</td>\n      <td>...</td>\n      <td>...</td>\n      <td>...</td>\n      <td>...</td>\n      <td>...</td>\n      <td>...</td>\n      <td>...</td>\n    </tr>\n    <tr>\n      <th>838295</th>\n      <td>10</td>\n      <td>Urban</td>\n      <td>0</td>\n      <td>Web</td>\n      <td>0</td>\n      <td>3.500000</td>\n      <td>26000.000000</td>\n      <td>8012.500000</td>\n      <td>4</td>\n    </tr>\n    <tr>\n      <th>547316</th>\n      <td>5</td>\n      <td>Urban</td>\n      <td>1</td>\n      <td>Phone</td>\n      <td>0</td>\n      <td>1.800000</td>\n      <td>17800.000000</td>\n      <td>11300.000000</td>\n      <td>5</td>\n    </tr>\n    <tr>\n      <th>131575</th>\n      <td>6</td>\n      <td>Urban</td>\n      <td>1</td>\n      <td>Phone</td>\n      <td>0</td>\n      <td>4.000000</td>\n      <td>30500.000000</td>\n      <td>7833.333333</td>\n      <td>2</td>\n    </tr>\n    <tr>\n      <th>603659</th>\n      <td>1</td>\n      <td>Suburban</td>\n      <td>1</td>\n      <td>Multichannel</td>\n      <td>0</td>\n      <td>3.200000</td>\n      <td>21600.000000</td>\n      <td>7583.333333</td>\n      <td>5</td>\n    </tr>\n    <tr>\n      <th>254229</th>\n      <td>1</td>\n      <td>Suburban</td>\n      <td>0</td>\n      <td>Web</td>\n      <td>0</td>\n      <td>3.400000</td>\n      <td>24400.000000</td>\n      <td>9280.000000</td>\n      <td>5</td>\n    </tr>\n  </tbody>\n</table>\n<p>64000 rows × 9 columns</p>\n</div>"
     },
     "execution_count": 78,
     "metadata": {},
     "output_type": "execute_result"
    }
   ],
   "source": [
    "df"
   ],
   "metadata": {
    "collapsed": false,
    "ExecuteTime": {
     "start_time": "2023-05-08T12:04:52.827248Z",
     "end_time": "2023-05-08T12:04:52.927697Z"
    }
   }
  },
  {
   "cell_type": "code",
   "execution_count": 80,
   "outputs": [],
   "source": [
    "index = pd.DataFrame(df.index)"
   ],
   "metadata": {
    "collapsed": false,
    "ExecuteTime": {
     "start_time": "2023-05-08T12:05:49.809543Z",
     "end_time": "2023-05-08T12:05:49.840897Z"
    }
   }
  },
  {
   "cell_type": "code",
   "execution_count": 81,
   "outputs": [
    {
     "data": {
      "text/plain": "id    \n100001    1\n700201    1\n699949    1\n699958    1\n699971    1\n         ..\n400704    1\n400724    1\n400752    1\n400770    1\n999997    1\nLength: 64000, dtype: int64"
     },
     "execution_count": 81,
     "metadata": {},
     "output_type": "execute_result"
    }
   ],
   "source": [
    "index.value_counts()"
   ],
   "metadata": {
    "collapsed": false,
    "ExecuteTime": {
     "start_time": "2023-05-08T12:06:29.420464Z",
     "end_time": "2023-05-08T12:06:29.519267Z"
    }
   }
  },
  {
   "cell_type": "code",
   "execution_count": 82,
   "outputs": [
    {
     "data": {
      "text/plain": "        recency  zip_code  is_referral       channel  conversion  num_item  \\\nid                                                                           \n906145       10  Suburban            0         Phone           0  3.333333   \n184478        6     Rural            1           Web           0  4.000000   \n394235        7  Suburban            1           Web           0  4.000000   \n130152        9     Rural            1           Web           0  1.750000   \n940352        2     Urban            0           Web           0  3.000000   \n...         ...       ...          ...           ...         ...       ...   \n838295       10     Urban            0           Web           0  3.500000   \n547316        5     Urban            1         Phone           0  1.800000   \n131575        6     Urban            1         Phone           0  4.000000   \n603659        1  Suburban            1  Multichannel           0  3.200000   \n254229        1  Suburban            0           Web           0  3.400000   \n\n        total_amount     avg_price  count  \nid                                         \n906145  31333.333333  14016.666667      3  \n184478  29000.000000   7250.000000      1  \n394235  20500.000000   5125.000000      2  \n130152  20750.000000  14875.000000      4  \n940352  31000.000000  10333.333333      1  \n...              ...           ...    ...  \n838295  26000.000000   8012.500000      4  \n547316  17800.000000  11300.000000      5  \n131575  30500.000000   7833.333333      2  \n603659  21600.000000   7583.333333      5  \n254229  24400.000000   9280.000000      5  \n\n[64000 rows x 9 columns]",
      "text/html": "<div>\n<style scoped>\n    .dataframe tbody tr th:only-of-type {\n        vertical-align: middle;\n    }\n\n    .dataframe tbody tr th {\n        vertical-align: top;\n    }\n\n    .dataframe thead th {\n        text-align: right;\n    }\n</style>\n<table border=\"1\" class=\"dataframe\">\n  <thead>\n    <tr style=\"text-align: right;\">\n      <th></th>\n      <th>recency</th>\n      <th>zip_code</th>\n      <th>is_referral</th>\n      <th>channel</th>\n      <th>conversion</th>\n      <th>num_item</th>\n      <th>total_amount</th>\n      <th>avg_price</th>\n      <th>count</th>\n    </tr>\n    <tr>\n      <th>id</th>\n      <th></th>\n      <th></th>\n      <th></th>\n      <th></th>\n      <th></th>\n      <th></th>\n      <th></th>\n      <th></th>\n      <th></th>\n    </tr>\n  </thead>\n  <tbody>\n    <tr>\n      <th>906145</th>\n      <td>10</td>\n      <td>Suburban</td>\n      <td>0</td>\n      <td>Phone</td>\n      <td>0</td>\n      <td>3.333333</td>\n      <td>31333.333333</td>\n      <td>14016.666667</td>\n      <td>3</td>\n    </tr>\n    <tr>\n      <th>184478</th>\n      <td>6</td>\n      <td>Rural</td>\n      <td>1</td>\n      <td>Web</td>\n      <td>0</td>\n      <td>4.000000</td>\n      <td>29000.000000</td>\n      <td>7250.000000</td>\n      <td>1</td>\n    </tr>\n    <tr>\n      <th>394235</th>\n      <td>7</td>\n      <td>Suburban</td>\n      <td>1</td>\n      <td>Web</td>\n      <td>0</td>\n      <td>4.000000</td>\n      <td>20500.000000</td>\n      <td>5125.000000</td>\n      <td>2</td>\n    </tr>\n    <tr>\n      <th>130152</th>\n      <td>9</td>\n      <td>Rural</td>\n      <td>1</td>\n      <td>Web</td>\n      <td>0</td>\n      <td>1.750000</td>\n      <td>20750.000000</td>\n      <td>14875.000000</td>\n      <td>4</td>\n    </tr>\n    <tr>\n      <th>940352</th>\n      <td>2</td>\n      <td>Urban</td>\n      <td>0</td>\n      <td>Web</td>\n      <td>0</td>\n      <td>3.000000</td>\n      <td>31000.000000</td>\n      <td>10333.333333</td>\n      <td>1</td>\n    </tr>\n    <tr>\n      <th>...</th>\n      <td>...</td>\n      <td>...</td>\n      <td>...</td>\n      <td>...</td>\n      <td>...</td>\n      <td>...</td>\n      <td>...</td>\n      <td>...</td>\n      <td>...</td>\n    </tr>\n    <tr>\n      <th>838295</th>\n      <td>10</td>\n      <td>Urban</td>\n      <td>0</td>\n      <td>Web</td>\n      <td>0</td>\n      <td>3.500000</td>\n      <td>26000.000000</td>\n      <td>8012.500000</td>\n      <td>4</td>\n    </tr>\n    <tr>\n      <th>547316</th>\n      <td>5</td>\n      <td>Urban</td>\n      <td>1</td>\n      <td>Phone</td>\n      <td>0</td>\n      <td>1.800000</td>\n      <td>17800.000000</td>\n      <td>11300.000000</td>\n      <td>5</td>\n    </tr>\n    <tr>\n      <th>131575</th>\n      <td>6</td>\n      <td>Urban</td>\n      <td>1</td>\n      <td>Phone</td>\n      <td>0</td>\n      <td>4.000000</td>\n      <td>30500.000000</td>\n      <td>7833.333333</td>\n      <td>2</td>\n    </tr>\n    <tr>\n      <th>603659</th>\n      <td>1</td>\n      <td>Suburban</td>\n      <td>1</td>\n      <td>Multichannel</td>\n      <td>0</td>\n      <td>3.200000</td>\n      <td>21600.000000</td>\n      <td>7583.333333</td>\n      <td>5</td>\n    </tr>\n    <tr>\n      <th>254229</th>\n      <td>1</td>\n      <td>Suburban</td>\n      <td>0</td>\n      <td>Web</td>\n      <td>0</td>\n      <td>3.400000</td>\n      <td>24400.000000</td>\n      <td>9280.000000</td>\n      <td>5</td>\n    </tr>\n  </tbody>\n</table>\n<p>64000 rows × 9 columns</p>\n</div>"
     },
     "execution_count": 82,
     "metadata": {},
     "output_type": "execute_result"
    }
   ],
   "source": [
    "df"
   ],
   "metadata": {
    "collapsed": false,
    "ExecuteTime": {
     "start_time": "2023-05-08T12:06:41.650355Z",
     "end_time": "2023-05-08T12:06:41.759683Z"
    }
   }
  },
  {
   "cell_type": "code",
   "execution_count": 84,
   "outputs": [
    {
     "data": {
      "text/plain": "recency         0\nzip_code        0\nis_referral     0\nchannel         0\nconversion      0\nnum_item        0\ntotal_amount    0\navg_price       0\ncount           0\ndtype: int64"
     },
     "execution_count": 84,
     "metadata": {},
     "output_type": "execute_result"
    }
   ],
   "source": [
    "df.isna().sum()"
   ],
   "metadata": {
    "collapsed": false,
    "ExecuteTime": {
     "start_time": "2023-05-08T12:07:50.093830Z",
     "end_time": "2023-05-08T12:07:50.140728Z"
    }
   }
  },
  {
   "cell_type": "code",
   "execution_count": 85,
   "outputs": [
    {
     "data": {
      "text/plain": "        recency  zip_code  is_referral channel  conversion  num_item  \\\nid                                                                     \n906145       10  Suburban            0   Phone           0  3.333333   \n184478        6     Rural            1     Web           0  4.000000   \n394235        7  Suburban            1     Web           0  4.000000   \n130152        9     Rural            1     Web           0  1.750000   \n940352        2     Urban            0     Web           0  3.000000   \n\n        total_amount     avg_price  count  \nid                                         \n906145  31333.333333  14016.666667      3  \n184478  29000.000000   7250.000000      1  \n394235  20500.000000   5125.000000      2  \n130152  20750.000000  14875.000000      4  \n940352  31000.000000  10333.333333      1  ",
      "text/html": "<div>\n<style scoped>\n    .dataframe tbody tr th:only-of-type {\n        vertical-align: middle;\n    }\n\n    .dataframe tbody tr th {\n        vertical-align: top;\n    }\n\n    .dataframe thead th {\n        text-align: right;\n    }\n</style>\n<table border=\"1\" class=\"dataframe\">\n  <thead>\n    <tr style=\"text-align: right;\">\n      <th></th>\n      <th>recency</th>\n      <th>zip_code</th>\n      <th>is_referral</th>\n      <th>channel</th>\n      <th>conversion</th>\n      <th>num_item</th>\n      <th>total_amount</th>\n      <th>avg_price</th>\n      <th>count</th>\n    </tr>\n    <tr>\n      <th>id</th>\n      <th></th>\n      <th></th>\n      <th></th>\n      <th></th>\n      <th></th>\n      <th></th>\n      <th></th>\n      <th></th>\n      <th></th>\n    </tr>\n  </thead>\n  <tbody>\n    <tr>\n      <th>906145</th>\n      <td>10</td>\n      <td>Suburban</td>\n      <td>0</td>\n      <td>Phone</td>\n      <td>0</td>\n      <td>3.333333</td>\n      <td>31333.333333</td>\n      <td>14016.666667</td>\n      <td>3</td>\n    </tr>\n    <tr>\n      <th>184478</th>\n      <td>6</td>\n      <td>Rural</td>\n      <td>1</td>\n      <td>Web</td>\n      <td>0</td>\n      <td>4.000000</td>\n      <td>29000.000000</td>\n      <td>7250.000000</td>\n      <td>1</td>\n    </tr>\n    <tr>\n      <th>394235</th>\n      <td>7</td>\n      <td>Suburban</td>\n      <td>1</td>\n      <td>Web</td>\n      <td>0</td>\n      <td>4.000000</td>\n      <td>20500.000000</td>\n      <td>5125.000000</td>\n      <td>2</td>\n    </tr>\n    <tr>\n      <th>130152</th>\n      <td>9</td>\n      <td>Rural</td>\n      <td>1</td>\n      <td>Web</td>\n      <td>0</td>\n      <td>1.750000</td>\n      <td>20750.000000</td>\n      <td>14875.000000</td>\n      <td>4</td>\n    </tr>\n    <tr>\n      <th>940352</th>\n      <td>2</td>\n      <td>Urban</td>\n      <td>0</td>\n      <td>Web</td>\n      <td>0</td>\n      <td>3.000000</td>\n      <td>31000.000000</td>\n      <td>10333.333333</td>\n      <td>1</td>\n    </tr>\n  </tbody>\n</table>\n</div>"
     },
     "execution_count": 85,
     "metadata": {},
     "output_type": "execute_result"
    }
   ],
   "source": [
    "df.head()"
   ],
   "metadata": {
    "collapsed": false,
    "ExecuteTime": {
     "start_time": "2023-05-08T12:08:22.173552Z",
     "end_time": "2023-05-08T12:08:22.252146Z"
    }
   }
  },
  {
   "cell_type": "code",
   "execution_count": 86,
   "outputs": [
    {
     "data": {
      "text/plain": "array(['Suburban', 'Rural', 'Urban'], dtype=object)"
     },
     "execution_count": 86,
     "metadata": {},
     "output_type": "execute_result"
    }
   ],
   "source": [
    "df[\"zip_code\"].unique()"
   ],
   "metadata": {
    "collapsed": false,
    "ExecuteTime": {
     "start_time": "2023-05-08T12:09:05.209728Z",
     "end_time": "2023-05-08T12:09:05.240986Z"
    }
   }
  },
  {
   "cell_type": "code",
   "execution_count": 87,
   "outputs": [
    {
     "data": {
      "text/plain": "3"
     },
     "execution_count": 87,
     "metadata": {},
     "output_type": "execute_result"
    }
   ],
   "source": [
    "df[\"zip_code\"].nunique()"
   ],
   "metadata": {
    "collapsed": false,
    "ExecuteTime": {
     "start_time": "2023-05-08T12:09:25.048365Z",
     "end_time": "2023-05-08T12:09:25.206994Z"
    }
   }
  },
  {
   "cell_type": "code",
   "execution_count": 89,
   "outputs": [
    {
     "data": {
      "text/plain": "Suburban    28776\nUrban       25661\nRural        9563\nName: zip_code, dtype: int64"
     },
     "execution_count": 89,
     "metadata": {},
     "output_type": "execute_result"
    }
   ],
   "source": [
    "df[\"zip_code\"].value_counts()"
   ],
   "metadata": {
    "collapsed": false,
    "ExecuteTime": {
     "start_time": "2023-05-08T12:09:51.865408Z",
     "end_time": "2023-05-08T12:09:51.896661Z"
    }
   }
  },
  {
   "cell_type": "code",
   "execution_count": 90,
   "outputs": [
    {
     "data": {
      "text/plain": "array(['Phone', 'Web', 'Multichannel'], dtype=object)"
     },
     "execution_count": 90,
     "metadata": {},
     "output_type": "execute_result"
    }
   ],
   "source": [
    "df[\"channel\"].unique()"
   ],
   "metadata": {
    "collapsed": false,
    "ExecuteTime": {
     "start_time": "2023-05-08T12:10:28.956686Z",
     "end_time": "2023-05-08T12:10:29.034924Z"
    }
   }
  },
  {
   "cell_type": "code",
   "execution_count": 91,
   "outputs": [
    {
     "data": {
      "text/plain": "Web             28217\nPhone           28021\nMultichannel     7762\nName: channel, dtype: int64"
     },
     "execution_count": 91,
     "metadata": {},
     "output_type": "execute_result"
    }
   ],
   "source": [
    "df[\"channel\"].value_counts()"
   ],
   "metadata": {
    "collapsed": false,
    "ExecuteTime": {
     "start_time": "2023-05-08T12:10:47.324509Z",
     "end_time": "2023-05-08T12:10:47.387008Z"
    }
   }
  },
  {
   "cell_type": "code",
   "execution_count": 92,
   "outputs": [],
   "source": [
    "df = pd.get_dummies(df, columns=[\"zip_code\", \"channel\"])"
   ],
   "metadata": {
    "collapsed": false,
    "ExecuteTime": {
     "start_time": "2023-05-08T12:12:28.863143Z",
     "end_time": "2023-05-08T12:12:28.972522Z"
    }
   }
  },
  {
   "cell_type": "code",
   "execution_count": 93,
   "outputs": [
    {
     "data": {
      "text/plain": "        recency  is_referral  conversion  num_item  total_amount  \\\nid                                                                 \n906145       10            0           0  3.333333  31333.333333   \n184478        6            1           0  4.000000  29000.000000   \n394235        7            1           0  4.000000  20500.000000   \n130152        9            1           0  1.750000  20750.000000   \n940352        2            0           0  3.000000  31000.000000   \n...         ...          ...         ...       ...           ...   \n838295       10            0           0  3.500000  26000.000000   \n547316        5            1           0  1.800000  17800.000000   \n131575        6            1           0  4.000000  30500.000000   \n603659        1            1           0  3.200000  21600.000000   \n254229        1            0           0  3.400000  24400.000000   \n\n           avg_price  count  zip_code_Rural  zip_code_Suburban  \\\nid                                                               \n906145  14016.666667      3               0                  1   \n184478   7250.000000      1               1                  0   \n394235   5125.000000      2               0                  1   \n130152  14875.000000      4               1                  0   \n940352  10333.333333      1               0                  0   \n...              ...    ...             ...                ...   \n838295   8012.500000      4               0                  0   \n547316  11300.000000      5               0                  0   \n131575   7833.333333      2               0                  0   \n603659   7583.333333      5               0                  1   \n254229   9280.000000      5               0                  1   \n\n        zip_code_Urban  channel_Multichannel  channel_Phone  channel_Web  \nid                                                                        \n906145               0                     0              1            0  \n184478               0                     0              0            1  \n394235               0                     0              0            1  \n130152               0                     0              0            1  \n940352               1                     0              0            1  \n...                ...                   ...            ...          ...  \n838295               1                     0              0            1  \n547316               1                     0              1            0  \n131575               1                     0              1            0  \n603659               0                     1              0            0  \n254229               0                     0              0            1  \n\n[64000 rows x 13 columns]",
      "text/html": "<div>\n<style scoped>\n    .dataframe tbody tr th:only-of-type {\n        vertical-align: middle;\n    }\n\n    .dataframe tbody tr th {\n        vertical-align: top;\n    }\n\n    .dataframe thead th {\n        text-align: right;\n    }\n</style>\n<table border=\"1\" class=\"dataframe\">\n  <thead>\n    <tr style=\"text-align: right;\">\n      <th></th>\n      <th>recency</th>\n      <th>is_referral</th>\n      <th>conversion</th>\n      <th>num_item</th>\n      <th>total_amount</th>\n      <th>avg_price</th>\n      <th>count</th>\n      <th>zip_code_Rural</th>\n      <th>zip_code_Suburban</th>\n      <th>zip_code_Urban</th>\n      <th>channel_Multichannel</th>\n      <th>channel_Phone</th>\n      <th>channel_Web</th>\n    </tr>\n    <tr>\n      <th>id</th>\n      <th></th>\n      <th></th>\n      <th></th>\n      <th></th>\n      <th></th>\n      <th></th>\n      <th></th>\n      <th></th>\n      <th></th>\n      <th></th>\n      <th></th>\n      <th></th>\n      <th></th>\n    </tr>\n  </thead>\n  <tbody>\n    <tr>\n      <th>906145</th>\n      <td>10</td>\n      <td>0</td>\n      <td>0</td>\n      <td>3.333333</td>\n      <td>31333.333333</td>\n      <td>14016.666667</td>\n      <td>3</td>\n      <td>0</td>\n      <td>1</td>\n      <td>0</td>\n      <td>0</td>\n      <td>1</td>\n      <td>0</td>\n    </tr>\n    <tr>\n      <th>184478</th>\n      <td>6</td>\n      <td>1</td>\n      <td>0</td>\n      <td>4.000000</td>\n      <td>29000.000000</td>\n      <td>7250.000000</td>\n      <td>1</td>\n      <td>1</td>\n      <td>0</td>\n      <td>0</td>\n      <td>0</td>\n      <td>0</td>\n      <td>1</td>\n    </tr>\n    <tr>\n      <th>394235</th>\n      <td>7</td>\n      <td>1</td>\n      <td>0</td>\n      <td>4.000000</td>\n      <td>20500.000000</td>\n      <td>5125.000000</td>\n      <td>2</td>\n      <td>0</td>\n      <td>1</td>\n      <td>0</td>\n      <td>0</td>\n      <td>0</td>\n      <td>1</td>\n    </tr>\n    <tr>\n      <th>130152</th>\n      <td>9</td>\n      <td>1</td>\n      <td>0</td>\n      <td>1.750000</td>\n      <td>20750.000000</td>\n      <td>14875.000000</td>\n      <td>4</td>\n      <td>1</td>\n      <td>0</td>\n      <td>0</td>\n      <td>0</td>\n      <td>0</td>\n      <td>1</td>\n    </tr>\n    <tr>\n      <th>940352</th>\n      <td>2</td>\n      <td>0</td>\n      <td>0</td>\n      <td>3.000000</td>\n      <td>31000.000000</td>\n      <td>10333.333333</td>\n      <td>1</td>\n      <td>0</td>\n      <td>0</td>\n      <td>1</td>\n      <td>0</td>\n      <td>0</td>\n      <td>1</td>\n    </tr>\n    <tr>\n      <th>...</th>\n      <td>...</td>\n      <td>...</td>\n      <td>...</td>\n      <td>...</td>\n      <td>...</td>\n      <td>...</td>\n      <td>...</td>\n      <td>...</td>\n      <td>...</td>\n      <td>...</td>\n      <td>...</td>\n      <td>...</td>\n      <td>...</td>\n    </tr>\n    <tr>\n      <th>838295</th>\n      <td>10</td>\n      <td>0</td>\n      <td>0</td>\n      <td>3.500000</td>\n      <td>26000.000000</td>\n      <td>8012.500000</td>\n      <td>4</td>\n      <td>0</td>\n      <td>0</td>\n      <td>1</td>\n      <td>0</td>\n      <td>0</td>\n      <td>1</td>\n    </tr>\n    <tr>\n      <th>547316</th>\n      <td>5</td>\n      <td>1</td>\n      <td>0</td>\n      <td>1.800000</td>\n      <td>17800.000000</td>\n      <td>11300.000000</td>\n      <td>5</td>\n      <td>0</td>\n      <td>0</td>\n      <td>1</td>\n      <td>0</td>\n      <td>1</td>\n      <td>0</td>\n    </tr>\n    <tr>\n      <th>131575</th>\n      <td>6</td>\n      <td>1</td>\n      <td>0</td>\n      <td>4.000000</td>\n      <td>30500.000000</td>\n      <td>7833.333333</td>\n      <td>2</td>\n      <td>0</td>\n      <td>0</td>\n      <td>1</td>\n      <td>0</td>\n      <td>1</td>\n      <td>0</td>\n    </tr>\n    <tr>\n      <th>603659</th>\n      <td>1</td>\n      <td>1</td>\n      <td>0</td>\n      <td>3.200000</td>\n      <td>21600.000000</td>\n      <td>7583.333333</td>\n      <td>5</td>\n      <td>0</td>\n      <td>1</td>\n      <td>0</td>\n      <td>1</td>\n      <td>0</td>\n      <td>0</td>\n    </tr>\n    <tr>\n      <th>254229</th>\n      <td>1</td>\n      <td>0</td>\n      <td>0</td>\n      <td>3.400000</td>\n      <td>24400.000000</td>\n      <td>9280.000000</td>\n      <td>5</td>\n      <td>0</td>\n      <td>1</td>\n      <td>0</td>\n      <td>0</td>\n      <td>0</td>\n      <td>1</td>\n    </tr>\n  </tbody>\n</table>\n<p>64000 rows × 13 columns</p>\n</div>"
     },
     "execution_count": 93,
     "metadata": {},
     "output_type": "execute_result"
    }
   ],
   "source": [
    "df"
   ],
   "metadata": {
    "collapsed": false,
    "ExecuteTime": {
     "start_time": "2023-05-08T12:12:30.934522Z",
     "end_time": "2023-05-08T12:12:31.059528Z"
    }
   }
  },
  {
   "cell_type": "code",
   "execution_count": 94,
   "outputs": [],
   "source": [
    "from sklearn.ensemble import RandomForestClassifier, RandomForestRegressor"
   ],
   "metadata": {
    "collapsed": false,
    "ExecuteTime": {
     "start_time": "2023-05-08T12:14:19.093888Z",
     "end_time": "2023-05-08T12:14:19.531802Z"
    }
   }
  },
  {
   "cell_type": "code",
   "execution_count": 95,
   "outputs": [],
   "source": [
    "model = RandomForestClassifier(max_depth=10)"
   ],
   "metadata": {
    "collapsed": false,
    "ExecuteTime": {
     "start_time": "2023-05-08T12:16:01.779696Z",
     "end_time": "2023-05-08T12:16:01.857927Z"
    }
   }
  },
  {
   "cell_type": "code",
   "execution_count": 101,
   "outputs": [],
   "source": [
    "from sklearn.model_selection import train_test_split\n",
    "\n",
    "X_train, X_test, y_train, y_test = \\\n",
    "    train_test_split(df.drop(\"conversion\", axis=1), df[\"conversion\"], test_size=0.3)"
   ],
   "metadata": {
    "collapsed": false,
    "ExecuteTime": {
     "start_time": "2023-05-08T12:20:31.161990Z",
     "end_time": "2023-05-08T12:20:31.208865Z"
    }
   }
  },
  {
   "cell_type": "code",
   "execution_count": 102,
   "outputs": [
    {
     "data": {
      "text/plain": "RandomForestClassifier(max_depth=10)",
      "text/html": "<style>#sk-container-id-2 {color: black;background-color: white;}#sk-container-id-2 pre{padding: 0;}#sk-container-id-2 div.sk-toggleable {background-color: white;}#sk-container-id-2 label.sk-toggleable__label {cursor: pointer;display: block;width: 100%;margin-bottom: 0;padding: 0.3em;box-sizing: border-box;text-align: center;}#sk-container-id-2 label.sk-toggleable__label-arrow:before {content: \"▸\";float: left;margin-right: 0.25em;color: #696969;}#sk-container-id-2 label.sk-toggleable__label-arrow:hover:before {color: black;}#sk-container-id-2 div.sk-estimator:hover label.sk-toggleable__label-arrow:before {color: black;}#sk-container-id-2 div.sk-toggleable__content {max-height: 0;max-width: 0;overflow: hidden;text-align: left;background-color: #f0f8ff;}#sk-container-id-2 div.sk-toggleable__content pre {margin: 0.2em;color: black;border-radius: 0.25em;background-color: #f0f8ff;}#sk-container-id-2 input.sk-toggleable__control:checked~div.sk-toggleable__content {max-height: 200px;max-width: 100%;overflow: auto;}#sk-container-id-2 input.sk-toggleable__control:checked~label.sk-toggleable__label-arrow:before {content: \"▾\";}#sk-container-id-2 div.sk-estimator input.sk-toggleable__control:checked~label.sk-toggleable__label {background-color: #d4ebff;}#sk-container-id-2 div.sk-label input.sk-toggleable__control:checked~label.sk-toggleable__label {background-color: #d4ebff;}#sk-container-id-2 input.sk-hidden--visually {border: 0;clip: rect(1px 1px 1px 1px);clip: rect(1px, 1px, 1px, 1px);height: 1px;margin: -1px;overflow: hidden;padding: 0;position: absolute;width: 1px;}#sk-container-id-2 div.sk-estimator {font-family: monospace;background-color: #f0f8ff;border: 1px dotted black;border-radius: 0.25em;box-sizing: border-box;margin-bottom: 0.5em;}#sk-container-id-2 div.sk-estimator:hover {background-color: #d4ebff;}#sk-container-id-2 div.sk-parallel-item::after {content: \"\";width: 100%;border-bottom: 1px solid gray;flex-grow: 1;}#sk-container-id-2 div.sk-label:hover label.sk-toggleable__label {background-color: #d4ebff;}#sk-container-id-2 div.sk-serial::before {content: \"\";position: absolute;border-left: 1px solid gray;box-sizing: border-box;top: 0;bottom: 0;left: 50%;z-index: 0;}#sk-container-id-2 div.sk-serial {display: flex;flex-direction: column;align-items: center;background-color: white;padding-right: 0.2em;padding-left: 0.2em;position: relative;}#sk-container-id-2 div.sk-item {position: relative;z-index: 1;}#sk-container-id-2 div.sk-parallel {display: flex;align-items: stretch;justify-content: center;background-color: white;position: relative;}#sk-container-id-2 div.sk-item::before, #sk-container-id-2 div.sk-parallel-item::before {content: \"\";position: absolute;border-left: 1px solid gray;box-sizing: border-box;top: 0;bottom: 0;left: 50%;z-index: -1;}#sk-container-id-2 div.sk-parallel-item {display: flex;flex-direction: column;z-index: 1;position: relative;background-color: white;}#sk-container-id-2 div.sk-parallel-item:first-child::after {align-self: flex-end;width: 50%;}#sk-container-id-2 div.sk-parallel-item:last-child::after {align-self: flex-start;width: 50%;}#sk-container-id-2 div.sk-parallel-item:only-child::after {width: 0;}#sk-container-id-2 div.sk-dashed-wrapped {border: 1px dashed gray;margin: 0 0.4em 0.5em 0.4em;box-sizing: border-box;padding-bottom: 0.4em;background-color: white;}#sk-container-id-2 div.sk-label label {font-family: monospace;font-weight: bold;display: inline-block;line-height: 1.2em;}#sk-container-id-2 div.sk-label-container {text-align: center;}#sk-container-id-2 div.sk-container {/* jupyter's `normalize.less` sets `[hidden] { display: none; }` but bootstrap.min.css set `[hidden] { display: none !important; }` so we also need the `!important` here to be able to override the default hidden behavior on the sphinx rendered scikit-learn.org. See: https://github.com/scikit-learn/scikit-learn/issues/21755 */display: inline-block !important;position: relative;}#sk-container-id-2 div.sk-text-repr-fallback {display: none;}</style><div id=\"sk-container-id-2\" class=\"sk-top-container\"><div class=\"sk-text-repr-fallback\"><pre>RandomForestClassifier(max_depth=10)</pre><b>In a Jupyter environment, please rerun this cell to show the HTML representation or trust the notebook. <br />On GitHub, the HTML representation is unable to render, please try loading this page with nbviewer.org.</b></div><div class=\"sk-container\" hidden><div class=\"sk-item\"><div class=\"sk-estimator sk-toggleable\"><input class=\"sk-toggleable__control sk-hidden--visually\" id=\"sk-estimator-id-2\" type=\"checkbox\" checked><label for=\"sk-estimator-id-2\" class=\"sk-toggleable__label sk-toggleable__label-arrow\">RandomForestClassifier</label><div class=\"sk-toggleable__content\"><pre>RandomForestClassifier(max_depth=10)</pre></div></div></div></div></div>"
     },
     "execution_count": 102,
     "metadata": {},
     "output_type": "execute_result"
    }
   ],
   "source": [
    "model.fit(X_train, y_train)"
   ],
   "metadata": {
    "collapsed": false,
    "ExecuteTime": {
     "start_time": "2023-05-08T12:20:34.954574Z",
     "end_time": "2023-05-08T12:20:37.205519Z"
    }
   }
  },
  {
   "cell_type": "code",
   "execution_count": 103,
   "outputs": [],
   "source": [
    "pred = model.predict(X_test)"
   ],
   "metadata": {
    "collapsed": false,
    "ExecuteTime": {
     "start_time": "2023-05-08T12:21:22.605749Z",
     "end_time": "2023-05-08T12:21:22.834913Z"
    }
   }
  },
  {
   "cell_type": "code",
   "execution_count": 106,
   "outputs": [
    {
     "data": {
      "text/plain": "array([0, 0, 0, ..., 0, 0, 0], dtype=int64)"
     },
     "execution_count": 106,
     "metadata": {},
     "output_type": "execute_result"
    }
   ],
   "source": [
    "pred"
   ],
   "metadata": {
    "collapsed": false,
    "ExecuteTime": {
     "start_time": "2023-05-08T12:21:58.259291Z",
     "end_time": "2023-05-08T12:21:58.290585Z"
    }
   }
  },
  {
   "cell_type": "code",
   "execution_count": 105,
   "outputs": [
    {
     "data": {
      "text/plain": "id\n361626    0\n184436    0\n357550    1\n846841    0\n925479    0\n         ..\n928732    0\n957813    0\n260244    1\n837189    0\n138091    0\nName: conversion, Length: 19200, dtype: int64"
     },
     "execution_count": 105,
     "metadata": {},
     "output_type": "execute_result"
    }
   ],
   "source": [
    "y_test"
   ],
   "metadata": {
    "collapsed": false,
    "ExecuteTime": {
     "start_time": "2023-05-08T12:21:49.532812Z",
     "end_time": "2023-05-08T12:21:49.595327Z"
    }
   }
  },
  {
   "cell_type": "code",
   "execution_count": 107,
   "outputs": [],
   "source": [
    "from sklearn.metrics import accuracy_score, confusion_matrix"
   ],
   "metadata": {
    "collapsed": false,
    "ExecuteTime": {
     "start_time": "2023-05-08T12:47:40.206085Z",
     "end_time": "2023-05-08T12:47:40.284213Z"
    }
   }
  },
  {
   "cell_type": "code",
   "execution_count": 108,
   "outputs": [
    {
     "data": {
      "text/plain": "array([[16350,    25],\n       [ 2502,   323]], dtype=int64)"
     },
     "execution_count": 108,
     "metadata": {},
     "output_type": "execute_result"
    }
   ],
   "source": [
    "confusion_matrix(y_test, pred)"
   ],
   "metadata": {
    "collapsed": false,
    "ExecuteTime": {
     "start_time": "2023-05-08T12:47:55.883385Z",
     "end_time": "2023-05-08T12:47:55.961623Z"
    }
   }
  },
  {
   "cell_type": "code",
   "execution_count": 109,
   "outputs": [],
   "source": [
    "from sklearn.metrics import classification_report"
   ],
   "metadata": {
    "collapsed": false,
    "ExecuteTime": {
     "start_time": "2023-05-08T12:48:42.648257Z",
     "end_time": "2023-05-08T12:48:42.742074Z"
    }
   }
  },
  {
   "cell_type": "code",
   "execution_count": 111,
   "outputs": [
    {
     "name": "stdout",
     "output_type": "stream",
     "text": [
      "              precision    recall  f1-score   support\n",
      "\n",
      "           0       0.87      1.00      0.93     16375\n",
      "           1       0.93      0.11      0.20      2825\n",
      "\n",
      "    accuracy                           0.87     19200\n",
      "   macro avg       0.90      0.56      0.57     19200\n",
      "weighted avg       0.88      0.87      0.82     19200\n",
      "\n"
     ]
    }
   ],
   "source": [
    "print(classification_report(y_test, pred))"
   ],
   "metadata": {
    "collapsed": false,
    "ExecuteTime": {
     "start_time": "2023-05-08T12:49:05.321687Z",
     "end_time": "2023-05-08T12:49:05.415815Z"
    }
   }
  },
  {
   "cell_type": "code",
   "execution_count": 133,
   "outputs": [],
   "source": [
    "model = RandomForestRegressor(max_depth=10, n_estimators=300)"
   ],
   "metadata": {
    "collapsed": false,
    "ExecuteTime": {
     "start_time": "2023-05-08T14:13:23.933024Z",
     "end_time": "2023-05-08T14:13:23.964379Z"
    }
   }
  },
  {
   "cell_type": "code",
   "execution_count": 134,
   "outputs": [
    {
     "data": {
      "text/plain": "RandomForestRegressor(max_depth=10, n_estimators=300)",
      "text/html": "<style>#sk-container-id-4 {color: black;background-color: white;}#sk-container-id-4 pre{padding: 0;}#sk-container-id-4 div.sk-toggleable {background-color: white;}#sk-container-id-4 label.sk-toggleable__label {cursor: pointer;display: block;width: 100%;margin-bottom: 0;padding: 0.3em;box-sizing: border-box;text-align: center;}#sk-container-id-4 label.sk-toggleable__label-arrow:before {content: \"▸\";float: left;margin-right: 0.25em;color: #696969;}#sk-container-id-4 label.sk-toggleable__label-arrow:hover:before {color: black;}#sk-container-id-4 div.sk-estimator:hover label.sk-toggleable__label-arrow:before {color: black;}#sk-container-id-4 div.sk-toggleable__content {max-height: 0;max-width: 0;overflow: hidden;text-align: left;background-color: #f0f8ff;}#sk-container-id-4 div.sk-toggleable__content pre {margin: 0.2em;color: black;border-radius: 0.25em;background-color: #f0f8ff;}#sk-container-id-4 input.sk-toggleable__control:checked~div.sk-toggleable__content {max-height: 200px;max-width: 100%;overflow: auto;}#sk-container-id-4 input.sk-toggleable__control:checked~label.sk-toggleable__label-arrow:before {content: \"▾\";}#sk-container-id-4 div.sk-estimator input.sk-toggleable__control:checked~label.sk-toggleable__label {background-color: #d4ebff;}#sk-container-id-4 div.sk-label input.sk-toggleable__control:checked~label.sk-toggleable__label {background-color: #d4ebff;}#sk-container-id-4 input.sk-hidden--visually {border: 0;clip: rect(1px 1px 1px 1px);clip: rect(1px, 1px, 1px, 1px);height: 1px;margin: -1px;overflow: hidden;padding: 0;position: absolute;width: 1px;}#sk-container-id-4 div.sk-estimator {font-family: monospace;background-color: #f0f8ff;border: 1px dotted black;border-radius: 0.25em;box-sizing: border-box;margin-bottom: 0.5em;}#sk-container-id-4 div.sk-estimator:hover {background-color: #d4ebff;}#sk-container-id-4 div.sk-parallel-item::after {content: \"\";width: 100%;border-bottom: 1px solid gray;flex-grow: 1;}#sk-container-id-4 div.sk-label:hover label.sk-toggleable__label {background-color: #d4ebff;}#sk-container-id-4 div.sk-serial::before {content: \"\";position: absolute;border-left: 1px solid gray;box-sizing: border-box;top: 0;bottom: 0;left: 50%;z-index: 0;}#sk-container-id-4 div.sk-serial {display: flex;flex-direction: column;align-items: center;background-color: white;padding-right: 0.2em;padding-left: 0.2em;position: relative;}#sk-container-id-4 div.sk-item {position: relative;z-index: 1;}#sk-container-id-4 div.sk-parallel {display: flex;align-items: stretch;justify-content: center;background-color: white;position: relative;}#sk-container-id-4 div.sk-item::before, #sk-container-id-4 div.sk-parallel-item::before {content: \"\";position: absolute;border-left: 1px solid gray;box-sizing: border-box;top: 0;bottom: 0;left: 50%;z-index: -1;}#sk-container-id-4 div.sk-parallel-item {display: flex;flex-direction: column;z-index: 1;position: relative;background-color: white;}#sk-container-id-4 div.sk-parallel-item:first-child::after {align-self: flex-end;width: 50%;}#sk-container-id-4 div.sk-parallel-item:last-child::after {align-self: flex-start;width: 50%;}#sk-container-id-4 div.sk-parallel-item:only-child::after {width: 0;}#sk-container-id-4 div.sk-dashed-wrapped {border: 1px dashed gray;margin: 0 0.4em 0.5em 0.4em;box-sizing: border-box;padding-bottom: 0.4em;background-color: white;}#sk-container-id-4 div.sk-label label {font-family: monospace;font-weight: bold;display: inline-block;line-height: 1.2em;}#sk-container-id-4 div.sk-label-container {text-align: center;}#sk-container-id-4 div.sk-container {/* jupyter's `normalize.less` sets `[hidden] { display: none; }` but bootstrap.min.css set `[hidden] { display: none !important; }` so we also need the `!important` here to be able to override the default hidden behavior on the sphinx rendered scikit-learn.org. See: https://github.com/scikit-learn/scikit-learn/issues/21755 */display: inline-block !important;position: relative;}#sk-container-id-4 div.sk-text-repr-fallback {display: none;}</style><div id=\"sk-container-id-4\" class=\"sk-top-container\"><div class=\"sk-text-repr-fallback\"><pre>RandomForestRegressor(max_depth=10, n_estimators=300)</pre><b>In a Jupyter environment, please rerun this cell to show the HTML representation or trust the notebook. <br />On GitHub, the HTML representation is unable to render, please try loading this page with nbviewer.org.</b></div><div class=\"sk-container\" hidden><div class=\"sk-item\"><div class=\"sk-estimator sk-toggleable\"><input class=\"sk-toggleable__control sk-hidden--visually\" id=\"sk-estimator-id-4\" type=\"checkbox\" checked><label for=\"sk-estimator-id-4\" class=\"sk-toggleable__label sk-toggleable__label-arrow\">RandomForestRegressor</label><div class=\"sk-toggleable__content\"><pre>RandomForestRegressor(max_depth=10, n_estimators=300)</pre></div></div></div></div></div>"
     },
     "execution_count": 134,
     "metadata": {},
     "output_type": "execute_result"
    }
   ],
   "source": [
    "model.fit(X_train, y_train)"
   ],
   "metadata": {
    "collapsed": false,
    "ExecuteTime": {
     "start_time": "2023-05-08T14:13:25.092980Z",
     "end_time": "2023-05-08T14:13:42.990708Z"
    }
   }
  },
  {
   "cell_type": "code",
   "execution_count": 135,
   "outputs": [],
   "source": [
    "pred = model.predict(X_test)"
   ],
   "metadata": {
    "collapsed": false,
    "ExecuteTime": {
     "start_time": "2023-05-08T14:13:45.217731Z",
     "end_time": "2023-05-08T14:13:45.663814Z"
    }
   }
  },
  {
   "cell_type": "code",
   "execution_count": 136,
   "outputs": [
    {
     "data": {
      "text/plain": "array([0.        , 0.05365533, 0.25325456, ..., 0.14457202, 0.07453157,\n       0.26220812])"
     },
     "execution_count": 136,
     "metadata": {},
     "output_type": "execute_result"
    }
   ],
   "source": [
    "pred"
   ],
   "metadata": {
    "collapsed": false,
    "ExecuteTime": {
     "start_time": "2023-05-08T14:13:46.462032Z",
     "end_time": "2023-05-08T14:13:46.555791Z"
    }
   }
  },
  {
   "cell_type": "code",
   "execution_count": 137,
   "outputs": [
    {
     "data": {
      "text/plain": "id\n361626    0\n184436    0\n357550    1\n846841    0\n925479    0\n         ..\n928732    0\n957813    0\n260244    1\n837189    0\n138091    0\nName: conversion, Length: 19200, dtype: int64"
     },
     "execution_count": 137,
     "metadata": {},
     "output_type": "execute_result"
    }
   ],
   "source": [
    "y_test"
   ],
   "metadata": {
    "collapsed": false,
    "ExecuteTime": {
     "start_time": "2023-05-08T14:13:48.028075Z",
     "end_time": "2023-05-08T14:13:48.090679Z"
    }
   }
  },
  {
   "cell_type": "code",
   "execution_count": 138,
   "outputs": [],
   "source": [
    "def 분류(x):\n",
    "    if x >= 0.4:\n",
    "        return 1\n",
    "    else:\n",
    "        return 0"
   ],
   "metadata": {
    "collapsed": false,
    "ExecuteTime": {
     "start_time": "2023-05-08T14:13:51.331437Z",
     "end_time": "2023-05-08T14:13:51.362685Z"
    }
   }
  },
  {
   "cell_type": "code",
   "execution_count": 139,
   "outputs": [
    {
     "data": {
      "text/plain": "array([0.        , 0.05365533, 0.25325456, ..., 0.14457202, 0.07453157,\n       0.26220812])"
     },
     "execution_count": 139,
     "metadata": {},
     "output_type": "execute_result"
    }
   ],
   "source": [
    "pred"
   ],
   "metadata": {
    "collapsed": false,
    "ExecuteTime": {
     "start_time": "2023-05-08T14:13:52.462021Z",
     "end_time": "2023-05-08T14:13:52.509000Z"
    }
   }
  },
  {
   "cell_type": "code",
   "execution_count": 140,
   "outputs": [],
   "source": [
    "pred_s = pd.Series(pred)"
   ],
   "metadata": {
    "collapsed": false,
    "ExecuteTime": {
     "start_time": "2023-05-08T14:13:52.913220Z",
     "end_time": "2023-05-08T14:13:52.944443Z"
    }
   }
  },
  {
   "cell_type": "code",
   "execution_count": 141,
   "outputs": [
    {
     "data": {
      "text/plain": "0        0.000000\n1        0.053655\n2        0.253255\n3        0.174489\n4        0.130164\n           ...   \n19195    0.256045\n19196    0.116383\n19197    0.144572\n19198    0.074532\n19199    0.262208\nLength: 19200, dtype: float64"
     },
     "execution_count": 141,
     "metadata": {},
     "output_type": "execute_result"
    }
   ],
   "source": [
    "pred_s"
   ],
   "metadata": {
    "collapsed": false,
    "ExecuteTime": {
     "start_time": "2023-05-08T14:13:53.354323Z",
     "end_time": "2023-05-08T14:13:53.416825Z"
    }
   }
  },
  {
   "cell_type": "code",
   "execution_count": 148,
   "outputs": [
    {
     "data": {
      "text/plain": "[0,\n 0,\n 0,\n 0,\n 0,\n 0,\n 0,\n 0,\n 0,\n 0,\n 0,\n 0,\n 0,\n 0,\n 0,\n 0,\n 0,\n 0,\n 0,\n 0,\n 0,\n 0,\n 0,\n 0,\n 0,\n 0,\n 0,\n 0,\n 0,\n 1,\n 0,\n 0,\n 0,\n 0,\n 0,\n 0,\n 0,\n 0,\n 0,\n 0,\n 0,\n 0,\n 0,\n 0,\n 0,\n 0,\n 0,\n 0,\n 0,\n 0,\n 0,\n 0,\n 0,\n 0,\n 0,\n 0,\n 0,\n 0,\n 0,\n 0,\n 1,\n 0,\n 0,\n 0,\n 0,\n 0,\n 0,\n 0,\n 0,\n 0,\n 0,\n 0,\n 0,\n 0,\n 0,\n 0,\n 0,\n 0,\n 0,\n 0,\n 0,\n 0,\n 0,\n 0,\n 0,\n 0,\n 0,\n 0,\n 0,\n 0,\n 1,\n 0,\n 0,\n 0,\n 0,\n 0,\n 0,\n 0,\n 0,\n 0,\n 0,\n 0,\n 0,\n 0,\n 0,\n 0,\n 0,\n 0,\n 0,\n 0,\n 0,\n 0,\n 0,\n 0,\n 0,\n 0,\n 0,\n 0,\n 1,\n 0,\n 0,\n 0,\n 0,\n 1,\n 0,\n 0,\n 0,\n 0,\n 0,\n 0,\n 1,\n 0,\n 0,\n 0,\n 0,\n 0,\n 0,\n 0,\n 0,\n 0,\n 0,\n 0,\n 0,\n 0,\n 0,\n 0,\n 0,\n 0,\n 0,\n 0,\n 0,\n 0,\n 0,\n 0,\n 0,\n 0,\n 0,\n 0,\n 0,\n 1,\n 0,\n 0,\n 0,\n 0,\n 0,\n 0,\n 1,\n 0,\n 1,\n 0,\n 0,\n 0,\n 0,\n 0,\n 0,\n 0,\n 0,\n 0,\n 0,\n 0,\n 0,\n 0,\n 0,\n 0,\n 0,\n 0,\n 0,\n 0,\n 0,\n 0,\n 0,\n 1,\n 0,\n 0,\n 0,\n 0,\n 0,\n 0,\n 0,\n 0,\n 0,\n 0,\n 0,\n 0,\n 0,\n 0,\n 0,\n 0,\n 0,\n 0,\n 0,\n 0,\n 0,\n 0,\n 0,\n 0,\n 0,\n 1,\n 0,\n 0,\n 0,\n 0,\n 0,\n 0,\n 0,\n 0,\n 0,\n 0,\n 0,\n 0,\n 0,\n 0,\n 0,\n 0,\n 0,\n 0,\n 0,\n 0,\n 0,\n 0,\n 0,\n 0,\n 0,\n 0,\n 0,\n 0,\n 0,\n 0,\n 0,\n 0,\n 0,\n 0,\n 0,\n 0,\n 1,\n 0,\n 0,\n 0,\n 0,\n 0,\n 0,\n 0,\n 0,\n 0,\n 0,\n 0,\n 0,\n 0,\n 0,\n 0,\n 0,\n 0,\n 0,\n 0,\n 0,\n 0,\n 0,\n 0,\n 0,\n 0,\n 0,\n 0,\n 0,\n 0,\n 0,\n 0,\n 0,\n 0,\n 0,\n 0,\n 0,\n 0,\n 0,\n 0,\n 0,\n 0,\n 0,\n 0,\n 0,\n 0,\n 0,\n 0,\n 0,\n 0,\n 0,\n 0,\n 0,\n 0,\n 0,\n 0,\n 0,\n 0,\n 0,\n 0,\n 0,\n 0,\n 0,\n 0,\n 0,\n 0,\n 0,\n 0,\n 0,\n 0,\n 0,\n 0,\n 0,\n 1,\n 0,\n 0,\n 0,\n 0,\n 0,\n 0,\n 0,\n 0,\n 0,\n 0,\n 0,\n 0,\n 0,\n 0,\n 0,\n 0,\n 0,\n 0,\n 0,\n 0,\n 0,\n 0,\n 0,\n 0,\n 0,\n 0,\n 0,\n 0,\n 0,\n 0,\n 0,\n 0,\n 0,\n 0,\n 0,\n 0,\n 1,\n 0,\n 0,\n 0,\n 0,\n 0,\n 0,\n 0,\n 0,\n 0,\n 1,\n 0,\n 0,\n 0,\n 0,\n 0,\n 0,\n 0,\n 0,\n 0,\n 0,\n 0,\n 0,\n 0,\n 0,\n 0,\n 0,\n 0,\n 0,\n 0,\n 0,\n 0,\n 0,\n 0,\n 0,\n 0,\n 0,\n 0,\n 0,\n 0,\n 0,\n 0,\n 0,\n 0,\n 0,\n 0,\n 0,\n 0,\n 0,\n 0,\n 0,\n 0,\n 0,\n 0,\n 0,\n 0,\n 0,\n 0,\n 0,\n 0,\n 0,\n 0,\n 0,\n 0,\n 0,\n 0,\n 0,\n 0,\n 0,\n 0,\n 0,\n 0,\n 0,\n 0,\n 0,\n 0,\n 0,\n 0,\n 1,\n 0,\n 0,\n 0,\n 0,\n 0,\n 0,\n 0,\n 0,\n 0,\n 0,\n 0,\n 0,\n 0,\n 0,\n 0,\n 0,\n 0,\n 0,\n 0,\n 0,\n 0,\n 0,\n 0,\n 0,\n 0,\n 0,\n 0,\n 0,\n 0,\n 0,\n 0,\n 0,\n 0,\n 0,\n 0,\n 0,\n 0,\n 0,\n 0,\n 0,\n 0,\n 0,\n 0,\n 0,\n 1,\n 0,\n 0,\n 0,\n 0,\n 0,\n 0,\n 0,\n 0,\n 0,\n 0,\n 0,\n 0,\n 0,\n 0,\n 0,\n 0,\n 0,\n 0,\n 0,\n 0,\n 0,\n 0,\n 0,\n 0,\n 0,\n 0,\n 0,\n 0,\n 0,\n 0,\n 0,\n 0,\n 0,\n 0,\n 0,\n 0,\n 1,\n 0,\n 0,\n 0,\n 0,\n 0,\n 0,\n 0,\n 0,\n 0,\n 0,\n 0,\n 0,\n 0,\n 0,\n 0,\n 0,\n 0,\n 0,\n 0,\n 0,\n 0,\n 0,\n 0,\n 0,\n 0,\n 0,\n 0,\n 0,\n 0,\n 0,\n 0,\n 0,\n 0,\n 0,\n 0,\n 0,\n 0,\n 0,\n 0,\n 0,\n 0,\n 0,\n 0,\n 0,\n 0,\n 0,\n 0,\n 0,\n 0,\n 0,\n 0,\n 0,\n 0,\n 0,\n 0,\n 0,\n 0,\n 0,\n 0,\n 0,\n 0,\n 0,\n 0,\n 0,\n 0,\n 0,\n 0,\n 0,\n 0,\n 0,\n 0,\n 0,\n 0,\n 0,\n 0,\n 0,\n 0,\n 0,\n 0,\n 0,\n 0,\n 0,\n 0,\n 0,\n 0,\n 0,\n 0,\n 0,\n 0,\n 0,\n 0,\n 0,\n 0,\n 0,\n 0,\n 0,\n 0,\n 0,\n 0,\n 0,\n 0,\n 0,\n 1,\n 0,\n 0,\n 0,\n 0,\n 0,\n 0,\n 0,\n 0,\n 0,\n 0,\n 0,\n 0,\n 0,\n 0,\n 0,\n 0,\n 0,\n 0,\n 0,\n 0,\n 0,\n 0,\n 0,\n 0,\n 0,\n 0,\n 0,\n 0,\n 0,\n 0,\n 0,\n 0,\n 0,\n 0,\n 0,\n 0,\n 0,\n 0,\n 0,\n 0,\n 0,\n 0,\n 0,\n 0,\n 0,\n 0,\n 0,\n 0,\n 0,\n 0,\n 0,\n 0,\n 0,\n 0,\n 0,\n 0,\n 0,\n 0,\n 0,\n 0,\n 1,\n 0,\n 0,\n 0,\n 0,\n 0,\n 0,\n 0,\n 0,\n 0,\n 0,\n 0,\n 0,\n 0,\n 1,\n 0,\n 0,\n 0,\n 0,\n 0,\n 0,\n 0,\n 0,\n 0,\n 0,\n 0,\n 0,\n 0,\n 0,\n 0,\n 0,\n 0,\n 0,\n 0,\n 0,\n 0,\n 0,\n 0,\n 0,\n 0,\n 0,\n 0,\n 0,\n 0,\n 0,\n 0,\n 0,\n 0,\n 0,\n 0,\n 0,\n 0,\n 0,\n 0,\n 0,\n 0,\n 0,\n 0,\n 0,\n 0,\n 0,\n 0,\n 0,\n 0,\n 1,\n 0,\n 0,\n 0,\n 0,\n 0,\n 0,\n 0,\n 0,\n 0,\n 0,\n 0,\n 0,\n 0,\n 0,\n 0,\n 0,\n 0,\n 0,\n 0,\n 1,\n 0,\n 0,\n 0,\n 0,\n 0,\n 0,\n 0,\n 0,\n 0,\n 0,\n 0,\n 0,\n 0,\n 0,\n 0,\n 0,\n 0,\n 0,\n 0,\n 0,\n 0,\n 0,\n 1,\n 0,\n 0,\n 0,\n 0,\n 0,\n 0,\n 0,\n 0,\n 0,\n 0,\n 1,\n 0,\n 0,\n 0,\n 0,\n 0,\n 0,\n 0,\n 0,\n 0,\n 0,\n 0,\n 0,\n 0,\n 0,\n 0,\n 1,\n 0,\n 0,\n 0,\n 0,\n 0,\n 0,\n 0,\n 0,\n 0,\n 0,\n 0,\n 0,\n 0,\n 0,\n 0,\n 0,\n 0,\n 0,\n 0,\n 0,\n 0,\n 0,\n 0,\n 0,\n 0,\n 0,\n 0,\n 0,\n 0,\n 0,\n 0,\n 0,\n 0,\n 0,\n 0,\n 0,\n 0,\n 0,\n 0,\n 0,\n 1,\n 0,\n 0,\n 0,\n 0,\n 0,\n 0,\n 0,\n 0,\n 0,\n 0,\n 0,\n 0,\n 0,\n 0,\n 0,\n 0,\n 0,\n 0,\n 0,\n 0,\n 0,\n 0,\n 0,\n 0,\n 0,\n 0,\n 0,\n 0,\n 0,\n 0,\n 0,\n 0,\n 0,\n 0,\n 0,\n 0,\n 0,\n 0,\n 0,\n 1,\n 0,\n 0,\n 0,\n 0,\n 0,\n 0,\n 0,\n 0,\n 0,\n 0,\n 0,\n 0,\n 0,\n 0,\n 0,\n 0,\n 0,\n 0,\n 0,\n 0,\n 0,\n 0,\n 0,\n 0,\n 0,\n 0,\n 0,\n 0,\n 0,\n 0,\n 0,\n 0,\n 0,\n 0,\n 0,\n 0,\n 0,\n 0,\n 0,\n 0,\n 0,\n 0,\n 0,\n 0,\n 0,\n 0,\n 0,\n 0,\n 0,\n 0,\n 0,\n 0,\n 0,\n 0,\n 0,\n 0,\n 0,\n 0,\n 0,\n 0,\n 0,\n 0,\n 0,\n 0,\n 1,\n 0,\n 0,\n 0,\n 0,\n 0,\n 0,\n 0,\n 0,\n 0,\n 0,\n 0,\n 0,\n 0,\n 1,\n 0,\n 0,\n 0,\n 0,\n 0,\n 0,\n 0,\n 0,\n 0,\n 0,\n 0,\n 0,\n 0,\n 0,\n 0,\n 0,\n 0,\n ...]"
     },
     "execution_count": 148,
     "metadata": {},
     "output_type": "execute_result"
    }
   ],
   "source": [
    "# result = pred_s.apply(lambda x: 분류(x))\n",
    "result = pred_s.apply(분류)\n",
    "\n",
    "# result = [1 if x>=0.5 else 0 for x in pred_s]\n",
    "# result"
   ],
   "metadata": {
    "collapsed": false,
    "ExecuteTime": {
     "start_time": "2023-05-08T14:28:04.046271Z",
     "end_time": "2023-05-08T14:28:04.124395Z"
    }
   }
  },
  {
   "cell_type": "code",
   "execution_count": 143,
   "outputs": [
    {
     "data": {
      "text/plain": "0.8778645833333333"
     },
     "execution_count": 143,
     "metadata": {},
     "output_type": "execute_result"
    }
   ],
   "source": [
    "accuracy_score(y_test, result)"
   ],
   "metadata": {
    "collapsed": false,
    "ExecuteTime": {
     "start_time": "2023-05-08T14:13:56.192897Z",
     "end_time": "2023-05-08T14:13:56.255410Z"
    }
   }
  },
  {
   "cell_type": "code",
   "execution_count": 144,
   "outputs": [
    {
     "data": {
      "text/plain": "array([0.04708725, 0.01968542, 0.37160535, 0.14550243, 0.22347289,\n       0.164011  , 0.00857676, 0.0028297 , 0.00284327, 0.0039603 ,\n       0.00587915, 0.00454648])"
     },
     "execution_count": 144,
     "metadata": {},
     "output_type": "execute_result"
    }
   ],
   "source": [
    "model.feature_importances_"
   ],
   "metadata": {
    "collapsed": false,
    "ExecuteTime": {
     "start_time": "2023-05-08T14:15:51.503718Z",
     "end_time": "2023-05-08T14:15:51.615902Z"
    }
   }
  },
  {
   "cell_type": "code",
   "execution_count": 145,
   "outputs": [
    {
     "data": {
      "text/plain": "Index(['recency', 'is_referral', 'num_item', 'total_amount', 'avg_price',\n       'count', 'zip_code_Rural', 'zip_code_Suburban', 'zip_code_Urban',\n       'channel_Multichannel', 'channel_Phone', 'channel_Web'],\n      dtype='object')"
     },
     "execution_count": 145,
     "metadata": {},
     "output_type": "execute_result"
    }
   ],
   "source": [
    "X_train.columns"
   ],
   "metadata": {
    "collapsed": false,
    "ExecuteTime": {
     "start_time": "2023-05-08T14:16:31.521163Z",
     "end_time": "2023-05-08T14:16:31.599395Z"
    }
   }
  },
  {
   "cell_type": "code",
   "execution_count": 147,
   "outputs": [
    {
     "data": {
      "text/plain": "<Axes: >"
     },
     "execution_count": 147,
     "metadata": {},
     "output_type": "execute_result"
    },
    {
     "data": {
      "text/plain": "<Figure size 2000x1000 with 1 Axes>",
      "image/png": "[encoded data removed]"
     },
     "metadata": {},
     "output_type": "display_data"
    }
   ],
   "source": [
    "plt.figure(figsize=(20,10))\n",
    "sns.barplot(x=X_train.columns, y=model.feature_importances_)"
   ],
   "metadata": {
    "collapsed": false,
    "ExecuteTime": {
     "start_time": "2023-05-08T14:19:13.777343Z",
     "end_time": "2023-05-08T14:19:14.101811Z"
    }
   }
  },
  {
   "cell_type": "code",
   "execution_count": null,
   "outputs": [],
   "source": [],
   "metadata": {
    "collapsed": false
   }
  }
 ],
 "metadata": {
  "kernelspec": {
   "display_name": "Python 3",
   "language": "python",
   "name": "python3"
  },
  "language_info": {
   "codemirror_mode": {
    "name": "ipython",
    "version": 2
   },
   "file_extension": ".py",
   "mimetype": "text/x-python",
   "name": "python",
   "nbconvert_exporter": "python",
   "pygments_lexer": "ipython2",
   "version": "2.7.6"
  }
 },
 "nbformat": 4,
 "nbformat_minor": 0
}
