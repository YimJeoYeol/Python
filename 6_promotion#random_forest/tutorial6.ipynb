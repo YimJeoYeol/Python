{
 "cells": [
  {
   "cell_type": "code",
   "execution_count": 1,
   "metadata": {
    "collapsed": true,
    "ExecuteTime": {
     "start_time": "2023-05-08T09:36:55.241208Z",
     "end_time": "2023-05-08T09:36:55.256838Z"
    }
   },
   "outputs": [],
   "source": [
    "import pandas as pd\n",
    "import numpy as np\n",
    "import matplotlib.pyplot as plt\n",
    "import seaborn as sns"
   ]
  },
  {
   "cell_type": "code",
   "execution_count": 2,
   "outputs": [],
   "source": [
    "data = pd.read_csv(\"transaction.csv\")"
   ],
   "metadata": {
    "collapsed": false,
    "ExecuteTime": {
     "start_time": "2023-05-08T09:37:43.938326Z",
     "end_time": "2023-05-08T09:37:44.017846Z"
    }
   }
  },
  {
   "cell_type": "code",
   "execution_count": 3,
   "outputs": [
    {
     "data": {
      "text/plain": "       id  num_item  total_amount\n0  906145         5         34000\n1  906145         1         27000\n2  906145         4         33000\n3  184478         4         29000\n4  394235         4         33000",
      "text/html": "<div>\n<style scoped>\n    .dataframe tbody tr th:only-of-type {\n        vertical-align: middle;\n    }\n\n    .dataframe tbody tr th {\n        vertical-align: top;\n    }\n\n    .dataframe thead th {\n        text-align: right;\n    }\n</style>\n<table border=\"1\" class=\"dataframe\">\n  <thead>\n    <tr style=\"text-align: right;\">\n      <th></th>\n      <th>id</th>\n      <th>num_item</th>\n      <th>total_amount</th>\n    </tr>\n  </thead>\n  <tbody>\n    <tr>\n      <th>0</th>\n      <td>906145</td>\n      <td>5</td>\n      <td>34000</td>\n    </tr>\n    <tr>\n      <th>1</th>\n      <td>906145</td>\n      <td>1</td>\n      <td>27000</td>\n    </tr>\n    <tr>\n      <th>2</th>\n      <td>906145</td>\n      <td>4</td>\n      <td>33000</td>\n    </tr>\n    <tr>\n      <th>3</th>\n      <td>184478</td>\n      <td>4</td>\n      <td>29000</td>\n    </tr>\n    <tr>\n      <th>4</th>\n      <td>394235</td>\n      <td>4</td>\n      <td>33000</td>\n    </tr>\n  </tbody>\n</table>\n</div>"
     },
     "execution_count": 3,
     "metadata": {},
     "output_type": "execute_result"
    }
   ],
   "source": [
    "data.head()"
   ],
   "metadata": {
    "collapsed": false,
    "ExecuteTime": {
     "start_time": "2023-05-08T09:37:52.022027Z",
     "end_time": "2023-05-08T09:37:52.051248Z"
    }
   }
  },
  {
   "cell_type": "code",
   "execution_count": 4,
   "outputs": [
    {
     "data": {
      "text/plain": "691067    5\n720147    5\n422265    5\n670720    5\n154620    5\n         ..\n881780    1\n154471    1\n480462    1\n126129    1\n156423    1\nName: id, Length: 64000, dtype: int64"
     },
     "execution_count": 4,
     "metadata": {},
     "output_type": "execute_result"
    }
   ],
   "source": [
    "data[\"id\"].value_counts()"
   ],
   "metadata": {
    "collapsed": false,
    "ExecuteTime": {
     "start_time": "2023-05-08T09:41:25.321249Z",
     "end_time": "2023-05-08T09:41:25.383854Z"
    }
   }
  },
  {
   "cell_type": "code",
   "execution_count": 8,
   "outputs": [
    {
     "data": {
      "text/plain": "        num_item  total_amount\nid                            \n100001  3.500000  26000.000000\n100008  5.000000  26000.000000\n100032  2.666667  20666.666667\n100036  3.000000  25800.000000\n100070  3.250000  21250.000000\n...          ...           ...\n999932  5.000000  32000.000000\n999981  2.000000  22750.000000\n999990  3.000000  28000.000000\n999995  2.000000  27000.000000\n999997  2.000000  13000.000000\n\n[64000 rows x 2 columns]",
      "text/html": "<div>\n<style scoped>\n    .dataframe tbody tr th:only-of-type {\n        vertical-align: middle;\n    }\n\n    .dataframe tbody tr th {\n        vertical-align: top;\n    }\n\n    .dataframe thead th {\n        text-align: right;\n    }\n</style>\n<table border=\"1\" class=\"dataframe\">\n  <thead>\n    <tr style=\"text-align: right;\">\n      <th></th>\n      <th>num_item</th>\n      <th>total_amount</th>\n    </tr>\n    <tr>\n      <th>id</th>\n      <th></th>\n      <th></th>\n    </tr>\n  </thead>\n  <tbody>\n    <tr>\n      <th>100001</th>\n      <td>3.500000</td>\n      <td>26000.000000</td>\n    </tr>\n    <tr>\n      <th>100008</th>\n      <td>5.000000</td>\n      <td>26000.000000</td>\n    </tr>\n    <tr>\n      <th>100032</th>\n      <td>2.666667</td>\n      <td>20666.666667</td>\n    </tr>\n    <tr>\n      <th>100036</th>\n      <td>3.000000</td>\n      <td>25800.000000</td>\n    </tr>\n    <tr>\n      <th>100070</th>\n      <td>3.250000</td>\n      <td>21250.000000</td>\n    </tr>\n    <tr>\n      <th>...</th>\n      <td>...</td>\n      <td>...</td>\n    </tr>\n    <tr>\n      <th>999932</th>\n      <td>5.000000</td>\n      <td>32000.000000</td>\n    </tr>\n    <tr>\n      <th>999981</th>\n      <td>2.000000</td>\n      <td>22750.000000</td>\n    </tr>\n    <tr>\n      <th>999990</th>\n      <td>3.000000</td>\n      <td>28000.000000</td>\n    </tr>\n    <tr>\n      <th>999995</th>\n      <td>2.000000</td>\n      <td>27000.000000</td>\n    </tr>\n    <tr>\n      <th>999997</th>\n      <td>2.000000</td>\n      <td>13000.000000</td>\n    </tr>\n  </tbody>\n</table>\n<p>64000 rows × 2 columns</p>\n</div>"
     },
     "execution_count": 8,
     "metadata": {},
     "output_type": "execute_result"
    }
   ],
   "source": [
    "data.groupby(\"id\").mean()"
   ],
   "metadata": {
    "collapsed": false,
    "ExecuteTime": {
     "start_time": "2023-05-08T09:43:54.047735Z",
     "end_time": "2023-05-08T09:43:54.094640Z"
    }
   }
  },
  {
   "cell_type": "code",
   "execution_count": 10,
   "outputs": [
    {
     "data": {
      "text/plain": "       num_item                                                total_amount  \\\n          count      mean       std  min   25%  50%   75%  max        count   \nid                                                                            \n100001      2.0  3.500000  0.707107  3.0  3.25  3.5  3.75  4.0          2.0   \n100008      1.0  5.000000       NaN  5.0  5.00  5.0  5.00  5.0          1.0   \n100032      3.0  2.666667  2.081666  1.0  1.50  2.0  3.50  5.0          3.0   \n100036      5.0  3.000000  1.581139  1.0  2.00  3.0  4.00  5.0          5.0   \n100070      4.0  3.250000  1.500000  2.0  2.00  3.0  4.25  5.0          4.0   \n...         ...       ...       ...  ...   ...  ...   ...  ...          ...   \n999932      1.0  5.000000       NaN  5.0  5.00  5.0  5.00  5.0          1.0   \n999981      4.0  2.000000  0.816497  1.0  1.75  2.0  2.25  3.0          4.0   \n999990      3.0  3.000000  1.000000  2.0  2.50  3.0  3.50  4.0          3.0   \n999995      1.0  2.000000       NaN  2.0  2.00  2.0  2.00  2.0          1.0   \n999997      1.0  2.000000       NaN  2.0  2.00  2.0  2.00  2.0          1.0   \n\n                                                                        \\\n                mean           std      min      25%      50%      75%   \nid                                                                       \n100001  26000.000000   2828.427125  24000.0  25000.0  26000.0  27000.0   \n100008  26000.000000           NaN  26000.0  26000.0  26000.0  26000.0   \n100032  20666.666667   8736.894948  11000.0  17000.0  23000.0  25500.0   \n100036  25800.000000  11344.602241   8000.0  21000.0  32000.0  33000.0   \n100070  21250.000000   7932.002690  13000.0  16000.0  20500.0  25750.0   \n...              ...           ...      ...      ...      ...      ...   \n999932  32000.000000           NaN  32000.0  32000.0  32000.0  32000.0   \n999981  22750.000000  10078.855755   9000.0  19500.0  24500.0  27750.0   \n999990  28000.000000   5291.502622  22000.0  26000.0  30000.0  31000.0   \n999995  27000.000000           NaN  27000.0  27000.0  27000.0  27000.0   \n999997  13000.000000           NaN  13000.0  13000.0  13000.0  13000.0   \n\n                 \n            max  \nid               \n100001  28000.0  \n100008  26000.0  \n100032  28000.0  \n100036  35000.0  \n100070  31000.0  \n...         ...  \n999932  32000.0  \n999981  33000.0  \n999990  32000.0  \n999995  27000.0  \n999997  13000.0  \n\n[64000 rows x 16 columns]",
      "text/html": "<div>\n<style scoped>\n    .dataframe tbody tr th:only-of-type {\n        vertical-align: middle;\n    }\n\n    .dataframe tbody tr th {\n        vertical-align: top;\n    }\n\n    .dataframe thead tr th {\n        text-align: left;\n    }\n\n    .dataframe thead tr:last-of-type th {\n        text-align: right;\n    }\n</style>\n<table border=\"1\" class=\"dataframe\">\n  <thead>\n    <tr>\n      <th></th>\n      <th colspan=\"8\" halign=\"left\">num_item</th>\n      <th colspan=\"8\" halign=\"left\">total_amount</th>\n    </tr>\n    <tr>\n      <th></th>\n      <th>count</th>\n      <th>mean</th>\n      <th>std</th>\n      <th>min</th>\n      <th>25%</th>\n      <th>50%</th>\n      <th>75%</th>\n      <th>max</th>\n      <th>count</th>\n      <th>mean</th>\n      <th>std</th>\n      <th>min</th>\n      <th>25%</th>\n      <th>50%</th>\n      <th>75%</th>\n      <th>max</th>\n    </tr>\n    <tr>\n      <th>id</th>\n      <th></th>\n      <th></th>\n      <th></th>\n      <th></th>\n      <th></th>\n      <th></th>\n      <th></th>\n      <th></th>\n      <th></th>\n      <th></th>\n      <th></th>\n      <th></th>\n      <th></th>\n      <th></th>\n      <th></th>\n      <th></th>\n    </tr>\n  </thead>\n  <tbody>\n    <tr>\n      <th>100001</th>\n      <td>2.0</td>\n      <td>3.500000</td>\n      <td>0.707107</td>\n      <td>3.0</td>\n      <td>3.25</td>\n      <td>3.5</td>\n      <td>3.75</td>\n      <td>4.0</td>\n      <td>2.0</td>\n      <td>26000.000000</td>\n      <td>2828.427125</td>\n      <td>24000.0</td>\n      <td>25000.0</td>\n      <td>26000.0</td>\n      <td>27000.0</td>\n      <td>28000.0</td>\n    </tr>\n    <tr>\n      <th>100008</th>\n      <td>1.0</td>\n      <td>5.000000</td>\n      <td>NaN</td>\n      <td>5.0</td>\n      <td>5.00</td>\n      <td>5.0</td>\n      <td>5.00</td>\n      <td>5.0</td>\n      <td>1.0</td>\n      <td>26000.000000</td>\n      <td>NaN</td>\n      <td>26000.0</td>\n      <td>26000.0</td>\n      <td>26000.0</td>\n      <td>26000.0</td>\n      <td>26000.0</td>\n    </tr>\n    <tr>\n      <th>100032</th>\n      <td>3.0</td>\n      <td>2.666667</td>\n      <td>2.081666</td>\n      <td>1.0</td>\n      <td>1.50</td>\n      <td>2.0</td>\n      <td>3.50</td>\n      <td>5.0</td>\n      <td>3.0</td>\n      <td>20666.666667</td>\n      <td>8736.894948</td>\n      <td>11000.0</td>\n      <td>17000.0</td>\n      <td>23000.0</td>\n      <td>25500.0</td>\n      <td>28000.0</td>\n    </tr>\n    <tr>\n      <th>100036</th>\n      <td>5.0</td>\n      <td>3.000000</td>\n      <td>1.581139</td>\n      <td>1.0</td>\n      <td>2.00</td>\n      <td>3.0</td>\n      <td>4.00</td>\n      <td>5.0</td>\n      <td>5.0</td>\n      <td>25800.000000</td>\n      <td>11344.602241</td>\n      <td>8000.0</td>\n      <td>21000.0</td>\n      <td>32000.0</td>\n      <td>33000.0</td>\n      <td>35000.0</td>\n    </tr>\n    <tr>\n      <th>100070</th>\n      <td>4.0</td>\n      <td>3.250000</td>\n      <td>1.500000</td>\n      <td>2.0</td>\n      <td>2.00</td>\n      <td>3.0</td>\n      <td>4.25</td>\n      <td>5.0</td>\n      <td>4.0</td>\n      <td>21250.000000</td>\n      <td>7932.002690</td>\n      <td>13000.0</td>\n      <td>16000.0</td>\n      <td>20500.0</td>\n      <td>25750.0</td>\n      <td>31000.0</td>\n    </tr>\n    <tr>\n      <th>...</th>\n      <td>...</td>\n      <td>...</td>\n      <td>...</td>\n      <td>...</td>\n      <td>...</td>\n      <td>...</td>\n      <td>...</td>\n      <td>...</td>\n      <td>...</td>\n      <td>...</td>\n      <td>...</td>\n      <td>...</td>\n      <td>...</td>\n      <td>...</td>\n      <td>...</td>\n      <td>...</td>\n    </tr>\n    <tr>\n      <th>999932</th>\n      <td>1.0</td>\n      <td>5.000000</td>\n      <td>NaN</td>\n      <td>5.0</td>\n      <td>5.00</td>\n      <td>5.0</td>\n      <td>5.00</td>\n      <td>5.0</td>\n      <td>1.0</td>\n      <td>32000.000000</td>\n      <td>NaN</td>\n      <td>32000.0</td>\n      <td>32000.0</td>\n      <td>32000.0</td>\n      <td>32000.0</td>\n      <td>32000.0</td>\n    </tr>\n    <tr>\n      <th>999981</th>\n      <td>4.0</td>\n      <td>2.000000</td>\n      <td>0.816497</td>\n      <td>1.0</td>\n      <td>1.75</td>\n      <td>2.0</td>\n      <td>2.25</td>\n      <td>3.0</td>\n      <td>4.0</td>\n      <td>22750.000000</td>\n      <td>10078.855755</td>\n      <td>9000.0</td>\n      <td>19500.0</td>\n      <td>24500.0</td>\n      <td>27750.0</td>\n      <td>33000.0</td>\n    </tr>\n    <tr>\n      <th>999990</th>\n      <td>3.0</td>\n      <td>3.000000</td>\n      <td>1.000000</td>\n      <td>2.0</td>\n      <td>2.50</td>\n      <td>3.0</td>\n      <td>3.50</td>\n      <td>4.0</td>\n      <td>3.0</td>\n      <td>28000.000000</td>\n      <td>5291.502622</td>\n      <td>22000.0</td>\n      <td>26000.0</td>\n      <td>30000.0</td>\n      <td>31000.0</td>\n      <td>32000.0</td>\n    </tr>\n    <tr>\n      <th>999995</th>\n      <td>1.0</td>\n      <td>2.000000</td>\n      <td>NaN</td>\n      <td>2.0</td>\n      <td>2.00</td>\n      <td>2.0</td>\n      <td>2.00</td>\n      <td>2.0</td>\n      <td>1.0</td>\n      <td>27000.000000</td>\n      <td>NaN</td>\n      <td>27000.0</td>\n      <td>27000.0</td>\n      <td>27000.0</td>\n      <td>27000.0</td>\n      <td>27000.0</td>\n    </tr>\n    <tr>\n      <th>999997</th>\n      <td>1.0</td>\n      <td>2.000000</td>\n      <td>NaN</td>\n      <td>2.0</td>\n      <td>2.00</td>\n      <td>2.0</td>\n      <td>2.00</td>\n      <td>2.0</td>\n      <td>1.0</td>\n      <td>13000.000000</td>\n      <td>NaN</td>\n      <td>13000.0</td>\n      <td>13000.0</td>\n      <td>13000.0</td>\n      <td>13000.0</td>\n      <td>13000.0</td>\n    </tr>\n  </tbody>\n</table>\n<p>64000 rows × 16 columns</p>\n</div>"
     },
     "execution_count": 10,
     "metadata": {},
     "output_type": "execute_result"
    }
   ],
   "source": [
    "data.groupby(\"id\").describe()"
   ],
   "metadata": {
    "collapsed": false,
    "ExecuteTime": {
     "start_time": "2023-05-08T09:56:37.147964Z",
     "end_time": "2023-05-08T09:56:37.325558Z"
    }
   }
  },
  {
   "cell_type": "code",
   "execution_count": 12,
   "outputs": [],
   "source": [
    "data = data.head(1000)"
   ],
   "metadata": {
    "collapsed": false,
    "ExecuteTime": {
     "start_time": "2023-05-08T10:03:12.128514Z",
     "end_time": "2023-05-08T10:03:12.159801Z"
    }
   }
  },
  {
   "cell_type": "code",
   "execution_count": 13,
   "outputs": [
    {
     "data": {
      "text/plain": "         id  num_item  total_amount\n0    906145         5         34000\n1    906145         1         27000\n2    906145         4         33000\n3    184478         4         29000\n4    394235         4         33000\n..      ...       ...           ...\n995  403475         2         24000\n996  403475         3         34000\n997  324592         5         26000\n998  324592         5         16000\n999  324592         3         24000\n\n[1000 rows x 3 columns]",
      "text/html": "<div>\n<style scoped>\n    .dataframe tbody tr th:only-of-type {\n        vertical-align: middle;\n    }\n\n    .dataframe tbody tr th {\n        vertical-align: top;\n    }\n\n    .dataframe thead th {\n        text-align: right;\n    }\n</style>\n<table border=\"1\" class=\"dataframe\">\n  <thead>\n    <tr style=\"text-align: right;\">\n      <th></th>\n      <th>id</th>\n      <th>num_item</th>\n      <th>total_amount</th>\n    </tr>\n  </thead>\n  <tbody>\n    <tr>\n      <th>0</th>\n      <td>906145</td>\n      <td>5</td>\n      <td>34000</td>\n    </tr>\n    <tr>\n      <th>1</th>\n      <td>906145</td>\n      <td>1</td>\n      <td>27000</td>\n    </tr>\n    <tr>\n      <th>2</th>\n      <td>906145</td>\n      <td>4</td>\n      <td>33000</td>\n    </tr>\n    <tr>\n      <th>3</th>\n      <td>184478</td>\n      <td>4</td>\n      <td>29000</td>\n    </tr>\n    <tr>\n      <th>4</th>\n      <td>394235</td>\n      <td>4</td>\n      <td>33000</td>\n    </tr>\n    <tr>\n      <th>...</th>\n      <td>...</td>\n      <td>...</td>\n      <td>...</td>\n    </tr>\n    <tr>\n      <th>995</th>\n      <td>403475</td>\n      <td>2</td>\n      <td>24000</td>\n    </tr>\n    <tr>\n      <th>996</th>\n      <td>403475</td>\n      <td>3</td>\n      <td>34000</td>\n    </tr>\n    <tr>\n      <th>997</th>\n      <td>324592</td>\n      <td>5</td>\n      <td>26000</td>\n    </tr>\n    <tr>\n      <th>998</th>\n      <td>324592</td>\n      <td>5</td>\n      <td>16000</td>\n    </tr>\n    <tr>\n      <th>999</th>\n      <td>324592</td>\n      <td>3</td>\n      <td>24000</td>\n    </tr>\n  </tbody>\n</table>\n<p>1000 rows × 3 columns</p>\n</div>"
     },
     "execution_count": 13,
     "metadata": {},
     "output_type": "execute_result"
    }
   ],
   "source": [
    "data"
   ],
   "metadata": {
    "collapsed": false,
    "ExecuteTime": {
     "start_time": "2023-05-08T10:03:16.100472Z",
     "end_time": "2023-05-08T10:03:16.131758Z"
    }
   }
  },
  {
   "cell_type": "code",
   "execution_count": 15,
   "outputs": [],
   "source": [
    "data.set_index(\"id\", inplace=True)\n",
    "# data = data.set_index(\"id\")"
   ],
   "metadata": {
    "collapsed": false,
    "ExecuteTime": {
     "start_time": "2023-05-08T10:05:16.027842Z",
     "end_time": "2023-05-08T10:05:16.043463Z"
    }
   }
  },
  {
   "cell_type": "code",
   "execution_count": 16,
   "outputs": [
    {
     "data": {
      "text/plain": "        num_item  total_amount\nid                            \n906145         5         34000\n906145         1         27000\n906145         4         33000\n184478         4         29000\n394235         4         33000\n...          ...           ...\n403475         2         24000\n403475         3         34000\n324592         5         26000\n324592         5         16000\n324592         3         24000\n\n[1000 rows x 2 columns]",
      "text/html": "<div>\n<style scoped>\n    .dataframe tbody tr th:only-of-type {\n        vertical-align: middle;\n    }\n\n    .dataframe tbody tr th {\n        vertical-align: top;\n    }\n\n    .dataframe thead th {\n        text-align: right;\n    }\n</style>\n<table border=\"1\" class=\"dataframe\">\n  <thead>\n    <tr style=\"text-align: right;\">\n      <th></th>\n      <th>num_item</th>\n      <th>total_amount</th>\n    </tr>\n    <tr>\n      <th>id</th>\n      <th></th>\n      <th></th>\n    </tr>\n  </thead>\n  <tbody>\n    <tr>\n      <th>906145</th>\n      <td>5</td>\n      <td>34000</td>\n    </tr>\n    <tr>\n      <th>906145</th>\n      <td>1</td>\n      <td>27000</td>\n    </tr>\n    <tr>\n      <th>906145</th>\n      <td>4</td>\n      <td>33000</td>\n    </tr>\n    <tr>\n      <th>184478</th>\n      <td>4</td>\n      <td>29000</td>\n    </tr>\n    <tr>\n      <th>394235</th>\n      <td>4</td>\n      <td>33000</td>\n    </tr>\n    <tr>\n      <th>...</th>\n      <td>...</td>\n      <td>...</td>\n    </tr>\n    <tr>\n      <th>403475</th>\n      <td>2</td>\n      <td>24000</td>\n    </tr>\n    <tr>\n      <th>403475</th>\n      <td>3</td>\n      <td>34000</td>\n    </tr>\n    <tr>\n      <th>324592</th>\n      <td>5</td>\n      <td>26000</td>\n    </tr>\n    <tr>\n      <th>324592</th>\n      <td>5</td>\n      <td>16000</td>\n    </tr>\n    <tr>\n      <th>324592</th>\n      <td>3</td>\n      <td>24000</td>\n    </tr>\n  </tbody>\n</table>\n<p>1000 rows × 2 columns</p>\n</div>"
     },
     "execution_count": 16,
     "metadata": {},
     "output_type": "execute_result"
    }
   ],
   "source": [
    "data"
   ],
   "metadata": {
    "collapsed": false,
    "ExecuteTime": {
     "start_time": "2023-05-08T10:05:17.880655Z",
     "end_time": "2023-05-08T10:05:17.927634Z"
    }
   }
  },
  {
   "cell_type": "code",
   "execution_count": 17,
   "outputs": [
    {
     "data": {
      "text/plain": "         id  num_item  total_amount\n0    906145         5         34000\n1    906145         1         27000\n2    906145         4         33000\n3    184478         4         29000\n4    394235         4         33000\n..      ...       ...           ...\n995  403475         2         24000\n996  403475         3         34000\n997  324592         5         26000\n998  324592         5         16000\n999  324592         3         24000\n\n[1000 rows x 3 columns]",
      "text/html": "<div>\n<style scoped>\n    .dataframe tbody tr th:only-of-type {\n        vertical-align: middle;\n    }\n\n    .dataframe tbody tr th {\n        vertical-align: top;\n    }\n\n    .dataframe thead th {\n        text-align: right;\n    }\n</style>\n<table border=\"1\" class=\"dataframe\">\n  <thead>\n    <tr style=\"text-align: right;\">\n      <th></th>\n      <th>id</th>\n      <th>num_item</th>\n      <th>total_amount</th>\n    </tr>\n  </thead>\n  <tbody>\n    <tr>\n      <th>0</th>\n      <td>906145</td>\n      <td>5</td>\n      <td>34000</td>\n    </tr>\n    <tr>\n      <th>1</th>\n      <td>906145</td>\n      <td>1</td>\n      <td>27000</td>\n    </tr>\n    <tr>\n      <th>2</th>\n      <td>906145</td>\n      <td>4</td>\n      <td>33000</td>\n    </tr>\n    <tr>\n      <th>3</th>\n      <td>184478</td>\n      <td>4</td>\n      <td>29000</td>\n    </tr>\n    <tr>\n      <th>4</th>\n      <td>394235</td>\n      <td>4</td>\n      <td>33000</td>\n    </tr>\n    <tr>\n      <th>...</th>\n      <td>...</td>\n      <td>...</td>\n      <td>...</td>\n    </tr>\n    <tr>\n      <th>995</th>\n      <td>403475</td>\n      <td>2</td>\n      <td>24000</td>\n    </tr>\n    <tr>\n      <th>996</th>\n      <td>403475</td>\n      <td>3</td>\n      <td>34000</td>\n    </tr>\n    <tr>\n      <th>997</th>\n      <td>324592</td>\n      <td>5</td>\n      <td>26000</td>\n    </tr>\n    <tr>\n      <th>998</th>\n      <td>324592</td>\n      <td>5</td>\n      <td>16000</td>\n    </tr>\n    <tr>\n      <th>999</th>\n      <td>324592</td>\n      <td>3</td>\n      <td>24000</td>\n    </tr>\n  </tbody>\n</table>\n<p>1000 rows × 3 columns</p>\n</div>"
     },
     "execution_count": 17,
     "metadata": {},
     "output_type": "execute_result"
    }
   ],
   "source": [
    "data.reset_index()"
   ],
   "metadata": {
    "collapsed": false,
    "ExecuteTime": {
     "start_time": "2023-05-08T10:06:12.609774Z",
     "end_time": "2023-05-08T10:06:12.734782Z"
    }
   }
  },
  {
   "cell_type": "code",
   "execution_count": 18,
   "outputs": [
    {
     "data": {
      "text/plain": "     num_item  total_amount\n0           5         34000\n1           1         27000\n2           4         33000\n3           4         29000\n4           4         33000\n..        ...           ...\n995         2         24000\n996         3         34000\n997         5         26000\n998         5         16000\n999         3         24000\n\n[1000 rows x 2 columns]",
      "text/html": "<div>\n<style scoped>\n    .dataframe tbody tr th:only-of-type {\n        vertical-align: middle;\n    }\n\n    .dataframe tbody tr th {\n        vertical-align: top;\n    }\n\n    .dataframe thead th {\n        text-align: right;\n    }\n</style>\n<table border=\"1\" class=\"dataframe\">\n  <thead>\n    <tr style=\"text-align: right;\">\n      <th></th>\n      <th>num_item</th>\n      <th>total_amount</th>\n    </tr>\n  </thead>\n  <tbody>\n    <tr>\n      <th>0</th>\n      <td>5</td>\n      <td>34000</td>\n    </tr>\n    <tr>\n      <th>1</th>\n      <td>1</td>\n      <td>27000</td>\n    </tr>\n    <tr>\n      <th>2</th>\n      <td>4</td>\n      <td>33000</td>\n    </tr>\n    <tr>\n      <th>3</th>\n      <td>4</td>\n      <td>29000</td>\n    </tr>\n    <tr>\n      <th>4</th>\n      <td>4</td>\n      <td>33000</td>\n    </tr>\n    <tr>\n      <th>...</th>\n      <td>...</td>\n      <td>...</td>\n    </tr>\n    <tr>\n      <th>995</th>\n      <td>2</td>\n      <td>24000</td>\n    </tr>\n    <tr>\n      <th>996</th>\n      <td>3</td>\n      <td>34000</td>\n    </tr>\n    <tr>\n      <th>997</th>\n      <td>5</td>\n      <td>26000</td>\n    </tr>\n    <tr>\n      <th>998</th>\n      <td>5</td>\n      <td>16000</td>\n    </tr>\n    <tr>\n      <th>999</th>\n      <td>3</td>\n      <td>24000</td>\n    </tr>\n  </tbody>\n</table>\n<p>1000 rows × 2 columns</p>\n</div>"
     },
     "execution_count": 18,
     "metadata": {},
     "output_type": "execute_result"
    }
   ],
   "source": [
    "# data.reset_index().drop(\"id\")\n",
    "data.reset_index(drop=True)"
   ],
   "metadata": {
    "collapsed": false,
    "ExecuteTime": {
     "start_time": "2023-05-08T10:07:05.745671Z",
     "end_time": "2023-05-08T10:07:05.770609Z"
    }
   }
  },
  {
   "cell_type": "code",
   "execution_count": 20,
   "outputs": [
    {
     "data": {
      "text/plain": "         id  num_item  total_amount\n0    101354         8         81000\n1    102658        13         98000\n2    103128         4         69000\n3    103308         9         53000\n4    107253        11         67000\n..      ...       ...           ...\n336  980721        11         66000\n337  982341         3         27000\n338  982358         8         73000\n339  990129         2         17000\n340  993410        13         94000\n\n[341 rows x 3 columns]",
      "text/html": "<div>\n<style scoped>\n    .dataframe tbody tr th:only-of-type {\n        vertical-align: middle;\n    }\n\n    .dataframe tbody tr th {\n        vertical-align: top;\n    }\n\n    .dataframe thead th {\n        text-align: right;\n    }\n</style>\n<table border=\"1\" class=\"dataframe\">\n  <thead>\n    <tr style=\"text-align: right;\">\n      <th></th>\n      <th>id</th>\n      <th>num_item</th>\n      <th>total_amount</th>\n    </tr>\n  </thead>\n  <tbody>\n    <tr>\n      <th>0</th>\n      <td>101354</td>\n      <td>8</td>\n      <td>81000</td>\n    </tr>\n    <tr>\n      <th>1</th>\n      <td>102658</td>\n      <td>13</td>\n      <td>98000</td>\n    </tr>\n    <tr>\n      <th>2</th>\n      <td>103128</td>\n      <td>4</td>\n      <td>69000</td>\n    </tr>\n    <tr>\n      <th>3</th>\n      <td>103308</td>\n      <td>9</td>\n      <td>53000</td>\n    </tr>\n    <tr>\n      <th>4</th>\n      <td>107253</td>\n      <td>11</td>\n      <td>67000</td>\n    </tr>\n    <tr>\n      <th>...</th>\n      <td>...</td>\n      <td>...</td>\n      <td>...</td>\n    </tr>\n    <tr>\n      <th>336</th>\n      <td>980721</td>\n      <td>11</td>\n      <td>66000</td>\n    </tr>\n    <tr>\n      <th>337</th>\n      <td>982341</td>\n      <td>3</td>\n      <td>27000</td>\n    </tr>\n    <tr>\n      <th>338</th>\n      <td>982358</td>\n      <td>8</td>\n      <td>73000</td>\n    </tr>\n    <tr>\n      <th>339</th>\n      <td>990129</td>\n      <td>2</td>\n      <td>17000</td>\n    </tr>\n    <tr>\n      <th>340</th>\n      <td>993410</td>\n      <td>13</td>\n      <td>94000</td>\n    </tr>\n  </tbody>\n</table>\n<p>341 rows × 3 columns</p>\n</div>"
     },
     "execution_count": 20,
     "metadata": {},
     "output_type": "execute_result"
    }
   ],
   "source": [
    "data.groupby(\"id\").sum().reset_index()"
   ],
   "metadata": {
    "collapsed": false,
    "ExecuteTime": {
     "start_time": "2023-05-08T10:10:05.062512Z",
     "end_time": "2023-05-08T10:10:05.109491Z"
    }
   }
  },
  {
   "cell_type": "markdown",
   "source": [
    "# 데이터 병합하기"
   ],
   "metadata": {
    "collapsed": false
   }
  },
  {
   "cell_type": "code",
   "execution_count": 33,
   "outputs": [],
   "source": [
    "dict1 = {\"A\": [1, 3, 5, 7, 9],\n",
    "         \"B\": [2, 3, 4, 5, 6],\n",
    "         \"C\": [10, 20, 30, 40, 50],\n",
    "         \"D\": [1000, 2000, 3000, 40000, 5000]}\n",
    "\n",
    "dict2 = {\"A\": [10, 30, 50, 70, 90],\n",
    "         \"B\": [200, 300, 400, 500, 600],\n",
    "         \"C\": [1, 2, 3, 4, 5],\n",
    "         \"D\": [11, 22, 33, 44, 55]}\n",
    "\n",
    "df1 = pd.DataFrame(dict1, index=[1, 2, 3, 4, 5])\n",
    "df2 = pd.DataFrame(dict2, index=[6, 7, 8, 9, 10])"
   ],
   "metadata": {
    "collapsed": false,
    "ExecuteTime": {
     "start_time": "2023-05-08T10:21:39.744871Z",
     "end_time": "2023-05-08T10:21:39.776213Z"
    }
   }
  },
  {
   "cell_type": "code",
   "execution_count": 24,
   "outputs": [
    {
     "data": {
      "text/plain": "   A  B   C      D\n1  1  2  10   1000\n2  3  3  20   2000\n3  5  4  30   3000\n4  7  5  40  40000\n5  9  6  50   5000",
      "text/html": "<div>\n<style scoped>\n    .dataframe tbody tr th:only-of-type {\n        vertical-align: middle;\n    }\n\n    .dataframe tbody tr th {\n        vertical-align: top;\n    }\n\n    .dataframe thead th {\n        text-align: right;\n    }\n</style>\n<table border=\"1\" class=\"dataframe\">\n  <thead>\n    <tr style=\"text-align: right;\">\n      <th></th>\n      <th>A</th>\n      <th>B</th>\n      <th>C</th>\n      <th>D</th>\n    </tr>\n  </thead>\n  <tbody>\n    <tr>\n      <th>1</th>\n      <td>1</td>\n      <td>2</td>\n      <td>10</td>\n      <td>1000</td>\n    </tr>\n    <tr>\n      <th>2</th>\n      <td>3</td>\n      <td>3</td>\n      <td>20</td>\n      <td>2000</td>\n    </tr>\n    <tr>\n      <th>3</th>\n      <td>5</td>\n      <td>4</td>\n      <td>30</td>\n      <td>3000</td>\n    </tr>\n    <tr>\n      <th>4</th>\n      <td>7</td>\n      <td>5</td>\n      <td>40</td>\n      <td>40000</td>\n    </tr>\n    <tr>\n      <th>5</th>\n      <td>9</td>\n      <td>6</td>\n      <td>50</td>\n      <td>5000</td>\n    </tr>\n  </tbody>\n</table>\n</div>"
     },
     "execution_count": 24,
     "metadata": {},
     "output_type": "execute_result"
    }
   ],
   "source": [
    "df1"
   ],
   "metadata": {
    "collapsed": false,
    "ExecuteTime": {
     "start_time": "2023-05-08T10:15:57.813267Z",
     "end_time": "2023-05-08T10:15:57.842764Z"
    }
   }
  },
  {
   "cell_type": "code",
   "execution_count": 25,
   "outputs": [
    {
     "data": {
      "text/plain": "     A    B  C   D\n6   10  200  1  11\n7   30  300  2  22\n8   50  400  3  33\n9   70  500  4  44\n10  90  600  5  55",
      "text/html": "<div>\n<style scoped>\n    .dataframe tbody tr th:only-of-type {\n        vertical-align: middle;\n    }\n\n    .dataframe tbody tr th {\n        vertical-align: top;\n    }\n\n    .dataframe thead th {\n        text-align: right;\n    }\n</style>\n<table border=\"1\" class=\"dataframe\">\n  <thead>\n    <tr style=\"text-align: right;\">\n      <th></th>\n      <th>A</th>\n      <th>B</th>\n      <th>C</th>\n      <th>D</th>\n    </tr>\n  </thead>\n  <tbody>\n    <tr>\n      <th>6</th>\n      <td>10</td>\n      <td>200</td>\n      <td>1</td>\n      <td>11</td>\n    </tr>\n    <tr>\n      <th>7</th>\n      <td>30</td>\n      <td>300</td>\n      <td>2</td>\n      <td>22</td>\n    </tr>\n    <tr>\n      <th>8</th>\n      <td>50</td>\n      <td>400</td>\n      <td>3</td>\n      <td>33</td>\n    </tr>\n    <tr>\n      <th>9</th>\n      <td>70</td>\n      <td>500</td>\n      <td>4</td>\n      <td>44</td>\n    </tr>\n    <tr>\n      <th>10</th>\n      <td>90</td>\n      <td>600</td>\n      <td>5</td>\n      <td>55</td>\n    </tr>\n  </tbody>\n</table>\n</div>"
     },
     "execution_count": 25,
     "metadata": {},
     "output_type": "execute_result"
    }
   ],
   "source": [
    "df2"
   ],
   "metadata": {
    "collapsed": false,
    "ExecuteTime": {
     "start_time": "2023-05-08T10:16:02.944845Z",
     "end_time": "2023-05-08T10:16:03.006243Z"
    }
   }
  },
  {
   "cell_type": "code",
   "execution_count": 26,
   "outputs": [
    {
     "data": {
      "text/plain": "     A    B   C      D\n1    1    2  10   1000\n2    3    3  20   2000\n3    5    4  30   3000\n4    7    5  40  40000\n5    9    6  50   5000\n6   10  200   1     11\n7   30  300   2     22\n8   50  400   3     33\n9   70  500   4     44\n10  90  600   5     55",
      "text/html": "<div>\n<style scoped>\n    .dataframe tbody tr th:only-of-type {\n        vertical-align: middle;\n    }\n\n    .dataframe tbody tr th {\n        vertical-align: top;\n    }\n\n    .dataframe thead th {\n        text-align: right;\n    }\n</style>\n<table border=\"1\" class=\"dataframe\">\n  <thead>\n    <tr style=\"text-align: right;\">\n      <th></th>\n      <th>A</th>\n      <th>B</th>\n      <th>C</th>\n      <th>D</th>\n    </tr>\n  </thead>\n  <tbody>\n    <tr>\n      <th>1</th>\n      <td>1</td>\n      <td>2</td>\n      <td>10</td>\n      <td>1000</td>\n    </tr>\n    <tr>\n      <th>2</th>\n      <td>3</td>\n      <td>3</td>\n      <td>20</td>\n      <td>2000</td>\n    </tr>\n    <tr>\n      <th>3</th>\n      <td>5</td>\n      <td>4</td>\n      <td>30</td>\n      <td>3000</td>\n    </tr>\n    <tr>\n      <th>4</th>\n      <td>7</td>\n      <td>5</td>\n      <td>40</td>\n      <td>40000</td>\n    </tr>\n    <tr>\n      <th>5</th>\n      <td>9</td>\n      <td>6</td>\n      <td>50</td>\n      <td>5000</td>\n    </tr>\n    <tr>\n      <th>6</th>\n      <td>10</td>\n      <td>200</td>\n      <td>1</td>\n      <td>11</td>\n    </tr>\n    <tr>\n      <th>7</th>\n      <td>30</td>\n      <td>300</td>\n      <td>2</td>\n      <td>22</td>\n    </tr>\n    <tr>\n      <th>8</th>\n      <td>50</td>\n      <td>400</td>\n      <td>3</td>\n      <td>33</td>\n    </tr>\n    <tr>\n      <th>9</th>\n      <td>70</td>\n      <td>500</td>\n      <td>4</td>\n      <td>44</td>\n    </tr>\n    <tr>\n      <th>10</th>\n      <td>90</td>\n      <td>600</td>\n      <td>5</td>\n      <td>55</td>\n    </tr>\n  </tbody>\n</table>\n</div>"
     },
     "execution_count": 26,
     "metadata": {},
     "output_type": "execute_result"
    }
   ],
   "source": [
    "pd.concat([df1, df2])"
   ],
   "metadata": {
    "collapsed": false,
    "ExecuteTime": {
     "start_time": "2023-05-08T10:17:14.386282Z",
     "end_time": "2023-05-08T10:17:14.442315Z"
    }
   }
  },
  {
   "cell_type": "code",
   "execution_count": 27,
   "outputs": [
    {
     "data": {
      "text/plain": "      A    B     C        D     A      B    C     D\n1   1.0  2.0  10.0   1000.0   NaN    NaN  NaN   NaN\n2   3.0  3.0  20.0   2000.0   NaN    NaN  NaN   NaN\n3   5.0  4.0  30.0   3000.0   NaN    NaN  NaN   NaN\n4   7.0  5.0  40.0  40000.0   NaN    NaN  NaN   NaN\n5   9.0  6.0  50.0   5000.0   NaN    NaN  NaN   NaN\n6   NaN  NaN   NaN      NaN  10.0  200.0  1.0  11.0\n7   NaN  NaN   NaN      NaN  30.0  300.0  2.0  22.0\n8   NaN  NaN   NaN      NaN  50.0  400.0  3.0  33.0\n9   NaN  NaN   NaN      NaN  70.0  500.0  4.0  44.0\n10  NaN  NaN   NaN      NaN  90.0  600.0  5.0  55.0",
      "text/html": "<div>\n<style scoped>\n    .dataframe tbody tr th:only-of-type {\n        vertical-align: middle;\n    }\n\n    .dataframe tbody tr th {\n        vertical-align: top;\n    }\n\n    .dataframe thead th {\n        text-align: right;\n    }\n</style>\n<table border=\"1\" class=\"dataframe\">\n  <thead>\n    <tr style=\"text-align: right;\">\n      <th></th>\n      <th>A</th>\n      <th>B</th>\n      <th>C</th>\n      <th>D</th>\n      <th>A</th>\n      <th>B</th>\n      <th>C</th>\n      <th>D</th>\n    </tr>\n  </thead>\n  <tbody>\n    <tr>\n      <th>1</th>\n      <td>1.0</td>\n      <td>2.0</td>\n      <td>10.0</td>\n      <td>1000.0</td>\n      <td>NaN</td>\n      <td>NaN</td>\n      <td>NaN</td>\n      <td>NaN</td>\n    </tr>\n    <tr>\n      <th>2</th>\n      <td>3.0</td>\n      <td>3.0</td>\n      <td>20.0</td>\n      <td>2000.0</td>\n      <td>NaN</td>\n      <td>NaN</td>\n      <td>NaN</td>\n      <td>NaN</td>\n    </tr>\n    <tr>\n      <th>3</th>\n      <td>5.0</td>\n      <td>4.0</td>\n      <td>30.0</td>\n      <td>3000.0</td>\n      <td>NaN</td>\n      <td>NaN</td>\n      <td>NaN</td>\n      <td>NaN</td>\n    </tr>\n    <tr>\n      <th>4</th>\n      <td>7.0</td>\n      <td>5.0</td>\n      <td>40.0</td>\n      <td>40000.0</td>\n      <td>NaN</td>\n      <td>NaN</td>\n      <td>NaN</td>\n      <td>NaN</td>\n    </tr>\n    <tr>\n      <th>5</th>\n      <td>9.0</td>\n      <td>6.0</td>\n      <td>50.0</td>\n      <td>5000.0</td>\n      <td>NaN</td>\n      <td>NaN</td>\n      <td>NaN</td>\n      <td>NaN</td>\n    </tr>\n    <tr>\n      <th>6</th>\n      <td>NaN</td>\n      <td>NaN</td>\n      <td>NaN</td>\n      <td>NaN</td>\n      <td>10.0</td>\n      <td>200.0</td>\n      <td>1.0</td>\n      <td>11.0</td>\n    </tr>\n    <tr>\n      <th>7</th>\n      <td>NaN</td>\n      <td>NaN</td>\n      <td>NaN</td>\n      <td>NaN</td>\n      <td>30.0</td>\n      <td>300.0</td>\n      <td>2.0</td>\n      <td>22.0</td>\n    </tr>\n    <tr>\n      <th>8</th>\n      <td>NaN</td>\n      <td>NaN</td>\n      <td>NaN</td>\n      <td>NaN</td>\n      <td>50.0</td>\n      <td>400.0</td>\n      <td>3.0</td>\n      <td>33.0</td>\n    </tr>\n    <tr>\n      <th>9</th>\n      <td>NaN</td>\n      <td>NaN</td>\n      <td>NaN</td>\n      <td>NaN</td>\n      <td>70.0</td>\n      <td>500.0</td>\n      <td>4.0</td>\n      <td>44.0</td>\n    </tr>\n    <tr>\n      <th>10</th>\n      <td>NaN</td>\n      <td>NaN</td>\n      <td>NaN</td>\n      <td>NaN</td>\n      <td>90.0</td>\n      <td>600.0</td>\n      <td>5.0</td>\n      <td>55.0</td>\n    </tr>\n  </tbody>\n</table>\n</div>"
     },
     "execution_count": 27,
     "metadata": {},
     "output_type": "execute_result"
    }
   ],
   "source": [
    "pd.concat([df1, df2], axis=1)"
   ],
   "metadata": {
    "collapsed": false,
    "ExecuteTime": {
     "start_time": "2023-05-08T10:18:24.230286Z",
     "end_time": "2023-05-08T10:18:24.305308Z"
    }
   }
  },
  {
   "cell_type": "code",
   "execution_count": 28,
   "outputs": [
    {
     "data": {
      "text/plain": "Int64Index([1, 2, 3, 4, 5], dtype='int64')"
     },
     "execution_count": 28,
     "metadata": {},
     "output_type": "execute_result"
    }
   ],
   "source": [
    "df1.index"
   ],
   "metadata": {
    "collapsed": false,
    "ExecuteTime": {
     "start_time": "2023-05-08T10:19:36.007568Z",
     "end_time": "2023-05-08T10:19:36.085757Z"
    }
   }
  },
  {
   "cell_type": "code",
   "execution_count": 29,
   "outputs": [
    {
     "data": {
      "text/plain": "Int64Index([6, 7, 8, 9, 10], dtype='int64')"
     },
     "execution_count": 29,
     "metadata": {},
     "output_type": "execute_result"
    }
   ],
   "source": [
    "df2.index"
   ],
   "metadata": {
    "collapsed": false,
    "ExecuteTime": {
     "start_time": "2023-05-08T10:19:39.953744Z",
     "end_time": "2023-05-08T10:19:40.047599Z"
    }
   }
  },
  {
   "cell_type": "code",
   "execution_count": 34,
   "outputs": [],
   "source": [
    "df1 = df1.reset_index(drop=True)\n",
    "df2 = df2.reset_index(drop=True)"
   ],
   "metadata": {
    "collapsed": false,
    "ExecuteTime": {
     "start_time": "2023-05-08T10:21:48.762183Z",
     "end_time": "2023-05-08T10:21:48.809166Z"
    }
   }
  },
  {
   "cell_type": "code",
   "execution_count": 35,
   "outputs": [
    {
     "data": {
      "text/plain": "   A  B   C      D\n0  1  2  10   1000\n1  3  3  20   2000\n2  5  4  30   3000\n3  7  5  40  40000\n4  9  6  50   5000",
      "text/html": "<div>\n<style scoped>\n    .dataframe tbody tr th:only-of-type {\n        vertical-align: middle;\n    }\n\n    .dataframe tbody tr th {\n        vertical-align: top;\n    }\n\n    .dataframe thead th {\n        text-align: right;\n    }\n</style>\n<table border=\"1\" class=\"dataframe\">\n  <thead>\n    <tr style=\"text-align: right;\">\n      <th></th>\n      <th>A</th>\n      <th>B</th>\n      <th>C</th>\n      <th>D</th>\n    </tr>\n  </thead>\n  <tbody>\n    <tr>\n      <th>0</th>\n      <td>1</td>\n      <td>2</td>\n      <td>10</td>\n      <td>1000</td>\n    </tr>\n    <tr>\n      <th>1</th>\n      <td>3</td>\n      <td>3</td>\n      <td>20</td>\n      <td>2000</td>\n    </tr>\n    <tr>\n      <th>2</th>\n      <td>5</td>\n      <td>4</td>\n      <td>30</td>\n      <td>3000</td>\n    </tr>\n    <tr>\n      <th>3</th>\n      <td>7</td>\n      <td>5</td>\n      <td>40</td>\n      <td>40000</td>\n    </tr>\n    <tr>\n      <th>4</th>\n      <td>9</td>\n      <td>6</td>\n      <td>50</td>\n      <td>5000</td>\n    </tr>\n  </tbody>\n</table>\n</div>"
     },
     "execution_count": 35,
     "metadata": {},
     "output_type": "execute_result"
    }
   ],
   "source": [
    "df1"
   ],
   "metadata": {
    "collapsed": false,
    "ExecuteTime": {
     "start_time": "2023-05-08T10:21:50.447374Z",
     "end_time": "2023-05-08T10:21:50.478664Z"
    }
   }
  },
  {
   "cell_type": "code",
   "execution_count": 36,
   "outputs": [
    {
     "data": {
      "text/plain": "   A  B   C      D   A    B  C   D\n0  1  2  10   1000  10  200  1  11\n1  3  3  20   2000  30  300  2  22\n2  5  4  30   3000  50  400  3  33\n3  7  5  40  40000  70  500  4  44\n4  9  6  50   5000  90  600  5  55",
      "text/html": "<div>\n<style scoped>\n    .dataframe tbody tr th:only-of-type {\n        vertical-align: middle;\n    }\n\n    .dataframe tbody tr th {\n        vertical-align: top;\n    }\n\n    .dataframe thead th {\n        text-align: right;\n    }\n</style>\n<table border=\"1\" class=\"dataframe\">\n  <thead>\n    <tr style=\"text-align: right;\">\n      <th></th>\n      <th>A</th>\n      <th>B</th>\n      <th>C</th>\n      <th>D</th>\n      <th>A</th>\n      <th>B</th>\n      <th>C</th>\n      <th>D</th>\n    </tr>\n  </thead>\n  <tbody>\n    <tr>\n      <th>0</th>\n      <td>1</td>\n      <td>2</td>\n      <td>10</td>\n      <td>1000</td>\n      <td>10</td>\n      <td>200</td>\n      <td>1</td>\n      <td>11</td>\n    </tr>\n    <tr>\n      <th>1</th>\n      <td>3</td>\n      <td>3</td>\n      <td>20</td>\n      <td>2000</td>\n      <td>30</td>\n      <td>300</td>\n      <td>2</td>\n      <td>22</td>\n    </tr>\n    <tr>\n      <th>2</th>\n      <td>5</td>\n      <td>4</td>\n      <td>30</td>\n      <td>3000</td>\n      <td>50</td>\n      <td>400</td>\n      <td>3</td>\n      <td>33</td>\n    </tr>\n    <tr>\n      <th>3</th>\n      <td>7</td>\n      <td>5</td>\n      <td>40</td>\n      <td>40000</td>\n      <td>70</td>\n      <td>500</td>\n      <td>4</td>\n      <td>44</td>\n    </tr>\n    <tr>\n      <th>4</th>\n      <td>9</td>\n      <td>6</td>\n      <td>50</td>\n      <td>5000</td>\n      <td>90</td>\n      <td>600</td>\n      <td>5</td>\n      <td>55</td>\n    </tr>\n  </tbody>\n</table>\n</div>"
     },
     "execution_count": 36,
     "metadata": {},
     "output_type": "execute_result"
    }
   ],
   "source": [
    "pd.concat([df1, df2], axis=1)"
   ],
   "metadata": {
    "collapsed": false,
    "ExecuteTime": {
     "start_time": "2023-05-08T10:22:41.654140Z",
     "end_time": "2023-05-08T10:22:41.685434Z"
    }
   }
  },
  {
   "cell_type": "code",
   "execution_count": 54,
   "outputs": [],
   "source": [
    "dict1 = {\"user_id\": [\"X1\", \"X2\", \"X3\", \"X4\", \"X5\"],\n",
    "         \"A\": [1, 3, 5, 7, 9],\n",
    "         \"B\": [2, 3, 4, 5, 6],\n",
    "         \"C\": [10, 20, 30, 40, 50],\n",
    "         \"D\": [1000, 2000, 3000, 40000, 5000]}\n",
    "\n",
    "dict2 = {\"id\": [\"X1\", \"X2\", \"X3\", \"X4\", \"X6\"],\n",
    "         \"E\": [10, 30, 50, 70, 90],\n",
    "         \"F\": [200, 300, 400, 500, 600],\n",
    "         \"G\": [1, 2, 3, 4, 5],\n",
    "         \"H\": [11, 22, 33, 44, 55]}\n",
    "\n",
    "df1 = pd.DataFrame(dict1)\n",
    "df2 = pd.DataFrame(dict2)"
   ],
   "metadata": {
    "collapsed": false,
    "ExecuteTime": {
     "start_time": "2023-05-08T10:35:22.980426Z",
     "end_time": "2023-05-08T10:35:23.027408Z"
    }
   }
  },
  {
   "cell_type": "code",
   "execution_count": 55,
   "outputs": [],
   "source": [
    "df1"
   ],
   "metadata": {
    "collapsed": false,
    "ExecuteTime": {
     "start_time": "2023-05-08T10:35:24.727933Z",
     "end_time": "2023-05-08T10:35:24.774787Z"
    }
   }
  },
  {
   "cell_type": "code",
   "execution_count": 49,
   "outputs": [
    {
     "data": {
      "text/plain": "   id   E    F  G   H\n0  X1  10  200  1  11\n1  X2  30  300  2  22\n2  X3  50  400  3  33\n3  X4  70  500  4  44\n4  X6  90  600  5  55",
      "text/html": "<div>\n<style scoped>\n    .dataframe tbody tr th:only-of-type {\n        vertical-align: middle;\n    }\n\n    .dataframe tbody tr th {\n        vertical-align: top;\n    }\n\n    .dataframe thead th {\n        text-align: right;\n    }\n</style>\n<table border=\"1\" class=\"dataframe\">\n  <thead>\n    <tr style=\"text-align: right;\">\n      <th></th>\n      <th>id</th>\n      <th>E</th>\n      <th>F</th>\n      <th>G</th>\n      <th>H</th>\n    </tr>\n  </thead>\n  <tbody>\n    <tr>\n      <th>0</th>\n      <td>X1</td>\n      <td>10</td>\n      <td>200</td>\n      <td>1</td>\n      <td>11</td>\n    </tr>\n    <tr>\n      <th>1</th>\n      <td>X2</td>\n      <td>30</td>\n      <td>300</td>\n      <td>2</td>\n      <td>22</td>\n    </tr>\n    <tr>\n      <th>2</th>\n      <td>X3</td>\n      <td>50</td>\n      <td>400</td>\n      <td>3</td>\n      <td>33</td>\n    </tr>\n    <tr>\n      <th>3</th>\n      <td>X4</td>\n      <td>70</td>\n      <td>500</td>\n      <td>4</td>\n      <td>44</td>\n    </tr>\n    <tr>\n      <th>4</th>\n      <td>X6</td>\n      <td>90</td>\n      <td>600</td>\n      <td>5</td>\n      <td>55</td>\n    </tr>\n  </tbody>\n</table>\n</div>"
     },
     "execution_count": 49,
     "metadata": {},
     "output_type": "execute_result"
    }
   ],
   "source": [
    "df2"
   ],
   "metadata": {
    "collapsed": false,
    "ExecuteTime": {
     "start_time": "2023-05-08T10:32:07.703098Z",
     "end_time": "2023-05-08T10:32:07.765708Z"
    }
   }
  },
  {
   "cell_type": "code",
   "execution_count": 53,
   "outputs": [
    {
     "data": {
      "text/plain": "   id    A    B     C        D     E      F    G     H\n0  X1  1.0  2.0  10.0   1000.0  10.0  200.0  1.0  11.0\n1  X2  3.0  3.0  20.0   2000.0  30.0  300.0  2.0  22.0\n2  X3  5.0  4.0  30.0   3000.0  50.0  400.0  3.0  33.0\n3  X4  7.0  5.0  40.0  40000.0  70.0  500.0  4.0  44.0\n4  X5  9.0  6.0  50.0   5000.0   NaN    NaN  NaN   NaN\n5  X6  NaN  NaN   NaN      NaN  90.0  600.0  5.0  55.0",
      "text/html": "<div>\n<style scoped>\n    .dataframe tbody tr th:only-of-type {\n        vertical-align: middle;\n    }\n\n    .dataframe tbody tr th {\n        vertical-align: top;\n    }\n\n    .dataframe thead th {\n        text-align: right;\n    }\n</style>\n<table border=\"1\" class=\"dataframe\">\n  <thead>\n    <tr style=\"text-align: right;\">\n      <th></th>\n      <th>id</th>\n      <th>A</th>\n      <th>B</th>\n      <th>C</th>\n      <th>D</th>\n      <th>E</th>\n      <th>F</th>\n      <th>G</th>\n      <th>H</th>\n    </tr>\n  </thead>\n  <tbody>\n    <tr>\n      <th>0</th>\n      <td>X1</td>\n      <td>1.0</td>\n      <td>2.0</td>\n      <td>10.0</td>\n      <td>1000.0</td>\n      <td>10.0</td>\n      <td>200.0</td>\n      <td>1.0</td>\n      <td>11.0</td>\n    </tr>\n    <tr>\n      <th>1</th>\n      <td>X2</td>\n      <td>3.0</td>\n      <td>3.0</td>\n      <td>20.0</td>\n      <td>2000.0</td>\n      <td>30.0</td>\n      <td>300.0</td>\n      <td>2.0</td>\n      <td>22.0</td>\n    </tr>\n    <tr>\n      <th>2</th>\n      <td>X3</td>\n      <td>5.0</td>\n      <td>4.0</td>\n      <td>30.0</td>\n      <td>3000.0</td>\n      <td>50.0</td>\n      <td>400.0</td>\n      <td>3.0</td>\n      <td>33.0</td>\n    </tr>\n    <tr>\n      <th>3</th>\n      <td>X4</td>\n      <td>7.0</td>\n      <td>5.0</td>\n      <td>40.0</td>\n      <td>40000.0</td>\n      <td>70.0</td>\n      <td>500.0</td>\n      <td>4.0</td>\n      <td>44.0</td>\n    </tr>\n    <tr>\n      <th>4</th>\n      <td>X5</td>\n      <td>9.0</td>\n      <td>6.0</td>\n      <td>50.0</td>\n      <td>5000.0</td>\n      <td>NaN</td>\n      <td>NaN</td>\n      <td>NaN</td>\n      <td>NaN</td>\n    </tr>\n    <tr>\n      <th>5</th>\n      <td>X6</td>\n      <td>NaN</td>\n      <td>NaN</td>\n      <td>NaN</td>\n      <td>NaN</td>\n      <td>90.0</td>\n      <td>600.0</td>\n      <td>5.0</td>\n      <td>55.0</td>\n    </tr>\n  </tbody>\n</table>\n</div>"
     },
     "execution_count": 53,
     "metadata": {},
     "output_type": "execute_result"
    }
   ],
   "source": [
    "pd.merge(df1, df2, on=\"id\", how=\"outer\")"
   ],
   "metadata": {
    "collapsed": false,
    "ExecuteTime": {
     "start_time": "2023-05-08T10:33:46.580461Z",
     "end_time": "2023-05-08T10:33:46.627365Z"
    }
   }
  },
  {
   "cell_type": "code",
   "execution_count": 46,
   "outputs": [
    {
     "data": {
      "text/plain": "   id  A  B   C      D   E    F  G   H\n0  X1  1  2  10   1000  10  200  1  11\n1  X2  3  3  20   2000  30  300  2  22\n2  X3  5  4  30   3000  50  400  3  33\n3  X4  7  5  40  40000  70  500  4  44\n4  X5  9  6  50   5000  90  600  5  55",
      "text/html": "<div>\n<style scoped>\n    .dataframe tbody tr th:only-of-type {\n        vertical-align: middle;\n    }\n\n    .dataframe tbody tr th {\n        vertical-align: top;\n    }\n\n    .dataframe thead th {\n        text-align: right;\n    }\n</style>\n<table border=\"1\" class=\"dataframe\">\n  <thead>\n    <tr style=\"text-align: right;\">\n      <th></th>\n      <th>id</th>\n      <th>A</th>\n      <th>B</th>\n      <th>C</th>\n      <th>D</th>\n      <th>E</th>\n      <th>F</th>\n      <th>G</th>\n      <th>H</th>\n    </tr>\n  </thead>\n  <tbody>\n    <tr>\n      <th>0</th>\n      <td>X1</td>\n      <td>1</td>\n      <td>2</td>\n      <td>10</td>\n      <td>1000</td>\n      <td>10</td>\n      <td>200</td>\n      <td>1</td>\n      <td>11</td>\n    </tr>\n    <tr>\n      <th>1</th>\n      <td>X2</td>\n      <td>3</td>\n      <td>3</td>\n      <td>20</td>\n      <td>2000</td>\n      <td>30</td>\n      <td>300</td>\n      <td>2</td>\n      <td>22</td>\n    </tr>\n    <tr>\n      <th>2</th>\n      <td>X3</td>\n      <td>5</td>\n      <td>4</td>\n      <td>30</td>\n      <td>3000</td>\n      <td>50</td>\n      <td>400</td>\n      <td>3</td>\n      <td>33</td>\n    </tr>\n    <tr>\n      <th>3</th>\n      <td>X4</td>\n      <td>7</td>\n      <td>5</td>\n      <td>40</td>\n      <td>40000</td>\n      <td>70</td>\n      <td>500</td>\n      <td>4</td>\n      <td>44</td>\n    </tr>\n    <tr>\n      <th>4</th>\n      <td>X5</td>\n      <td>9</td>\n      <td>6</td>\n      <td>50</td>\n      <td>5000</td>\n      <td>90</td>\n      <td>600</td>\n      <td>5</td>\n      <td>55</td>\n    </tr>\n  </tbody>\n</table>\n</div>"
     },
     "execution_count": 46,
     "metadata": {},
     "output_type": "execute_result"
    }
   ],
   "source": [],
   "metadata": {
    "collapsed": false,
    "ExecuteTime": {
     "start_time": "2023-05-08T10:31:27.737225Z",
     "end_time": "2023-05-08T10:31:27.768484Z"
    }
   }
  },
  {
   "cell_type": "code",
   "execution_count": null,
   "outputs": [],
   "source": [
    "dict1 = {\"user_id\": [\"X1\", \"X2\", \"X3\", \"X4\", \"X5\"],\n",
    "         \"A\": [1, 3, 5, 7, 9],\n",
    "         \"B\": [2, 3, 4, 5, 6],\n",
    "         \"C\": [10, 20, 30, 40, 50],\n",
    "         \"D\": [1000, 2000, 3000, 40000, 5000]}\n",
    "\n",
    "dict2 = {\"id\": [\"X1\", \"X2\", \"X3\", \"X4\", \"X6\"],\n",
    "         \"E\": [10, 30, 50, 70, 90],\n",
    "         \"F\": [200, 300, 400, 500, 600],\n",
    "         \"G\": [1, 2, 3, 4, 5],\n",
    "         \"H\": [11, 22, 33, 44, 55]}\n",
    "\n",
    "df1 = pd.DataFrame(dict1)\n",
    "df2 = pd.DataFrame(dict2, index=[\"a\", \"b\", \"c\", \"d\", \"e\"])"
   ],
   "metadata": {
    "collapsed": false,
    "pycharm": {
     "is_executing": true
    }
   }
  },
  {
   "cell_type": "code",
   "execution_count": null,
   "outputs": [],
   "source": [],
   "metadata": {
    "collapsed": false
   }
  }
 ],
 "metadata": {
  "kernelspec": {
   "display_name": "Python 3",
   "language": "python",
   "name": "python3"
  },
  "language_info": {
   "codemirror_mode": {
    "name": "ipython",
    "version": 2
   },
   "file_extension": ".py",
   "mimetype": "text/x-python",
   "name": "python",
   "nbconvert_exporter": "python",
   "pygments_lexer": "ipython2",
   "version": "2.7.6"
  }
 },
 "nbformat": 4,
 "nbformat_minor": 0
}
