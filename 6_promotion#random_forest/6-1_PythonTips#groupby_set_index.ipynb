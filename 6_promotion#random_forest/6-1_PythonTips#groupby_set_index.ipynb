{
 "cells": [
  {
   "cell_type": "markdown",
   "metadata": {},
   "source": [
    "# 데이터 및 모듈 로딩"
   ]
  },
  {
   "cell_type": "code",
   "execution_count": 14,
   "metadata": {
    "ExecuteTime": {
     "start_time": "2023-05-08T08:16:25.892690Z",
     "end_time": "2023-05-08T08:16:25.924694Z"
    }
   },
   "outputs": [],
   "source": [
    "import pandas as pd"
   ]
  },
  {
   "cell_type": "code",
   "execution_count": 15,
   "metadata": {
    "ExecuteTime": {
     "start_time": "2023-05-08T08:16:26.542689Z",
     "end_time": "2023-05-08T08:16:26.603688Z"
    }
   },
   "outputs": [],
   "source": [
    "data = pd.read_csv('transaction.csv')"
   ]
  },
  {
   "cell_type": "code",
   "execution_count": 16,
   "metadata": {
    "ExecuteTime": {
     "start_time": "2023-05-08T08:16:27.413931Z",
     "end_time": "2023-05-08T08:16:27.440926Z"
    }
   },
   "outputs": [],
   "source": [
    "data = data.head(1000)"
   ]
  },
  {
   "cell_type": "markdown",
   "metadata": {},
   "source": [
    "# Groupby"
   ]
  },
  {
   "cell_type": "code",
   "execution_count": 17,
   "metadata": {
    "ExecuteTime": {
     "start_time": "2023-05-08T08:16:31.165373Z",
     "end_time": "2023-05-08T08:16:31.195375Z"
    }
   },
   "outputs": [
    {
     "data": {
      "text/plain": "        num_item  total_amount\nid                            \n101354         8         81000\n102658        13         98000\n103128         4         69000\n103308         9         53000\n107253        11         67000\n...          ...           ...\n980721        11         66000\n982341         3         27000\n982358         8         73000\n990129         2         17000\n993410        13         94000\n\n[341 rows x 2 columns]",
      "text/html": "<div>\n<style scoped>\n    .dataframe tbody tr th:only-of-type {\n        vertical-align: middle;\n    }\n\n    .dataframe tbody tr th {\n        vertical-align: top;\n    }\n\n    .dataframe thead th {\n        text-align: right;\n    }\n</style>\n<table border=\"1\" class=\"dataframe\">\n  <thead>\n    <tr style=\"text-align: right;\">\n      <th></th>\n      <th>num_item</th>\n      <th>total_amount</th>\n    </tr>\n    <tr>\n      <th>id</th>\n      <th></th>\n      <th></th>\n    </tr>\n  </thead>\n  <tbody>\n    <tr>\n      <th>101354</th>\n      <td>8</td>\n      <td>81000</td>\n    </tr>\n    <tr>\n      <th>102658</th>\n      <td>13</td>\n      <td>98000</td>\n    </tr>\n    <tr>\n      <th>103128</th>\n      <td>4</td>\n      <td>69000</td>\n    </tr>\n    <tr>\n      <th>103308</th>\n      <td>9</td>\n      <td>53000</td>\n    </tr>\n    <tr>\n      <th>107253</th>\n      <td>11</td>\n      <td>67000</td>\n    </tr>\n    <tr>\n      <th>...</th>\n      <td>...</td>\n      <td>...</td>\n    </tr>\n    <tr>\n      <th>980721</th>\n      <td>11</td>\n      <td>66000</td>\n    </tr>\n    <tr>\n      <th>982341</th>\n      <td>3</td>\n      <td>27000</td>\n    </tr>\n    <tr>\n      <th>982358</th>\n      <td>8</td>\n      <td>73000</td>\n    </tr>\n    <tr>\n      <th>990129</th>\n      <td>2</td>\n      <td>17000</td>\n    </tr>\n    <tr>\n      <th>993410</th>\n      <td>13</td>\n      <td>94000</td>\n    </tr>\n  </tbody>\n</table>\n<p>341 rows × 2 columns</p>\n</div>"
     },
     "execution_count": 17,
     "metadata": {},
     "output_type": "execute_result"
    }
   ],
   "source": [
    "data.groupby('id').sum()"
   ]
  },
  {
   "cell_type": "code",
   "execution_count": 18,
   "metadata": {
    "ExecuteTime": {
     "start_time": "2023-05-08T08:16:33.255376Z",
     "end_time": "2023-05-08T08:16:33.288377Z"
    }
   },
   "outputs": [
    {
     "data": {
      "text/plain": "        num_item  total_amount\nid                            \n101354  2.666667  27000.000000\n102658  3.250000  24500.000000\n103128  2.000000  34500.000000\n103308  3.000000  17666.666667\n107253  2.750000  16750.000000\n...          ...           ...\n980721  3.666667  22000.000000\n982341  3.000000  27000.000000\n982358  2.666667  24333.333333\n990129  2.000000  17000.000000\n993410  3.250000  23500.000000\n\n[341 rows x 2 columns]",
      "text/html": "<div>\n<style scoped>\n    .dataframe tbody tr th:only-of-type {\n        vertical-align: middle;\n    }\n\n    .dataframe tbody tr th {\n        vertical-align: top;\n    }\n\n    .dataframe thead th {\n        text-align: right;\n    }\n</style>\n<table border=\"1\" class=\"dataframe\">\n  <thead>\n    <tr style=\"text-align: right;\">\n      <th></th>\n      <th>num_item</th>\n      <th>total_amount</th>\n    </tr>\n    <tr>\n      <th>id</th>\n      <th></th>\n      <th></th>\n    </tr>\n  </thead>\n  <tbody>\n    <tr>\n      <th>101354</th>\n      <td>2.666667</td>\n      <td>27000.000000</td>\n    </tr>\n    <tr>\n      <th>102658</th>\n      <td>3.250000</td>\n      <td>24500.000000</td>\n    </tr>\n    <tr>\n      <th>103128</th>\n      <td>2.000000</td>\n      <td>34500.000000</td>\n    </tr>\n    <tr>\n      <th>103308</th>\n      <td>3.000000</td>\n      <td>17666.666667</td>\n    </tr>\n    <tr>\n      <th>107253</th>\n      <td>2.750000</td>\n      <td>16750.000000</td>\n    </tr>\n    <tr>\n      <th>...</th>\n      <td>...</td>\n      <td>...</td>\n    </tr>\n    <tr>\n      <th>980721</th>\n      <td>3.666667</td>\n      <td>22000.000000</td>\n    </tr>\n    <tr>\n      <th>982341</th>\n      <td>3.000000</td>\n      <td>27000.000000</td>\n    </tr>\n    <tr>\n      <th>982358</th>\n      <td>2.666667</td>\n      <td>24333.333333</td>\n    </tr>\n    <tr>\n      <th>990129</th>\n      <td>2.000000</td>\n      <td>17000.000000</td>\n    </tr>\n    <tr>\n      <th>993410</th>\n      <td>3.250000</td>\n      <td>23500.000000</td>\n    </tr>\n  </tbody>\n</table>\n<p>341 rows × 2 columns</p>\n</div>"
     },
     "execution_count": 18,
     "metadata": {},
     "output_type": "execute_result"
    }
   ],
   "source": [
    "data.groupby('id').mean()"
   ]
  },
  {
   "cell_type": "code",
   "execution_count": 19,
   "metadata": {
    "ExecuteTime": {
     "start_time": "2023-05-08T08:16:34.639826Z",
     "end_time": "2023-05-08T08:16:34.668827Z"
    }
   },
   "outputs": [
    {
     "data": {
      "text/plain": "        num_item  total_amount\nid                            \n101354         4         33000\n102658         5         29000\n103128         2         35000\n103308         5         32000\n107253         5         23000\n...          ...           ...\n980721         5         28000\n982341         3         27000\n982358         4         33000\n990129         2         17000\n993410         5         27000\n\n[341 rows x 2 columns]",
      "text/html": "<div>\n<style scoped>\n    .dataframe tbody tr th:only-of-type {\n        vertical-align: middle;\n    }\n\n    .dataframe tbody tr th {\n        vertical-align: top;\n    }\n\n    .dataframe thead th {\n        text-align: right;\n    }\n</style>\n<table border=\"1\" class=\"dataframe\">\n  <thead>\n    <tr style=\"text-align: right;\">\n      <th></th>\n      <th>num_item</th>\n      <th>total_amount</th>\n    </tr>\n    <tr>\n      <th>id</th>\n      <th></th>\n      <th></th>\n    </tr>\n  </thead>\n  <tbody>\n    <tr>\n      <th>101354</th>\n      <td>4</td>\n      <td>33000</td>\n    </tr>\n    <tr>\n      <th>102658</th>\n      <td>5</td>\n      <td>29000</td>\n    </tr>\n    <tr>\n      <th>103128</th>\n      <td>2</td>\n      <td>35000</td>\n    </tr>\n    <tr>\n      <th>103308</th>\n      <td>5</td>\n      <td>32000</td>\n    </tr>\n    <tr>\n      <th>107253</th>\n      <td>5</td>\n      <td>23000</td>\n    </tr>\n    <tr>\n      <th>...</th>\n      <td>...</td>\n      <td>...</td>\n    </tr>\n    <tr>\n      <th>980721</th>\n      <td>5</td>\n      <td>28000</td>\n    </tr>\n    <tr>\n      <th>982341</th>\n      <td>3</td>\n      <td>27000</td>\n    </tr>\n    <tr>\n      <th>982358</th>\n      <td>4</td>\n      <td>33000</td>\n    </tr>\n    <tr>\n      <th>990129</th>\n      <td>2</td>\n      <td>17000</td>\n    </tr>\n    <tr>\n      <th>993410</th>\n      <td>5</td>\n      <td>27000</td>\n    </tr>\n  </tbody>\n</table>\n<p>341 rows × 2 columns</p>\n</div>"
     },
     "execution_count": 19,
     "metadata": {},
     "output_type": "execute_result"
    }
   ],
   "source": [
    "data.groupby('id').max()"
   ]
  },
  {
   "cell_type": "code",
   "execution_count": 20,
   "metadata": {
    "ExecuteTime": {
     "start_time": "2023-05-08T08:16:36.117827Z",
     "end_time": "2023-05-08T08:16:36.162825Z"
    }
   },
   "outputs": [
    {
     "data": {
      "text/plain": "        num_item  total_amount\nid                            \n101354         3             3\n102658         4             4\n103128         2             2\n103308         3             3\n107253         4             4\n...          ...           ...\n980721         3             3\n982341         1             1\n982358         3             3\n990129         1             1\n993410         4             4\n\n[341 rows x 2 columns]",
      "text/html": "<div>\n<style scoped>\n    .dataframe tbody tr th:only-of-type {\n        vertical-align: middle;\n    }\n\n    .dataframe tbody tr th {\n        vertical-align: top;\n    }\n\n    .dataframe thead th {\n        text-align: right;\n    }\n</style>\n<table border=\"1\" class=\"dataframe\">\n  <thead>\n    <tr style=\"text-align: right;\">\n      <th></th>\n      <th>num_item</th>\n      <th>total_amount</th>\n    </tr>\n    <tr>\n      <th>id</th>\n      <th></th>\n      <th></th>\n    </tr>\n  </thead>\n  <tbody>\n    <tr>\n      <th>101354</th>\n      <td>3</td>\n      <td>3</td>\n    </tr>\n    <tr>\n      <th>102658</th>\n      <td>4</td>\n      <td>4</td>\n    </tr>\n    <tr>\n      <th>103128</th>\n      <td>2</td>\n      <td>2</td>\n    </tr>\n    <tr>\n      <th>103308</th>\n      <td>3</td>\n      <td>3</td>\n    </tr>\n    <tr>\n      <th>107253</th>\n      <td>4</td>\n      <td>4</td>\n    </tr>\n    <tr>\n      <th>...</th>\n      <td>...</td>\n      <td>...</td>\n    </tr>\n    <tr>\n      <th>980721</th>\n      <td>3</td>\n      <td>3</td>\n    </tr>\n    <tr>\n      <th>982341</th>\n      <td>1</td>\n      <td>1</td>\n    </tr>\n    <tr>\n      <th>982358</th>\n      <td>3</td>\n      <td>3</td>\n    </tr>\n    <tr>\n      <th>990129</th>\n      <td>1</td>\n      <td>1</td>\n    </tr>\n    <tr>\n      <th>993410</th>\n      <td>4</td>\n      <td>4</td>\n    </tr>\n  </tbody>\n</table>\n<p>341 rows × 2 columns</p>\n</div>"
     },
     "execution_count": 20,
     "metadata": {},
     "output_type": "execute_result"
    }
   ],
   "source": [
    "data.groupby('id').count()"
   ]
  },
  {
   "cell_type": "code",
   "execution_count": 21,
   "metadata": {
    "ExecuteTime": {
     "start_time": "2023-05-08T08:16:37.380825Z",
     "end_time": "2023-05-08T08:16:38.805825Z"
    }
   },
   "outputs": [
    {
     "data": {
      "text/plain": "       num_item                                               total_amount  \\\n          count      mean       std  min  25%  50%   75%  max        count   \nid                                                                           \n101354      3.0  2.666667  1.527525  1.0  2.0  3.0  3.50  4.0          3.0   \n102658      4.0  3.250000  1.707825  1.0  2.5  3.5  4.25  5.0          4.0   \n103128      2.0  2.000000  0.000000  2.0  2.0  2.0  2.00  2.0          2.0   \n103308      3.0  3.000000  1.732051  2.0  2.0  2.0  3.50  5.0          3.0   \n107253      4.0  2.750000  2.061553  1.0  1.0  2.5  4.25  5.0          4.0   \n...         ...       ...       ...  ...  ...  ...   ...  ...          ...   \n980721      3.0  3.666667  1.527525  2.0  3.0  4.0  4.50  5.0          3.0   \n982341      1.0  3.000000       NaN  3.0  3.0  3.0  3.00  3.0          1.0   \n982358      3.0  2.666667  1.527525  1.0  2.0  3.0  3.50  4.0          3.0   \n990129      1.0  2.000000       NaN  2.0  2.0  2.0  2.00  2.0          1.0   \n993410      4.0  3.250000  1.500000  2.0  2.0  3.0  4.25  5.0          4.0   \n\n                                                                        \\\n                mean           std      min      25%      50%      75%   \nid                                                                       \n101354  27000.000000   9539.392014  16000.0  24000.0  32000.0  32500.0   \n102658  24500.000000   4795.831523  18000.0  22500.0  25500.0  27500.0   \n103128  34500.000000    707.106781  34000.0  34250.0  34500.0  34750.0   \n103308  17666.666667  12423.096769  10000.0  10500.0  11000.0  21500.0   \n107253  16750.000000   4787.135539  13000.0  13000.0  15500.0  19250.0   \n...              ...           ...      ...      ...      ...      ...   \n980721  22000.000000   8717.797887  12000.0  19000.0  26000.0  27000.0   \n982341  27000.000000           NaN  27000.0  27000.0  27000.0  27000.0   \n982358  24333.333333   7571.877794  19000.0  20000.0  21000.0  27000.0   \n990129  17000.000000           NaN  17000.0  17000.0  17000.0  17000.0   \n993410  23500.000000   4358.898944  18000.0  21000.0  24500.0  27000.0   \n\n                 \n            max  \nid               \n101354  33000.0  \n102658  29000.0  \n103128  35000.0  \n103308  32000.0  \n107253  23000.0  \n...         ...  \n980721  28000.0  \n982341  27000.0  \n982358  33000.0  \n990129  17000.0  \n993410  27000.0  \n\n[341 rows x 16 columns]",
      "text/html": "<div>\n<style scoped>\n    .dataframe tbody tr th:only-of-type {\n        vertical-align: middle;\n    }\n\n    .dataframe tbody tr th {\n        vertical-align: top;\n    }\n\n    .dataframe thead tr th {\n        text-align: left;\n    }\n\n    .dataframe thead tr:last-of-type th {\n        text-align: right;\n    }\n</style>\n<table border=\"1\" class=\"dataframe\">\n  <thead>\n    <tr>\n      <th></th>\n      <th colspan=\"8\" halign=\"left\">num_item</th>\n      <th colspan=\"8\" halign=\"left\">total_amount</th>\n    </tr>\n    <tr>\n      <th></th>\n      <th>count</th>\n      <th>mean</th>\n      <th>std</th>\n      <th>min</th>\n      <th>25%</th>\n      <th>50%</th>\n      <th>75%</th>\n      <th>max</th>\n      <th>count</th>\n      <th>mean</th>\n      <th>std</th>\n      <th>min</th>\n      <th>25%</th>\n      <th>50%</th>\n      <th>75%</th>\n      <th>max</th>\n    </tr>\n    <tr>\n      <th>id</th>\n      <th></th>\n      <th></th>\n      <th></th>\n      <th></th>\n      <th></th>\n      <th></th>\n      <th></th>\n      <th></th>\n      <th></th>\n      <th></th>\n      <th></th>\n      <th></th>\n      <th></th>\n      <th></th>\n      <th></th>\n      <th></th>\n    </tr>\n  </thead>\n  <tbody>\n    <tr>\n      <th>101354</th>\n      <td>3.0</td>\n      <td>2.666667</td>\n      <td>1.527525</td>\n      <td>1.0</td>\n      <td>2.0</td>\n      <td>3.0</td>\n      <td>3.50</td>\n      <td>4.0</td>\n      <td>3.0</td>\n      <td>27000.000000</td>\n      <td>9539.392014</td>\n      <td>16000.0</td>\n      <td>24000.0</td>\n      <td>32000.0</td>\n      <td>32500.0</td>\n      <td>33000.0</td>\n    </tr>\n    <tr>\n      <th>102658</th>\n      <td>4.0</td>\n      <td>3.250000</td>\n      <td>1.707825</td>\n      <td>1.0</td>\n      <td>2.5</td>\n      <td>3.5</td>\n      <td>4.25</td>\n      <td>5.0</td>\n      <td>4.0</td>\n      <td>24500.000000</td>\n      <td>4795.831523</td>\n      <td>18000.0</td>\n      <td>22500.0</td>\n      <td>25500.0</td>\n      <td>27500.0</td>\n      <td>29000.0</td>\n    </tr>\n    <tr>\n      <th>103128</th>\n      <td>2.0</td>\n      <td>2.000000</td>\n      <td>0.000000</td>\n      <td>2.0</td>\n      <td>2.0</td>\n      <td>2.0</td>\n      <td>2.00</td>\n      <td>2.0</td>\n      <td>2.0</td>\n      <td>34500.000000</td>\n      <td>707.106781</td>\n      <td>34000.0</td>\n      <td>34250.0</td>\n      <td>34500.0</td>\n      <td>34750.0</td>\n      <td>35000.0</td>\n    </tr>\n    <tr>\n      <th>103308</th>\n      <td>3.0</td>\n      <td>3.000000</td>\n      <td>1.732051</td>\n      <td>2.0</td>\n      <td>2.0</td>\n      <td>2.0</td>\n      <td>3.50</td>\n      <td>5.0</td>\n      <td>3.0</td>\n      <td>17666.666667</td>\n      <td>12423.096769</td>\n      <td>10000.0</td>\n      <td>10500.0</td>\n      <td>11000.0</td>\n      <td>21500.0</td>\n      <td>32000.0</td>\n    </tr>\n    <tr>\n      <th>107253</th>\n      <td>4.0</td>\n      <td>2.750000</td>\n      <td>2.061553</td>\n      <td>1.0</td>\n      <td>1.0</td>\n      <td>2.5</td>\n      <td>4.25</td>\n      <td>5.0</td>\n      <td>4.0</td>\n      <td>16750.000000</td>\n      <td>4787.135539</td>\n      <td>13000.0</td>\n      <td>13000.0</td>\n      <td>15500.0</td>\n      <td>19250.0</td>\n      <td>23000.0</td>\n    </tr>\n    <tr>\n      <th>...</th>\n      <td>...</td>\n      <td>...</td>\n      <td>...</td>\n      <td>...</td>\n      <td>...</td>\n      <td>...</td>\n      <td>...</td>\n      <td>...</td>\n      <td>...</td>\n      <td>...</td>\n      <td>...</td>\n      <td>...</td>\n      <td>...</td>\n      <td>...</td>\n      <td>...</td>\n      <td>...</td>\n    </tr>\n    <tr>\n      <th>980721</th>\n      <td>3.0</td>\n      <td>3.666667</td>\n      <td>1.527525</td>\n      <td>2.0</td>\n      <td>3.0</td>\n      <td>4.0</td>\n      <td>4.50</td>\n      <td>5.0</td>\n      <td>3.0</td>\n      <td>22000.000000</td>\n      <td>8717.797887</td>\n      <td>12000.0</td>\n      <td>19000.0</td>\n      <td>26000.0</td>\n      <td>27000.0</td>\n      <td>28000.0</td>\n    </tr>\n    <tr>\n      <th>982341</th>\n      <td>1.0</td>\n      <td>3.000000</td>\n      <td>NaN</td>\n      <td>3.0</td>\n      <td>3.0</td>\n      <td>3.0</td>\n      <td>3.00</td>\n      <td>3.0</td>\n      <td>1.0</td>\n      <td>27000.000000</td>\n      <td>NaN</td>\n      <td>27000.0</td>\n      <td>27000.0</td>\n      <td>27000.0</td>\n      <td>27000.0</td>\n      <td>27000.0</td>\n    </tr>\n    <tr>\n      <th>982358</th>\n      <td>3.0</td>\n      <td>2.666667</td>\n      <td>1.527525</td>\n      <td>1.0</td>\n      <td>2.0</td>\n      <td>3.0</td>\n      <td>3.50</td>\n      <td>4.0</td>\n      <td>3.0</td>\n      <td>24333.333333</td>\n      <td>7571.877794</td>\n      <td>19000.0</td>\n      <td>20000.0</td>\n      <td>21000.0</td>\n      <td>27000.0</td>\n      <td>33000.0</td>\n    </tr>\n    <tr>\n      <th>990129</th>\n      <td>1.0</td>\n      <td>2.000000</td>\n      <td>NaN</td>\n      <td>2.0</td>\n      <td>2.0</td>\n      <td>2.0</td>\n      <td>2.00</td>\n      <td>2.0</td>\n      <td>1.0</td>\n      <td>17000.000000</td>\n      <td>NaN</td>\n      <td>17000.0</td>\n      <td>17000.0</td>\n      <td>17000.0</td>\n      <td>17000.0</td>\n      <td>17000.0</td>\n    </tr>\n    <tr>\n      <th>993410</th>\n      <td>4.0</td>\n      <td>3.250000</td>\n      <td>1.500000</td>\n      <td>2.0</td>\n      <td>2.0</td>\n      <td>3.0</td>\n      <td>4.25</td>\n      <td>5.0</td>\n      <td>4.0</td>\n      <td>23500.000000</td>\n      <td>4358.898944</td>\n      <td>18000.0</td>\n      <td>21000.0</td>\n      <td>24500.0</td>\n      <td>27000.0</td>\n      <td>27000.0</td>\n    </tr>\n  </tbody>\n</table>\n<p>341 rows × 16 columns</p>\n</div>"
     },
     "execution_count": 21,
     "metadata": {},
     "output_type": "execute_result"
    }
   ],
   "source": [
    "data.groupby('id').describe()"
   ]
  },
  {
   "cell_type": "markdown",
   "metadata": {},
   "source": [
    "# set_index & reset_index"
   ]
  },
  {
   "cell_type": "code",
   "execution_count": 22,
   "outputs": [
    {
     "data": {
      "text/plain": "         id  num_item  total_amount\n0    906145         5         34000\n1    906145         1         27000\n2    906145         4         33000\n3    184478         4         29000\n4    394235         4         33000\n..      ...       ...           ...\n995  403475         2         24000\n996  403475         3         34000\n997  324592         5         26000\n998  324592         5         16000\n999  324592         3         24000\n\n[1000 rows x 3 columns]",
      "text/html": "<div>\n<style scoped>\n    .dataframe tbody tr th:only-of-type {\n        vertical-align: middle;\n    }\n\n    .dataframe tbody tr th {\n        vertical-align: top;\n    }\n\n    .dataframe thead th {\n        text-align: right;\n    }\n</style>\n<table border=\"1\" class=\"dataframe\">\n  <thead>\n    <tr style=\"text-align: right;\">\n      <th></th>\n      <th>id</th>\n      <th>num_item</th>\n      <th>total_amount</th>\n    </tr>\n  </thead>\n  <tbody>\n    <tr>\n      <th>0</th>\n      <td>906145</td>\n      <td>5</td>\n      <td>34000</td>\n    </tr>\n    <tr>\n      <th>1</th>\n      <td>906145</td>\n      <td>1</td>\n      <td>27000</td>\n    </tr>\n    <tr>\n      <th>2</th>\n      <td>906145</td>\n      <td>4</td>\n      <td>33000</td>\n    </tr>\n    <tr>\n      <th>3</th>\n      <td>184478</td>\n      <td>4</td>\n      <td>29000</td>\n    </tr>\n    <tr>\n      <th>4</th>\n      <td>394235</td>\n      <td>4</td>\n      <td>33000</td>\n    </tr>\n    <tr>\n      <th>...</th>\n      <td>...</td>\n      <td>...</td>\n      <td>...</td>\n    </tr>\n    <tr>\n      <th>995</th>\n      <td>403475</td>\n      <td>2</td>\n      <td>24000</td>\n    </tr>\n    <tr>\n      <th>996</th>\n      <td>403475</td>\n      <td>3</td>\n      <td>34000</td>\n    </tr>\n    <tr>\n      <th>997</th>\n      <td>324592</td>\n      <td>5</td>\n      <td>26000</td>\n    </tr>\n    <tr>\n      <th>998</th>\n      <td>324592</td>\n      <td>5</td>\n      <td>16000</td>\n    </tr>\n    <tr>\n      <th>999</th>\n      <td>324592</td>\n      <td>3</td>\n      <td>24000</td>\n    </tr>\n  </tbody>\n</table>\n<p>1000 rows × 3 columns</p>\n</div>"
     },
     "execution_count": 22,
     "metadata": {},
     "output_type": "execute_result"
    }
   ],
   "source": [
    "data"
   ],
   "metadata": {
    "collapsed": false,
    "ExecuteTime": {
     "start_time": "2023-05-08T08:16:47.105393Z",
     "end_time": "2023-05-08T08:16:47.167390Z"
    }
   }
  },
  {
   "cell_type": "code",
   "execution_count": 9,
   "metadata": {
    "ExecuteTime": {
     "start_time": "2023-05-08T08:15:39.150807Z",
     "end_time": "2023-05-08T08:15:39.173835Z"
    }
   },
   "outputs": [],
   "source": [
    "data.set_index('id', inplace = True)"
   ]
  },
  {
   "cell_type": "code",
   "execution_count": 23,
   "metadata": {
    "ExecuteTime": {
     "start_time": "2023-05-08T08:16:54.998419Z",
     "end_time": "2023-05-08T08:16:55.013451Z"
    }
   },
   "outputs": [],
   "source": [
    "data = data.set_index('id')"
   ]
  },
  {
   "cell_type": "code",
   "execution_count": 24,
   "metadata": {
    "ExecuteTime": {
     "start_time": "2023-05-08T08:17:03.069963Z",
     "end_time": "2023-05-08T08:17:03.108926Z"
    }
   },
   "outputs": [
    {
     "data": {
      "text/plain": "         id  num_item  total_amount\n0    906145         5         34000\n1    906145         1         27000\n2    906145         4         33000\n3    184478         4         29000\n4    394235         4         33000\n..      ...       ...           ...\n995  403475         2         24000\n996  403475         3         34000\n997  324592         5         26000\n998  324592         5         16000\n999  324592         3         24000\n\n[1000 rows x 3 columns]",
      "text/html": "<div>\n<style scoped>\n    .dataframe tbody tr th:only-of-type {\n        vertical-align: middle;\n    }\n\n    .dataframe tbody tr th {\n        vertical-align: top;\n    }\n\n    .dataframe thead th {\n        text-align: right;\n    }\n</style>\n<table border=\"1\" class=\"dataframe\">\n  <thead>\n    <tr style=\"text-align: right;\">\n      <th></th>\n      <th>id</th>\n      <th>num_item</th>\n      <th>total_amount</th>\n    </tr>\n  </thead>\n  <tbody>\n    <tr>\n      <th>0</th>\n      <td>906145</td>\n      <td>5</td>\n      <td>34000</td>\n    </tr>\n    <tr>\n      <th>1</th>\n      <td>906145</td>\n      <td>1</td>\n      <td>27000</td>\n    </tr>\n    <tr>\n      <th>2</th>\n      <td>906145</td>\n      <td>4</td>\n      <td>33000</td>\n    </tr>\n    <tr>\n      <th>3</th>\n      <td>184478</td>\n      <td>4</td>\n      <td>29000</td>\n    </tr>\n    <tr>\n      <th>4</th>\n      <td>394235</td>\n      <td>4</td>\n      <td>33000</td>\n    </tr>\n    <tr>\n      <th>...</th>\n      <td>...</td>\n      <td>...</td>\n      <td>...</td>\n    </tr>\n    <tr>\n      <th>995</th>\n      <td>403475</td>\n      <td>2</td>\n      <td>24000</td>\n    </tr>\n    <tr>\n      <th>996</th>\n      <td>403475</td>\n      <td>3</td>\n      <td>34000</td>\n    </tr>\n    <tr>\n      <th>997</th>\n      <td>324592</td>\n      <td>5</td>\n      <td>26000</td>\n    </tr>\n    <tr>\n      <th>998</th>\n      <td>324592</td>\n      <td>5</td>\n      <td>16000</td>\n    </tr>\n    <tr>\n      <th>999</th>\n      <td>324592</td>\n      <td>3</td>\n      <td>24000</td>\n    </tr>\n  </tbody>\n</table>\n<p>1000 rows × 3 columns</p>\n</div>"
     },
     "execution_count": 24,
     "metadata": {},
     "output_type": "execute_result"
    }
   ],
   "source": [
    "data.reset_index()"
   ]
  },
  {
   "cell_type": "code",
   "execution_count": 25,
   "metadata": {
    "ExecuteTime": {
     "start_time": "2023-05-08T08:17:10.330312Z",
     "end_time": "2023-05-08T08:17:10.342309Z"
    }
   },
   "outputs": [
    {
     "data": {
      "text/plain": "     num_item  total_amount\n0           5         34000\n1           1         27000\n2           4         33000\n3           4         29000\n4           4         33000\n..        ...           ...\n995         2         24000\n996         3         34000\n997         5         26000\n998         5         16000\n999         3         24000\n\n[1000 rows x 2 columns]",
      "text/html": "<div>\n<style scoped>\n    .dataframe tbody tr th:only-of-type {\n        vertical-align: middle;\n    }\n\n    .dataframe tbody tr th {\n        vertical-align: top;\n    }\n\n    .dataframe thead th {\n        text-align: right;\n    }\n</style>\n<table border=\"1\" class=\"dataframe\">\n  <thead>\n    <tr style=\"text-align: right;\">\n      <th></th>\n      <th>num_item</th>\n      <th>total_amount</th>\n    </tr>\n  </thead>\n  <tbody>\n    <tr>\n      <th>0</th>\n      <td>5</td>\n      <td>34000</td>\n    </tr>\n    <tr>\n      <th>1</th>\n      <td>1</td>\n      <td>27000</td>\n    </tr>\n    <tr>\n      <th>2</th>\n      <td>4</td>\n      <td>33000</td>\n    </tr>\n    <tr>\n      <th>3</th>\n      <td>4</td>\n      <td>29000</td>\n    </tr>\n    <tr>\n      <th>4</th>\n      <td>4</td>\n      <td>33000</td>\n    </tr>\n    <tr>\n      <th>...</th>\n      <td>...</td>\n      <td>...</td>\n    </tr>\n    <tr>\n      <th>995</th>\n      <td>2</td>\n      <td>24000</td>\n    </tr>\n    <tr>\n      <th>996</th>\n      <td>3</td>\n      <td>34000</td>\n    </tr>\n    <tr>\n      <th>997</th>\n      <td>5</td>\n      <td>26000</td>\n    </tr>\n    <tr>\n      <th>998</th>\n      <td>5</td>\n      <td>16000</td>\n    </tr>\n    <tr>\n      <th>999</th>\n      <td>3</td>\n      <td>24000</td>\n    </tr>\n  </tbody>\n</table>\n<p>1000 rows × 2 columns</p>\n</div>"
     },
     "execution_count": 25,
     "metadata": {},
     "output_type": "execute_result"
    }
   ],
   "source": [
    "data.reset_index(drop = True)"
   ]
  },
  {
   "cell_type": "code",
   "execution_count": 26,
   "metadata": {
    "ExecuteTime": {
     "start_time": "2023-05-08T08:17:25.637496Z",
     "end_time": "2023-05-08T08:17:25.667496Z"
    }
   },
   "outputs": [
    {
     "data": {
      "text/plain": "         id  num_item  total_amount\n0    101354         8         81000\n1    102658        13         98000\n2    103128         4         69000\n3    103308         9         53000\n4    107253        11         67000\n..      ...       ...           ...\n336  980721        11         66000\n337  982341         3         27000\n338  982358         8         73000\n339  990129         2         17000\n340  993410        13         94000\n\n[341 rows x 3 columns]",
      "text/html": "<div>\n<style scoped>\n    .dataframe tbody tr th:only-of-type {\n        vertical-align: middle;\n    }\n\n    .dataframe tbody tr th {\n        vertical-align: top;\n    }\n\n    .dataframe thead th {\n        text-align: right;\n    }\n</style>\n<table border=\"1\" class=\"dataframe\">\n  <thead>\n    <tr style=\"text-align: right;\">\n      <th></th>\n      <th>id</th>\n      <th>num_item</th>\n      <th>total_amount</th>\n    </tr>\n  </thead>\n  <tbody>\n    <tr>\n      <th>0</th>\n      <td>101354</td>\n      <td>8</td>\n      <td>81000</td>\n    </tr>\n    <tr>\n      <th>1</th>\n      <td>102658</td>\n      <td>13</td>\n      <td>98000</td>\n    </tr>\n    <tr>\n      <th>2</th>\n      <td>103128</td>\n      <td>4</td>\n      <td>69000</td>\n    </tr>\n    <tr>\n      <th>3</th>\n      <td>103308</td>\n      <td>9</td>\n      <td>53000</td>\n    </tr>\n    <tr>\n      <th>4</th>\n      <td>107253</td>\n      <td>11</td>\n      <td>67000</td>\n    </tr>\n    <tr>\n      <th>...</th>\n      <td>...</td>\n      <td>...</td>\n      <td>...</td>\n    </tr>\n    <tr>\n      <th>336</th>\n      <td>980721</td>\n      <td>11</td>\n      <td>66000</td>\n    </tr>\n    <tr>\n      <th>337</th>\n      <td>982341</td>\n      <td>3</td>\n      <td>27000</td>\n    </tr>\n    <tr>\n      <th>338</th>\n      <td>982358</td>\n      <td>8</td>\n      <td>73000</td>\n    </tr>\n    <tr>\n      <th>339</th>\n      <td>990129</td>\n      <td>2</td>\n      <td>17000</td>\n    </tr>\n    <tr>\n      <th>340</th>\n      <td>993410</td>\n      <td>13</td>\n      <td>94000</td>\n    </tr>\n  </tbody>\n</table>\n<p>341 rows × 3 columns</p>\n</div>"
     },
     "execution_count": 26,
     "metadata": {},
     "output_type": "execute_result"
    }
   ],
   "source": [
    "data.groupby('id').sum().reset_index()"
   ]
  },
  {
   "cell_type": "code",
   "execution_count": null,
   "outputs": [],
   "source": [],
   "metadata": {
    "collapsed": false
   }
  }
 ],
 "metadata": {
  "kernelspec": {
   "display_name": "Python 3",
   "language": "python",
   "name": "python3"
  },
  "language_info": {
   "codemirror_mode": {
    "name": "ipython",
    "version": 3
   },
   "file_extension": ".py",
   "mimetype": "text/x-python",
   "name": "python",
   "nbconvert_exporter": "python",
   "pygments_lexer": "ipython3",
   "version": "3.7.6"
  }
 },
 "nbformat": 4,
 "nbformat_minor": 4
}
